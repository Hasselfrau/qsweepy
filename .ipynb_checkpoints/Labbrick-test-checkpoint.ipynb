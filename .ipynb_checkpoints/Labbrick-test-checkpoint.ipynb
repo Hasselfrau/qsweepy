{
 "cells": [
  {
   "cell_type": "code",
   "execution_count": 1,
   "metadata": {
    "collapsed": true
   },
   "outputs": [],
   "source": [
    "import ctypes"
   ]
  },
  {
   "cell_type": "code",
   "execution_count": 2,
   "metadata": {
    "collapsed": true
   },
   "outputs": [],
   "source": [
    "labbrick_dll = ctypes.WinDLL (\"D:\\\\qtlab_replacement\\\\instruments\\\\_labbrick\\\\vnx_fmsynth.dll\")"
   ]
  },
  {
   "cell_type": "code",
   "execution_count": 13,
   "metadata": {},
   "outputs": [],
   "source": [
    "get_num_devices_proto = ctypes.WINFUNCTYPE (ctypes.c_int) # Return type\n",
    "get_num_devices = get_num_devices_proto ((\"fnLMS_GetNumDevices\", labbrick_dll), () )\n",
    "num_devices = get_num_devices()\n",
    "\n",
    "devices_ids_type = ctypes.c_uint*num_devices\n",
    "get_dev_info_proto = ctypes.WINFUNCTYPE (ctypes.c_int, devices_ids_type)\n",
    "get_dev_info = get_dev_info_proto ((\"fnLMS_GetDevInfo\", labbrick_dll), ((2, 'ActiveDevices'),) )\n",
    "#device_ids_buffer = devices_ids_type()\n",
    "device_ids = get_dev_info()\n",
    "\n",
    "get_model_name_unicode_proto = ctypes.WINFUNCTYPE (ctypes.c_int, ctypes.c_uint, ctypes.c_wchar_p)\n",
    "get_model_name_unicode = get_model_name_unicode_proto\n",
    "\n",
    "for device_id in device_ids:\n",
    "    max_modelname = 32\n",
    "    model_name_unicode = ctypes.create_unicode_buffer(32)\n",
    "    "
   ]
  },
  {
   "cell_type": "code",
   "execution_count": 18,
   "metadata": {},
   "outputs": [
    {
     "ename": "IndexError",
     "evalue": "invalid index",
     "output_type": "error",
     "traceback": [
      "\u001b[1;31m---------------------------------------------------------------------------\u001b[0m",
      "\u001b[1;31mIndexError\u001b[0m                                Traceback (most recent call last)",
      "\u001b[1;32m<ipython-input-18-48a02a5f62b1>\u001b[0m in \u001b[0;36m<module>\u001b[1;34m()\u001b[0m\n\u001b[1;32m----> 1\u001b[1;33m \u001b[0mretval\u001b[0m\u001b[1;33m[\u001b[0m\u001b[1;36m1\u001b[0m\u001b[1;33m]\u001b[0m\u001b[1;33m\u001b[0m\u001b[0m\n\u001b[0m",
      "\u001b[1;31mIndexError\u001b[0m: invalid index"
     ]
    }
   ],
   "source": [
    "retval[1]"
   ]
  },
  {
   "cell_type": "code",
   "execution_count": null,
   "metadata": {
    "collapsed": true
   },
   "outputs": [],
   "source": []
  }
 ],
 "metadata": {
  "kernelspec": {
   "display_name": "Python 3",
   "language": "python",
   "name": "python3"
  },
  "language_info": {
   "codemirror_mode": {
    "name": "ipython",
    "version": 3
   },
   "file_extension": ".py",
   "mimetype": "text/x-python",
   "name": "python",
   "nbconvert_exporter": "python",
   "pygments_lexer": "ipython3",
   "version": "3.6.1"
  }
 },
 "nbformat": 4,
 "nbformat_minor": 2
}
