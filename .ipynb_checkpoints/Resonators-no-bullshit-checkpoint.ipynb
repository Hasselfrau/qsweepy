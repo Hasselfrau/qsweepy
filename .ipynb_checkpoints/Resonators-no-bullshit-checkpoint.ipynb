{
 "cells": [
  {
   "cell_type": "markdown",
   "metadata": {},
   "source": [
    "### Запуск QtLab"
   ]
  },
  {
   "cell_type": "code",
   "execution_count": 1,
   "metadata": {
    "scrolled": false
   },
   "outputs": [],
   "source": [
    "%run D:\\qtlab_replacement\\init.py\n",
    "%matplotlib qt4\n",
    "import matplotlib.pyplot as plt\n",
    "from instruments import *\n",
    "import numpy as np\n",
    "import sweep\n",
    "import pandas as pd\n",
    "from save_pkl import *"
   ]
  },
  {
   "cell_type": "code",
   "execution_count": 2,
   "metadata": {},
   "outputs": [
    {
     "data": {
      "text/plain": [
       "<module 'resonator_quality_factor_fit' from 'D:\\\\qtlab_replacement\\\\scripts\\\\resonator_quality_factor_fit.py'>"
      ]
     },
     "execution_count": 2,
     "metadata": {},
     "output_type": "execute_result"
    }
   ],
   "source": [
    "import resonator_quality_factor_fit\n",
    "import imp\n",
    "imp.reload(resonator_quality_factor_fit)"
   ]
  },
  {
   "cell_type": "code",
   "execution_count": 3,
   "metadata": {
    "collapsed": true
   },
   "outputs": [],
   "source": [
    "pna = Agilent_N5242A('pna', address = 'PNA')"
   ]
  },
  {
   "cell_type": "markdown",
   "metadata": {},
   "source": [
    "# Прицеливание"
   ]
  },
  {
   "cell_type": "code",
   "execution_count": 4,
   "metadata": {},
   "outputs": [],
   "source": [
    "sample_name = 'Nb-Sapphire resonators MISiS'\n",
    "min_freq = 6e9\n",
    "max_freq = 9e9"
   ]
  },
  {
   "cell_type": "code",
   "execution_count": 5,
   "metadata": {},
   "outputs": [
    {
     "data": {
      "text/plain": [
       "True"
      ]
     },
     "execution_count": 5,
     "metadata": {},
     "output_type": "execute_result"
    }
   ],
   "source": [
    "pna.set_average(1)\n",
    "pna.set_averages(1)\n",
    "pna.set_xlim(min_freq, max_freq)\n",
    "pna.set_nop(32001)\n",
    "pna.set_bandwidth(1000)\n",
    "pna.set_power(-10)"
   ]
  },
  {
   "cell_type": "code",
   "execution_count": 6,
   "metadata": {},
   "outputs": [
    {
     "name": "stderr",
     "output_type": "stream",
     "text": [
      "c:\\python36\\lib\\site-packages\\matplotlib\\backend_bases.py:2445: MatplotlibDeprecationWarning: Using default event loop until function specific to this GUI is implemented\n",
      "  warnings.warn(str, mplDeprecation)\n"
     ]
    },
    {
     "name": "stdout",
     "output_type": "stream",
     "text": [
      "d:\\qtlab\\ReiData\\data/2017-04-17/20-08-27/\n"
     ]
    }
   ],
   "source": [
    "fig, axes=plt.subplots(2,2, figsize=(8,8))\n",
    "freqs=pna.get_freqpoints()\n",
    "S21=pna.get_tracedata()\n",
    "phase = np.unwrap(S21[1])\n",
    "delay = np.diff(phase)/(freqs[1]-freqs[0])\n",
    "delay_freqs = (np.asarray(freqs[1:])+np.asarray(freqs[:-1]))/2\n",
    "axes[0,0].plot(freqs,10*np.log10(S21[0]**2))\n",
    "axes[0,1].plot(freqs, phase)\n",
    "axes[1,0].plot(np.real(S21[0]*np.exp(1j*S21[1])),np.imag(S21[0]*np.exp(1j*S21[1])))\n",
    "axes[1,1].plot(delay_freqs, delay)\n",
    "#axes[1,1].set_yscale('log')\n",
    "\n",
    "save_pkl({'type':'S21 overview near', 'name': sample_name}, (freqs, ([0]), np.log10(S21[0])*10, S21[1]))"
   ]
  },
  {
   "cell_type": "code",
   "execution_count": 7,
   "metadata": {
    "collapsed": true
   },
   "outputs": [],
   "source": [
    "threshold = 0"
   ]
  },
  {
   "cell_type": "code",
   "execution_count": 8,
   "metadata": {
    "scrolled": false
   },
   "outputs": [
    {
     "name": "stdout",
     "output_type": "stream",
     "text": [
      "found 28 peaks\n",
      "[  6.07471875e+09   6.38568750e+09   6.38578125e+09   6.47868750e+09\n",
      "   6.58790625e+09   6.76659375e+09   6.76668750e+09   6.76678125e+09\n",
      "   6.88921875e+09   6.88931250e+09   7.01343750e+09   7.15621875e+09\n",
      "   7.29187500e+09   7.43503125e+09   7.54040625e+09   7.69781250e+09\n",
      "   7.77431250e+09   7.92318750e+09   8.01993750e+09   8.10215625e+09\n",
      "   8.10225000e+09   8.29687500e+09   8.29696875e+09   8.44659375e+09\n",
      "   8.52271875e+09   8.65931250e+09   8.80331250e+09   8.99962500e+09]\n"
     ]
    }
   ],
   "source": [
    "from scipy.signal import detrend\n",
    "from scipy.signal import find_peaks_cwt\n",
    "peaks_expected = 0.1\n",
    "data = S21\n",
    "data_points = len(data[0])\n",
    "data_complex = 10**(data[0]/20)*np.exp(1j*detrend(np.unwrap(data[1])))\n",
    "data_diff = np.abs(np.diff(data_complex))\n",
    "data_diff[data_diff<threshold] = 0\n",
    "plt.plot(freqs[1:], data_diff)\n",
    "peaks = find_peaks_cwt(data_diff, np.linspace(1, 8, 4), noise_perc=100-(100.*peaks_expected)/data_points)\n",
    "print ('found {0} peaks'.format(len(peaks)))\n",
    "peak_freqs = freqs[1:][peaks]\n",
    "print (peak_freqs)"
   ]
  },
  {
   "cell_type": "markdown",
   "metadata": {
    "collapsed": true
   },
   "source": [
    "# Куда сохранять"
   ]
  },
  {
   "cell_type": "code",
   "execution_count": 6,
   "metadata": {},
   "outputs": [],
   "source": [
    "%matplotlib qt4\n",
    "data_root = get_location_pkl()\n",
    "if not os.path.exists('{0}/{1}/{2}'.format(data_root[0], data_root[1], sample_name)):\n",
    "    os.mkdir('{0}/{1}/{2}'.format(data_root[0], data_root[1], sample_name))\n",
    "\n",
    "save_path = '{0}/{1}/{2}'.format(data_root[0], data_root[1], sample_name)"
   ]
  },
  {
   "cell_type": "markdown",
   "metadata": {},
   "source": [
    "# Мерить зонаторы"
   ]
  },
  {
   "cell_type": "code",
   "execution_count": 7,
   "metadata": {},
   "outputs": [],
   "source": [
    "resonator_freqs = [6.07471875e+09, 6.38578125e+09, 6.47868750e+09, 6.76668750e+09,\\\n",
    "   6.88921875e+09, 7.15621875e+09, 7.29187500e+09, 7.54040625e+09, 7.69781250e+09,\\\n",
    "   7.92318750e+09, 8.10225000e+09, 8.29696875e+09]\n",
    "powers = np.linspace(0, -80, 81) # длинный скан\n",
    "#powers = np.linspace(0, -30, 31) # короткий скан"
   ]
  },
  {
   "cell_type": "code",
   "execution_count": null,
   "metadata": {
    "scrolled": false
   },
   "outputs": [
    {
     "name": "stdout",
     "output_type": "stream",
     "text": [
      "Started at:  Apr 17 2017 20:31:59\n",
      "First sweep..."
     ]
    },
    {
     "name": "stderr",
     "output_type": "stream",
     "text": [
      "c:\\python36\\lib\\site-packages\\matplotlib\\backend_bases.py:2445: MatplotlibDeprecationWarning: Using default event loop until function specific to this GUI is implemented\n",
      "  warnings.warn(str, mplDeprecation)\n"
     ]
    },
    {
     "name": "stdout",
     "output_type": "stream",
     "text": [
      "Time left: 0 h 0 m 12.56 s\t, parameter values: Power:    -50\t, average cycle time: 0.42s\t"
     ]
    }
   ],
   "source": [
    "resonator_freq_span = 2e6\n",
    "resonator_freq_spans = None\n",
    "\n",
    "for resonator_id, resonator_freq in enumerate(resonator_freqs):\n",
    "    if resonator_freq_spans:\n",
    "        resonator_freq_span = resonator_freq_spans[resonator_id]\n",
    "    pna.set_xlim(resonator_freq-resonator_freq_span/2, resonator_freq+resonator_freq_span/2)\n",
    "\n",
    "    pna.set_nop(201)\n",
    "    pna.set_average(1)\n",
    "    pna.set_averages(4)\n",
    "    pna.set_bandwidth(1)\n",
    "\n",
    "    ref_pow = np.array(\t[-80.,\t-30.,\t20.]\t)\n",
    "    ref_bw = np.array(\t[1.,\t100000.,\t100000.]\t)\n",
    "    def set_power(power):\n",
    "        bw = 10**np.interp(power, ref_pow, np.log10(ref_bw))\n",
    "        pna.set_bandwidth(bw)\n",
    "        pna.set_power(power)\n",
    "        \n",
    "    measurement = sweep.sweep_vna(pna, (powers, set_power, 'Power'), filename=sample_name+' res {0}'.format(resonator_id))\n",
    "    \n",
    "    fitdata = resonator_quality_factor_fit.resonator_quality_factor_fit(measurement, powers, resonator_type='notch_port')\n",
    "    fitdata.to_csv(save_path+'/'+'fit_total {0}.csv'.format(resonator_id))\n",
    "    plt.close()\n",
    "    plt.close()\n",
    "    #print(fitdata)"
   ]
  },
  {
   "cell_type": "markdown",
   "metadata": {},
   "source": [
    "# Загрузить фиты и построить графики"
   ]
  },
  {
   "cell_type": "code",
   "execution_count": null,
   "metadata": {},
   "outputs": [],
   "source": [
    "from matplotlib.backends.backend_pdf import PdfPages\n",
    "fit_csvs = ['{0}/fit_total {1}.csv'.format(save_path, i) for i in range(len(resonator_freqs))]\n",
    "rows = 6\n",
    "columns = 2\n",
    "figs, axes = plt.subplots(rows,columns, figsize=(15, 20))\n",
    "pdf = PdfPages('{0}/{1}.pdf'.format(save_path, sample_name))\n",
    "Q_i_values_lp = []\n",
    "Q_i_values_hp = []\n",
    "Q_e_values = []\n",
    "resonator_type='notch_port'\n",
    "if resonator_type=='reflection_port':\n",
    "    Qc_column = 'Qc'\n",
    "    Qi_column = 'Qi'\n",
    "    Qi_err_column = 'Qi_err'\n",
    "    Ql_column = 'Ql'\n",
    "else:\n",
    "    Qc_column = 'Qc_dia_corr'\n",
    "    Qi_column = 'Qi_dia_corr'\n",
    "    Qi_err_column = 'Qi_dia_corr_err'\n",
    "    Ql_column = 'Ql'\n",
    "for resonator_id, fit_csv in enumerate(fit_csvs):\n",
    "    try:\n",
    "        fitdata = pd.read_csv(fit_csv)\n",
    "        #print (fitdata.shape, powers.shape)\n",
    "        #if fitdata.shape[0]<len(powers):\n",
    "        #fitdata['power'] = powers[(len(powers)-fitdata.shape[0]):]\n",
    "        #fitdata['power'] = powers\n",
    "        print (fitdata, resonator_id)\n",
    "        fitdata = fitdata[fitdata['fr']>4e9]\n",
    "        fitdata = fitdata[fitdata['fr']<12e9]\n",
    "        fitdata = fitdata[fitdata[Qc_column]>100]\n",
    "        fitdata = fitdata[fitdata[Qc_column]<1000000]\n",
    "        #if resonator_id != 11:\n",
    "        #fitdata = fitdata[fitdata[Qc_column]<800000]\n",
    "        #else:\n",
    "        #   fitdata = fitdata[fitdata['Qc_dia_corr']<2000000]\n",
    "        \n",
    "        Q_ax = axes[(resonator_id)%rows, (resonator_id)//rows]\n",
    "        Q_ax.set_yscale('log')\n",
    "        Ql = Q_ax.errorbar(fitdata['power'], fitdata['Ql'], label='Q_l')#, yerr=fitdata['Ql_err'])\n",
    "        Qc = Q_ax.errorbar(fitdata['power'], fitdata[Qc_column], label='Q_c')#, yerr=fitdata['absQc_err'])\n",
    "        Qi = Q_ax.errorbar(fitdata['power'], np.abs(fitdata[Qi_column]), label='Q_i')#, yerr=fitdata['Qi_dia_corr_err'])\n",
    "        f_ax = Q_ax.twinx()\n",
    "        f = f_ax.errorbar(fitdata['power'], fitdata['fr']/1e6, color='orange', marker='.', label='$f$, MHz')#, yerr=fitdata['fr_err'])\n",
    "        f_ax.set_ylabel('MHz')\n",
    "        Q_ax.set_ylabel('$Q$')\n",
    "        if not (fitdata['power'].size == 0):\n",
    "            Q_i_values_lp.append(np.abs(fitdata[Qi_column])[np.argmin(fitdata['power'])])\n",
    "            Q_i_values_hp.append(np.abs(fitdata[Qi_column])[np.argmax(fitdata['power'])])\n",
    "            Q_e_values.append(np.median(fitdata[Qc_column]))\n",
    "            Q_ax.annotate('$f_r$: {0:2.4} GHz, $Q_i$: {1:2.3g}/{3:2.3g}, $Q_l$:{5:2.3g}/{6:2.3g}, $Q_c$: {4:2.3g}'.format(np.median(fitdata['fr'])/1e9, \\\n",
    "                            np.round(np.abs(fitdata[Qi_column])[np.argmin(fitdata['power'])]), np.round(fitdata[Qi_err_column][np.argmin(fitdata['power'])]), \\\n",
    "                            np.round(np.abs(fitdata[Qi_column])[np.argmax(fitdata['power'])]), np.median(fitdata[Qc_column]), \\\n",
    "                            np.round(np.abs(fitdata[Ql_column])[np.argmin(fitdata['power'])]), np.round(np.abs(fitdata[Ql_column])[np.argmax(fitdata['power'])])), \\\n",
    "                          (0.1, 0.1), xycoords='axes fraction', bbox={'alpha':1.0, 'pad':3, 'edgecolor':'black', 'facecolor':'white'})\n",
    "        Q_ax.set_ylim([1e4, 1e6])\n",
    "        if (resonator_id==0):\n",
    "            plt.legend([f, Qc, Qi, Ql], ['$f$', '$Q_c$', '$Q_i$', '$Q_l$'], fancybox=True, loc=2, framealpha=1)\n",
    "            plt.title(sample_name)\n",
    "    finally:\n",
    "        pass\n",
    "#axes[-1,-1].hist([Q_i_values_hp, Q_i_values_lp, Q_e_values], bins=10, label={'$Q_i$ high power', '$Q_i$ low power', '$Q_e$'})\n",
    "#axes[-1,-1].set_xlabel('$Q_i$')\n",
    "#axes[-1,-1].set_ylabel('resonators')\n",
    "#axes[-1,-1].legend(loc='upper right')\n",
    "plt.tight_layout()\n",
    "pdf.savefig(figs)\n",
    "pdf.close()"
   ]
  },
  {
   "cell_type": "markdown",
   "metadata": {},
   "source": [
    "# bullshit"
   ]
  },
  {
   "cell_type": "code",
   "execution_count": 23,
   "metadata": {},
   "outputs": [
    {
     "name": "stdout",
     "output_type": "stream",
     "text": [
      "(8.7617753961513634e-08, 0.00021846153804807672, 0.78230385058357799, 9473514161.3102646, 987237.85108576983, 0.0, 9480474204.3878784)\n",
      "{'theta0': -0.87036269078204709, 'Qi_err': 4279766.7041571699, 'Ql_err': 109.19720855604572, 'Qc_err': 91.415426058562019, 'fr': 9482648929.5436897, 'Qc': 763.26702083792111, 'Qi': 198307.89384138637, 'fr_err': 516643.97835309943, 'Ql': 760.34054699522324, 'chi_square': 1.0765021049802501}\n",
      "-129.081045603\n"
     ]
    }
   ],
   "source": [
    "freqs=measurement.get_data()[1]\n",
    "powers=measurement.get_data()[0]\n",
    "max_power_S21 = 10**(measurement.get_data()[2][np.argmax(powers), :]/20)*np.exp(1j*measurement.get_data()[3][np.argmax(powers), :])\n",
    "\n",
    "fitter = circuit.reflection_port(f_data=freqs, z_data_raw=max_power_S21)\n",
    "print(fitter.do_calibration(freqs, max_power_S21))\n",
    "fitter.autofit()\n",
    "fitter.plotall()\n",
    "print(fitter.fitresults)\n",
    "print(fitter.get_single_photon_limit())"
   ]
  },
  {
   "cell_type": "code",
   "execution_count": 6,
   "metadata": {
    "collapsed": true
   },
   "outputs": [],
   "source": [
    "measurement = dm.load_measurement('C:/qtlab/ReiData/data/Feb 27 2017/16-17-54/Res Nb CEXP 17.01.2016 switch 4-2 SH A anti-korenkovian warm')"
   ]
  },
  {
   "cell_type": "code",
   "execution_count": null,
   "metadata": {
    "collapsed": true
   },
   "outputs": [],
   "source": []
  }
 ],
 "metadata": {
  "kernelspec": {
   "display_name": "Python 3",
   "language": "python",
   "name": "python3"
  },
  "language_info": {
   "codemirror_mode": {
    "name": "ipython",
    "version": 3
   },
   "file_extension": ".py",
   "mimetype": "text/x-python",
   "name": "python",
   "nbconvert_exporter": "python",
   "pygments_lexer": "ipython3",
   "version": "3.6.1"
  }
 },
 "nbformat": 4,
 "nbformat_minor": 1
}
