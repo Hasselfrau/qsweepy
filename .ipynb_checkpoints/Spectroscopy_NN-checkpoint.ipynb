{
 "cells": [
  {
   "cell_type": "markdown",
   "metadata": {},
   "source": [
    "### Запуск QtLab"
   ]
  },
  {
   "cell_type": "code",
   "execution_count": null,
   "metadata": {
    "collapsed": true,
    "scrolled": true
   },
   "outputs": [],
   "source": [
    "%run D:\\qtlab_replacement\\init.py\n",
    "%matplotlib qt4\n",
    "import matplotlib.pyplot as plt\n",
    "from instruments import *\n",
    "import numpy as np\n",
    "import sweep\n",
    "from save_pkl import *"
   ]
  },
  {
   "cell_type": "code",
   "execution_count": null,
   "metadata": {
    "collapsed": true
   },
   "outputs": [],
   "source": [
    "pna = Agilent_N5242A('pna', address = 'PNA')\n",
    "lo1 = Agilent_E8257D('lo1', address = 'PSG1')\n",
    "current = Yokogawa_GS210(address='gs210')"
   ]
  },
  {
   "cell_type": "markdown",
   "metadata": {},
   "source": [
    "# Поиск резонаторов"
   ]
  },
  {
   "cell_type": "code",
   "execution_count": 44,
   "metadata": {
    "collapsed": true
   },
   "outputs": [],
   "source": [
    "#Параметры кубитов.\n",
    "Qubits = {1: {'F': 3.176453e9,'F01': 0.,'I0': 6.7e-5,'Ispan': 1600e-6,'P': -30,'Pex': -5,'Span': 60e6}}\n",
    "#Qubits = {1: {'F': 7.603e9,'F01': 8.11962e9,'I0': 35.2e-6,'Ispan': 0.,'P': -65,'Pex': -18.,'Span': 20e6}}"
   ]
  },
  {
   "cell_type": "code",
   "execution_count": null,
   "metadata": {},
   "outputs": [],
   "source": [
    "pna.get_timeout()"
   ]
  },
  {
   "cell_type": "code",
   "execution_count": null,
   "metadata": {},
   "outputs": [],
   "source": [
    "pna.set_timeout(30000)"
   ]
  },
  {
   "cell_type": "code",
   "execution_count": null,
   "metadata": {},
   "outputs": [],
   "source": [
    "ind =1\n",
    "\n",
    "lo1.set_status(0)\n",
    "\n",
    "pna.set_nop(501)\n",
    "pna.set_centerfreq(Qubits[ind]['F'])\n",
    "pna.set_span(Qubits[ind]['Span'])\n",
    "pna.set_bandwidth(200)\n",
    "pna.set_power(-30)\n",
    "pna.set_average(0)\n",
    "pna.set_averages (1)\n",
    "try:\n",
    "    current.set_status(1)\n",
    "    current.set_autorange(1)\n",
    "    current.set_current(Qubits[ind]['I0'])\n",
    "except:\n",
    "    print (\"no current\")\n",
    "    pass\n",
    "\n",
    "#pna.set_timeout()\n",
    "pna.set_trigger_source(\"MAN\")\n",
    "pna.init()\n",
    "pna.ask(\"*OPC?\")\n",
    "pna.get_tracedata()\n",
    "pna.set_trigger_source(\"IMM\")\n",
    "\n",
    "res_data = pna.get_tracedata()\n",
    "res_freqs = pna.get_freqpoints()\n",
    "plt.figure(\"S21_amp\")\n",
    "plt.plot(res_freqs, res_data[0])\n",
    "plt.figure(\"S21_ph\")\n",
    "plt.plot(res_freqs, res_data[1])\n"
   ]
  },
  {
   "cell_type": "code",
   "execution_count": null,
   "metadata": {},
   "outputs": [],
   "source": [
    "#Save\n",
    "exec(open('save_pkl.py').read())\n",
    "save_pkl_noplt('res_pna_-30_250K', {\"Amp\": res_data[0] , \"Ph\": res_data[1], \"freqs\": res_freqs } )"
   ]
  },
  {
   "cell_type": "markdown",
   "metadata": {},
   "source": [
    "# Plotting"
   ]
  },
  {
   "cell_type": "code",
   "execution_count": null,
   "metadata": {},
   "outputs": [],
   "source": [
    "res_data_ref = res_data"
   ]
  },
  {
   "cell_type": "code",
   "execution_count": null,
   "metadata": {},
   "outputs": [],
   "source": [
    "plt.figure()\n",
    "plt.plot(res_freqs, res_data[0] - res_data_ref[0])"
   ]
  },
  {
   "cell_type": "code",
   "execution_count": null,
   "metadata": {},
   "outputs": [],
   "source": [
    "import pickle\n",
    "infiles = ['C:/qtlab/ReiData/data/Apr 03 2017/res_pna_-30.pkl','C:/qtlab/ReiData/data/Apr 04 2017/res_pna_-30_250K.pkl']\n",
    "for infile in infiles:\n",
    "    with open(infile) as f:\n",
    "        data = pickle.load(f)\n",
    "        plt.figure('Amp')\n",
    "        plt.plot(data['freqs'], np.log10(data['Amp'])*20, label=infile)\n",
    "        plt.figure('Ph')\n",
    "        plt.plot(data['freqs'], data['Ph'], label=infile)\n",
    "plt.figure('Amp')\n",
    "plt.legend()\n",
    "plt.figure('Ph')\n",
    "plt.legend()"
   ]
  },
  {
   "cell_type": "markdown",
   "metadata": {},
   "source": [
    "# Одномерный скан по полю"
   ]
  },
  {
   "cell_type": "code",
   "execution_count": 45,
   "metadata": {},
   "outputs": [
    {
     "name": "stdout",
     "output_type": "stream",
     "text": [
      "Started at:  May 09 2017 16:58:54\n",
      "First sweep..."
     ]
    },
    {
     "name": "stderr",
     "output_type": "stream",
     "text": [
      "c:\\python36\\lib\\site-packages\\matplotlib\\backend_bases.py:2445: MatplotlibDeprecationWarning: Using default event loop until function specific to this GUI is implemented\n",
      "  warnings.warn(str, mplDeprecation)\n"
     ]
    },
    {
     "name": "stdout",
     "output_type": "stream",
     "text": [
      "Time left: 0 h 37 m 29.15 s,\tparameter values: Coil current: -0.000723,\taverage cycle time: 0.71s\t\t"
     ]
    }
   ],
   "source": [
    "#q_to_meas = Qubits.keys()\n",
    "#Померить не все\n",
    "q_to_meas = [1,]\n",
    "#Шаг по втотрому тону\n",
    "useIspan = True\n",
    "cur_step = 0.5e-6\n",
    "\n",
    "currents = np.linspace(-1000e-6, 1000e-6, 4000)\n",
    "pna.set_nop(1500)\n",
    "#header= \"#Parameter = current\"\n",
    "lo1.set_status(0)\n",
    "current.set_status(1)\n",
    "#current.set_autorange(1)\n",
    "pna.set_bandwidth(2)\n",
    "#root_dir = dm.mk_dir()\n",
    "\n",
    "for q_id in q_to_meas:\n",
    "    if useIspan:\n",
    "        pna.set_power(Qubits[q_id]['P'])\n",
    "        Ipoints = np.arange( -Qubits[q_id]['Ispan']/2., Qubits[q_id]['Ispan']/2., cur_step)\n",
    "        currents = Ipoints + Qubits[q_id]['I0']\n",
    "    pna.set_nop(1)\n",
    "    pna.set_centerfreq(Qubits[q_id]['F'])\n",
    " #   end_dir = root_dir+\"{:d}/\".format(q_id)\n",
    " #   dm.mk_dir(end_dir)\n",
    "    try:\n",
    "        sweep.sweep(pna, (currents, current.set_current, 'Coil current'),\n",
    "            filename='Acouston_Isw_p_-30_1')\n",
    "    except KeyboardInterrupt: break\n"
   ]
  },
  {
   "cell_type": "code",
   "execution_count": null,
   "metadata": {
    "collapsed": true
   },
   "outputs": [],
   "source": [
    "# current.set_current(0)"
   ]
  },
  {
   "cell_type": "code",
   "execution_count": null,
   "metadata": {},
   "outputs": [],
   "source": [
    "(2.4e-4-1.06e-4)/2."
   ]
  },
  {
   "cell_type": "markdown",
   "metadata": {},
   "source": [
    "# Двумерный скан по полю"
   ]
  },
  {
   "cell_type": "code",
   "execution_count": null,
   "metadata": {},
   "outputs": [],
   "source": [
    "#q_to_meas = Qubits.keys()\n",
    "#Померить не все\n",
    "q_to_meas = [ 1,]\n",
    "\n",
    "currents = np.linspace( -250e-6, -190e-6 , 300)\n",
    "#currents = np.linspace( -1e-3, 1e-3, 300)\n",
    "#powers = np.linspace( -30, 15, 9)\n",
    "\n",
    "current.set_status(1)\n",
    "#current.set_autorange(1)\n",
    "\n",
    "pna.set_nop(1500)\n",
    "pna.set_bandwidth(30)\n",
    "\n",
    "lo1.set_status(0)\n",
    "\n",
    "try:\n",
    "    for q_id in q_to_meas:\n",
    "        pna.set_power(Qubits[q_id]['P'])\n",
    "        pna.set_centerfreq(Qubits[q_id]['F'])\n",
    "        pna.set_span(Qubits[q_id]['Span'])\n",
    "        sweep.sweep(pna, (currents, current.set_current, 'Coil current'), filename = \"anticrossing\")\n",
    "except KeyboardInterrupt:\n",
    "    pass"
   ]
  },
  {
   "cell_type": "code",
   "execution_count": null,
   "metadata": {},
   "outputs": [],
   "source": [
    "#Кубиты\n",
    "q_id = 5\n",
    "\n",
    "cur_step = 2e-6\n",
    "Ipoints = np.arange( -Qubits[q_id]['Ispan']/2., Qubits[q_id]['Ispan']/2., cur_step)\n",
    "currents = Ipoints + Qubits[q_id]['I0']\n",
    "#currents = np.linspace( 0.5e-3, 2e-3, 20)\n",
    "\n",
    "lo1.set_status(0)\n",
    "current.set_autorange(1)\n",
    "\n",
    "pna.set_bandwidth(60)\n",
    "pna.set_average(0)\n",
    "pna.set_averages(3)\n",
    "\n",
    "pna.set_nop(800)\n",
    "pna.set_centerfreq(Qubits[q_id]['F'])\n",
    "pna.set_span(Qubits[q_id]['Span'])\n",
    "current.set_status(1)"
   ]
  },
  {
   "cell_type": "code",
   "execution_count": null,
   "metadata": {
    "collapsed": true
   },
   "outputs": [],
   "source": [
    "#Измерение\n",
    "try:\n",
    "    anti2D = ps.S21vsPar(pna, currents, current.set_current, filename = \"#{:d}\".format(q_id) )\n",
    "except KeyboardInterrupt:  pass"
   ]
  },
  {
   "cell_type": "code",
   "execution_count": null,
   "metadata": {},
   "outputs": [],
   "source": [
    "#Просто скан\n",
    "currents = np.linspace( -50e-6, 50e-6, 200)\n",
    "lo1.set_status(0)\n",
    "current.set_autorange(1)\n",
    "\n",
    "pna.set_bandwidth(100)\n",
    "pna.set_average(0)\n",
    "pna.set_averages(1)\n",
    "\n",
    "pna.set_nop(1000)\n",
    "current.set_status(1)"
   ]
  },
  {
   "cell_type": "code",
   "execution_count": null,
   "metadata": {},
   "outputs": [],
   "source": [
    "#Измерение\n",
    "try:\n",
    "    anti2D = ps.S21vsPar(pna, currents, current.set_current, filename = \"all_2\" )\n",
    "except KeyboardInterrupt:  pass"
   ]
  },
  {
   "cell_type": "code",
   "execution_count": null,
   "metadata": {
    "collapsed": true
   },
   "outputs": [],
   "source": [
    "#Зависимость частоты от тока\n",
    "FvsI = dm.load_pkl(\"#3_FvsI\")"
   ]
  },
  {
   "cell_type": "code",
   "execution_count": null,
   "metadata": {
    "collapsed": true
   },
   "outputs": [],
   "source": [
    "anti2D = dm.load_measurement('C:/qtlab/ReiData/data/Nov 16 2016/14-59-53/3/#3')"
   ]
  },
  {
   "cell_type": "code",
   "execution_count": null,
   "metadata": {
    "collapsed": true
   },
   "outputs": [],
   "source": [
    "FvsI= np.vstack(( anti2D.get_data()[0], np.zeros( len(anti2D.get_data()[0] ) )))\n",
    "for i in range(0, len(anti2D.get_data()[0]) ):\n",
    "    FvsI[1][i] = anti2D.get_data()[1][np.argmin(anti2D.get_data()[2][i])]"
   ]
  },
  {
   "cell_type": "code",
   "execution_count": null,
   "metadata": {},
   "outputs": [],
   "source": [
    "plt.figure(\"fr\")\n",
    "plt.plot(FvsI[0],FvsI[1])"
   ]
  },
  {
   "cell_type": "code",
   "execution_count": null,
   "metadata": {
    "collapsed": true
   },
   "outputs": [],
   "source": [
    "dm.save_pkl_noplt(\"#5_FvsI\",FvsI)"
   ]
  },
  {
   "cell_type": "markdown",
   "metadata": {},
   "source": [
    "# Одномерный скан по второму тону"
   ]
  },
  {
   "cell_type": "code",
   "execution_count": null,
   "metadata": {},
   "outputs": [],
   "source": [
    "#Кубит\n",
    "q_id = 1\n",
    "\n",
    "pna.set_average(0)\n",
    "pna.set_averages(1)\n",
    "pna.set_power(Qubits[q_id]['P'])\n",
    "pna.set_nop(1)\n",
    "pna.set_centerfreq(Qubits[q_id]['F'])\n",
    "pna.set_bandwidth(10)\n",
    "\n",
    "lo1.set_power(Qubits[q_id]['Pex'])\n",
    "lo1.set_status(1)"
   ]
  },
  {
   "cell_type": "code",
   "execution_count": null,
   "metadata": {},
   "outputs": [],
   "source": [
    "#current.set_autorange(1)\n",
    "current.set_current(Qubits[q_id]['I0'])\n",
    "#current.set_status(0)"
   ]
  },
  {
   "cell_type": "code",
   "execution_count": null,
   "metadata": {},
   "outputs": [],
   "source": [
    "pna.set_power (-0)\n",
    "lo1.set_power (16)"
   ]
  },
  {
   "cell_type": "code",
   "execution_count": null,
   "metadata": {
    "scrolled": true
   },
   "outputs": [],
   "source": [
    "#Измерение\n",
    "ex_freqs = np.arange(3e9, 3.3e9, 2e6)\n",
    "#ex_span = 8e6\n",
    "#ex_freqs = Qubits[q_id]['F01'] + np.arange(-ex_span/2., ex_span/2., 0.1e6)\n",
    "lo1.set_status(1)\n",
    "\n",
    "#Current = {:e}'''.format( lo1.get_power(), current.get_current() )\n",
    "try:\n",
    "    ex1D = sweep.sweep(pna, (ex_freqs, lo1.set_frequency, 'Second tone freq'), filename = \"ex_{:.1f}dBm\".format(lo1.get_power()))\n",
    "except KeyboardInterrupt: pass "
   ]
  },
  {
   "cell_type": "code",
   "execution_count": null,
   "metadata": {},
   "outputs": [],
   "source": [
    "import plotting\n",
    "import imp\n",
    "imp.reload(plotting)\n",
    "imp.reload(sweep)"
   ]
  },
  {
   "cell_type": "code",
   "execution_count": null,
   "metadata": {
    "collapsed": true
   },
   "outputs": [],
   "source": [
    "plot1 = plotting.plot_measurement(ex2D)"
   ]
  },
  {
   "cell_type": "code",
   "execution_count": null,
   "metadata": {
    "collapsed": true
   },
   "outputs": [],
   "source": [
    "plot[0].set_data([1,4,5,7], [0,8,9,0])"
   ]
  },
  {
   "cell_type": "code",
   "execution_count": null,
   "metadata": {},
   "outputs": [],
   "source": [
    "plt.figure('tmp_ph')\n",
    "plt.plot(ex1D.get_data()[0], ex1D.get_data()[3].T[0])\n",
    "plt.figure('tmp_amp')\n",
    "plt.plot(ex1D.get_data()[0], ex1D.get_data()[2].T[0])"
   ]
  },
  {
   "cell_type": "markdown",
   "metadata": {},
   "source": [
    "# Двухтоновая спектроскопия"
   ]
  },
  {
   "cell_type": "code",
   "execution_count": null,
   "metadata": {},
   "outputs": [],
   "source": [
    "pna.set_power(-40.)\n",
    "pna.set_nop(1)\n",
    "pna.set_centerfreq(7.6017351e9)\n",
    "pna.set_bandwidth(100)"
   ]
  },
  {
   "cell_type": "code",
   "execution_count": null,
   "metadata": {},
   "outputs": [],
   "source": [
    "current.set_current(0.3e-6)"
   ]
  },
  {
   "cell_type": "code",
   "execution_count": null,
   "metadata": {
    "collapsed": true
   },
   "outputs": [],
   "source": [
    "ex_freqs = np.arange(2.9e9, 3.3e9, 1e6)"
   ]
  },
  {
   "cell_type": "code",
   "execution_count": null,
   "metadata": {},
   "outputs": [],
   "source": [
    "currents = np.arange( -200e-6, -50e-6, 1e-6)\n",
    "\n",
    "lo1.set_power(14)\n",
    "pna.set_power(-15)\n",
    "\n",
    "lo1.set_status(1)\n",
    "sweep.sweep(pna, (currents, current.set_current, 'Coil current'), (ex_freqs, lo1.set_frequency, 'Exitation Frequency'),\n",
    "            filename='Acouston_2_2tone_spectrum_-15dB')\n",
    "lo1.set_status(0)"
   ]
  },
  {
   "cell_type": "code",
   "execution_count": null,
   "metadata": {},
   "outputs": [],
   "source": [
    "ex_freqs = np.arange(5.5e9, 7e9, 1e6)\n",
    "ex_powers = np.arange(-20, 15, 0.5)\n",
    "\n",
    "pna.set_power(-60)\n",
    "pna.set_bandwidth(5)\n",
    "#lo1.set_power(-20)\n",
    "\n",
    "header = '''#Parameter =\n",
    "#Ro power = {:f}'''.format( pna.get_power() )\n",
    "\n",
    "lo1.set_status(1)\n",
    "#ps.S21vs2DPar(pna, currents, current.set_current, ex_freqs, lo1.set_frequency, filename = \"#2{:.1f}dBm\".format(lo1.get_power()),\\\n",
    "#           header = header)\n",
    "ex2D = sweep.sweep(pna, (ex_powers, lo1.set_power, 'Second tone power'), (ex_freqs, lo1.set_frequency, 'Second tone freq'), filename = \"#2{:.1f}dBm\".format(pna.get_power()),\\\n",
    "           header = header)\n",
    "lo1.set_status(0)"
   ]
  },
  {
   "cell_type": "code",
   "execution_count": null,
   "metadata": {},
   "outputs": [],
   "source": [
    "plotting.plot_measurement(ex2D)"
   ]
  },
  {
   "cell_type": "code",
   "execution_count": null,
   "metadata": {},
   "outputs": [],
   "source": [
    "plt.figure(figsize=(8,6))\n",
    "plt.pcolormesh(ex2D.get_data()[3].T); plt.colorbar()"
   ]
  },
  {
   "cell_type": "code",
   "execution_count": null,
   "metadata": {},
   "outputs": [],
   "source": [
    "plt.pcolormesh(ex2D.get_data()[4].T); plt.colorbar()"
   ]
  },
  {
   "cell_type": "code",
   "execution_count": null,
   "metadata": {
    "collapsed": true
   },
   "outputs": [],
   "source": [
    "ex_freqs = np.arange(2e9, 8e9, 1e6)\n"
   ]
  },
  {
   "cell_type": "code",
   "execution_count": null,
   "metadata": {},
   "outputs": [],
   "source": [
    "#Померить все\n",
    "#q_to_meas = Qubits.keys()\n",
    "#Померить не все\n",
    "q_to_meas = [1,]\n",
    "#Шаг по втотрому тону\n",
    "Fex_step = 4e6\n",
    "Fex_offset = 150e6\n",
    "Fex_start = 7e9\n",
    "\n",
    "cur_step = 1e-6\n",
    "ex_freqs = np.arange(3e9, 3.35e9, 1e6)\n",
    "currents = np.arange( -200e-6, -50e-6, cur_step)\n",
    "\n",
    "pna.set_nop(1)\n",
    "pna.set_bandwidth(20)\n",
    "\n",
    "current.set_current(0.)\n",
    "current.set_status(1)\n",
    "#current.set_autorange(1)\n",
    "\n",
    "lo1.set_status(1)\n",
    "\n",
    "#root_dir = dm.mk_dir()\n",
    "\n",
    "try:\n",
    "    for q_id in q_to_meas:\n",
    "        #end_dir = root_dir+\"{:d}/\".format(q_id)\n",
    "        #dm.mk_dir(end_dir)\n",
    "        \n",
    "        #ex_freqs = np.arange(Fex_start, Qubits[q_id]['F01']+Fex_offset, Fex_step)\n",
    "        \n",
    "        #Ipoints = np.arange( -Qubits[q_id]['Ispan']/2., Qubits[q_id]['Ispan']/2., cur_step)\n",
    "        \n",
    "        #currents = Ipoints + Qubits[q_id]['I0']\n",
    "        \n",
    "        pna.set_power(Qubits[q_id]['P'])\n",
    "        pna.set_centerfreq(Qubits[q_id]['F'])\n",
    "        \n",
    "        lo1.set_power(Qubits[q_id]['Pex'])\n",
    "        \n",
    "        header = '#Ex power = {:f}'.format( lo1.get_power() )\n",
    "        \n",
    "        sweep.sweep(pna, (currents, current.set_current, 'Coil current'), (ex_freqs, lo1.set_frequency, 'Exitation Frequency'),\n",
    "            filename='Acouston_2_2tone_spectrum_-15dB')\n",
    "        \n",
    "except KeyboardInterrupt: pass"
   ]
  },
  {
   "cell_type": "markdown",
   "metadata": {},
   "source": [
    "#Спектроскопия с учётм уползания резонатора"
   ]
  },
  {
   "cell_type": "code",
   "execution_count": null,
   "metadata": {},
   "outputs": [],
   "source": [
    "q_id = 5\n",
    "Fex_step = 4e6\n",
    "Fex_offset = 150e6\n",
    "Fex_start = 7e9\n",
    "cur_step = 1e-6\n",
    "\n",
    "ex_freqs = np.arange(Fex_start, Qubits[q_id]['F01']+Fex_offset, Fex_step)\n",
    "        \n",
    "Ipoints = np.arange( -Qubits[q_id]['Ispan']/2., Qubits[q_id]['Ispan']/2., cur_step)\n",
    "        \n",
    "currents = Ipoints + Qubits[q_id]['I0']\n",
    "current.set_current(0)\n",
    "current.set_status(1)\n",
    "        \n",
    "ro_freqs =  np.interp(currents, FvsI[0], FvsI[1])\n",
    "pna.set_bandwidth(10)\n",
    "pna.set_nop(1)\n",
    "pna.set_power(Qubits[q_id]['P'])\n",
    "#pna.set_centerfreq(Qubits[q_id]['F'])\n",
    "        \n",
    "lo1.set_power(Qubits[q_id]['Pex'])\n",
    "lo1.set_status(1)\n",
    "        \n",
    "header = '#Ex power = {:f}'.format( lo1.get_power() )\n",
    "try:\n",
    "    ps.S21vs2DPar(pna, [currents, ro_freqs], [current.set_current, pna.set_centerfreq], ex_freqs, lo1.set_frequency,\n",
    "              filename = \"#{:d}\".format(q_id), header = header)\n",
    "except KeyboardInterrupt: pass    "
   ]
  }
 ],
 "metadata": {
  "kernelspec": {
   "display_name": "Python 3",
   "language": "python",
   "name": "python3"
  },
  "language_info": {
   "codemirror_mode": {
    "name": "ipython",
    "version": 3
   },
   "file_extension": ".py",
   "mimetype": "text/x-python",
   "name": "python",
   "nbconvert_exporter": "python",
   "pygments_lexer": "ipython3",
   "version": "3.6.1"
  }
 },
 "nbformat": 4,
 "nbformat_minor": 1
}
