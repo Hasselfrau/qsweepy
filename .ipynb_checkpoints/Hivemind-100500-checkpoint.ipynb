{
 "cells": [
  {
   "cell_type": "code",
   "execution_count": 1,
   "metadata": {
    "collapsed": true
   },
   "outputs": [],
   "source": [
    "%run D:\\qtlab_replacement\\init.py\n",
    "%matplotlib qt4\n",
    "import matplotlib.pyplot as plt\n",
    "from instruments import *\n",
    "import numpy as np\n",
    "import sweep\n",
    "from save_pkl import *"
   ]
  },
  {
   "cell_type": "markdown",
   "metadata": {},
   "source": [
    "# Resonator tunability spectorscopy"
   ]
  },
  {
   "cell_type": "code",
   "execution_count": 2,
   "metadata": {},
   "outputs": [
    {
     "data": {
      "text/plain": [
       "<module 'fitting' from 'D:\\\\qtlab_replacement\\\\scripts\\\\fitting.py'>"
      ]
     },
     "execution_count": 2,
     "metadata": {},
     "output_type": "execute_result"
    }
   ],
   "source": [
    "from resonator_tools import circuit\n",
    "import fitting\n",
    "import imp\n",
    "imp.reload(fitting)"
   ]
  },
  {
   "cell_type": "code",
   "execution_count": 3,
   "metadata": {},
   "outputs": [
    {
     "name": "stderr",
     "output_type": "stream",
     "text": [
      "root: WARNING  Tektronix_AWG5014 : get all not yet fully functional\n"
     ]
    },
    {
     "data": {
      "text/plain": [
       "True"
      ]
     },
     "execution_count": 3,
     "metadata": {},
     "output_type": "execute_result"
    }
   ],
   "source": [
    "current_src = Yokogawa_GS210(address='gs210')\n",
    "pna = Agilent_N5242A('pna', address = 'PNA')\n",
    "lo1 = Agilent_E8257D('lo1', address = 'PSG1')\n",
    "#pxa = Agilent_N9030A('pxa', address = 'PXA')\n",
    "awg_tek = Tektronix_AWG5014('awg_tek', address = 'TCPIP0::10.20.61.186::inst0::INSTR')\n",
    "adc = Spectrum_M3i2132('adc')\n",
    "# векторный анализатор в режим линейного свипа\n",
    "pna.set_sweep_mode(\"LIN\")"
   ]
  },
  {
   "cell_type": "code",
   "execution_count": 8,
   "metadata": {
    "scrolled": true
   },
   "outputs": [
    {
     "name": "stdout",
     "output_type": "stream",
     "text": [
      "Started at:  May 24 2017 11:33:10\n"
     ]
    },
    {
     "name": "stderr",
     "output_type": "stream",
     "text": [
      "c:\\python36\\lib\\site-packages\\matplotlib\\backend_bases.py:2445: MatplotlibDeprecationWarning: Using default event loop until function specific to this GUI is implemented\n",
      "  warnings.warn(str, mplDeprecation)\n"
     ]
    },
    {
     "name": "stdout",
     "output_type": "stream",
     "text": [
      "Time left: 0 h 0 m 0.0 s,\tparameter values: Coil current: 0.0001,\taverage cycle time:  6.6s\t6s\t\t\t\t\n",
      "Elapsed time: 1 h 49 m 47.72 s\n"
     ]
    },
    {
     "data": {
      "text/plain": [
       "{'S-parameter': (('Coil current', 'Frequency'),\n",
       "  (array([ -1.00000000e-04,  -9.98000000e-05,  -9.96000000e-05, ...,\n",
       "            9.96000000e-05,   9.98000000e-05,   1.00000000e-04]),\n",
       "   array([  5.00000000e+09,   5.00200000e+09,   5.00400000e+09, ...,\n",
       "            9.99600000e+09,   9.99800000e+09,   1.00000000e+10])),\n",
       "  array([[-0.43364850-0.43429428j, -0.58487427-0.12711889j,\n",
       "          -0.57347411+0.21057492j, ..., -0.11916475+0.2880165j ,\n",
       "           0.06286449+0.31805566j,  0.27367467+0.19432276j],\n",
       "         [-0.41377029-0.43739414j, -0.61084133-0.13020836j,\n",
       "          -0.53999251+0.28454468j, ..., -0.11500599+0.29114527j,\n",
       "           0.08287558+0.32927358j,  0.27211717+0.19737525j],\n",
       "         [-0.44329306-0.46389893j, -0.59747303-0.12990715j,\n",
       "          -0.54812849+0.23778549j, ..., -0.12567554+0.31403634j,\n",
       "           0.08597663+0.34339687j,  0.26333585+0.24233164j],\n",
       "         ..., \n",
       "         [-0.42302772-0.51096934j, -0.64950740-0.16100237j,\n",
       "          -0.55352777+0.22275732j, ..., -0.11694233+0.31203228j,\n",
       "           0.08551414+0.3417092j ,  0.22696866+0.23431288j],\n",
       "         [-0.42743343-0.48350075j, -0.59700900-0.16338973j,\n",
       "          -0.55037713+0.22027947j, ..., -0.15630659+0.34502536j,\n",
       "           0.04400402+0.29573768j,  0.22964881+0.22096565j],\n",
       "         [-0.43960011-0.47068235j, -0.63672900-0.17639792j,\n",
       "          -0.58790976+0.21182044j, ..., -0.14251216+0.31434712j,\n",
       "           0.09769416+0.32486507j,  0.27322328+0.2237183j ]]),\n",
       "  {'log': 20})}"
      ]
     },
     "execution_count": 8,
     "metadata": {},
     "output_type": "execute_result"
    }
   ],
   "source": [
    "currents = np.linspace(-1e-4, 1e-4, 1001)\n",
    "pna.set_startfreq(5e9)\n",
    "pna.set_stopfreq(10e9)\n",
    "pna.set_bandwidth(500)\n",
    "pna.set_nop(2501)\n",
    "pna.set_power(-65)\n",
    "sweep.sweep(pna, (currents, current_src.set_current, 'Coil current'), filename='Hivemind spectrum coil')"
   ]
  },
  {
   "cell_type": "code",
   "execution_count": 10,
   "metadata": {
    "collapsed": true
   },
   "outputs": [],
   "source": [
    "def set_res_z_voltage(dc):\n",
    "    if dc<-1.5:\n",
    "        dc=-1.5\n",
    "    if dc>1.5:\n",
    "        dc=1.5\n",
    "    waveform = np.zeros(awg_tek.get_nop())*dc\n",
    "    awg_tek.set_offset(dc, channel=1)\n",
    "    awg_tek.set_waveform(waveform, channel=1)\n",
    "    awg_tek.run()"
   ]
  },
  {
   "cell_type": "code",
   "execution_count": 23,
   "metadata": {
    "scrolled": true
   },
   "outputs": [
    {
     "name": "stdout",
     "output_type": "stream",
     "text": [
      "Started at:  May 24 2017 17:25:55\n"
     ]
    },
    {
     "name": "stderr",
     "output_type": "stream",
     "text": [
      "c:\\python36\\lib\\site-packages\\matplotlib\\backend_bases.py:2445: MatplotlibDeprecationWarning: Using default event loop until function specific to this GUI is implemented\n",
      "  warnings.warn(str, mplDeprecation)\n"
     ]
    },
    {
     "name": "stdout",
     "output_type": "stream",
     "text": [
      "Time left: 0 h 0 m 0.0 s,\tparameter values: Control voltage:      1,\taverage cycle time:  5.3s\t\t\t\n",
      "Elapsed time: 0 h 8 m 51.23 s\n"
     ]
    },
    {
     "data": {
      "text/plain": [
       "{'S-parameter': (('Control voltage', 'Frequency'),\n",
       "  (array([-1.  , -0.98, -0.96, -0.94, -0.92, -0.9 , -0.88, -0.86, -0.84,\n",
       "          -0.82, -0.8 , -0.78, -0.76, -0.74, -0.72, -0.7 , -0.68, -0.66,\n",
       "          -0.64, -0.62, -0.6 , -0.58, -0.56, -0.54, -0.52, -0.5 , -0.48,\n",
       "          -0.46, -0.44, -0.42, -0.4 , -0.38, -0.36, -0.34, -0.32, -0.3 ,\n",
       "          -0.28, -0.26, -0.24, -0.22, -0.2 , -0.18, -0.16, -0.14, -0.12,\n",
       "          -0.1 , -0.08, -0.06, -0.04, -0.02,  0.  ,  0.02,  0.04,  0.06,\n",
       "           0.08,  0.1 ,  0.12,  0.14,  0.16,  0.18,  0.2 ,  0.22,  0.24,\n",
       "           0.26,  0.28,  0.3 ,  0.32,  0.34,  0.36,  0.38,  0.4 ,  0.42,\n",
       "           0.44,  0.46,  0.48,  0.5 ,  0.52,  0.54,  0.56,  0.58,  0.6 ,\n",
       "           0.62,  0.64,  0.66,  0.68,  0.7 ,  0.72,  0.74,  0.76,  0.78,\n",
       "           0.8 ,  0.82,  0.84,  0.86,  0.88,  0.9 ,  0.92,  0.94,  0.96,\n",
       "           0.98,  1.  ]),\n",
       "   array([  9.00000000e+09,   9.00200000e+09,   9.00400000e+09,\n",
       "            9.00600000e+09,   9.00800000e+09,   9.01000000e+09,\n",
       "            9.01200000e+09,   9.01400000e+09,   9.01600000e+09,\n",
       "            9.01800000e+09,   9.02000000e+09,   9.02200000e+09,\n",
       "            9.02400000e+09,   9.02600000e+09,   9.02800000e+09,\n",
       "            9.03000000e+09,   9.03200000e+09,   9.03400000e+09,\n",
       "            9.03600000e+09,   9.03800000e+09,   9.04000000e+09,\n",
       "            9.04200000e+09,   9.04400000e+09,   9.04600000e+09,\n",
       "            9.04800000e+09,   9.05000000e+09,   9.05200000e+09,\n",
       "            9.05400000e+09,   9.05600000e+09,   9.05800000e+09,\n",
       "            9.06000000e+09,   9.06200000e+09,   9.06400000e+09,\n",
       "            9.06600000e+09,   9.06800000e+09,   9.07000000e+09,\n",
       "            9.07200000e+09,   9.07400000e+09,   9.07600000e+09,\n",
       "            9.07800000e+09,   9.08000000e+09,   9.08200000e+09,\n",
       "            9.08400000e+09,   9.08600000e+09,   9.08800000e+09,\n",
       "            9.09000000e+09,   9.09200000e+09,   9.09400000e+09,\n",
       "            9.09600000e+09,   9.09800000e+09,   9.10000000e+09,\n",
       "            9.10200000e+09,   9.10400000e+09,   9.10600000e+09,\n",
       "            9.10800000e+09,   9.11000000e+09,   9.11200000e+09,\n",
       "            9.11400000e+09,   9.11600000e+09,   9.11800000e+09,\n",
       "            9.12000000e+09,   9.12200000e+09,   9.12400000e+09,\n",
       "            9.12600000e+09,   9.12800000e+09,   9.13000000e+09,\n",
       "            9.13200000e+09,   9.13400000e+09,   9.13600000e+09,\n",
       "            9.13800000e+09,   9.14000000e+09,   9.14200000e+09,\n",
       "            9.14400000e+09,   9.14600000e+09,   9.14800000e+09,\n",
       "            9.15000000e+09,   9.15200000e+09,   9.15400000e+09,\n",
       "            9.15600000e+09,   9.15800000e+09,   9.16000000e+09,\n",
       "            9.16200000e+09,   9.16400000e+09,   9.16600000e+09,\n",
       "            9.16800000e+09,   9.17000000e+09,   9.17200000e+09,\n",
       "            9.17400000e+09,   9.17600000e+09,   9.17800000e+09,\n",
       "            9.18000000e+09,   9.18200000e+09,   9.18400000e+09,\n",
       "            9.18600000e+09,   9.18800000e+09,   9.19000000e+09,\n",
       "            9.19200000e+09,   9.19400000e+09,   9.19600000e+09,\n",
       "            9.19800000e+09,   9.20000000e+09,   9.20200000e+09,\n",
       "            9.20400000e+09,   9.20600000e+09,   9.20800000e+09,\n",
       "            9.21000000e+09,   9.21200000e+09,   9.21400000e+09,\n",
       "            9.21600000e+09,   9.21800000e+09,   9.22000000e+09,\n",
       "            9.22200000e+09,   9.22400000e+09,   9.22600000e+09,\n",
       "            9.22800000e+09,   9.23000000e+09,   9.23200000e+09,\n",
       "            9.23400000e+09,   9.23600000e+09,   9.23800000e+09,\n",
       "            9.24000000e+09,   9.24200000e+09,   9.24400000e+09,\n",
       "            9.24600000e+09,   9.24800000e+09,   9.25000000e+09,\n",
       "            9.25200000e+09,   9.25400000e+09,   9.25600000e+09,\n",
       "            9.25800000e+09,   9.26000000e+09,   9.26200000e+09,\n",
       "            9.26400000e+09,   9.26600000e+09,   9.26800000e+09,\n",
       "            9.27000000e+09,   9.27200000e+09,   9.27400000e+09,\n",
       "            9.27600000e+09,   9.27800000e+09,   9.28000000e+09,\n",
       "            9.28200000e+09,   9.28400000e+09,   9.28600000e+09,\n",
       "            9.28800000e+09,   9.29000000e+09,   9.29200000e+09,\n",
       "            9.29400000e+09,   9.29600000e+09,   9.29800000e+09,\n",
       "            9.30000000e+09,   9.30200000e+09,   9.30400000e+09,\n",
       "            9.30600000e+09,   9.30800000e+09,   9.31000000e+09,\n",
       "            9.31200000e+09,   9.31400000e+09,   9.31600000e+09,\n",
       "            9.31800000e+09,   9.32000000e+09,   9.32200000e+09,\n",
       "            9.32400000e+09,   9.32600000e+09,   9.32800000e+09,\n",
       "            9.33000000e+09,   9.33200000e+09,   9.33400000e+09,\n",
       "            9.33600000e+09,   9.33800000e+09,   9.34000000e+09,\n",
       "            9.34200000e+09,   9.34400000e+09,   9.34600000e+09,\n",
       "            9.34800000e+09,   9.35000000e+09,   9.35200000e+09,\n",
       "            9.35400000e+09,   9.35600000e+09,   9.35800000e+09,\n",
       "            9.36000000e+09,   9.36200000e+09,   9.36400000e+09,\n",
       "            9.36600000e+09,   9.36800000e+09,   9.37000000e+09,\n",
       "            9.37200000e+09,   9.37400000e+09,   9.37600000e+09,\n",
       "            9.37800000e+09,   9.38000000e+09,   9.38200000e+09,\n",
       "            9.38400000e+09,   9.38600000e+09,   9.38800000e+09,\n",
       "            9.39000000e+09,   9.39200000e+09,   9.39400000e+09,\n",
       "            9.39600000e+09,   9.39800000e+09,   9.40000000e+09,\n",
       "            9.40200000e+09,   9.40400000e+09,   9.40600000e+09,\n",
       "            9.40800000e+09,   9.41000000e+09,   9.41200000e+09,\n",
       "            9.41400000e+09,   9.41600000e+09,   9.41800000e+09,\n",
       "            9.42000000e+09,   9.42200000e+09,   9.42400000e+09,\n",
       "            9.42600000e+09,   9.42800000e+09,   9.43000000e+09,\n",
       "            9.43200000e+09,   9.43400000e+09,   9.43600000e+09,\n",
       "            9.43800000e+09,   9.44000000e+09,   9.44200000e+09,\n",
       "            9.44400000e+09,   9.44600000e+09,   9.44800000e+09,\n",
       "            9.45000000e+09,   9.45200000e+09,   9.45400000e+09,\n",
       "            9.45600000e+09,   9.45800000e+09,   9.46000000e+09,\n",
       "            9.46200000e+09,   9.46400000e+09,   9.46600000e+09,\n",
       "            9.46800000e+09,   9.47000000e+09,   9.47200000e+09,\n",
       "            9.47400000e+09,   9.47600000e+09,   9.47800000e+09,\n",
       "            9.48000000e+09,   9.48200000e+09,   9.48400000e+09,\n",
       "            9.48600000e+09,   9.48800000e+09,   9.49000000e+09,\n",
       "            9.49200000e+09,   9.49400000e+09,   9.49600000e+09,\n",
       "            9.49800000e+09,   9.50000000e+09,   9.50200000e+09,\n",
       "            9.50400000e+09,   9.50600000e+09,   9.50800000e+09,\n",
       "            9.51000000e+09,   9.51200000e+09,   9.51400000e+09,\n",
       "            9.51600000e+09,   9.51800000e+09,   9.52000000e+09,\n",
       "            9.52200000e+09,   9.52400000e+09,   9.52600000e+09,\n",
       "            9.52800000e+09,   9.53000000e+09,   9.53200000e+09,\n",
       "            9.53400000e+09,   9.53600000e+09,   9.53800000e+09,\n",
       "            9.54000000e+09,   9.54200000e+09,   9.54400000e+09,\n",
       "            9.54600000e+09,   9.54800000e+09,   9.55000000e+09,\n",
       "            9.55200000e+09,   9.55400000e+09,   9.55600000e+09,\n",
       "            9.55800000e+09,   9.56000000e+09,   9.56200000e+09,\n",
       "            9.56400000e+09,   9.56600000e+09,   9.56800000e+09,\n",
       "            9.57000000e+09,   9.57200000e+09,   9.57400000e+09,\n",
       "            9.57600000e+09,   9.57800000e+09,   9.58000000e+09,\n",
       "            9.58200000e+09,   9.58400000e+09,   9.58600000e+09,\n",
       "            9.58800000e+09,   9.59000000e+09,   9.59200000e+09,\n",
       "            9.59400000e+09,   9.59600000e+09,   9.59800000e+09,\n",
       "            9.60000000e+09,   9.60200000e+09,   9.60400000e+09,\n",
       "            9.60600000e+09,   9.60800000e+09,   9.61000000e+09,\n",
       "            9.61200000e+09,   9.61400000e+09,   9.61600000e+09,\n",
       "            9.61800000e+09,   9.62000000e+09,   9.62200000e+09,\n",
       "            9.62400000e+09,   9.62600000e+09,   9.62800000e+09,\n",
       "            9.63000000e+09,   9.63200000e+09,   9.63400000e+09,\n",
       "            9.63600000e+09,   9.63800000e+09,   9.64000000e+09,\n",
       "            9.64200000e+09,   9.64400000e+09,   9.64600000e+09,\n",
       "            9.64800000e+09,   9.65000000e+09,   9.65200000e+09,\n",
       "            9.65400000e+09,   9.65600000e+09,   9.65800000e+09,\n",
       "            9.66000000e+09,   9.66200000e+09,   9.66400000e+09,\n",
       "            9.66600000e+09,   9.66800000e+09,   9.67000000e+09,\n",
       "            9.67200000e+09,   9.67400000e+09,   9.67600000e+09,\n",
       "            9.67800000e+09,   9.68000000e+09,   9.68200000e+09,\n",
       "            9.68400000e+09,   9.68600000e+09,   9.68800000e+09,\n",
       "            9.69000000e+09,   9.69200000e+09,   9.69400000e+09,\n",
       "            9.69600000e+09,   9.69800000e+09,   9.70000000e+09,\n",
       "            9.70200000e+09,   9.70400000e+09,   9.70600000e+09,\n",
       "            9.70800000e+09,   9.71000000e+09,   9.71200000e+09,\n",
       "            9.71400000e+09,   9.71600000e+09,   9.71800000e+09,\n",
       "            9.72000000e+09,   9.72200000e+09,   9.72400000e+09,\n",
       "            9.72600000e+09,   9.72800000e+09,   9.73000000e+09,\n",
       "            9.73200000e+09,   9.73400000e+09,   9.73600000e+09,\n",
       "            9.73800000e+09,   9.74000000e+09,   9.74200000e+09,\n",
       "            9.74400000e+09,   9.74600000e+09,   9.74800000e+09,\n",
       "            9.75000000e+09,   9.75200000e+09,   9.75400000e+09,\n",
       "            9.75600000e+09,   9.75800000e+09,   9.76000000e+09,\n",
       "            9.76200000e+09,   9.76400000e+09,   9.76600000e+09,\n",
       "            9.76800000e+09,   9.77000000e+09,   9.77200000e+09,\n",
       "            9.77400000e+09,   9.77600000e+09,   9.77800000e+09,\n",
       "            9.78000000e+09,   9.78200000e+09,   9.78400000e+09,\n",
       "            9.78600000e+09,   9.78800000e+09,   9.79000000e+09,\n",
       "            9.79200000e+09,   9.79400000e+09,   9.79600000e+09,\n",
       "            9.79800000e+09,   9.80000000e+09,   9.80200000e+09,\n",
       "            9.80400000e+09,   9.80600000e+09,   9.80800000e+09,\n",
       "            9.81000000e+09,   9.81200000e+09,   9.81400000e+09,\n",
       "            9.81600000e+09,   9.81800000e+09,   9.82000000e+09,\n",
       "            9.82200000e+09,   9.82400000e+09,   9.82600000e+09,\n",
       "            9.82800000e+09,   9.83000000e+09,   9.83200000e+09,\n",
       "            9.83400000e+09,   9.83600000e+09,   9.83800000e+09,\n",
       "            9.84000000e+09,   9.84200000e+09,   9.84400000e+09,\n",
       "            9.84600000e+09,   9.84800000e+09,   9.85000000e+09,\n",
       "            9.85200000e+09,   9.85400000e+09,   9.85600000e+09,\n",
       "            9.85800000e+09,   9.86000000e+09,   9.86200000e+09,\n",
       "            9.86400000e+09,   9.86600000e+09,   9.86800000e+09,\n",
       "            9.87000000e+09,   9.87200000e+09,   9.87400000e+09,\n",
       "            9.87600000e+09,   9.87800000e+09,   9.88000000e+09,\n",
       "            9.88200000e+09,   9.88400000e+09,   9.88600000e+09,\n",
       "            9.88800000e+09,   9.89000000e+09,   9.89200000e+09,\n",
       "            9.89400000e+09,   9.89600000e+09,   9.89800000e+09,\n",
       "            9.90000000e+09,   9.90200000e+09,   9.90400000e+09,\n",
       "            9.90600000e+09,   9.90800000e+09,   9.91000000e+09,\n",
       "            9.91200000e+09,   9.91400000e+09,   9.91600000e+09,\n",
       "            9.91800000e+09,   9.92000000e+09,   9.92200000e+09,\n",
       "            9.92400000e+09,   9.92600000e+09,   9.92800000e+09,\n",
       "            9.93000000e+09,   9.93200000e+09,   9.93400000e+09,\n",
       "            9.93600000e+09,   9.93800000e+09,   9.94000000e+09,\n",
       "            9.94200000e+09,   9.94400000e+09,   9.94600000e+09,\n",
       "            9.94800000e+09,   9.95000000e+09,   9.95200000e+09,\n",
       "            9.95400000e+09,   9.95600000e+09,   9.95800000e+09,\n",
       "            9.96000000e+09,   9.96200000e+09,   9.96400000e+09,\n",
       "            9.96600000e+09,   9.96800000e+09,   9.97000000e+09,\n",
       "            9.97200000e+09,   9.97400000e+09,   9.97600000e+09,\n",
       "            9.97800000e+09,   9.98000000e+09,   9.98200000e+09,\n",
       "            9.98400000e+09,   9.98600000e+09,   9.98800000e+09,\n",
       "            9.99000000e+09,   9.99200000e+09,   9.99400000e+09,\n",
       "            9.99600000e+09,   9.99800000e+09,   1.00000000e+10])),\n",
       "  array([[-0.03720640 -1.73422515e-01j, -0.15279931 -1.18016869e-01j,\n",
       "          -0.19282529 -2.77488981e-03j, ...,  0.16650945 +1.21216953e-01j,\n",
       "           0.19604217 -1.54311825e-02j,  0.15119256 -1.18902750e-01j],\n",
       "         [-0.05305108 -2.04958588e-01j, -0.13807528 -1.26146778e-01j,\n",
       "          -0.19328314 -1.54457251e-02j, ...,  0.15361726 +1.16644964e-01j,\n",
       "           0.19845858 -1.01599824e-02j,  0.15262419 -1.32337764e-01j],\n",
       "         [-0.04877922 -1.98044762e-01j, -0.16120008 -1.41092628e-01j,\n",
       "          -0.19614133 -1.11906016e-02j, ...,  0.16283424 +1.14003338e-01j,\n",
       "           0.19103293 -1.92373889e-04j,  0.14337817 -1.26574442e-01j],\n",
       "         ..., \n",
       "         [-0.04743240 -1.96467191e-01j, -0.14951442 -1.15526952e-01j,\n",
       "          -0.19286489 -6.44585770e-03j, ...,  0.14650594 +1.16437145e-01j,\n",
       "           0.20382352 -5.94495097e-03j,  0.15516628 -1.21804640e-01j],\n",
       "         [-0.04489408 -1.88226551e-01j, -0.14797322 -1.22818418e-01j,\n",
       "          -0.18168087 -9.93663794e-04j, ...,  0.16126922 +1.15732148e-01j,\n",
       "           0.19430362 +1.45418011e-02j,  0.14796685 -1.32362127e-01j],\n",
       "         [-0.04253264 -1.70819968e-01j, -0.13878754 -1.22679755e-01j,\n",
       "          -0.18989289 -1.02803092e-02j, ...,  0.15145238 +1.16234243e-01j,\n",
       "           0.19582054 -4.94144065e-03j,  0.14289151 -1.22552551e-01j]]),\n",
       "  {'log': 20})}"
      ]
     },
     "execution_count": 23,
     "metadata": {},
     "output_type": "execute_result"
    }
   ],
   "source": [
    "awg_tek.set_amplitude(1.5, channel=1)\n",
    "voltages = np.linspace(-1, 1, 101)\n",
    "pna.set_startfreq(9e9)\n",
    "pna.set_stopfreq(10e9)\n",
    "pna.set_bandwidth(100)\n",
    "pna.set_nop(501)\n",
    "pna.set_power(-65)\n",
    "sweep.sweep(pna, (voltages, set_res_z_voltage, 'Control voltage'), filename='Hivemind spectrum res-z')"
   ]
  },
  {
   "cell_type": "code",
   "execution_count": 11,
   "metadata": {
    "collapsed": true
   },
   "outputs": [],
   "source": [
    "set_res_z_voltage(0.1)"
   ]
  },
  {
   "cell_type": "markdown",
   "metadata": {},
   "source": [
    "### loading data for resonator frequency on coil current and fitting"
   ]
  },
  {
   "cell_type": "code",
   "execution_count": 7,
   "metadata": {},
   "outputs": [
    {
     "name": "stdout",
     "output_type": "stream",
     "text": [
      "D:\\qtlab\\ReiData\\data\\2017-05-24\\11-33-10/S-parameter Hivemind spectrum coil.pkl\n"
     ]
    },
    {
     "name": "stderr",
     "output_type": "stream",
     "text": [
      "c:\\python36\\lib\\site-packages\\numpy\\core\\fromnumeric.py:2889: RuntimeWarning: Mean of empty slice.\n",
      "  out=out, **kwargs)\n",
      "c:\\python36\\lib\\site-packages\\numpy\\core\\_methods.py:80: RuntimeWarning: invalid value encountered in double_scalars\n",
      "  ret = ret.dtype.type(ret / rcount)\n"
     ]
    }
   ],
   "source": [
    "filename = 'S-parameter Hivemind spectrum coil'\n",
    "location = 'D:\\\\qtlab\\\\ReiData\\\\data\\\\2017-05-24\\\\11-33-10'\n",
    "data = load_pkl(filename, location=location)[1]\n",
    "\n",
    "fitresults = fitting.dc_squid_fit_S21(data, noise_sigma=5)\n",
    "L_res_coil = fitresults['fitresults']['L']"
   ]
  },
  {
   "cell_type": "code",
   "execution_count": 6,
   "metadata": {},
   "outputs": [
    {
     "name": "stdout",
     "output_type": "stream",
     "text": [
      "D:\\qtlab\\ReiData\\data\\2017-05-24\\17-25-55/S-parameter Hivemind spectrum res-z.pkl\n"
     ]
    },
    {
     "name": "stderr",
     "output_type": "stream",
     "text": [
      "c:\\python36\\lib\\site-packages\\numpy\\core\\fromnumeric.py:2889: RuntimeWarning: Mean of empty slice.\n",
      "  out=out, **kwargs)\n",
      "c:\\python36\\lib\\site-packages\\numpy\\core\\_methods.py:80: RuntimeWarning: invalid value encountered in double_scalars\n",
      "  ret = ret.dtype.type(ret / rcount)\n",
      "D:\\qtlab_replacement\\scripts\\fitting.py:125: RuntimeWarning: invalid value encountered in sqrt\n",
      "  ft = lambda I,fp,I0,L,a,b: np.real(fp*(1+b)*(1/(1/np.sqrt((1-a)*np.abs(np.cos((I-I0)*L).astype(np.complex))+a)+b)))\n"
     ]
    }
   ],
   "source": [
    "filename = 'S-parameter Hivemind spectrum res-z'\n",
    "location = 'D:\\\\qtlab\\\\ReiData\\\\data\\\\2017-05-24\\\\17-25-55'\n",
    "data = load_pkl(filename, location=location)[1]\n",
    "\n",
    "fitresults = fitting.dc_squid_fit_S21(data, noise_sigma=5)\n",
    "L_res_z = fitresults['fitresults']['L']"
   ]
  },
  {
   "cell_type": "markdown",
   "metadata": {},
   "source": [
    "### getting resonance frequency dependence on coil current"
   ]
  },
  {
   "cell_type": "code",
   "execution_count": 6,
   "metadata": {},
   "outputs": [
    {
     "name": "stderr",
     "output_type": "stream",
     "text": [
      "D:\\qtlab_replacement\\scripts\\fitting.py:125: RuntimeWarning: invalid value encountered in sqrt\n",
      "  ft = lambda I,fp,I0,L,a,b: np.real(fp*(1+b)*(1/(1/np.sqrt((1-a)*np.abs(np.cos((I-I0)*L).astype(np.complex))+a)+b)))\n"
     ]
    },
    {
     "data": {
      "text/plain": [
       "{'I0': -0.20592582186053096,\n",
       " 'L': 2.1551578066115997,\n",
       " 'a': -0.038384017397177443,\n",
       " 'b': 4.2904065057970593,\n",
       " 'fp': 9724690391.7000198}"
      ]
     },
     "execution_count": 6,
     "metadata": {},
     "output_type": "execute_result"
    }
   ],
   "source": [
    "plt.figure('S21')\n",
    "plt.pcolormesh(data['S-parameter'][1][0], data['S-parameter'][1][1], np.abs(data['S-parameter'][2].T))\n",
    "plt.plot(fitresults['fp_est_xpoints'], fitresults['fp_est'])\n",
    "#plt.plot(fitresults['fp_est_xpoints'], fitresults['fp_est'])\n",
    "plt.plot(data['S-parameter'][1][0], fitresults['evaluator'](data['S-parameter'][1][0]))\n",
    "plt.ylim([np.min(data['S-parameter'][1][1]), np.max(data['S-parameter'][1][1])])\n",
    "fitresults['fitresults']"
   ]
  },
  {
   "cell_type": "code",
   "execution_count": null,
   "metadata": {},
   "outputs": [
    {
     "name": "stdout",
     "output_type": "stream",
     "text": [
      "Started at:  May 24 2017 20:05:52\n"
     ]
    },
    {
     "name": "stderr",
     "output_type": "stream",
     "text": [
      "c:\\python36\\lib\\site-packages\\matplotlib\\backend_bases.py:2445: MatplotlibDeprecationWarning: Using default event loop until function specific to this GUI is implemented\n",
      "  warnings.warn(str, mplDeprecation)\n"
     ]
    },
    {
     "name": "stdout",
     "output_type": "stream",
     "text": [
      "Time left: 0 h 16 m 55.58 s,\tparameter values: Resonator shift compensated coil current: -5.48e-05,\taverage cycle time:  3.5s\t"
     ]
    }
   ],
   "source": [
    "LM = np.asarray([[L_res_z, L_res_coil]])\n",
    "res_z_compensation = lambda I_coil: -2*np.pi*(((I_coil*LM[0,1]/(2*np.pi)+0.5)%1.)-0.5)/LM[0,0]\n",
    "offset_coil_current = 76e-6\n",
    "def set_coil_current_compensated(current_value):\n",
    "    set_res_z_voltage(res_z_compensation(current_value))\n",
    "    current_src.set_current(current_value+offset_coil_current)\n",
    "    F = current_value*LM[0,1]/(2*np.pi)\n",
    "    Fc = res_z_compensation(current_value)*LM[0,0]/(2*np.pi)\n",
    "    #print ('coil current: {0},\\n res-z current: {1},\\n fluxoid num: {2},\\n compensation fluxoid num: {3}'.format(current_value, res_z_compensation(current_value), F, Fc))\n",
    "    \n",
    "currents = np.linspace(-0.6e-4, 0.6e-4, 301)\n",
    "pna.set_startfreq(8.65e9)\n",
    "pna.set_stopfreq(9.75e9)\n",
    "pna.set_bandwidth(100)\n",
    "pna.set_nop(301)\n",
    "pna.set_power(-65)\n",
    "sweep.sweep(pna, \\\n",
    "            (currents, set_coil_current_compensated, 'Resonator shift compensated coil current'), \\\n",
    "            filename='Hivemind spectrum res-z')"
   ]
  },
  {
   "cell_type": "code",
   "execution_count": null,
   "metadata": {
    "collapsed": true
   },
   "outputs": [],
   "source": []
  },
  {
   "cell_type": "markdown",
   "metadata": {},
   "source": [
    "# Two-tone spectroscopy at 0 resonator control current"
   ]
  },
  {
   "cell_type": "code",
   "execution_count": 18,
   "metadata": {},
   "outputs": [
    {
     "name": "stdout",
     "output_type": "stream",
     "text": [
      "Started at:  May 24 2017 14:38:48\n"
     ]
    },
    {
     "name": "stderr",
     "output_type": "stream",
     "text": [
      "c:\\python36\\lib\\site-packages\\matplotlib\\backend_bases.py:2445: MatplotlibDeprecationWarning: Using default event loop until function specific to this GUI is implemented\n",
      "  warnings.warn(str, mplDeprecation)\n"
     ]
    },
    {
     "name": "stdout",
     "output_type": "stream",
     "text": [
      "Time left: 1 h 45 m 30.21 s,\tparameter values: Qubit control 1 current: -0.0002,\tExcitation frequency: 9.93e+09,\taverage cycle time: 0.61s\t\t"
     ]
    },
    {
     "ename": "KeyboardInterrupt",
     "evalue": "",
     "output_type": "error",
     "traceback": [
      "\u001b[1;31m---------------------------------------------------------------------------\u001b[0m",
      "\u001b[1;31mKeyboardInterrupt\u001b[0m                         Traceback (most recent call last)",
      "\u001b[1;32m<ipython-input-18-6bcb7117f51f>\u001b[0m in \u001b[0;36m<module>\u001b[1;34m()\u001b[0m\n\u001b[0;32m      9\u001b[0m \u001b[0mex_freqs\u001b[0m \u001b[1;33m=\u001b[0m \u001b[0mnp\u001b[0m\u001b[1;33m.\u001b[0m\u001b[0mlinspace\u001b[0m\u001b[1;33m(\u001b[0m\u001b[1;36m6e9\u001b[0m\u001b[1;33m,\u001b[0m \u001b[1;36m12e9\u001b[0m\u001b[1;33m,\u001b[0m \u001b[1;36m201\u001b[0m\u001b[1;33m)\u001b[0m\u001b[1;33m\u001b[0m\u001b[0m\n\u001b[0;32m     10\u001b[0m \u001b[0mcurrents\u001b[0m \u001b[1;33m=\u001b[0m \u001b[0mnp\u001b[0m\u001b[1;33m.\u001b[0m\u001b[0mlinspace\u001b[0m\u001b[1;33m(\u001b[0m\u001b[1;33m-\u001b[0m\u001b[1;36m0.01\u001b[0m\u001b[1;33m,\u001b[0m \u001b[1;36m0.01\u001b[0m\u001b[1;33m,\u001b[0m \u001b[1;36m101\u001b[0m\u001b[1;33m)\u001b[0m\u001b[1;33m\u001b[0m\u001b[0m\n\u001b[1;32m---> 11\u001b[1;33m \u001b[0msweep\u001b[0m\u001b[1;33m.\u001b[0m\u001b[0msweep\u001b[0m\u001b[1;33m(\u001b[0m\u001b[0mpna\u001b[0m\u001b[1;33m,\u001b[0m \u001b[1;33m(\u001b[0m\u001b[0mcurrents\u001b[0m\u001b[1;33m,\u001b[0m \u001b[0mcurrent_src\u001b[0m\u001b[1;33m.\u001b[0m\u001b[0mset_current\u001b[0m\u001b[1;33m,\u001b[0m \u001b[1;34m'Qubit control 1 current'\u001b[0m\u001b[1;33m)\u001b[0m\u001b[1;33m,\u001b[0m                 \u001b[1;33m(\u001b[0m\u001b[0mex_freqs\u001b[0m\u001b[1;33m,\u001b[0m \u001b[0mlo1\u001b[0m\u001b[1;33m.\u001b[0m\u001b[0mset_frequency\u001b[0m\u001b[1;33m,\u001b[0m \u001b[1;34m'Excitation frequency'\u001b[0m\u001b[1;33m)\u001b[0m\u001b[1;33m,\u001b[0m                \u001b[0mfilename\u001b[0m\u001b[1;33m=\u001b[0m\u001b[1;34m'Hivemind 2T spectrum Q1'\u001b[0m\u001b[1;33m)\u001b[0m\u001b[1;33m\u001b[0m\u001b[0m\n\u001b[0m",
      "\u001b[1;32mD:\\qtlab_replacement\\scripts\\sweep.py\u001b[0m in \u001b[0;36msweep\u001b[1;34m(measurer, filename, root_dir, plot, header, output, *params)\u001b[0m\n\u001b[0;32m    126\u001b[0m                         \u001b[1;32mif\u001b[0m \u001b[0mplot\u001b[0m\u001b[1;33m:\u001b[0m\u001b[1;33m\u001b[0m\u001b[0m\n\u001b[0;32m    127\u001b[0m                                 \u001b[1;32mif\u001b[0m \u001b[0mplot_update_start\u001b[0m \u001b[1;33m-\u001b[0m \u001b[0mlast_plot_update\u001b[0m \u001b[1;33m>\u001b[0m \u001b[1;36m10\u001b[0m\u001b[1;33m*\u001b[0m\u001b[0mplot_update_time\u001b[0m\u001b[1;33m:\u001b[0m\u001b[1;33m\u001b[0m\u001b[0m\n\u001b[1;32m--> 128\u001b[1;33m                                         \u001b[0mplotting\u001b[0m\u001b[1;33m.\u001b[0m\u001b[0mupdate_plot_measurement\u001b[0m\u001b[1;33m(\u001b[0m\u001b[0mmk_measurement\u001b[0m\u001b[1;33m(\u001b[0m\u001b[1;36m0\u001b[0m\u001b[1;33m)\u001b[0m\u001b[1;33m,\u001b[0m \u001b[0mplot_axes\u001b[0m\u001b[1;33m)\u001b[0m\u001b[1;33m\u001b[0m\u001b[0m\n\u001b[0m\u001b[0;32m    129\u001b[0m \t\t\t'''\n\u001b[0;32m    130\u001b[0m                                 \u001b[1;32mif\u001b[0m \u001b[0mplot_windows\u001b[0m\u001b[1;33m[\u001b[0m\u001b[0mmname\u001b[0m\u001b[1;33m]\u001b[0m\u001b[1;33m:\u001b[0m\u001b[1;33m\u001b[0m\u001b[0m\n",
      "\u001b[1;32mD:\\qtlab_replacement\\scripts\\plotting.py\u001b[0m in \u001b[0;36mupdate_plot_measurement\u001b[1;34m(measurement, axes)\u001b[0m\n\u001b[0;32m    106\u001b[0m                 \u001b[1;32mfor\u001b[0m \u001b[0mplot_name\u001b[0m\u001b[1;33m,\u001b[0m \u001b[0mplot\u001b[0m \u001b[1;32min\u001b[0m \u001b[0max\u001b[0m\u001b[1;33m[\u001b[0m\u001b[1;34m'plots'\u001b[0m\u001b[1;33m]\u001b[0m\u001b[1;33m.\u001b[0m\u001b[0mitems\u001b[0m\u001b[1;33m(\u001b[0m\u001b[1;33m)\u001b[0m\u001b[1;33m:\u001b[0m\u001b[1;33m\u001b[0m\u001b[0m\n\u001b[0;32m    107\u001b[0m                         \u001b[0mmeas\u001b[0m\u001b[1;33m[\u001b[0m\u001b[0mplot_name\u001b[0m\u001b[1;33m]\u001b[0m \u001b[1;33m=\u001b[0m \u001b[1;33m(\u001b[0m\u001b[0mmeasurement\u001b[0m\u001b[1;33m[\u001b[0m\u001b[0mplot\u001b[0m\u001b[1;33m[\u001b[0m\u001b[1;34m'mname'\u001b[0m\u001b[1;33m]\u001b[0m\u001b[1;33m]\u001b[0m\u001b[1;33m[\u001b[0m\u001b[1;36m0\u001b[0m\u001b[1;33m]\u001b[0m\u001b[1;33m,\u001b[0m \u001b[0mmeasurement\u001b[0m\u001b[1;33m[\u001b[0m\u001b[0mplot\u001b[0m\u001b[1;33m[\u001b[0m\u001b[1;34m'mname'\u001b[0m\u001b[1;33m]\u001b[0m\u001b[1;33m]\u001b[0m\u001b[1;33m[\u001b[0m\u001b[1;36m1\u001b[0m\u001b[1;33m]\u001b[0m\u001b[1;33m,\u001b[0m \u001b[0mplot\u001b[0m\u001b[1;33m[\u001b[0m\u001b[1;34m'filter'\u001b[0m\u001b[1;33m]\u001b[0m\u001b[1;33m(\u001b[0m\u001b[0mmeasurement\u001b[0m\u001b[1;33m[\u001b[0m\u001b[0mplot\u001b[0m\u001b[1;33m[\u001b[0m\u001b[1;34m'mname'\u001b[0m\u001b[1;33m]\u001b[0m\u001b[1;33m]\u001b[0m\u001b[1;33m[\u001b[0m\u001b[1;36m2\u001b[0m\u001b[1;33m]\u001b[0m\u001b[1;33m)\u001b[0m\u001b[1;33m)\u001b[0m\u001b[1;33m\u001b[0m\u001b[0m\n\u001b[1;32m--> 108\u001b[1;33m                 \u001b[0mplots\u001b[0m \u001b[1;33m=\u001b[0m \u001b[0mupdate_plot_measurement_sa\u001b[0m\u001b[1;33m(\u001b[0m\u001b[0mmeas\u001b[0m\u001b[1;33m,\u001b[0m \u001b[0max\u001b[0m\u001b[1;33m)\u001b[0m\u001b[1;33m\u001b[0m\u001b[0m\n\u001b[0m\u001b[0;32m    109\u001b[0m \u001b[1;33m\u001b[0m\u001b[0m\n\u001b[0;32m    110\u001b[0m \u001b[1;31m# Plots all data on a single axis with given annotations.\u001b[0m\u001b[1;33m\u001b[0m\u001b[1;33m\u001b[0m\u001b[0m\n",
      "\u001b[1;32mD:\\qtlab_replacement\\scripts\\plotting.py\u001b[0m in \u001b[0;36mupdate_plot_measurement_sa\u001b[1;34m(measurement, plots)\u001b[0m\n\u001b[0;32m    190\u001b[0m                         \u001b[0mplt\u001b[0m\u001b[1;33m.\u001b[0m\u001b[0mclim\u001b[0m\u001b[1;33m(\u001b[0m\u001b[0mnp\u001b[0m\u001b[1;33m.\u001b[0m\u001b[0mnanmin\u001b[0m\u001b[1;33m(\u001b[0m\u001b[0mdata\u001b[0m\u001b[1;33m)\u001b[0m\u001b[1;33m,\u001b[0m \u001b[0mnp\u001b[0m\u001b[1;33m.\u001b[0m\u001b[0mnanmax\u001b[0m\u001b[1;33m(\u001b[0m\u001b[0mdata\u001b[0m\u001b[1;33m)\u001b[0m\u001b[1;33m)\u001b[0m\u001b[1;33m\u001b[0m\u001b[0m\n\u001b[0;32m    191\u001b[0m                 \u001b[0mplt\u001b[0m\u001b[1;33m.\u001b[0m\u001b[0mdraw\u001b[0m\u001b[1;33m(\u001b[0m\u001b[1;33m)\u001b[0m\u001b[1;33m\u001b[0m\u001b[0m\n\u001b[1;32m--> 192\u001b[1;33m         \u001b[0mplt\u001b[0m\u001b[1;33m.\u001b[0m\u001b[0mpause\u001b[0m\u001b[1;33m(\u001b[0m\u001b[1;36m0.05\u001b[0m\u001b[1;33m)\u001b[0m\u001b[1;33m\u001b[0m\u001b[0m\n\u001b[0m",
      "\u001b[1;32mc:\\python36\\lib\\site-packages\\matplotlib\\pyplot.py\u001b[0m in \u001b[0;36mpause\u001b[1;34m(interval)\u001b[0m\n\u001b[0;32m    296\u001b[0m             \u001b[0mcanvas\u001b[0m \u001b[1;33m=\u001b[0m \u001b[0mfigManager\u001b[0m\u001b[1;33m.\u001b[0m\u001b[0mcanvas\u001b[0m\u001b[1;33m\u001b[0m\u001b[0m\n\u001b[0;32m    297\u001b[0m             \u001b[1;32mif\u001b[0m \u001b[0mcanvas\u001b[0m\u001b[1;33m.\u001b[0m\u001b[0mfigure\u001b[0m\u001b[1;33m.\u001b[0m\u001b[0mstale\u001b[0m\u001b[1;33m:\u001b[0m\u001b[1;33m\u001b[0m\u001b[0m\n\u001b[1;32m--> 298\u001b[1;33m                 \u001b[0mcanvas\u001b[0m\u001b[1;33m.\u001b[0m\u001b[0mdraw\u001b[0m\u001b[1;33m(\u001b[0m\u001b[1;33m)\u001b[0m\u001b[1;33m\u001b[0m\u001b[0m\n\u001b[0m\u001b[0;32m    299\u001b[0m             \u001b[0mshow\u001b[0m\u001b[1;33m(\u001b[0m\u001b[0mblock\u001b[0m\u001b[1;33m=\u001b[0m\u001b[1;32mFalse\u001b[0m\u001b[1;33m)\u001b[0m\u001b[1;33m\u001b[0m\u001b[0m\n\u001b[0;32m    300\u001b[0m             \u001b[0mcanvas\u001b[0m\u001b[1;33m.\u001b[0m\u001b[0mstart_event_loop\u001b[0m\u001b[1;33m(\u001b[0m\u001b[0minterval\u001b[0m\u001b[1;33m)\u001b[0m\u001b[1;33m\u001b[0m\u001b[0m\n",
      "\u001b[1;32mc:\\python36\\lib\\site-packages\\matplotlib\\backends\\backend_qt5agg.py\u001b[0m in \u001b[0;36mdraw\u001b[1;34m(self)\u001b[0m\n\u001b[0;32m    174\u001b[0m         \u001b[1;31m# The Agg draw is done here; delaying causes problems with code that\u001b[0m\u001b[1;33m\u001b[0m\u001b[1;33m\u001b[0m\u001b[0m\n\u001b[0;32m    175\u001b[0m         \u001b[1;31m# uses the result of the draw() to update plot elements.\u001b[0m\u001b[1;33m\u001b[0m\u001b[1;33m\u001b[0m\u001b[0m\n\u001b[1;32m--> 176\u001b[1;33m         \u001b[0mFigureCanvasAgg\u001b[0m\u001b[1;33m.\u001b[0m\u001b[0mdraw\u001b[0m\u001b[1;33m(\u001b[0m\u001b[0mself\u001b[0m\u001b[1;33m)\u001b[0m\u001b[1;33m\u001b[0m\u001b[0m\n\u001b[0m\u001b[0;32m    177\u001b[0m         \u001b[0mself\u001b[0m\u001b[1;33m.\u001b[0m\u001b[0mupdate\u001b[0m\u001b[1;33m(\u001b[0m\u001b[1;33m)\u001b[0m\u001b[1;33m\u001b[0m\u001b[0m\n\u001b[0;32m    178\u001b[0m \u001b[1;33m\u001b[0m\u001b[0m\n",
      "\u001b[1;32mc:\\python36\\lib\\site-packages\\matplotlib\\backends\\backend_agg.py\u001b[0m in \u001b[0;36mdraw\u001b[1;34m(self)\u001b[0m\n\u001b[0;32m    462\u001b[0m \u001b[1;33m\u001b[0m\u001b[0m\n\u001b[0;32m    463\u001b[0m         \u001b[1;32mtry\u001b[0m\u001b[1;33m:\u001b[0m\u001b[1;33m\u001b[0m\u001b[0m\n\u001b[1;32m--> 464\u001b[1;33m             \u001b[0mself\u001b[0m\u001b[1;33m.\u001b[0m\u001b[0mfigure\u001b[0m\u001b[1;33m.\u001b[0m\u001b[0mdraw\u001b[0m\u001b[1;33m(\u001b[0m\u001b[0mself\u001b[0m\u001b[1;33m.\u001b[0m\u001b[0mrenderer\u001b[0m\u001b[1;33m)\u001b[0m\u001b[1;33m\u001b[0m\u001b[0m\n\u001b[0m\u001b[0;32m    465\u001b[0m         \u001b[1;32mfinally\u001b[0m\u001b[1;33m:\u001b[0m\u001b[1;33m\u001b[0m\u001b[0m\n\u001b[0;32m    466\u001b[0m             \u001b[0mRendererAgg\u001b[0m\u001b[1;33m.\u001b[0m\u001b[0mlock\u001b[0m\u001b[1;33m.\u001b[0m\u001b[0mrelease\u001b[0m\u001b[1;33m(\u001b[0m\u001b[1;33m)\u001b[0m\u001b[1;33m\u001b[0m\u001b[0m\n",
      "\u001b[1;32mc:\\python36\\lib\\site-packages\\matplotlib\\artist.py\u001b[0m in \u001b[0;36mdraw_wrapper\u001b[1;34m(artist, renderer, *args, **kwargs)\u001b[0m\n\u001b[0;32m     61\u001b[0m     \u001b[1;32mdef\u001b[0m \u001b[0mdraw_wrapper\u001b[0m\u001b[1;33m(\u001b[0m\u001b[0martist\u001b[0m\u001b[1;33m,\u001b[0m \u001b[0mrenderer\u001b[0m\u001b[1;33m,\u001b[0m \u001b[1;33m*\u001b[0m\u001b[0margs\u001b[0m\u001b[1;33m,\u001b[0m \u001b[1;33m**\u001b[0m\u001b[0mkwargs\u001b[0m\u001b[1;33m)\u001b[0m\u001b[1;33m:\u001b[0m\u001b[1;33m\u001b[0m\u001b[0m\n\u001b[0;32m     62\u001b[0m         \u001b[0mbefore\u001b[0m\u001b[1;33m(\u001b[0m\u001b[0martist\u001b[0m\u001b[1;33m,\u001b[0m \u001b[0mrenderer\u001b[0m\u001b[1;33m)\u001b[0m\u001b[1;33m\u001b[0m\u001b[0m\n\u001b[1;32m---> 63\u001b[1;33m         \u001b[0mdraw\u001b[0m\u001b[1;33m(\u001b[0m\u001b[0martist\u001b[0m\u001b[1;33m,\u001b[0m \u001b[0mrenderer\u001b[0m\u001b[1;33m,\u001b[0m \u001b[1;33m*\u001b[0m\u001b[0margs\u001b[0m\u001b[1;33m,\u001b[0m \u001b[1;33m**\u001b[0m\u001b[0mkwargs\u001b[0m\u001b[1;33m)\u001b[0m\u001b[1;33m\u001b[0m\u001b[0m\n\u001b[0m\u001b[0;32m     64\u001b[0m         \u001b[0mafter\u001b[0m\u001b[1;33m(\u001b[0m\u001b[0martist\u001b[0m\u001b[1;33m,\u001b[0m \u001b[0mrenderer\u001b[0m\u001b[1;33m)\u001b[0m\u001b[1;33m\u001b[0m\u001b[0m\n\u001b[0;32m     65\u001b[0m \u001b[1;33m\u001b[0m\u001b[0m\n",
      "\u001b[1;32mc:\\python36\\lib\\site-packages\\matplotlib\\figure.py\u001b[0m in \u001b[0;36mdraw\u001b[1;34m(self, renderer)\u001b[0m\n\u001b[0;32m   1141\u001b[0m \u001b[1;33m\u001b[0m\u001b[0m\n\u001b[0;32m   1142\u001b[0m             mimage._draw_list_compositing_images(\n\u001b[1;32m-> 1143\u001b[1;33m                 renderer, self, dsu, self.suppressComposite)\n\u001b[0m\u001b[0;32m   1144\u001b[0m \u001b[1;33m\u001b[0m\u001b[0m\n\u001b[0;32m   1145\u001b[0m             \u001b[0mrenderer\u001b[0m\u001b[1;33m.\u001b[0m\u001b[0mclose_group\u001b[0m\u001b[1;33m(\u001b[0m\u001b[1;34m'figure'\u001b[0m\u001b[1;33m)\u001b[0m\u001b[1;33m\u001b[0m\u001b[0m\n",
      "\u001b[1;32mc:\\python36\\lib\\site-packages\\matplotlib\\image.py\u001b[0m in \u001b[0;36m_draw_list_compositing_images\u001b[1;34m(renderer, parent, dsu, suppress_composite)\u001b[0m\n\u001b[0;32m    137\u001b[0m     \u001b[1;32mif\u001b[0m \u001b[0mnot_composite\u001b[0m \u001b[1;32mor\u001b[0m \u001b[1;32mnot\u001b[0m \u001b[0mhas_images\u001b[0m\u001b[1;33m:\u001b[0m\u001b[1;33m\u001b[0m\u001b[0m\n\u001b[0;32m    138\u001b[0m         \u001b[1;32mfor\u001b[0m \u001b[0mzorder\u001b[0m\u001b[1;33m,\u001b[0m \u001b[0ma\u001b[0m \u001b[1;32min\u001b[0m \u001b[0mdsu\u001b[0m\u001b[1;33m:\u001b[0m\u001b[1;33m\u001b[0m\u001b[0m\n\u001b[1;32m--> 139\u001b[1;33m             \u001b[0ma\u001b[0m\u001b[1;33m.\u001b[0m\u001b[0mdraw\u001b[0m\u001b[1;33m(\u001b[0m\u001b[0mrenderer\u001b[0m\u001b[1;33m)\u001b[0m\u001b[1;33m\u001b[0m\u001b[0m\n\u001b[0m\u001b[0;32m    140\u001b[0m     \u001b[1;32melse\u001b[0m\u001b[1;33m:\u001b[0m\u001b[1;33m\u001b[0m\u001b[0m\n\u001b[0;32m    141\u001b[0m         \u001b[1;31m# Composite any adjacent images together\u001b[0m\u001b[1;33m\u001b[0m\u001b[1;33m\u001b[0m\u001b[0m\n",
      "\u001b[1;32mc:\\python36\\lib\\site-packages\\matplotlib\\artist.py\u001b[0m in \u001b[0;36mdraw_wrapper\u001b[1;34m(artist, renderer, *args, **kwargs)\u001b[0m\n\u001b[0;32m     61\u001b[0m     \u001b[1;32mdef\u001b[0m \u001b[0mdraw_wrapper\u001b[0m\u001b[1;33m(\u001b[0m\u001b[0martist\u001b[0m\u001b[1;33m,\u001b[0m \u001b[0mrenderer\u001b[0m\u001b[1;33m,\u001b[0m \u001b[1;33m*\u001b[0m\u001b[0margs\u001b[0m\u001b[1;33m,\u001b[0m \u001b[1;33m**\u001b[0m\u001b[0mkwargs\u001b[0m\u001b[1;33m)\u001b[0m\u001b[1;33m:\u001b[0m\u001b[1;33m\u001b[0m\u001b[0m\n\u001b[0;32m     62\u001b[0m         \u001b[0mbefore\u001b[0m\u001b[1;33m(\u001b[0m\u001b[0martist\u001b[0m\u001b[1;33m,\u001b[0m \u001b[0mrenderer\u001b[0m\u001b[1;33m)\u001b[0m\u001b[1;33m\u001b[0m\u001b[0m\n\u001b[1;32m---> 63\u001b[1;33m         \u001b[0mdraw\u001b[0m\u001b[1;33m(\u001b[0m\u001b[0martist\u001b[0m\u001b[1;33m,\u001b[0m \u001b[0mrenderer\u001b[0m\u001b[1;33m,\u001b[0m \u001b[1;33m*\u001b[0m\u001b[0margs\u001b[0m\u001b[1;33m,\u001b[0m \u001b[1;33m**\u001b[0m\u001b[0mkwargs\u001b[0m\u001b[1;33m)\u001b[0m\u001b[1;33m\u001b[0m\u001b[0m\n\u001b[0m\u001b[0;32m     64\u001b[0m         \u001b[0mafter\u001b[0m\u001b[1;33m(\u001b[0m\u001b[0martist\u001b[0m\u001b[1;33m,\u001b[0m \u001b[0mrenderer\u001b[0m\u001b[1;33m)\u001b[0m\u001b[1;33m\u001b[0m\u001b[0m\n\u001b[0;32m     65\u001b[0m \u001b[1;33m\u001b[0m\u001b[0m\n",
      "\u001b[1;32mc:\\python36\\lib\\site-packages\\matplotlib\\axes\\_base.py\u001b[0m in \u001b[0;36mdraw\u001b[1;34m(self, renderer, inframe)\u001b[0m\n\u001b[0;32m   2407\u001b[0m             \u001b[0mrenderer\u001b[0m\u001b[1;33m.\u001b[0m\u001b[0mstop_rasterizing\u001b[0m\u001b[1;33m(\u001b[0m\u001b[1;33m)\u001b[0m\u001b[1;33m\u001b[0m\u001b[0m\n\u001b[0;32m   2408\u001b[0m \u001b[1;33m\u001b[0m\u001b[0m\n\u001b[1;32m-> 2409\u001b[1;33m         \u001b[0mmimage\u001b[0m\u001b[1;33m.\u001b[0m\u001b[0m_draw_list_compositing_images\u001b[0m\u001b[1;33m(\u001b[0m\u001b[0mrenderer\u001b[0m\u001b[1;33m,\u001b[0m \u001b[0mself\u001b[0m\u001b[1;33m,\u001b[0m \u001b[0mdsu\u001b[0m\u001b[1;33m)\u001b[0m\u001b[1;33m\u001b[0m\u001b[0m\n\u001b[0m\u001b[0;32m   2410\u001b[0m \u001b[1;33m\u001b[0m\u001b[0m\n\u001b[0;32m   2411\u001b[0m         \u001b[0mrenderer\u001b[0m\u001b[1;33m.\u001b[0m\u001b[0mclose_group\u001b[0m\u001b[1;33m(\u001b[0m\u001b[1;34m'axes'\u001b[0m\u001b[1;33m)\u001b[0m\u001b[1;33m\u001b[0m\u001b[0m\n",
      "\u001b[1;32mc:\\python36\\lib\\site-packages\\matplotlib\\image.py\u001b[0m in \u001b[0;36m_draw_list_compositing_images\u001b[1;34m(renderer, parent, dsu, suppress_composite)\u001b[0m\n\u001b[0;32m    137\u001b[0m     \u001b[1;32mif\u001b[0m \u001b[0mnot_composite\u001b[0m \u001b[1;32mor\u001b[0m \u001b[1;32mnot\u001b[0m \u001b[0mhas_images\u001b[0m\u001b[1;33m:\u001b[0m\u001b[1;33m\u001b[0m\u001b[0m\n\u001b[0;32m    138\u001b[0m         \u001b[1;32mfor\u001b[0m \u001b[0mzorder\u001b[0m\u001b[1;33m,\u001b[0m \u001b[0ma\u001b[0m \u001b[1;32min\u001b[0m \u001b[0mdsu\u001b[0m\u001b[1;33m:\u001b[0m\u001b[1;33m\u001b[0m\u001b[0m\n\u001b[1;32m--> 139\u001b[1;33m             \u001b[0ma\u001b[0m\u001b[1;33m.\u001b[0m\u001b[0mdraw\u001b[0m\u001b[1;33m(\u001b[0m\u001b[0mrenderer\u001b[0m\u001b[1;33m)\u001b[0m\u001b[1;33m\u001b[0m\u001b[0m\n\u001b[0m\u001b[0;32m    140\u001b[0m     \u001b[1;32melse\u001b[0m\u001b[1;33m:\u001b[0m\u001b[1;33m\u001b[0m\u001b[0m\n\u001b[0;32m    141\u001b[0m         \u001b[1;31m# Composite any adjacent images together\u001b[0m\u001b[1;33m\u001b[0m\u001b[1;33m\u001b[0m\u001b[0m\n",
      "\u001b[1;32mc:\\python36\\lib\\site-packages\\matplotlib\\artist.py\u001b[0m in \u001b[0;36mdraw_wrapper\u001b[1;34m(artist, renderer, *args, **kwargs)\u001b[0m\n\u001b[0;32m     61\u001b[0m     \u001b[1;32mdef\u001b[0m \u001b[0mdraw_wrapper\u001b[0m\u001b[1;33m(\u001b[0m\u001b[0martist\u001b[0m\u001b[1;33m,\u001b[0m \u001b[0mrenderer\u001b[0m\u001b[1;33m,\u001b[0m \u001b[1;33m*\u001b[0m\u001b[0margs\u001b[0m\u001b[1;33m,\u001b[0m \u001b[1;33m**\u001b[0m\u001b[0mkwargs\u001b[0m\u001b[1;33m)\u001b[0m\u001b[1;33m:\u001b[0m\u001b[1;33m\u001b[0m\u001b[0m\n\u001b[0;32m     62\u001b[0m         \u001b[0mbefore\u001b[0m\u001b[1;33m(\u001b[0m\u001b[0martist\u001b[0m\u001b[1;33m,\u001b[0m \u001b[0mrenderer\u001b[0m\u001b[1;33m)\u001b[0m\u001b[1;33m\u001b[0m\u001b[0m\n\u001b[1;32m---> 63\u001b[1;33m         \u001b[0mdraw\u001b[0m\u001b[1;33m(\u001b[0m\u001b[0martist\u001b[0m\u001b[1;33m,\u001b[0m \u001b[0mrenderer\u001b[0m\u001b[1;33m,\u001b[0m \u001b[1;33m*\u001b[0m\u001b[0margs\u001b[0m\u001b[1;33m,\u001b[0m \u001b[1;33m**\u001b[0m\u001b[0mkwargs\u001b[0m\u001b[1;33m)\u001b[0m\u001b[1;33m\u001b[0m\u001b[0m\n\u001b[0m\u001b[0;32m     64\u001b[0m         \u001b[0mafter\u001b[0m\u001b[1;33m(\u001b[0m\u001b[0martist\u001b[0m\u001b[1;33m,\u001b[0m \u001b[0mrenderer\u001b[0m\u001b[1;33m)\u001b[0m\u001b[1;33m\u001b[0m\u001b[0m\n\u001b[0;32m     65\u001b[0m \u001b[1;33m\u001b[0m\u001b[0m\n",
      "\u001b[1;32mc:\\python36\\lib\\site-packages\\matplotlib\\image.py\u001b[0m in \u001b[0;36mdraw\u001b[1;34m(self, renderer, *args, **kwargs)\u001b[0m\n\u001b[0;32m    493\u001b[0m         \u001b[1;32melse\u001b[0m\u001b[1;33m:\u001b[0m\u001b[1;33m\u001b[0m\u001b[0m\n\u001b[0;32m    494\u001b[0m             im, l, b, trans = self.make_image(\n\u001b[1;32m--> 495\u001b[1;33m                 renderer, renderer.get_image_magnification())\n\u001b[0m\u001b[0;32m    496\u001b[0m             \u001b[1;32mif\u001b[0m \u001b[0mim\u001b[0m \u001b[1;32mis\u001b[0m \u001b[1;32mnot\u001b[0m \u001b[1;32mNone\u001b[0m\u001b[1;33m:\u001b[0m\u001b[1;33m\u001b[0m\u001b[0m\n\u001b[0;32m    497\u001b[0m                 \u001b[0mrenderer\u001b[0m\u001b[1;33m.\u001b[0m\u001b[0mdraw_image\u001b[0m\u001b[1;33m(\u001b[0m\u001b[0mgc\u001b[0m\u001b[1;33m,\u001b[0m \u001b[0ml\u001b[0m\u001b[1;33m,\u001b[0m \u001b[0mb\u001b[0m\u001b[1;33m,\u001b[0m \u001b[0mim\u001b[0m\u001b[1;33m)\u001b[0m\u001b[1;33m\u001b[0m\u001b[0m\n",
      "\u001b[1;32mc:\\python36\\lib\\site-packages\\matplotlib\\image.py\u001b[0m in \u001b[0;36mmake_image\u001b[1;34m(self, renderer, magnification, unsampled)\u001b[0m\n\u001b[0;32m    717\u001b[0m         return self._make_image(\n\u001b[0;32m    718\u001b[0m             \u001b[0mself\u001b[0m\u001b[1;33m.\u001b[0m\u001b[0m_A\u001b[0m\u001b[1;33m,\u001b[0m \u001b[0mbbox\u001b[0m\u001b[1;33m,\u001b[0m \u001b[0mtransformed_bbox\u001b[0m\u001b[1;33m,\u001b[0m \u001b[0mself\u001b[0m\u001b[1;33m.\u001b[0m\u001b[0maxes\u001b[0m\u001b[1;33m.\u001b[0m\u001b[0mbbox\u001b[0m\u001b[1;33m,\u001b[0m \u001b[0mmagnification\u001b[0m\u001b[1;33m,\u001b[0m\u001b[1;33m\u001b[0m\u001b[0m\n\u001b[1;32m--> 719\u001b[1;33m             unsampled=unsampled)\n\u001b[0m\u001b[0;32m    720\u001b[0m \u001b[1;33m\u001b[0m\u001b[0m\n\u001b[0;32m    721\u001b[0m     \u001b[1;32mdef\u001b[0m \u001b[0m_check_unsampled_image\u001b[0m\u001b[1;33m(\u001b[0m\u001b[0mself\u001b[0m\u001b[1;33m,\u001b[0m \u001b[0mrenderer\u001b[0m\u001b[1;33m)\u001b[0m\u001b[1;33m:\u001b[0m\u001b[1;33m\u001b[0m\u001b[0m\n",
      "\u001b[1;32mc:\\python36\\lib\\site-packages\\matplotlib\\image.py\u001b[0m in \u001b[0;36m_make_image\u001b[1;34m(self, A, in_bbox, out_bbox, clip_bbox, magnification, unsampled, round_to_pixel_border)\u001b[0m\n\u001b[0;32m    409\u001b[0m                 \u001b[0mA\u001b[0m\u001b[1;33m,\u001b[0m \u001b[0moutput\u001b[0m\u001b[1;33m,\u001b[0m \u001b[0mt\u001b[0m\u001b[1;33m,\u001b[0m \u001b[0m_interpd_\u001b[0m\u001b[1;33m[\u001b[0m\u001b[0mself\u001b[0m\u001b[1;33m.\u001b[0m\u001b[0mget_interpolation\u001b[0m\u001b[1;33m(\u001b[0m\u001b[1;33m)\u001b[0m\u001b[1;33m]\u001b[0m\u001b[1;33m,\u001b[0m\u001b[1;33m\u001b[0m\u001b[0m\n\u001b[0;32m    410\u001b[0m                 \u001b[0mself\u001b[0m\u001b[1;33m.\u001b[0m\u001b[0mget_resample\u001b[0m\u001b[1;33m(\u001b[0m\u001b[1;33m)\u001b[0m\u001b[1;33m,\u001b[0m \u001b[0malpha\u001b[0m\u001b[1;33m,\u001b[0m\u001b[1;33m\u001b[0m\u001b[0m\n\u001b[1;32m--> 411\u001b[1;33m                 self.get_filternorm() or 0.0, self.get_filterrad() or 0.0)\n\u001b[0m\u001b[0;32m    412\u001b[0m \u001b[1;33m\u001b[0m\u001b[0m\n\u001b[0;32m    413\u001b[0m             \u001b[1;32mif\u001b[0m \u001b[0mcreated_rgba_mask\u001b[0m\u001b[1;33m:\u001b[0m\u001b[1;33m\u001b[0m\u001b[0m\n",
      "\u001b[1;31mKeyboardInterrupt\u001b[0m: "
     ]
    }
   ],
   "source": [
    "pna.set_xlim(9.72e9, 9.72e9)\n",
    "pna.set_bandwidth(10)\n",
    "pna.set_averages(1)\n",
    "pna.set_nop(1)\n",
    "pna.set_power(-60)\n",
    "lo1.set_power(10)\n",
    "lo1.set_status(0)\n",
    "\n",
    "ex_freqs = np.linspace(6e9, 12e9, 201)\n",
    "currents = np.linspace(-0.01, 0.01, 101)\n",
    "sweep.sweep(pna, (currents, current_src.set_current, 'Qubit control 1 current'),\\\n",
    "                 (ex_freqs, lo1.set_frequency, 'Excitation frequency'),\\\n",
    "                filename='Hivemind 2T spectrum Q1')"
   ]
  },
  {
   "cell_type": "code",
   "execution_count": null,
   "metadata": {
    "collapsed": true
   },
   "outputs": [],
   "source": []
  }
 ],
 "metadata": {
  "kernelspec": {
   "display_name": "Python 3",
   "language": "python",
   "name": "python3"
  },
  "language_info": {
   "codemirror_mode": {
    "name": "ipython",
    "version": 3
   },
   "file_extension": ".py",
   "mimetype": "text/x-python",
   "name": "python",
   "nbconvert_exporter": "python",
   "pygments_lexer": "ipython3",
   "version": "3.6.1"
  }
 },
 "nbformat": 4,
 "nbformat_minor": 2
}
