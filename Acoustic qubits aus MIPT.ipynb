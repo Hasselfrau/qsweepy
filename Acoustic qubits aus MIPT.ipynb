{
 "cells": [
  {
   "cell_type": "markdown",
   "metadata": {},
   "source": [
    "### Запуск QtLab"
   ]
  },
  {
   "cell_type": "code",
   "execution_count": 96,
   "metadata": {
    "scrolled": true
   },
   "outputs": [],
   "source": [
    "%run D:\\qtlab_replacement\\init.py\n",
    "%matplotlib qt4\n",
    "import matplotlib.pyplot as plt\n",
    "from instruments import *\n",
    "import numpy as np\n",
    "import sweep\n",
    "from save_pkl import *\n",
    "import visa\n",
    "#import pikle"
   ]
  },
  {
   "cell_type": "code",
   "execution_count": 4,
   "metadata": {
    "collapsed": true
   },
   "outputs": [],
   "source": [
    "from resonator_tools import circuit"
   ]
  },
  {
   "cell_type": "code",
   "execution_count": 5,
   "metadata": {
    "collapsed": true
   },
   "outputs": [],
   "source": [
    "import pylab\n",
    "from mpl_toolkits.mplot3d import Axes3D\n",
    "from matplotlib.colors import LinearSegmentedColormap\n",
    "import numpy as np\n",
    "\n",
    "import matplotlib.pyplot as plt\n",
    "import matplotlib.cm as cm\n",
    "import pickle\n",
    "\n",
    "import numpy as np\n",
    "#%matplotlib inline\n",
    "from matplotlib import pyplot as plt\n",
    "import matplotlib.ticker"
   ]
  },
  {
   "cell_type": "markdown",
   "metadata": {},
   "source": [
    "# Спектроскопия"
   ]
  },
  {
   "cell_type": "code",
   "execution_count": null,
   "metadata": {
    "collapsed": true
   },
   "outputs": [],
   "source": [
    "current_src = Yokogawa_GS210(address='gs210')\n",
    "#current = Yokogawa_GS210(address='gs210')\n",
    "pna = Agilent_N5242A('pna', address = 'PNA')\n",
    "lo1 = Agilent_E8257D('lo1', address = 'PSG1')"
   ]
  },
  {
   "cell_type": "code",
   "execution_count": null,
   "metadata": {},
   "outputs": [],
   "source": [
    "# векторный анализатор в режим линейного свипа\n",
    "pna.set_sweep_mode(\"LIN\")"
   ]
  },
  {
   "cell_type": "code",
   "execution_count": null,
   "metadata": {
    "collapsed": true
   },
   "outputs": [],
   "source": [
    "current = Yokogawa_GS210(address='gs210')"
   ]
  },
  {
   "cell_type": "code",
   "execution_count": null,
   "metadata": {},
   "outputs": [],
   "source": [
    "current_src_coil = Yokogawa_GS210(address='gs210_1')"
   ]
  },
  {
   "cell_type": "code",
   "execution_count": null,
   "metadata": {},
   "outputs": [],
   "source": [
    "current_src.get_current()"
   ]
  },
  {
   "cell_type": "markdown",
   "metadata": {},
   "source": [
    "## Резонаторная спектроскопия"
   ]
  },
  {
   "cell_type": "code",
   "execution_count": null,
   "metadata": {},
   "outputs": [],
   "source": [
    "current_src.set_current(-51.5e-6)\n",
    "pna.set_power(-30)"
   ]
  },
  {
   "cell_type": "code",
   "execution_count": null,
   "metadata": {},
   "outputs": [],
   "source": [
    "current_src.set_status(1)"
   ]
  },
  {
   "cell_type": "code",
   "execution_count": null,
   "metadata": {
    "collapsed": true
   },
   "outputs": [],
   "source": [
    "pna.set_autoscale()"
   ]
  },
  {
   "cell_type": "code",
   "execution_count": null,
   "metadata": {},
   "outputs": [],
   "source": [
    "pna.set_centerfreq(3.176453e9)\n",
    "pna.set_span(60e6)\n",
    "pna.set_bandwidth(3)\n",
    "pna.set_averages(1)\n",
    "pna.set_nop(1201)\n",
    "pna.set_power(-30)"
   ]
  },
  {
   "cell_type": "code",
   "execution_count": null,
   "metadata": {},
   "outputs": [],
   "source": [
    "currents = np.linspace(-120e-6, -70e-6, 91)\n",
    "pna.set_xlim(3.16e9, 3.2e9)\n",
    "pna.set_bandwidth(100)\n",
    "pna.set_averages(1)\n",
    "pna.set_nop(181)\n",
    "pna.set_power(-30)\n",
    "sweep.sweep(pna, (currents, current_src.set_current, 'Coil current'), filename='Acouston_2 spectrum_-30dB')"
   ]
  },
  {
   "cell_type": "code",
   "execution_count": null,
   "metadata": {},
   "outputs": [],
   "source": [
    "plt.plot(20*np.log10(pna.get_freqpoints()[0]))"
   ]
  },
  {
   "cell_type": "code",
   "execution_count": null,
   "metadata": {},
   "outputs": [],
   "source": [
    "res_data = pna.get_tracedata()\n",
    "res_freqs = pna.get_freqpoints()\n",
    "plt.figure(\"S21_amp\")\n",
    "plt.plot(res_freqs, 20*np.log10(res_data[0]))\n",
    "plt.figure(\"S21_ph\")\n",
    "plt.plot(res_freqs, res_data[1])\n",
    "#save_pkl_noplt('res_pna_', {\"Amp\": res_data[0] , \"Ph\": res_data[1], \"freqs\": res_freqs } )"
   ]
  },
  {
   "cell_type": "code",
   "execution_count": null,
   "metadata": {},
   "outputs": [],
   "source": [
    "dir = \"D:/qtlab/ReiData/data/2017-05-09/\""
   ]
  },
  {
   "cell_type": "code",
   "execution_count": null,
   "metadata": {},
   "outputs": [],
   "source": [
    "plt.ioff()\n",
    "path = get_location()\n",
    "mk_dir()\n",
    "fig_path = path[0]+\"\\\\\"+path[1]+\"\\\\\"+path[2]\n",
    "plt.figure(\"S21_amp\")\n",
    "plt.plot(res_freqs, 20*np.log10(res_data[0]))\n",
    "plt.savefig(fig_path+\"\\\\S21_amp.png\", format= \"png\")\n",
    "plt.close()\n",
    "plt.figure(\"S21_ph\")\n",
    "plt.plot(res_freqs, res_data[1])\n",
    "plt.savefig(fig_path+\"\\\\S21_phase.png\", format= \"png\")\n",
    "plt.close()\n",
    "save_pkl({\"type\":\"S21_out_of_center_anticross_i-51_5\"}, {\"F\":res_freqs, \"S21\":res_data, \"P\":-30}, plot=False)\n",
    "plt.ion()"
   ]
  },
  {
   "cell_type": "code",
   "execution_count": null,
   "metadata": {
    "collapsed": true
   },
   "outputs": [],
   "source": [
    "currents = np.linspace(-290e-6, -260e-6, 101)\n",
    "pna.set_xlim(3.16e9, 3.20e9)\n",
    "pna.set_bandwidth(10)\n",
    "pna.set_averages(1)\n",
    "pna.set_nop(201)\n",
    "pna.set_power(-25)\n",
    "sweep.sweep(pna, (currents, current_src.set_current, 'Coil current'), filename='Acouston_2 spectrum_-25dB')"
   ]
  },
  {
   "cell_type": "code",
   "execution_count": null,
   "metadata": {},
   "outputs": [],
   "source": [
    "pna.set_nop(1)\n",
    "pna.set_xlim(3.176453e9, 3.176453e9)\n",
    "current_src.set_current(-667e-6)"
   ]
  },
  {
   "cell_type": "code",
   "execution_count": null,
   "metadata": {},
   "outputs": [],
   "source": [
    "powers = np.arange(-10,15,1.)\n",
    "freq_2tone = np.linspace(3e9,5e9, 201)\n",
    "sweep.sweep(pna, (powers, lo1.set_power, 'lo1 power'), \n",
    "            (freq_2tone, lo1.set_frequency, 'Exitation Frequency'), filename='Acoustic acousmons 2tone_power_sweep')"
   ]
  },
  {
   "cell_type": "markdown",
   "metadata": {},
   "source": [
    "# 2tone spectroscopy"
   ]
  },
  {
   "cell_type": "code",
   "execution_count": null,
   "metadata": {},
   "outputs": [],
   "source": [
    "pna.set_xlim(3.176453e9, 3.176453e9)\n",
    "pna.set_bandwidth(10)\n",
    "pna.set_averages(1)\n",
    "pna.set_nop(1)\n",
    "pna.set_power(-20)"
   ]
  },
  {
   "cell_type": "code",
   "execution_count": null,
   "metadata": {},
   "outputs": [],
   "source": [
    "lo1.set_status(1)"
   ]
  },
  {
   "cell_type": "code",
   "execution_count": null,
   "metadata": {},
   "outputs": [],
   "source": [
    "freq_2tone = np.linspace(3.12e9, 3.25e9, 31)\n",
    "lo1.set_power(5)\n",
    "currents = np.linspace(-50e-6, -40e-6, 31)"
   ]
  },
  {
   "cell_type": "code",
   "execution_count": null,
   "metadata": {},
   "outputs": [],
   "source": [
    "%matplotlib"
   ]
  },
  {
   "cell_type": "code",
   "execution_count": null,
   "metadata": {},
   "outputs": [],
   "source": [
    "sweep.sweep(pna, (currents, current_src.set_current, 'Coil current'), (freq_2tone, lo1.set_frequency, 'Exitation Frequency'),\n",
    "            filename='Acouston_2_2tone_spectrum_-20dB_exc_5')"
   ]
  },
  {
   "cell_type": "markdown",
   "metadata": {},
   "source": [
    "### Загрузка данных"
   ]
  },
  {
   "cell_type": "code",
   "execution_count": null,
   "metadata": {},
   "outputs": [],
   "source": [
    "filename = 'S-parameter WTJPA Ic6.9uAC3.6pF spectrum'\n",
    "location = 'D:\\\\qtlab\\\\ReiData\\\\data\\\\2017-04-28\\\\19-17-33'\n",
    "data = load_pkl(filename, location=location)[1]"
   ]
  },
  {
   "cell_type": "code",
   "execution_count": null,
   "metadata": {
    "collapsed": true
   },
   "outputs": [],
   "source": [
    "S21 = data['S-parameter'][2]\n",
    "currents = data['S-parameter'][1][0]\n",
    "frequencies = data['S-parameter'][1][1]\n",
    "fitresults = []"
   ]
  },
  {
   "cell_type": "code",
   "execution_count": null,
   "metadata": {
    "scrolled": true
   },
   "outputs": [],
   "source": [
    "for cur_id, cur in enumerate(currents):\n",
    "    fitter = circuit.reflection_port(f_data=frequencies, z_data_raw=S21[cur_id,:])\n",
    "    fitresults.append(fitter.autofit())"
   ]
  },
  {
   "cell_type": "code",
   "execution_count": null,
   "metadata": {},
   "outputs": [],
   "source": [
    "plt.plot(np.real(S21[0,:]))"
   ]
  },
  {
   "cell_type": "code",
   "execution_count": null,
   "metadata": {
    "collapsed": true
   },
   "outputs": [],
   "source": [
    "filename = 'S-parameter WTJPA Ic6.9uAC3.6pF spectrum'\n",
    "location = 'D:\\\\qtlab\\\\ReiData\\\\data\\\\2017-04-28\\\\19-17-33'\n",
    "data = load_pkl(filename, location=location)[1]"
   ]
  },
  {
   "cell_type": "markdown",
   "metadata": {},
   "source": [
    "# Acous"
   ]
  },
  {
   "cell_type": "code",
   "execution_count": null,
   "metadata": {
    "collapsed": true
   },
   "outputs": [],
   "source": [
    "#center"
   ]
  },
  {
   "cell_type": "code",
   "execution_count": null,
   "metadata": {},
   "outputs": [],
   "source": [
    "filename = 'S21_out_of_center_anticross_-50m'\n",
    "location = 'D:\\\\qtlab\\\\ReiData\\\\data\\\\2017-05-11\\\\00-33-41'\n",
    "data_1 = load_pkl(filename, location=location)"
   ]
  },
  {
   "cell_type": "code",
   "execution_count": null,
   "metadata": {
    "collapsed": true
   },
   "outputs": [],
   "source": [
    "#out_of_center"
   ]
  },
  {
   "cell_type": "code",
   "execution_count": null,
   "metadata": {},
   "outputs": [],
   "source": [
    "filename = 'S21_out_of_center_anticross_i-51_5'\n",
    "location = 'D:\\\\qtlab\\\\ReiData\\\\data\\\\2017-05-11\\\\01-52-29'\n",
    "data_2 = load_pkl(filename, location=location)"
   ]
  },
  {
   "cell_type": "code",
   "execution_count": null,
   "metadata": {},
   "outputs": [],
   "source": [
    "data_1"
   ]
  },
  {
   "cell_type": "code",
   "execution_count": null,
   "metadata": {},
   "outputs": [],
   "source": [
    "S21_1 = data_1[1]['S21']\n",
    "frequencies_1 = data_1[1]['F']"
   ]
  },
  {
   "cell_type": "code",
   "execution_count": null,
   "metadata": {
    "collapsed": true
   },
   "outputs": [],
   "source": [
    "S21_11 = data_1[0]['S21']\n",
    "frequencies_1 = data_1[1]['F']"
   ]
  },
  {
   "cell_type": "code",
   "execution_count": null,
   "metadata": {},
   "outputs": [],
   "source": [
    "S21_2 = data_2[1]['S21']\n",
    "frequencies_2 = data_2[1]['F']"
   ]
  },
  {
   "cell_type": "code",
   "execution_count": null,
   "metadata": {},
   "outputs": [],
   "source": [
    "frequencies_2"
   ]
  },
  {
   "cell_type": "code",
   "execution_count": null,
   "metadata": {},
   "outputs": [],
   "source": [
    "plt.plot(frequencies_2,S21_1[0]/S21_2[0])"
   ]
  },
  {
   "cell_type": "code",
   "execution_count": null,
   "metadata": {},
   "outputs": [],
   "source": [
    "plt.figure(\"Dispers_shift\")\n",
    "plt.plot(frequencies_2, S21_1[0]-S21_2[0])"
   ]
  },
  {
   "cell_type": "code",
   "execution_count": null,
   "metadata": {
    "collapsed": true
   },
   "outputs": [],
   "source": [
    "plt.ioff()\n",
    "path = get_location()\n",
    "mk_dir()\n",
    "fig_path = path[0]+\"\\\\\"+path[1]+\"\\\\\"+path[2]\n",
    "plt.figure(\"S21_anticross-non_anticross\")\n",
    "plt.plot(res_freqs, S21_1[0]-S21_2[0])\n",
    "plt.savefig(fig_path+\"\\\\S21_amp_d_shift.png\", format= \"png\")\n",
    "plt.close()\n",
    "save_pkl({\"type\":\"S21_center-out_anticross\"}, {\"F\":res_freqs, \"S21\":S21_1[0]-S21_2[0], \"P\":-30}, plot=False)\n",
    "plt.ion()"
   ]
  },
  {
   "cell_type": "code",
   "execution_count": null,
   "metadata": {},
   "outputs": [],
   "source": [
    "filename = 'S21_center-out_anticross'\n",
    "location = 'D:\\\\qtlab\\\\ReiData\\\\data\\\\2017-05-11\\\\00-44-48'\n",
    "data_1 = load_pkl(filename, location=location)"
   ]
  },
  {
   "cell_type": "code",
   "execution_count": null,
   "metadata": {
    "collapsed": true
   },
   "outputs": [],
   "source": [
    "S21_3 = data_1[1]['S21']\n",
    "frequencies_3 = data_1[1]['F']"
   ]
  },
  {
   "cell_type": "code",
   "execution_count": null,
   "metadata": {},
   "outputs": [],
   "source": [
    "S21_3\n"
   ]
  },
  {
   "cell_type": "code",
   "execution_count": null,
   "metadata": {},
   "outputs": [],
   "source": [
    "plt.plot(frequencies_2, S21_3)"
   ]
  },
  {
   "cell_type": "code",
   "execution_count": null,
   "metadata": {},
   "outputs": [],
   "source": [
    "plt.figure(\"Check\")\n",
    "plt.plot(frequencies_2, S21_1[0])\n",
    "plt.plot(frequencies_2, S21_2[0])\n",
    "plt.plot(frequencies_2, S21_1[0]-S21_2[0])"
   ]
  },
  {
   "cell_type": "code",
   "execution_count": 23,
   "metadata": {
    "collapsed": true
   },
   "outputs": [],
   "source": [
    "# trahsfer to .mat"
   ]
  },
  {
   "cell_type": "code",
   "execution_count": 102,
   "metadata": {},
   "outputs": [
    {
     "name": "stdout",
     "output_type": "stream",
     "text": [
      "D:\\qtlab\\ReiData\\data\\2017-05-10\\18-19-08_ant_cen/S21_center_anticross.pkl\n"
     ]
    }
   ],
   "source": [
    "filename = 'S21_center_anticross'\n",
    "location = 'D:\\\\qtlab\\\\ReiData\\\\data\\\\2017-05-10\\\\18-19-08_ant_cen'\n",
    "data_1 = load_pkl(filename, location=location)"
   ]
  },
  {
   "cell_type": "code",
   "execution_count": 105,
   "metadata": {},
   "outputs": [
    {
     "data": {
      "text/plain": [
       "(2, {'F': array([  3.14645300e+09,   3.14650300e+09,   3.14655300e+09, ...,\n",
       "           3.20635300e+09,   3.20640300e+09,   3.20645300e+09]),\n",
       "  'P': -30,\n",
       "  'S21': (array([  2.90129316e-04,   2.64231506e-04,   2.16562569e-04, ...,\n",
       "            6.98972024e-05,   4.95372536e-05,   4.05136483e-05]),\n",
       "   array([-0.57767184, -0.70808248, -0.65630912, ...,  5.12996144,\n",
       "           5.50965438,  4.29662703]))}, {'type': 'S21_center_anticross'})"
      ]
     },
     "execution_count": 105,
     "metadata": {},
     "output_type": "execute_result"
    }
   ],
   "source": [
    "data_1"
   ]
  },
  {
   "cell_type": "code",
   "execution_count": 106,
   "metadata": {},
   "outputs": [],
   "source": [
    "import numpy, scipy.io\n",
    "scipy.io.savemat('D:\\\\qtlab\\\\ReiData\\\\data\\\\2017-05-12\\\\S21_1D.mat', mdict={'S21vsF': data_1[1]})"
   ]
  },
  {
   "cell_type": "markdown",
   "metadata": {},
   "source": [
    "# Cutting plot"
   ]
  },
  {
   "cell_type": "code",
   "execution_count": 107,
   "metadata": {},
   "outputs": [
    {
     "name": "stdout",
     "output_type": "stream",
     "text": [
      "D:\\qtlab\\ReiData\\data\\2017-05-11\\19-21-15/S-parameter anticrossing.pkl\n"
     ]
    }
   ],
   "source": [
    "filename = 'S-parameter anticrossing'\n",
    "location = 'D:\\\\qtlab\\\\ReiData\\\\data\\\\2017-05-11\\\\19-21-15'\n",
    "data_1 = load_pkl(filename, location=location)"
   ]
  },
  {
   "cell_type": "code",
   "execution_count": 108,
   "metadata": {},
   "outputs": [
    {
     "data": {
      "text/plain": [
       "(2,\n",
       " {'S-parameter': (('Coil current', 'Frequency'),\n",
       "   (array([ -5.20000000e-05,  -5.19500000e-05,  -5.19000000e-05,\n",
       "            -5.18500000e-05,  -5.18000000e-05,  -5.17500000e-05,\n",
       "            -5.17000000e-05,  -5.16500000e-05,  -5.16000000e-05,\n",
       "            -5.15500000e-05,  -5.15000000e-05,  -5.14500000e-05,\n",
       "            -5.14000000e-05,  -5.13500000e-05,  -5.13000000e-05,\n",
       "            -5.12500000e-05,  -5.12000000e-05,  -5.11500000e-05,\n",
       "            -5.11000000e-05,  -5.10500000e-05,  -5.10000000e-05,\n",
       "            -5.09500000e-05,  -5.09000000e-05,  -5.08500000e-05,\n",
       "            -5.08000000e-05,  -5.07500000e-05,  -5.07000000e-05,\n",
       "            -5.06500000e-05,  -5.06000000e-05,  -5.05500000e-05,\n",
       "            -5.05000000e-05,  -5.04500000e-05,  -5.04000000e-05,\n",
       "            -5.03500000e-05,  -5.03000000e-05,  -5.02500000e-05,\n",
       "            -5.02000000e-05,  -5.01500000e-05,  -5.01000000e-05,\n",
       "            -5.00500000e-05,  -5.00000000e-05,  -4.99500000e-05,\n",
       "            -4.99000000e-05,  -4.98500000e-05,  -4.98000000e-05,\n",
       "            -4.97500000e-05,  -4.97000000e-05,  -4.96500000e-05,\n",
       "            -4.96000000e-05,  -4.95500000e-05,  -4.95000000e-05,\n",
       "            -4.94500000e-05,  -4.94000000e-05,  -4.93500000e-05,\n",
       "            -4.93000000e-05,  -4.92500000e-05,  -4.92000000e-05,\n",
       "            -4.91500000e-05,  -4.91000000e-05,  -4.90500000e-05,\n",
       "            -4.90000000e-05,  -4.89500000e-05,  -4.89000000e-05,\n",
       "            -4.88500000e-05,  -4.88000000e-05,  -4.87500000e-05,\n",
       "            -4.87000000e-05,  -4.86500000e-05,  -4.86000000e-05,\n",
       "            -4.85500000e-05,  -4.85000000e-05,  -4.84500000e-05,\n",
       "            -4.84000000e-05,  -4.83500000e-05,  -4.83000000e-05,\n",
       "            -4.82500000e-05,  -4.82000000e-05,  -4.81500000e-05,\n",
       "            -4.81000000e-05,  -4.80500000e-05,  -4.80000000e-05,\n",
       "            -4.79500000e-05,  -4.79000000e-05,  -4.78500000e-05,\n",
       "            -4.78000000e-05,  -4.77500000e-05,  -4.77000000e-05,\n",
       "            -4.76500000e-05,  -4.76000000e-05,  -4.75500000e-05,\n",
       "            -4.75000000e-05,  -4.74500000e-05,  -4.74000000e-05,\n",
       "            -4.73500000e-05,  -4.73000000e-05,  -4.72500000e-05,\n",
       "            -4.72000000e-05,  -4.71500000e-05,  -4.71000000e-05,\n",
       "            -4.70500000e-05,  -4.70000000e-05,  -4.69500000e-05,\n",
       "            -4.69000000e-05,  -4.68500000e-05,  -4.68000000e-05,\n",
       "            -4.67500000e-05,  -4.67000000e-05,  -4.66500000e-05,\n",
       "            -4.66000000e-05,  -4.65500000e-05,  -4.65000000e-05,\n",
       "            -4.64500000e-05,  -4.64000000e-05,  -4.63500000e-05,\n",
       "            -4.63000000e-05,  -4.62500000e-05,  -4.62000000e-05,\n",
       "            -4.61500000e-05,  -4.61000000e-05,  -4.60500000e-05,\n",
       "            -4.60000000e-05,  -4.59500000e-05,  -4.59000000e-05,\n",
       "            -4.58500000e-05,  -4.58000000e-05,  -4.57500000e-05,\n",
       "            -4.57000000e-05,  -4.56500000e-05,  -4.56000000e-05,\n",
       "            -4.55500000e-05,  -4.55000000e-05,  -4.54500000e-05,\n",
       "            -4.54000000e-05,  -4.53500000e-05,  -4.53000000e-05,\n",
       "            -4.52500000e-05,  -4.52000000e-05,  -4.51500000e-05,\n",
       "            -4.51000000e-05,  -4.50500000e-05,  -4.50000000e-05,\n",
       "            -4.49500000e-05,  -4.49000000e-05,  -4.48500000e-05,\n",
       "            -4.48000000e-05,  -4.47500000e-05,  -4.47000000e-05,\n",
       "            -4.46500000e-05,  -4.46000000e-05,  -4.45500000e-05,\n",
       "            -4.45000000e-05,  -4.44500000e-05,  -4.44000000e-05,\n",
       "            -4.43500000e-05,  -4.43000000e-05,  -4.42500000e-05,\n",
       "            -4.42000000e-05,  -4.41500000e-05,  -4.41000000e-05,\n",
       "            -4.40500000e-05,  -4.40000000e-05,  -4.39500000e-05,\n",
       "            -4.39000000e-05,  -4.38500000e-05,  -4.38000000e-05,\n",
       "            -4.37500000e-05,  -4.37000000e-05,  -4.36500000e-05,\n",
       "            -4.36000000e-05,  -4.35500000e-05,  -4.35000000e-05,\n",
       "            -4.34500000e-05,  -4.34000000e-05,  -4.33500000e-05,\n",
       "            -4.33000000e-05,  -4.32500000e-05,  -4.32000000e-05,\n",
       "            -4.31500000e-05,  -4.31000000e-05,  -4.30500000e-05,\n",
       "            -4.30000000e-05,  -4.29500000e-05,  -4.29000000e-05,\n",
       "            -4.28500000e-05,  -4.28000000e-05,  -4.27500000e-05,\n",
       "            -4.27000000e-05,  -4.26500000e-05,  -4.26000000e-05,\n",
       "            -4.25500000e-05,  -4.25000000e-05,  -4.24500000e-05,\n",
       "            -4.24000000e-05,  -4.23500000e-05,  -4.23000000e-05,\n",
       "            -4.22500000e-05,  -4.22000000e-05,  -4.21500000e-05,\n",
       "            -4.21000000e-05,  -4.20500000e-05,  -4.20000000e-05]),\n",
       "    array([  3.15145300e+09,   3.15170426e+09,   3.15195551e+09,\n",
       "             3.15220677e+09,   3.15245803e+09,   3.15270928e+09,\n",
       "             3.15296054e+09,   3.15321179e+09,   3.15346305e+09,\n",
       "             3.15371431e+09,   3.15396556e+09,   3.15421682e+09,\n",
       "             3.15446808e+09,   3.15471933e+09,   3.15497059e+09,\n",
       "             3.15522184e+09,   3.15547310e+09,   3.15572436e+09,\n",
       "             3.15597561e+09,   3.15622687e+09,   3.15647813e+09,\n",
       "             3.15672938e+09,   3.15698064e+09,   3.15723189e+09,\n",
       "             3.15748315e+09,   3.15773441e+09,   3.15798566e+09,\n",
       "             3.15823692e+09,   3.15848818e+09,   3.15873943e+09,\n",
       "             3.15899069e+09,   3.15924194e+09,   3.15949320e+09,\n",
       "             3.15974446e+09,   3.15999571e+09,   3.16024697e+09,\n",
       "             3.16049823e+09,   3.16074948e+09,   3.16100074e+09,\n",
       "             3.16125199e+09,   3.16150325e+09,   3.16175451e+09,\n",
       "             3.16200576e+09,   3.16225702e+09,   3.16250828e+09,\n",
       "             3.16275953e+09,   3.16301079e+09,   3.16326205e+09,\n",
       "             3.16351330e+09,   3.16376456e+09,   3.16401581e+09,\n",
       "             3.16426707e+09,   3.16451833e+09,   3.16476958e+09,\n",
       "             3.16502084e+09,   3.16527210e+09,   3.16552335e+09,\n",
       "             3.16577461e+09,   3.16602586e+09,   3.16627712e+09,\n",
       "             3.16652838e+09,   3.16677963e+09,   3.16703089e+09,\n",
       "             3.16728215e+09,   3.16753340e+09,   3.16778466e+09,\n",
       "             3.16803591e+09,   3.16828717e+09,   3.16853843e+09,\n",
       "             3.16878968e+09,   3.16904094e+09,   3.16929220e+09,\n",
       "             3.16954345e+09,   3.16979471e+09,   3.17004596e+09,\n",
       "             3.17029722e+09,   3.17054848e+09,   3.17079973e+09,\n",
       "             3.17105099e+09,   3.17130225e+09,   3.17155350e+09,\n",
       "             3.17180476e+09,   3.17205602e+09,   3.17230727e+09,\n",
       "             3.17255853e+09,   3.17280978e+09,   3.17306104e+09,\n",
       "             3.17331230e+09,   3.17356355e+09,   3.17381481e+09,\n",
       "             3.17406607e+09,   3.17431732e+09,   3.17456858e+09,\n",
       "             3.17481983e+09,   3.17507109e+09,   3.17532235e+09,\n",
       "             3.17557360e+09,   3.17582486e+09,   3.17607612e+09,\n",
       "             3.17632737e+09,   3.17657863e+09,   3.17682988e+09,\n",
       "             3.17708114e+09,   3.17733240e+09,   3.17758365e+09,\n",
       "             3.17783491e+09,   3.17808617e+09,   3.17833742e+09,\n",
       "             3.17858868e+09,   3.17883993e+09,   3.17909119e+09,\n",
       "             3.17934245e+09,   3.17959370e+09,   3.17984496e+09,\n",
       "             3.18009622e+09,   3.18034747e+09,   3.18059873e+09,\n",
       "             3.18084998e+09,   3.18110124e+09,   3.18135250e+09,\n",
       "             3.18160375e+09,   3.18185501e+09,   3.18210627e+09,\n",
       "             3.18235752e+09,   3.18260878e+09,   3.18286004e+09,\n",
       "             3.18311129e+09,   3.18336255e+09,   3.18361380e+09,\n",
       "             3.18386506e+09,   3.18411632e+09,   3.18436757e+09,\n",
       "             3.18461883e+09,   3.18487009e+09,   3.18512134e+09,\n",
       "             3.18537260e+09,   3.18562385e+09,   3.18587511e+09,\n",
       "             3.18612637e+09,   3.18637762e+09,   3.18662888e+09,\n",
       "             3.18688014e+09,   3.18713139e+09,   3.18738265e+09,\n",
       "             3.18763390e+09,   3.18788516e+09,   3.18813642e+09,\n",
       "             3.18838767e+09,   3.18863893e+09,   3.18889019e+09,\n",
       "             3.18914144e+09,   3.18939270e+09,   3.18964395e+09,\n",
       "             3.18989521e+09,   3.19014647e+09,   3.19039772e+09,\n",
       "             3.19064898e+09,   3.19090024e+09,   3.19115149e+09,\n",
       "             3.19140275e+09,   3.19165401e+09,   3.19190526e+09,\n",
       "             3.19215652e+09,   3.19240777e+09,   3.19265903e+09,\n",
       "             3.19291029e+09,   3.19316154e+09,   3.19341280e+09,\n",
       "             3.19366406e+09,   3.19391531e+09,   3.19416657e+09,\n",
       "             3.19441782e+09,   3.19466908e+09,   3.19492034e+09,\n",
       "             3.19517159e+09,   3.19542285e+09,   3.19567411e+09,\n",
       "             3.19592536e+09,   3.19617662e+09,   3.19642787e+09,\n",
       "             3.19667913e+09,   3.19693039e+09,   3.19718164e+09,\n",
       "             3.19743290e+09,   3.19768416e+09,   3.19793541e+09,\n",
       "             3.19818667e+09,   3.19843792e+09,   3.19868918e+09,\n",
       "             3.19894044e+09,   3.19919169e+09,   3.19944295e+09,\n",
       "             3.19969421e+09,   3.19994546e+09,   3.20019672e+09,\n",
       "             3.20044797e+09,   3.20069923e+09,   3.20095049e+09,\n",
       "             3.20120174e+09,   3.20145300e+09])),\n",
       "   array([[ -8.22832109e-04 +7.98348992e-05j,\n",
       "            -5.58223634e-04 +6.58327132e-04j,\n",
       "            -2.25034630e-04 +6.30995084e-04j, ...,\n",
       "            -5.30565121e-05 -7.10931636e-05j,\n",
       "            -3.59055525e-06 -1.70801968e-06j,\n",
       "             2.94869205e-05 +2.20920538e-06j],\n",
       "          [ -7.84963137e-04 +2.11147726e-05j,\n",
       "            -5.90721436e-04 +6.72102091e-04j,\n",
       "            -1.62104712e-04 +5.98545827e-04j, ...,\n",
       "             1.06341715e-04 -3.42233834e-05j,\n",
       "             3.54359072e-05 +1.32999685e-05j,\n",
       "            -1.89321599e-05 -7.28222803e-05j],\n",
       "          [ -7.90634658e-04 +6.36366676e-05j,\n",
       "            -5.95931371e-04 +7.37443333e-04j,\n",
       "            -2.06867320e-04 +6.68425928e-04j, ...,\n",
       "            -1.95061530e-05 +3.70050620e-05j,\n",
       "             5.23531235e-05 -1.29548362e-05j,\n",
       "             4.13776870e-05 -3.48654576e-05j],\n",
       "          ..., \n",
       "          [ -7.61601143e-04 +9.99719268e-05j,\n",
       "            -5.40988345e-04 +6.69516856e-04j,\n",
       "            -1.78262577e-04 +6.19616127e-04j, ...,\n",
       "            -1.32988598e-05 +8.28894099e-06j,\n",
       "             5.58566317e-05 -2.11974493e-05j,\n",
       "            -2.63761631e-05 -2.90201497e-05j],\n",
       "          [ -8.23066162e-04 +9.73508286e-05j,\n",
       "            -6.27422298e-04 +6.79915189e-04j,\n",
       "            -1.71685417e-04 +6.08843053e-04j, ...,\n",
       "             3.51519775e-05 -5.41674090e-05j,\n",
       "             1.77807469e-05 -4.87784455e-05j,\n",
       "             1.88620215e-05 -5.26839394e-05j],\n",
       "          [ -8.55002087e-04 +1.40607066e-04j,\n",
       "            -5.75526094e-04 +6.07819355e-04j,\n",
       "            -1.52180161e-04 +6.40676706e-04j, ...,\n",
       "            -1.70714120e-05 -3.16173246e-05j,\n",
       "             4.51867090e-05 +4.50869920e-05j,\n",
       "            -3.19315659e-05 -4.29312640e-05j]]),\n",
       "   {'log': 20})},\n",
       " {'name': 'anticrossing',\n",
       "  'params': ('Coil current', 'Frequency'),\n",
       "  'type': 'S-parameter'})"
      ]
     },
     "execution_count": 108,
     "metadata": {},
     "output_type": "execute_result"
    }
   ],
   "source": [
    "data_1"
   ]
  },
  {
   "cell_type": "code",
   "execution_count": 109,
   "metadata": {},
   "outputs": [
    {
     "name": "stdout",
     "output_type": "stream",
     "text": [
      "(200,) (201,) (201, 200)\n"
     ]
    }
   ],
   "source": [
    "S21 = data_1[1]['S-parameter'][2]\n",
    "f = data_1[1]['S-parameter'][1][1]\n",
    "I = data_1[1]['S-parameter'][1][0]\n",
    "print (f.shape, I.shape, S21.shape)"
   ]
  },
  {
   "cell_type": "code",
   "execution_count": 110,
   "metadata": {},
   "outputs": [
    {
     "data": {
      "text/plain": [
       "<matplotlib.collections.QuadMesh at 0xe6d1ba8>"
      ]
     },
     "execution_count": 110,
     "metadata": {},
     "output_type": "execute_result"
    }
   ],
   "source": [
    "plt.pcolormesh(I, f, np.abs(S21.T))"
   ]
  },
  {
   "cell_type": "code",
   "execution_count": 114,
   "metadata": {},
   "outputs": [
    {
     "data": {
      "text/plain": [
       "[<matplotlib.lines.Line2D at 0xd365cc0>,\n",
       " <matplotlib.lines.Line2D at 0xd365eb8>,\n",
       " <matplotlib.lines.Line2D at 0xd36f0f0>]"
      ]
     },
     "execution_count": 114,
     "metadata": {},
     "output_type": "execute_result"
    }
   ],
   "source": [
    "I_ind = np.argmin(np.abs(I))\n",
    "plt.figure('Abs')\n",
    "plt.plot(f, np.abs(S21[[0, 100, 200],:]).T)\n",
    "plt.figure('Phase')\n",
    "plt.plot(f, np.unwrap(np.angle(S21[[0, 100, 200],:])).T)"
   ]
  },
  {
   "cell_type": "code",
   "execution_count": null,
   "metadata": {
    "collapsed": true
   },
   "outputs": [],
   "source": []
  }
 ],
 "metadata": {
  "kernelspec": {
   "display_name": "Python 3",
   "language": "python",
   "name": "python3"
  },
  "language_info": {
   "codemirror_mode": {
    "name": "ipython",
    "version": 3
   },
   "file_extension": ".py",
   "mimetype": "text/x-python",
   "name": "python",
   "nbconvert_exporter": "python",
   "pygments_lexer": "ipython3",
   "version": "3.6.1"
  }
 },
 "nbformat": 4,
 "nbformat_minor": 1
}
