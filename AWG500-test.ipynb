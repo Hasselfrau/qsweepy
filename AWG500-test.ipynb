{
 "cells": [
  {
   "cell_type": "code",
   "execution_count": 1,
   "metadata": {
    "collapsed": true
   },
   "outputs": [],
   "source": [
    "%run D:\\qtlab_replacement\\init.py\n",
    "%matplotlib qt4\n",
    "import matplotlib.pyplot as plt\n",
    "from instruments import *\n",
    "import numpy as np"
   ]
  },
  {
   "cell_type": "code",
   "execution_count": 2,
   "metadata": {},
   "outputs": [],
   "source": [
    "awg = AWG500('awg',address=1)"
   ]
  },
  {
   "cell_type": "code",
   "execution_count": 3,
   "metadata": {},
   "outputs": [],
   "source": [
    "t = np.arange(0, 50000)*2e-9\n",
    "f=20e6\n",
    "for i in range(0, 7):\n",
    "    awg.LoadRAM(i, (4000*np.sin(2*np.pi*f*t)).astype(int))"
   ]
  },
  {
   "cell_type": "code",
   "execution_count": 4,
   "metadata": {
    "collapsed": true
   },
   "outputs": [],
   "source": [
    "#Включаем всё что надо и выключаем всё что не надо\n",
    "awg_ch_on = [1]\n",
    "awg_ch_off = [ch_id for ch_id in range(7) if ch_id not in awg_ch_on]\n",
    "\n",
    "for ch_id in awg_ch_off:\n",
    "    ch_settings = awg.get_channel_settings(ch_id)\n",
    "    ch_settings['on'] = False\n",
    "    awg.set_channel_settings(ch_id, ch_settings)\n",
    "\n",
    "for ch_id in awg_ch_on:\n",
    "    ch_settings = awg.get_channel_settings(ch_id)\n",
    "    ch_settings['on'] = True\n",
    "    ch_settings['slow'] = 0\n",
    "    ch_settings['mode'] = 'ram'\n",
    "    ch_settings['delay'] = 0\n",
    "    awg.set_channel_settings(ch_id, ch_settings)\n",
    "#хз что\n",
    "awg.ProgTimer(awg.intToBytes([0xfc, 0]))\n",
    "#1 триггер на один период сигнала\n",
    "awg.set_trigger_repeats(1)\n",
    "#Выход триггера\n",
    "awg.set_trigger_pulse(\"SYNC0\", awg.create_delayed_trigger_pulse(1.) )\n",
    "awg.set_trigger_pulse(\"SYNC3\", awg.create_delayed_trigger_pulse(1.) )"
   ]
  },
  {
   "cell_type": "code",
   "execution_count": 11,
   "metadata": {},
   "outputs": [
    {
     "data": {
      "text/plain": [
       "True"
      ]
     },
     "execution_count": 11,
     "metadata": {},
     "output_type": "execute_result"
    }
   ],
   "source": [
    "awg.set_repetition_period(255e-9)"
   ]
  },
  {
   "cell_type": "code",
   "execution_count": 19,
   "metadata": {},
   "outputs": [],
   "source": [
    "ch0_settings = awg.get_channel_settings(0)\n",
    "ch0_settings['offset']=-1\n",
    "awg.set_channel_settings(0, ch0_settings)"
   ]
  },
  {
   "cell_type": "code",
   "execution_count": null,
   "metadata": {
    "collapsed": true
   },
   "outputs": [],
   "source": []
  }
 ],
 "metadata": {
  "kernelspec": {
   "display_name": "Python 3",
   "language": "python",
   "name": "python3"
  },
  "language_info": {
   "codemirror_mode": {
    "name": "ipython",
    "version": 3
   },
   "file_extension": ".py",
   "mimetype": "text/x-python",
   "name": "python",
   "nbconvert_exporter": "python",
   "pygments_lexer": "ipython3",
   "version": "3.6.1"
  }
 },
 "nbformat": 4,
 "nbformat_minor": 2
}
