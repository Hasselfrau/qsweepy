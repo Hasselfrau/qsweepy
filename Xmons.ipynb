{
 "cells": [
  {
   "cell_type": "markdown",
   "metadata": {},
   "source": [
    "### Запуск QtLab"
   ]
  },
  {
   "cell_type": "code",
   "execution_count": 1,
   "metadata": {
    "scrolled": true
   },
   "outputs": [
    {
     "name": "stdout",
     "output_type": "stream",
     "text": [
      "Failed loading module Labbrick:  [WinError 126] The specified module could not be found\n",
      "Failed loading module Signal_Hound_SA:  [WinError 126] The specified module could not be found\n"
     ]
    }
   ],
   "source": [
    "%run D:\\qtlab_replacement\\init.py\n",
    "%matplotlib qt5\n",
    "import matplotlib.pyplot as plt\n",
    "from instruments import *\n",
    "import numpy as np\n",
    "import sweep\n",
    "from save_pkl import *\n",
    "from matplotlib import interactive\n",
    "interactive(True)\n",
    "import os\n",
    "import matplotlib.patches as plm"
   ]
  },
  {
   "cell_type": "markdown",
   "metadata": {},
   "source": [
    "# Спектроскопия"
   ]
  },
  {
   "cell_type": "code",
   "execution_count": 2,
   "metadata": {
    "collapsed": true
   },
   "outputs": [],
   "source": [
    "pna = Agilent_N5242A('pna', address = 'PNA')\n",
    "lo1 = Agilent_E8257D('lo1', address = 'GEN1')"
   ]
  },
  {
   "cell_type": "code",
   "execution_count": 3,
   "metadata": {
    "collapsed": true
   },
   "outputs": [],
   "source": [
    "current_src1 = Yokogawa_GS210(address = 'GPIB0::1::INSTR')\n",
    "current_src2 = Yokogawa_GS210(address = 'GPIB0::2::INSTR')"
   ]
  },
  {
   "cell_type": "code",
   "execution_count": 4,
   "metadata": {},
   "outputs": [
    {
     "data": {
      "text/plain": [
       "True"
      ]
     },
     "execution_count": 4,
     "metadata": {},
     "output_type": "execute_result"
    }
   ],
   "source": [
    "# векторный анализатор в режим линейного свипа\n",
    "pna.set_sweep_mode(\"LIN\")"
   ]
  },
  {
   "cell_type": "markdown",
   "metadata": {},
   "source": [
    "## Резонаторная спектроскопия"
   ]
  },
  {
   "cell_type": "markdown",
   "metadata": {},
   "source": [
    "### Одномерный скан при фиксированном токе "
   ]
  },
  {
   "cell_type": "code",
   "execution_count": 18,
   "metadata": {},
   "outputs": [
    {
     "data": {
      "text/plain": [
       "[<matplotlib.lines.Line2D at 0x1634225bcc0>]"
      ]
     },
     "execution_count": 18,
     "metadata": {},
     "output_type": "execute_result"
    }
   ],
   "source": [
    "pna.set_nop(3501)\n",
    "pna.set_xlim(6e9,8.8e9)\n",
    "pna.set_power(-50)\n",
    "pna.set_bandwidth(10)\n",
    "s21=pna.get_tracedata()\n",
    "fr=pna.get_freqpoints()\n",
    "plt.plot(fr[:len(fr)-1],np.unwrap(np.diff(s21[1])))"
   ]
  },
  {
   "cell_type": "code",
   "execution_count": 12,
   "metadata": {},
   "outputs": [
    {
     "data": {
      "text/plain": [
       "True"
      ]
     },
     "execution_count": 12,
     "metadata": {},
     "output_type": "execute_result"
    }
   ],
   "source": [
    "#Резонансные частоты при curr=1e-5 (Последние два резонатора - тестовые)\n",
    "#res_fr=np.asarray([6.39e9,6.47e9,6.58e9,6.60e9,6.68e9,6.76e9,7.29e9,7.95e9]) \n",
    "res_fr=np.asarray([6.39e9,6.58e9,6.60e9,6.68e9])#,6.76e9,7.29e9,7.95e9])\n",
    "qubit_params = {1: {'Fr': 6.676e9,'F01_max': 8.172e9, 'Iw':-2.5e-5}}\n",
    "                #2: {'Fr': 6.58e9,'F01_max': 7.889e9, 'Anh':50e6, 'Iw':1e-5},\n",
    "               #3: {'Fr': 6.68e9,'F01_max': 8.169e9, 'Anh':230e6,'Iw':8e-6 }\n",
    "curr_range=np.asarray([(-4.5e-5,-0.5e-5),(-3e-5,0),(-35e-5,10e-5),(-5e-5,0)])\n",
    "current_src1.set_current(qubit_params[1]['Iw'])"
   ]
  },
  {
   "cell_type": "code",
   "execution_count": 31,
   "metadata": {
    "scrolled": true
   },
   "outputs": [
    {
     "data": {
      "application/vnd.jupyter.widget-view+json": {
       "model_id": "63f5fcbf6c7e4a24b852f1075bddab0b",
       "version_major": 2,
       "version_minor": 0
      },
      "text/plain": [
       "A Jupyter Widget"
      ]
     },
     "metadata": {},
     "output_type": "display_data"
    },
    {
     "name": "stdout",
     "output_type": "stream",
     "text": [
      "Started at:  Mar 04 2018 18:14:26\n"
     ]
    },
    {
     "ename": "RuntimeError",
     "evalue": "You must first define an image, e.g., with imshow",
     "output_type": "error",
     "traceback": [
      "\u001b[1;31m---------------------------------------------------------------------------\u001b[0m",
      "\u001b[1;31mRuntimeError\u001b[0m                              Traceback (most recent call last)",
      "\u001b[1;32m<ipython-input-31-1686d7454374>\u001b[0m in \u001b[0;36m<module>\u001b[1;34m()\u001b[0m\n\u001b[0;32m      8\u001b[0m \u001b[1;32mfor\u001b[0m \u001b[0mres\u001b[0m \u001b[1;32min\u001b[0m \u001b[0mres_fr\u001b[0m\u001b[1;33m:\u001b[0m\u001b[1;33m\u001b[0m\u001b[0m\n\u001b[0;32m      9\u001b[0m     \u001b[0mpna\u001b[0m\u001b[1;33m.\u001b[0m\u001b[0mset_xlim\u001b[0m\u001b[1;33m(\u001b[0m\u001b[0mres\u001b[0m\u001b[1;33m-\u001b[0m\u001b[1;36m25e6\u001b[0m\u001b[1;33m,\u001b[0m\u001b[0mres\u001b[0m\u001b[1;33m+\u001b[0m\u001b[1;36m25e6\u001b[0m\u001b[1;33m)\u001b[0m\u001b[1;33m\u001b[0m\u001b[0m\n\u001b[1;32m---> 10\u001b[1;33m     \u001b[0mresult\u001b[0m \u001b[1;33m=\u001b[0m \u001b[0msweep\u001b[0m\u001b[1;33m.\u001b[0m\u001b[0msweep\u001b[0m\u001b[1;33m(\u001b[0m\u001b[0mpna\u001b[0m\u001b[1;33m,\u001b[0m \u001b[1;33m(\u001b[0m\u001b[0mcurrents\u001b[0m\u001b[1;33m,\u001b[0m \u001b[0mcurrent_src1\u001b[0m\u001b[1;33m.\u001b[0m\u001b[0mset_current\u001b[0m\u001b[1;33m,\u001b[0m \u001b[1;34m'Coil current'\u001b[0m\u001b[1;33m)\u001b[0m\u001b[1;33m,\u001b[0m \u001b[0mfilename\u001b[0m\u001b[1;33m=\u001b[0m\u001b[1;34m'anticrossings Rev_{0}_{1}'\u001b[0m\u001b[1;33m.\u001b[0m\u001b[0mformat\u001b[0m\u001b[1;33m(\u001b[0m\u001b[1;34m\"%.2f\"\u001b[0m \u001b[1;33m%\u001b[0m \u001b[1;33m(\u001b[0m\u001b[0mres\u001b[0m\u001b[1;33m/\u001b[0m\u001b[1;36m1e9\u001b[0m\u001b[1;33m)\u001b[0m\u001b[1;33m,\u001b[0m\u001b[0mpna\u001b[0m\u001b[1;33m.\u001b[0m\u001b[0mget_power\u001b[0m\u001b[1;33m(\u001b[0m\u001b[1;33m)\u001b[0m\u001b[1;33m)\u001b[0m\u001b[1;33m)\u001b[0m\u001b[1;33m\u001b[0m\u001b[0m\n\u001b[0m",
      "\u001b[1;32mD:\\qtlab_replacement\\scripts\\sweep.py\u001b[0m in \u001b[0;36msweep\u001b[1;34m(measurer, filename, root_dir, plot, header, output, save, time_war_label, cycle_save_mode, *params)\u001b[0m\n\u001b[0;32m    182\u001b[0m                         \u001b[1;32mif\u001b[0m \u001b[0mplot\u001b[0m\u001b[1;33m:\u001b[0m\u001b[1;33m\u001b[0m\u001b[0m\n\u001b[0;32m    183\u001b[0m                                 \u001b[1;32mif\u001b[0m \u001b[0mplot_update_start\u001b[0m \u001b[1;33m-\u001b[0m \u001b[0mlast_plot_update\u001b[0m \u001b[1;33m>\u001b[0m \u001b[1;36m10\u001b[0m\u001b[1;33m*\u001b[0m\u001b[0mplot_update_time\u001b[0m\u001b[1;33m:\u001b[0m\u001b[1;33m\u001b[0m\u001b[0m\n\u001b[1;32m--> 184\u001b[1;33m                                         \u001b[0mplotting\u001b[0m\u001b[1;33m.\u001b[0m\u001b[0mupdate_plot_measurement\u001b[0m\u001b[1;33m(\u001b[0m\u001b[0mmk_measurement\u001b[0m\u001b[1;33m(\u001b[0m\u001b[1;36m0\u001b[0m\u001b[1;33m)\u001b[0m\u001b[1;33m,\u001b[0m \u001b[0mplot_axes\u001b[0m\u001b[1;33m)\u001b[0m\u001b[1;33m\u001b[0m\u001b[0m\n\u001b[0m\u001b[0;32m    185\u001b[0m \t\t\t'''\n\u001b[0;32m    186\u001b[0m                                 \u001b[1;32mif\u001b[0m \u001b[0mplot_windows\u001b[0m\u001b[1;33m[\u001b[0m\u001b[0mmname\u001b[0m\u001b[1;33m]\u001b[0m\u001b[1;33m:\u001b[0m\u001b[1;33m\u001b[0m\u001b[0m\n",
      "\u001b[1;32mD:\\qtlab_replacement\\scripts\\plotting.py\u001b[0m in \u001b[0;36mupdate_plot_measurement\u001b[1;34m(measurement, axes)\u001b[0m\n\u001b[0;32m    136\u001b[0m                 \u001b[1;32mfor\u001b[0m \u001b[0mplot_name\u001b[0m\u001b[1;33m,\u001b[0m \u001b[0mplot\u001b[0m \u001b[1;32min\u001b[0m \u001b[0max\u001b[0m\u001b[1;33m[\u001b[0m\u001b[1;34m'plots'\u001b[0m\u001b[1;33m]\u001b[0m\u001b[1;33m.\u001b[0m\u001b[0mitems\u001b[0m\u001b[1;33m(\u001b[0m\u001b[1;33m)\u001b[0m\u001b[1;33m:\u001b[0m\u001b[1;33m\u001b[0m\u001b[0m\n\u001b[0;32m    137\u001b[0m                         \u001b[0mmeas\u001b[0m\u001b[1;33m[\u001b[0m\u001b[0mplot_name\u001b[0m\u001b[1;33m]\u001b[0m \u001b[1;33m=\u001b[0m \u001b[1;33m(\u001b[0m\u001b[0mmeasurement\u001b[0m\u001b[1;33m[\u001b[0m\u001b[0mplot\u001b[0m\u001b[1;33m[\u001b[0m\u001b[1;34m'mname'\u001b[0m\u001b[1;33m]\u001b[0m\u001b[1;33m]\u001b[0m\u001b[1;33m[\u001b[0m\u001b[1;36m0\u001b[0m\u001b[1;33m]\u001b[0m\u001b[1;33m,\u001b[0m \u001b[0mmeasurement\u001b[0m\u001b[1;33m[\u001b[0m\u001b[0mplot\u001b[0m\u001b[1;33m[\u001b[0m\u001b[1;34m'mname'\u001b[0m\u001b[1;33m]\u001b[0m\u001b[1;33m]\u001b[0m\u001b[1;33m[\u001b[0m\u001b[1;36m1\u001b[0m\u001b[1;33m]\u001b[0m\u001b[1;33m,\u001b[0m \u001b[0mplot\u001b[0m\u001b[1;33m[\u001b[0m\u001b[1;34m'filter'\u001b[0m\u001b[1;33m]\u001b[0m\u001b[1;33m(\u001b[0m\u001b[0mmeasurement\u001b[0m\u001b[1;33m[\u001b[0m\u001b[0mplot\u001b[0m\u001b[1;33m[\u001b[0m\u001b[1;34m'mname'\u001b[0m\u001b[1;33m]\u001b[0m\u001b[1;33m]\u001b[0m\u001b[1;33m[\u001b[0m\u001b[1;36m2\u001b[0m\u001b[1;33m]\u001b[0m\u001b[1;33m)\u001b[0m\u001b[1;33m)\u001b[0m\u001b[1;33m\u001b[0m\u001b[0m\n\u001b[1;32m--> 138\u001b[1;33m                 \u001b[0mplots\u001b[0m \u001b[1;33m=\u001b[0m \u001b[0mupdate_plot_measurement_sa\u001b[0m\u001b[1;33m(\u001b[0m\u001b[0mmeas\u001b[0m\u001b[1;33m,\u001b[0m \u001b[0max\u001b[0m\u001b[1;33m)\u001b[0m\u001b[1;33m\u001b[0m\u001b[0m\n\u001b[0m\u001b[0;32m    139\u001b[0m \u001b[1;33m\u001b[0m\u001b[0m\n\u001b[0;32m    140\u001b[0m \u001b[1;31m# Plots all data on a single axis with given annotations.\u001b[0m\u001b[1;33m\u001b[0m\u001b[1;33m\u001b[0m\u001b[0m\n",
      "\u001b[1;32mD:\\qtlab_replacement\\scripts\\plotting.py\u001b[0m in \u001b[0;36mupdate_plot_measurement_sa\u001b[1;34m(measurement, plots)\u001b[0m\n\u001b[0;32m    245\u001b[0m                                 \u001b[0mdata\u001b[0m \u001b[1;33m=\u001b[0m \u001b[0mdata\u001b[0m\u001b[1;33m.\u001b[0m\u001b[0mT\u001b[0m\u001b[1;33m\u001b[0m\u001b[0m\n\u001b[0;32m    246\u001b[0m                         \u001b[0mplot\u001b[0m\u001b[1;33m.\u001b[0m\u001b[0mset_data\u001b[0m\u001b[1;33m(\u001b[0m\u001b[0mdata\u001b[0m\u001b[1;33m)\u001b[0m\u001b[1;33m\u001b[0m\u001b[0m\n\u001b[1;32m--> 247\u001b[1;33m                         \u001b[0mplt\u001b[0m\u001b[1;33m.\u001b[0m\u001b[0mclim\u001b[0m\u001b[1;33m(\u001b[0m\u001b[0mnp\u001b[0m\u001b[1;33m.\u001b[0m\u001b[0mnanmin\u001b[0m\u001b[1;33m(\u001b[0m\u001b[0mdata\u001b[0m\u001b[1;33m)\u001b[0m\u001b[1;33m,\u001b[0m \u001b[0mnp\u001b[0m\u001b[1;33m.\u001b[0m\u001b[0mnanmax\u001b[0m\u001b[1;33m(\u001b[0m\u001b[0mdata\u001b[0m\u001b[1;33m)\u001b[0m\u001b[1;33m)\u001b[0m\u001b[1;33m\u001b[0m\u001b[0m\n\u001b[0m\u001b[0;32m    248\u001b[0m                 \u001b[0mplt\u001b[0m\u001b[1;33m.\u001b[0m\u001b[0mdraw\u001b[0m\u001b[1;33m(\u001b[0m\u001b[1;33m)\u001b[0m\u001b[1;33m\u001b[0m\u001b[0m\n\u001b[0;32m    249\u001b[0m         \u001b[0mplt\u001b[0m\u001b[1;33m.\u001b[0m\u001b[0mpause\u001b[0m\u001b[1;33m(\u001b[0m\u001b[1;36m0.05\u001b[0m\u001b[1;33m)\u001b[0m\u001b[1;33m\u001b[0m\u001b[0m\n",
      "\u001b[1;32mC:\\ProgramData\\Anaconda3\\lib\\site-packages\\matplotlib\\pyplot.py\u001b[0m in \u001b[0;36mclim\u001b[1;34m(vmin, vmax)\u001b[0m\n\u001b[0;32m   2224\u001b[0m     \u001b[0mim\u001b[0m \u001b[1;33m=\u001b[0m \u001b[0mgci\u001b[0m\u001b[1;33m(\u001b[0m\u001b[1;33m)\u001b[0m\u001b[1;33m\u001b[0m\u001b[0m\n\u001b[0;32m   2225\u001b[0m     \u001b[1;32mif\u001b[0m \u001b[0mim\u001b[0m \u001b[1;32mis\u001b[0m \u001b[1;32mNone\u001b[0m\u001b[1;33m:\u001b[0m\u001b[1;33m\u001b[0m\u001b[0m\n\u001b[1;32m-> 2226\u001b[1;33m         \u001b[1;32mraise\u001b[0m \u001b[0mRuntimeError\u001b[0m\u001b[1;33m(\u001b[0m\u001b[1;34m'You must first define an image, e.g., with imshow'\u001b[0m\u001b[1;33m)\u001b[0m\u001b[1;33m\u001b[0m\u001b[0m\n\u001b[0m\u001b[0;32m   2227\u001b[0m \u001b[1;33m\u001b[0m\u001b[0m\n\u001b[0;32m   2228\u001b[0m     \u001b[0mim\u001b[0m\u001b[1;33m.\u001b[0m\u001b[0mset_clim\u001b[0m\u001b[1;33m(\u001b[0m\u001b[0mvmin\u001b[0m\u001b[1;33m,\u001b[0m \u001b[0mvmax\u001b[0m\u001b[1;33m)\u001b[0m\u001b[1;33m\u001b[0m\u001b[0m\n",
      "\u001b[1;31mRuntimeError\u001b[0m: You must first define an image, e.g., with imshow"
     ]
    }
   ],
   "source": [
    "lo1.set_status(0)\n",
    "pna.set_nop(301)\n",
    "pna.set_bandwidth(200)\n",
    "pna.set_power(-50)\n",
    "current_max=5e-5\n",
    "current_nop=201\n",
    "currents=np.linspace(-5e-5,0,current_nop)\n",
    "for res in res_fr:\n",
    "    pna.set_xlim(res-25e6,res+25e6)\n",
    "    result = sweep.sweep(pna, (currents, current_src1.set_current, 'Coil current'), filename='anticrossings Rev_{0}_{1}'.format(\"%.2f\" % (res/1e9),pna.get_power()))"
   ]
  },
  {
   "cell_type": "markdown",
   "metadata": {},
   "source": [
    "## Кубитная спектроскопия"
   ]
  },
  {
   "cell_type": "code",
   "execution_count": 36,
   "metadata": {},
   "outputs": [
    {
     "data": {
      "application/vnd.jupyter.widget-view+json": {
       "model_id": "29e0167efce341689bc1933525582ee0",
       "version_major": 2,
       "version_minor": 0
      },
      "text/plain": [
       "A Jupyter Widget"
      ]
     },
     "metadata": {},
     "output_type": "display_data"
    },
    {
     "name": "stdout",
     "output_type": "stream",
     "text": [
      "Started at:  Mar 04 2018 18:22:00\n",
      "\n",
      "Elapsed time: 5 h 9 m 45.58 s\n"
     ]
    }
   ],
   "source": [
    "dfr=0.01e9\n",
    "nop=301\n",
    "resolution_bw=10\n",
    "tone1_power=-55\n",
    "cur_nop=101\n",
    "tone2_power=5\n",
    "\n",
    "lo1.set_status(1)\n",
    "lo1.set_power(tone2_power)\n",
    "freq=np.linspace(7e9,9.5e9,301)\n",
    "for i in range(3,len(res_fr)):\n",
    "    tone1_freq_min, tone1_freq_max = res_fr[i]-dfr, res_fr[i]+dfr\n",
    "    currents=np.linspace(-5e-5,0,current_nop)\n",
    "    sweep.sweep(pna, (currents, curr,'current'), (freq, lo1.set_frequency, '2nd tone frequency'), filename='2nd tone_fr{0}_t1p{1}_t2p{2}'.format(\"%.2f\" % (res_fr[i]/1e9),pna.get_power(),lo1.get_power()))\n"
   ]
  },
  {
   "cell_type": "code",
   "execution_count": 12,
   "metadata": {},
   "outputs": [],
   "source": [
    "def curr(current):\n",
    "    lo1.set_status(0)\n",
    "    pna.set_average(0)\n",
    "    pna.set_power(-50)\n",
    "    pna.set_nop(nop)\n",
    "    pna.set_xlim(tone1_freq_min, tone1_freq_max)\n",
    "    pna.set_bandwidth(200)\n",
    "    current_src1.set_current(current)\n",
    "    S21   = pna.get_tracedata()\n",
    "    freqs = pna.get_freqpoints()\n",
    "    pna.set_bandwidth(resolution_bw)\n",
    "    pna.set_power(tone1_power)\n",
    "    pna.set_nop(1)\n",
    "    pna.set_xlim(freqs[np.argmin(S21[0])]+0.25e6,freqs[np.argmin(S21[0])]+0.25e6)\n",
    "    lo1.set_status(1)"
   ]
  },
  {
   "cell_type": "code",
   "execution_count": 30,
   "metadata": {},
   "outputs": [
    {
     "data": {
      "application/vnd.jupyter.widget-view+json": {
       "model_id": "57c6da29c746448b89cdd85855c6abe5",
       "version_major": 2,
       "version_minor": 0
      },
      "text/plain": [
       "A Jupyter Widget"
      ]
     },
     "metadata": {},
     "output_type": "display_data"
    },
    {
     "name": "stdout",
     "output_type": "stream",
     "text": [
      "Started at:  Mar 04 2018 16:38:13\n",
      "\n",
      "Elapsed time: 0 h 52 m 12.46 s\n"
     ]
    },
    {
     "data": {
      "text/plain": [
       "{'S-parameter': (('2-nd tone power', '2nd tone frequency'),\n",
       "  (array([-10.,  -9.,  -8.,  -7.,  -6.,  -5.,  -4.,  -3.,  -2.,  -1.,   0.,\n",
       "            1.,   2.,   3.,   4.,   5.,   6.,   7.,   8.,   9.,  10.]),\n",
       "   array([  7.00000000e+09,   7.00500000e+09,   7.01000000e+09,\n",
       "            7.01500000e+09,   7.02000000e+09,   7.02500000e+09,\n",
       "            7.03000000e+09,   7.03500000e+09,   7.04000000e+09,\n",
       "            7.04500000e+09,   7.05000000e+09,   7.05500000e+09,\n",
       "            7.06000000e+09,   7.06500000e+09,   7.07000000e+09,\n",
       "            7.07500000e+09,   7.08000000e+09,   7.08500000e+09,\n",
       "            7.09000000e+09,   7.09500000e+09,   7.10000000e+09,\n",
       "            7.10500000e+09,   7.11000000e+09,   7.11500000e+09,\n",
       "            7.12000000e+09,   7.12500000e+09,   7.13000000e+09,\n",
       "            7.13500000e+09,   7.14000000e+09,   7.14500000e+09,\n",
       "            7.15000000e+09,   7.15500000e+09,   7.16000000e+09,\n",
       "            7.16500000e+09,   7.17000000e+09,   7.17500000e+09,\n",
       "            7.18000000e+09,   7.18500000e+09,   7.19000000e+09,\n",
       "            7.19500000e+09,   7.20000000e+09,   7.20500000e+09,\n",
       "            7.21000000e+09,   7.21500000e+09,   7.22000000e+09,\n",
       "            7.22500000e+09,   7.23000000e+09,   7.23500000e+09,\n",
       "            7.24000000e+09,   7.24500000e+09,   7.25000000e+09,\n",
       "            7.25500000e+09,   7.26000000e+09,   7.26500000e+09,\n",
       "            7.27000000e+09,   7.27500000e+09,   7.28000000e+09,\n",
       "            7.28500000e+09,   7.29000000e+09,   7.29500000e+09,\n",
       "            7.30000000e+09,   7.30500000e+09,   7.31000000e+09,\n",
       "            7.31500000e+09,   7.32000000e+09,   7.32500000e+09,\n",
       "            7.33000000e+09,   7.33500000e+09,   7.34000000e+09,\n",
       "            7.34500000e+09,   7.35000000e+09,   7.35500000e+09,\n",
       "            7.36000000e+09,   7.36500000e+09,   7.37000000e+09,\n",
       "            7.37500000e+09,   7.38000000e+09,   7.38500000e+09,\n",
       "            7.39000000e+09,   7.39500000e+09,   7.40000000e+09,\n",
       "            7.40500000e+09,   7.41000000e+09,   7.41500000e+09,\n",
       "            7.42000000e+09,   7.42500000e+09,   7.43000000e+09,\n",
       "            7.43500000e+09,   7.44000000e+09,   7.44500000e+09,\n",
       "            7.45000000e+09,   7.45500000e+09,   7.46000000e+09,\n",
       "            7.46500000e+09,   7.47000000e+09,   7.47500000e+09,\n",
       "            7.48000000e+09,   7.48500000e+09,   7.49000000e+09,\n",
       "            7.49500000e+09,   7.50000000e+09,   7.50500000e+09,\n",
       "            7.51000000e+09,   7.51500000e+09,   7.52000000e+09,\n",
       "            7.52500000e+09,   7.53000000e+09,   7.53500000e+09,\n",
       "            7.54000000e+09,   7.54500000e+09,   7.55000000e+09,\n",
       "            7.55500000e+09,   7.56000000e+09,   7.56500000e+09,\n",
       "            7.57000000e+09,   7.57500000e+09,   7.58000000e+09,\n",
       "            7.58500000e+09,   7.59000000e+09,   7.59500000e+09,\n",
       "            7.60000000e+09,   7.60500000e+09,   7.61000000e+09,\n",
       "            7.61500000e+09,   7.62000000e+09,   7.62500000e+09,\n",
       "            7.63000000e+09,   7.63500000e+09,   7.64000000e+09,\n",
       "            7.64500000e+09,   7.65000000e+09,   7.65500000e+09,\n",
       "            7.66000000e+09,   7.66500000e+09,   7.67000000e+09,\n",
       "            7.67500000e+09,   7.68000000e+09,   7.68500000e+09,\n",
       "            7.69000000e+09,   7.69500000e+09,   7.70000000e+09,\n",
       "            7.70500000e+09,   7.71000000e+09,   7.71500000e+09,\n",
       "            7.72000000e+09,   7.72500000e+09,   7.73000000e+09,\n",
       "            7.73500000e+09,   7.74000000e+09,   7.74500000e+09,\n",
       "            7.75000000e+09,   7.75500000e+09,   7.76000000e+09,\n",
       "            7.76500000e+09,   7.77000000e+09,   7.77500000e+09,\n",
       "            7.78000000e+09,   7.78500000e+09,   7.79000000e+09,\n",
       "            7.79500000e+09,   7.80000000e+09,   7.80500000e+09,\n",
       "            7.81000000e+09,   7.81500000e+09,   7.82000000e+09,\n",
       "            7.82500000e+09,   7.83000000e+09,   7.83500000e+09,\n",
       "            7.84000000e+09,   7.84500000e+09,   7.85000000e+09,\n",
       "            7.85500000e+09,   7.86000000e+09,   7.86500000e+09,\n",
       "            7.87000000e+09,   7.87500000e+09,   7.88000000e+09,\n",
       "            7.88500000e+09,   7.89000000e+09,   7.89500000e+09,\n",
       "            7.90000000e+09,   7.90500000e+09,   7.91000000e+09,\n",
       "            7.91500000e+09,   7.92000000e+09,   7.92500000e+09,\n",
       "            7.93000000e+09,   7.93500000e+09,   7.94000000e+09,\n",
       "            7.94500000e+09,   7.95000000e+09,   7.95500000e+09,\n",
       "            7.96000000e+09,   7.96500000e+09,   7.97000000e+09,\n",
       "            7.97500000e+09,   7.98000000e+09,   7.98500000e+09,\n",
       "            7.99000000e+09,   7.99500000e+09,   8.00000000e+09,\n",
       "            8.00500000e+09,   8.01000000e+09,   8.01500000e+09,\n",
       "            8.02000000e+09,   8.02500000e+09,   8.03000000e+09,\n",
       "            8.03500000e+09,   8.04000000e+09,   8.04500000e+09,\n",
       "            8.05000000e+09,   8.05500000e+09,   8.06000000e+09,\n",
       "            8.06500000e+09,   8.07000000e+09,   8.07500000e+09,\n",
       "            8.08000000e+09,   8.08500000e+09,   8.09000000e+09,\n",
       "            8.09500000e+09,   8.10000000e+09,   8.10500000e+09,\n",
       "            8.11000000e+09,   8.11500000e+09,   8.12000000e+09,\n",
       "            8.12500000e+09,   8.13000000e+09,   8.13500000e+09,\n",
       "            8.14000000e+09,   8.14500000e+09,   8.15000000e+09,\n",
       "            8.15500000e+09,   8.16000000e+09,   8.16500000e+09,\n",
       "            8.17000000e+09,   8.17500000e+09,   8.18000000e+09,\n",
       "            8.18500000e+09,   8.19000000e+09,   8.19500000e+09,\n",
       "            8.20000000e+09,   8.20500000e+09,   8.21000000e+09,\n",
       "            8.21500000e+09,   8.22000000e+09,   8.22500000e+09,\n",
       "            8.23000000e+09,   8.23500000e+09,   8.24000000e+09,\n",
       "            8.24500000e+09,   8.25000000e+09,   8.25500000e+09,\n",
       "            8.26000000e+09,   8.26500000e+09,   8.27000000e+09,\n",
       "            8.27500000e+09,   8.28000000e+09,   8.28500000e+09,\n",
       "            8.29000000e+09,   8.29500000e+09,   8.30000000e+09,\n",
       "            8.30500000e+09,   8.31000000e+09,   8.31500000e+09,\n",
       "            8.32000000e+09,   8.32500000e+09,   8.33000000e+09,\n",
       "            8.33500000e+09,   8.34000000e+09,   8.34500000e+09,\n",
       "            8.35000000e+09,   8.35500000e+09,   8.36000000e+09,\n",
       "            8.36500000e+09,   8.37000000e+09,   8.37500000e+09,\n",
       "            8.38000000e+09,   8.38500000e+09,   8.39000000e+09,\n",
       "            8.39500000e+09,   8.40000000e+09,   8.40500000e+09,\n",
       "            8.41000000e+09,   8.41500000e+09,   8.42000000e+09,\n",
       "            8.42500000e+09,   8.43000000e+09,   8.43500000e+09,\n",
       "            8.44000000e+09,   8.44500000e+09,   8.45000000e+09,\n",
       "            8.45500000e+09,   8.46000000e+09,   8.46500000e+09,\n",
       "            8.47000000e+09,   8.47500000e+09,   8.48000000e+09,\n",
       "            8.48500000e+09,   8.49000000e+09,   8.49500000e+09,\n",
       "            8.50000000e+09,   8.50500000e+09,   8.51000000e+09,\n",
       "            8.51500000e+09,   8.52000000e+09,   8.52500000e+09,\n",
       "            8.53000000e+09,   8.53500000e+09,   8.54000000e+09,\n",
       "            8.54500000e+09,   8.55000000e+09,   8.55500000e+09,\n",
       "            8.56000000e+09,   8.56500000e+09,   8.57000000e+09,\n",
       "            8.57500000e+09,   8.58000000e+09,   8.58500000e+09,\n",
       "            8.59000000e+09,   8.59500000e+09,   8.60000000e+09,\n",
       "            8.60500000e+09,   8.61000000e+09,   8.61500000e+09,\n",
       "            8.62000000e+09,   8.62500000e+09,   8.63000000e+09,\n",
       "            8.63500000e+09,   8.64000000e+09,   8.64500000e+09,\n",
       "            8.65000000e+09,   8.65500000e+09,   8.66000000e+09,\n",
       "            8.66500000e+09,   8.67000000e+09,   8.67500000e+09,\n",
       "            8.68000000e+09,   8.68500000e+09,   8.69000000e+09,\n",
       "            8.69500000e+09,   8.70000000e+09,   8.70500000e+09,\n",
       "            8.71000000e+09,   8.71500000e+09,   8.72000000e+09,\n",
       "            8.72500000e+09,   8.73000000e+09,   8.73500000e+09,\n",
       "            8.74000000e+09,   8.74500000e+09,   8.75000000e+09,\n",
       "            8.75500000e+09,   8.76000000e+09,   8.76500000e+09,\n",
       "            8.77000000e+09,   8.77500000e+09,   8.78000000e+09,\n",
       "            8.78500000e+09,   8.79000000e+09,   8.79500000e+09,\n",
       "            8.80000000e+09,   8.80500000e+09,   8.81000000e+09,\n",
       "            8.81500000e+09,   8.82000000e+09,   8.82500000e+09,\n",
       "            8.83000000e+09,   8.83500000e+09,   8.84000000e+09,\n",
       "            8.84500000e+09,   8.85000000e+09,   8.85500000e+09,\n",
       "            8.86000000e+09,   8.86500000e+09,   8.87000000e+09,\n",
       "            8.87500000e+09,   8.88000000e+09,   8.88500000e+09,\n",
       "            8.89000000e+09,   8.89500000e+09,   8.90000000e+09,\n",
       "            8.90500000e+09,   8.91000000e+09,   8.91500000e+09,\n",
       "            8.92000000e+09,   8.92500000e+09,   8.93000000e+09,\n",
       "            8.93500000e+09,   8.94000000e+09,   8.94500000e+09,\n",
       "            8.95000000e+09,   8.95500000e+09,   8.96000000e+09,\n",
       "            8.96500000e+09,   8.97000000e+09,   8.97500000e+09,\n",
       "            8.98000000e+09,   8.98500000e+09,   8.99000000e+09,\n",
       "            8.99500000e+09,   9.00000000e+09,   9.00500000e+09,\n",
       "            9.01000000e+09,   9.01500000e+09,   9.02000000e+09,\n",
       "            9.02500000e+09,   9.03000000e+09,   9.03500000e+09,\n",
       "            9.04000000e+09,   9.04500000e+09,   9.05000000e+09,\n",
       "            9.05500000e+09,   9.06000000e+09,   9.06500000e+09,\n",
       "            9.07000000e+09,   9.07500000e+09,   9.08000000e+09,\n",
       "            9.08500000e+09,   9.09000000e+09,   9.09500000e+09,\n",
       "            9.10000000e+09,   9.10500000e+09,   9.11000000e+09,\n",
       "            9.11500000e+09,   9.12000000e+09,   9.12500000e+09,\n",
       "            9.13000000e+09,   9.13500000e+09,   9.14000000e+09,\n",
       "            9.14500000e+09,   9.15000000e+09,   9.15500000e+09,\n",
       "            9.16000000e+09,   9.16500000e+09,   9.17000000e+09,\n",
       "            9.17500000e+09,   9.18000000e+09,   9.18500000e+09,\n",
       "            9.19000000e+09,   9.19500000e+09,   9.20000000e+09,\n",
       "            9.20500000e+09,   9.21000000e+09,   9.21500000e+09,\n",
       "            9.22000000e+09,   9.22500000e+09,   9.23000000e+09,\n",
       "            9.23500000e+09,   9.24000000e+09,   9.24500000e+09,\n",
       "            9.25000000e+09,   9.25500000e+09,   9.26000000e+09,\n",
       "            9.26500000e+09,   9.27000000e+09,   9.27500000e+09,\n",
       "            9.28000000e+09,   9.28500000e+09,   9.29000000e+09,\n",
       "            9.29500000e+09,   9.30000000e+09,   9.30500000e+09,\n",
       "            9.31000000e+09,   9.31500000e+09,   9.32000000e+09,\n",
       "            9.32500000e+09,   9.33000000e+09,   9.33500000e+09,\n",
       "            9.34000000e+09,   9.34500000e+09,   9.35000000e+09,\n",
       "            9.35500000e+09,   9.36000000e+09,   9.36500000e+09,\n",
       "            9.37000000e+09,   9.37500000e+09,   9.38000000e+09,\n",
       "            9.38500000e+09,   9.39000000e+09,   9.39500000e+09,\n",
       "            9.40000000e+09,   9.40500000e+09,   9.41000000e+09,\n",
       "            9.41500000e+09,   9.42000000e+09,   9.42500000e+09,\n",
       "            9.43000000e+09,   9.43500000e+09,   9.44000000e+09,\n",
       "            9.44500000e+09,   9.45000000e+09,   9.45500000e+09,\n",
       "            9.46000000e+09,   9.46500000e+09,   9.47000000e+09,\n",
       "            9.47500000e+09,   9.48000000e+09,   9.48500000e+09,\n",
       "            9.49000000e+09,   9.49500000e+09,   9.50000000e+09])),\n",
       "  array([[-0.07336245+0.17851762j, -0.07735513+0.18265699j,\n",
       "          -0.07622699+0.18155448j, ..., -0.07576099+0.18311282j,\n",
       "          -0.07702380+0.1805243j , -0.07625636+0.18212081j],\n",
       "         [-0.07647350+0.18233575j, -0.07878144+0.18491015j,\n",
       "          -0.07749788+0.1858574j , ..., -0.07768042+0.17761499j,\n",
       "          -0.07431983+0.18257506j, -0.07658448+0.17643988j],\n",
       "         [-0.07869982+0.18087544j, -0.07212500+0.17539096j,\n",
       "          -0.07686476+0.18541287j, ..., -0.07324142+0.17956182j,\n",
       "          -0.07618086+0.17989184j, -0.07300606+0.18203422j],\n",
       "         ..., \n",
       "         [-0.07190458+0.17886786j, -0.07274700+0.17986505j,\n",
       "          -0.07065253+0.17649518j, ..., -0.07534783+0.18256511j,\n",
       "          -0.07270708+0.17718464j, -0.07309395+0.17852646j],\n",
       "         [-0.06857990+0.17444853j, -0.07172763+0.17654598j,\n",
       "          -0.07089433+0.17474897j, ..., -0.07274733+0.18346162j,\n",
       "          -0.07543062+0.17825866j, -0.07160997+0.1840632j ],\n",
       "         [-0.07254699+0.17588784j, -0.07041948+0.17971861j,\n",
       "          -0.07338952+0.1803586j , ..., -0.07462323+0.18174155j,\n",
       "          -0.06971455+0.17391621j, -0.07091984+0.17690271j]]),\n",
       "  {'log': 20},\n",
       "  ('', ''))}"
      ]
     },
     "execution_count": 30,
     "metadata": {},
     "output_type": "execute_result"
    }
   ],
   "source": [
    "curr(-2.7e-5)\n",
    "powers=np.linspace(-10,10,21)\n",
    "pna.set_power(-50)\n",
    "freq=np.linspace(7e9,9.5e9,501)\n",
    "sweep.sweep(pna, (powers,lo1.set_power,'2-nd tone power'), (freq, lo1.set_frequency, '2nd tone frequency'), filename='2nd tone_power_scan_curr_{0}_t1p{1}'.format(\"%.2f\" % (current_src1.get_current()*1e5),pna.get_power()))\n"
   ]
  },
  {
   "cell_type": "code",
   "execution_count": 621,
   "metadata": {},
   "outputs": [],
   "source": [
    "with open('D:\\\\qtlab\\\\ReiData\\\\data\\\\2018-03-01\\\\16-14-33-2nd tone\\\\S-parameter 2nd tone.pkl', 'rb') as f:\n",
    "    data_new = pickle.load(f)\n",
    "mean = np.mean(data_new[1]['S-parameter'][2], axis=1)\n",
    "plt.pcolormesh(data_new[1]['S-parameter'][1][0],data_new[1]['S-parameter'][1][1], np.abs(data_new[1]['S-parameter'][2].T-mean), cmap='RdBu')\n",
    "plt.savefig('D:\\\\qtlab\\\\ReiData\\\\data\\\\2018-03-01\\\\16-14-33-2nd tone\\\\2tone.jpg',format='jpg')"
   ]
  },
  {
   "cell_type": "code",
   "execution_count": 41,
   "metadata": {},
   "outputs": [
    {
     "data": {
      "text/plain": [
       "<matplotlib.collections.QuadMesh at 0x1909ae45278>"
      ]
     },
     "execution_count": 41,
     "metadata": {},
     "output_type": "execute_result"
    }
   ],
   "source": [
    "\n",
    "with open('D:\\\\qtlab\\\\ReiData\\\\data\\\\2018-03-04\\\\09-52-59-anticrossings Rev_6.68_-50.0\\\\S-parameter anticrossings Rev_6.68_-50.0.pkl', 'rb') as f:\n",
    "    data_new = pickle.load(f)     \n",
    "plt.pcolormesh(data_new[1]['S-parameter'][1][0],data_new[1]['S-parameter'][1][1], np.abs(data_new[1]['S-parameter'][2].T), cmap='RdBu')"
   ]
  },
  {
   "cell_type": "markdown",
   "metadata": {},
   "source": [
    "# Импульсы"
   ]
  },
  {
   "cell_type": "markdown",
   "metadata": {},
   "source": [
    "### Создаём девайсы"
   ]
  },
  {
   "cell_type": "code",
   "execution_count": 5,
   "metadata": {},
   "outputs": [
    {
     "name": "stderr",
     "output_type": "stream",
     "text": [
      "root: WARNING  Tektronix_AWG5014 : get all not yet fully functional\n"
     ]
    }
   ],
   "source": [
    "#if not ('pna' in locals()): pna = Agilent_N5242A('pna', address = 'PNA')\n",
    "#if not ('lo1' in locals()): lo1 = Agilent_E8257D('lo1', address = 'PSG1')\n",
    "sa = Agilent_N9030A('pxa', address = 'TCPIP0::10.20.61.56::inst0::INSTR')\n",
    "#sa = Signal_Hound_SA(name='SA124', serial=61660066)\n",
    "#lo_ex = Labbrick(name='lo_ex', serial=15249)\n",
    "lo_ex = lo1\n",
    "lo_ro = pna\n",
    "#lo_ro = Labbrick(name='lo_ro', serial=15257)\n",
    "awg_tek = Tektronix_AWG5014('awg_tek', address = 'TCPIP0::10.20.61.186::inst0::INSTR')\n",
    "adc = Spectrum_M3i2132('adc')"
   ]
  },
  {
   "cell_type": "markdown",
   "metadata": {},
   "source": [
    "### Загружаем импульсные скрипты всякие"
   ]
  },
  {
   "cell_type": "code",
   "execution_count": 6,
   "metadata": {},
   "outputs": [
    {
     "data": {
      "text/plain": [
       "<module 'sweep' from 'D:\\\\qtlab_replacement\\\\scripts\\\\sweep.py'>"
      ]
     },
     "execution_count": 6,
     "metadata": {},
     "output_type": "execute_result"
    }
   ],
   "source": [
    "import awg_digital\n",
    "import awg_iq\n",
    "import data_reduce\n",
    "import imp\n",
    "import fitting\n",
    "import plotting\n",
    "import save_pkl\n",
    "import tomography as tomography_new\n",
    "import tomography_legacy as tomography\n",
    "import sweep\n",
    "imp.reload(awg_digital)\n",
    "imp.reload(awg_iq)\n",
    "imp.reload(data_reduce)\n",
    "imp.reload(fitting)\n",
    "imp.reload(plotting)\n",
    "imp.reload(save_pkl)\n",
    "imp.reload(tomography)\n",
    "imp.reload(tomography_new)\n",
    "imp.reload(sweep)"
   ]
  },
  {
   "cell_type": "markdown",
   "metadata": {},
   "source": [
    "### Осцилляторы"
   ]
  },
  {
   "cell_type": "code",
   "execution_count": 7,
   "metadata": {},
   "outputs": [
    {
     "data": {
      "text/plain": [
       "True"
      ]
     },
     "execution_count": 7,
     "metadata": {},
     "output_type": "execute_result"
    }
   ],
   "source": [
    "# Источник тока - в autorange\n",
    "#current.set_autorange(1)\n",
    "#Мощности гетеродинов, постоянные\n",
    "#Мощность гетеродина для возбуждения 13-16 дБм\n",
    "#lo_ex_pow = 14\n",
    "#lo_ex_pow = 14\n",
    "lo_ex_pow = 14\n",
    "#lo_ex = lo1\n",
    "lo_ex.set_status(1)\n",
    "#lo_ex.set_power(lo_ex_pow)\n",
    "#pna как lo2 (excitation)\n",
    "#Port1 - выход\n",
    "#Мощность гетеродина для считывания 10-13 дБм, с учётом разветвителя 13-16 dBm\n",
    "#lo_ro_pow = 16\n",
    "lo_ro_pow = 16\n",
    "lo_ro.set_power(lo_ro_pow)\n",
    "\n",
    "#lo_ex = pna\n",
    "pna.write(\"OUTP ON\")\n",
    "pna.write(\"SOUR1:POW1:MODE ON\")\n",
    "pna.write(\"SOUR1:POW2:MODE OFF\")\n",
    "pna.set_sweep_mode(\"CW\")\n",
    "lo_ex.set_power(lo_ex_pow)"
   ]
  },
  {
   "cell_type": "markdown",
   "metadata": {},
   "source": [
    "### AWGшки"
   ]
  },
  {
   "cell_type": "code",
   "execution_count": 29,
   "metadata": {},
   "outputs": [
    {
     "name": "stderr",
     "output_type": "stream",
     "text": [
      "root: WARNING  Tektronix_AWG5014 : Clock set to 1000000000.0. This is not fully functional yet. To avoid problems, it is better not to change the clock during operation\n"
     ]
    }
   ],
   "source": [
    "# промежуточные частоты для гетеродинной схемы:\n",
    "ex_if = 125e6\n",
    "ro_if = 75e6\n",
    "# клоки генератора и оцифровщика\n",
    "ex_clock = 1e9\n",
    "ro_clock = 1e9\n",
    "\n",
    "rep_rate = 20e3 # частота повторений эксперимента\n",
    "\n",
    "awg_tek.stop()\n",
    "awg_tek.set_clock(ex_clock) # клок всех авгшк\n",
    "awg_tek.set_nop(ex_clock/rep_rate) # репрейт нужно задавать по=хорошему только на управляющей,\n",
    "awg_tek.run()\n",
    "# а вот длину сэмплов, которая очевидно то же самое, нужно задавать на всех авгшках.\n",
    "# хорошо, что сейчас она только одна.\n",
    "\n",
    "# миксеры подключены к AWG5014 через 6 дБ аттенюаторы. Ставим амплитуду 2В.\n",
    "for channel in range(1,5):\n",
    "    awg_tek.set_amplitude(.2, channel=channel)\n",
    "# Выходы 1, 2 тектроникс: возбуждение (кубитный тон) через 6 дБ аттенюатор\n",
    "# Выходы 3, 4 тектроникс: считывание (резонаторный тон) через 6 дБ аттенюатор\n",
    "iq_ex = awg_iq.awg_iq(awg_tek, awg_tek, 2, 1, lo_ex)\n",
    "iq_ro = awg_iq.awg_iq(awg_tek, awg_tek, 3, 4, lo_ro)\n",
    "iq_ex.set_if(ex_if)\n",
    "iq_ro.set_if(ro_if)\n",
    "iq_ex.set_sideband_id(-1)\n",
    "iq_ro.set_sideband_id(-1)\n",
    "iq_ex.set_frequency(qubit_params[1]['F01_max'])\n",
    "iq_ro.set_frequency(qubit_params[1]['Fr'])\n",
    "\n",
    "# К первому маркере первого канала тектроникса подсоединён триггер оцифровщика.\n",
    "# Надо подавать какой-нибудь триггер, что-ли.\n",
    "# А ещё нужно подавать клок. К сожалению наш оцифровщик не может в 1ГГц клок, ему нужен 500МГц клок.\n",
    "# Будем подавать 500 МГц с цифрового выхода тектроникса.\n",
    "awg_tek.set_marker1_low(-1, channel=1)\n",
    "awg_tek.set_marker2_low(-1, channel=1)\n",
    "awg_tek.set_marker1_high(2, channel=1)\n",
    "awg_tek.set_marker2_high(2, channel=1)\n",
    "awg_tek.set_marker1_low(-0.1, channel=2)\n",
    "awg_tek.set_marker2_low(-0.1, channel=2) \n",
    "awg_tek.set_marker1_high(0.1, channel=2) # с клока хватит и такой амплитуды\n",
    "awg_tek.set_marker2_high(0.1, channel=2) # с клока хватит и такой амплитуды\n",
    "ro_trg = awg_digital.awg_digital(awg_tek, 1)\n",
    "osc_trg = awg_digital.awg_digital(awg_tek, 5)\n",
    "ro_adc_clock = awg_digital.awg_digital(awg_tek, 2) #\n",
    "osc_adc_clock = awg_digital.awg_digital(awg_tek, 6) #\n",
    "\n",
    "# тупо клок\n",
    "ro_adc_clock.set_waveform(np.asarray([0,1]*int(ro_adc_clock.get_nop()/2), dtype=int))\n",
    "osc_adc_clock.set_waveform(np.asarray([0,1]*int(ro_adc_clock.get_nop()/2), dtype=int))\n",
    "awg_channels = {'iq_ex':iq_ex, 'iq_ro':iq_ro, 'ro_trg':ro_trg, 'osc_trg':osc_trg}\n",
    "trg_length = 4e-9\n",
    "pg = tomography_new.pulses(awg_channels)"
   ]
  },
  {
   "cell_type": "markdown",
   "metadata": {},
   "source": [
    "### Оцифровщик"
   ]
  },
  {
   "cell_type": "code",
   "execution_count": 30,
   "metadata": {
    "collapsed": true
   },
   "outputs": [],
   "source": [
    "# настройки оцифровщика\n",
    "adc.set_clock(ro_clock)\n",
    "adc.reset()            \n",
    "adc.set_timeout(10000)\n",
    "\n",
    "\n",
    "#adc.set_spc_samplerate(smp_rate)\n",
    "#External trigger\n",
    "adc.set_trigger_ext0_level0(0) # logical 0 value to 200 mV\n",
    "adc.set_trigger_ext0_level1(1300) # logical 1 value to 600 mV\n",
    "adc.trigger_termination_50Ohm()\n",
    "adc.trigger_mode_pos()\n",
    "adc.set_trigger_ext0_pulsewidth(0)\n",
    "adc.disable_trigger_output()\n",
    "adc.select_channel01()\n",
    "adc.set_multi_mode()\n",
    "#adc.set_segmentsize()\n",
    "adc.set_trigger_ORmask_tmask_ext0()\n",
    "adc.set_trigger_ANDmask_tmask_ext0()\n",
    "adc.set_trigger_ORmask_tmask_NO_ch0()\n",
    "adc.set_trigger_ORmask_tmask_NO_ch1()\n",
    "adc.set_trigger_ANDmask_tmask_NO_ch0()\n",
    "adc.set_trigger_ANDmask_tmask_NO_ch1()\n",
    "# усилитель на оцифровщике\n",
    "adc.set_input_amp_ch0(50)\n",
    "adc.set_input_amp_ch1(50)\n",
    "adc.set_input_offset_ch0(0)\n",
    "adc.set_input_offset_ch1(0)\n",
    "\n",
    "#External clock\n",
    "adc.set_reference_clock(adc.get_clock())\n",
    "\n",
    "# \"Измеритель средних прошедших импульсов\"\n",
    "# Просто усредняет всё по номеру сэмпла.\n",
    "adc_reducer = data_reduce.data_reduce(adc)\n",
    "adc_reducer.filters['Mean Voltage (AC)'] = data_reduce.mean_reducer_noavg(adc, 'Voltage', 0)\n",
    "adc_reducer.filters['S21+'] = data_reduce.mean_reducer_freq(adc, 'Voltage', 0, iq_ro.get_if())\n",
    "adc_reducer.filters['S21-'] = data_reduce.mean_reducer_freq(adc, 'Voltage', 0, -iq_ro.get_if())"
   ]
  },
  {
   "cell_type": "markdown",
   "metadata": {},
   "source": [
    "### Калибровка миксеров"
   ]
  },
  {
   "cell_type": "code",
   "execution_count": 39,
   "metadata": {
    "scrolled": true
   },
   "outputs": [
    {
     "name": "stdout",
     "output_type": "stream",
     "text": [
      "D:/qtlab/ReiData/data/calibrations//IQ-if1.2e+08-rf8.2e+09-sb--1.pkl\n",
      "8297000000.0\n",
      "[ 0.1  0.1] -12.3134803772\n",
      "[ 0.105  0.1  ] -12.0859746933\n",
      "[ 0.1    0.105] -12.269908905\n",
      "[ 0.095  0.105] -12.5024557114\n",
      "[ 0.09    0.1075] -12.7268266678\n",
      "[ 0.09    0.1025] -12.7866973877\n",
      "[ 0.085    0.10125] -13.0398731232\n",
      "[ 0.075    0.10875] -13.4398527145\n",
      "[ 0.0625    0.113125] -13.9457654953\n",
      "[ 0.0575    0.106875] -14.3045902252\n",
      "[ 0.04125    0.1065625] -15.2071247101\n",
      "[ 0.01875    0.1184375] -16.259727478\n",
      "[-0.014375    0.12703125] -17.9034976959\n",
      "[-0.035625    0.12046875] -19.9011173248\n",
      "[-0.0846875   0.12414062] -22.1487579346\n",
      "[-0.1403125   0.14460937] -18.3273448944\n",
      "[-0.210625    0.14171875] -14.9806671143\n",
      "[-0.0634375   0.13070312] -20.5513343811\n",
      "[-0.0078125   0.11023437] -18.5115966797\n",
      "[-0.0409375   0.11882812] -20.5751132965\n",
      "[-0.0621875   0.11226562] -22.9339065552\n",
      "[-0.0615625   0.10304687] -24.1654319763\n",
      "[-0.1053125   0.10835937] -24.7547931671\n",
      "[-0.1375    0.103125] -22.6090259552\n",
      "[-0.0821875   0.08726562] -30.5581359863\n",
      "[-0.0809375   0.06882812] -36.8902282715\n",
      "[-0.1246875   0.07414062] -27.691362381\n",
      "[-0.1003125   0.03460937] -25.9807872772\n",
      "[-0.1015625   0.05304687] -31.7281780243\n",
      "[-0.0578125   0.04773437] -25.989812851\n",
      "[-0.10796875  0.06753906] -33.6919517517\n",
      "[-0.08734375  0.08332031] -33.1598548889\n",
      "[-0.09089844  0.07575195] -39.7547721863\n",
      "[-0.06386719  0.07704102] -28.8624763489\n",
      "[-0.09694336  0.06991455] -43.2397956848\n",
      "[-0.1069043   0.07683838] -33.3209114075\n",
      "[-0.0874292   0.07083069] -44.6789665222\n",
      "[-0.09347412  0.06499329] -46.1829414368\n",
      "[-0.09476196  0.05961395] -37.1157646179\n",
      "[-0.08395996  0.06590942] -39.7479362488\n",
      "[-0.09369751  0.06891327] -52.5241966248\n",
      "[-0.09974243  0.06307587] -37.8982467651\n",
      "[-0.09050751  0.06889198] -56.2346458435\n",
      "[-0.0907309   0.07281197] -45.0945777893\n",
      "[-0.09278831  0.06694796] -49.6971969604\n",
      "[-0.0914167  0.0708573] -49.0149841309\n",
      "[-0.09244541  0.06792529] -54.6942558289\n",
      "[-0.08925541  0.06790401] -49.1463165283\n",
      "[-0.09258698  0.06866095] -56.0965194702\n",
      "[-0.09064908  0.06962765] -49.4697341919\n",
      "[-0.09199633  0.06835088] -57.4226722717\n",
      "[-0.08991685  0.06858191] -52.1606445313\n",
      "[-0.09191945  0.06864119] -57.0660514832\n",
      "[-0.09340827  0.06810009] -51.7232475281\n",
      "[-0.0912327   0.06869401] -58.1289329529\n",
      "[-0.09130958  0.0684037 ] -58.0466079712\n",
      "[-0.09054595  0.06874683] -54.6162834167\n",
      "[-0.09163373  0.06844987] -56.7252006531\n",
      "[-0.09127114  0.06854885] -58.1232872009\n",
      "[-0.09161451  0.06852244] -58.0868759155\n",
      "Warning: Maximum number of iterations has been exceeded.\n",
      "dc: -9.12e-02+6.87e-02j\tI:  5.00e-01+5.00e-01j\tQ: 5.00e-01+5.00e-01j\tB: -25.61 G: -0.72, C:0.00\n",
      "[-69.05322266 -66.11671448  -0.72361374 -56.31868744 -26.24538612\n",
      " -60.34634781 -69.06077576]\n",
      "dc: -9.58e-02+6.87e-02j\tI:  5.00e-01+5.00e-01j\tQ: 5.00e-01+5.00e-01j\tB: -24.87 G: -0.72, C:0.00\n",
      "[-67.7851944  -66.86540222  -0.71817154 -44.23317337 -26.23139191\n",
      " -60.8703537  -69.02579498]\n",
      "dc: -9.12e-02+7.21e-02j\tI:  5.00e-01+5.00e-01j\tQ: 5.00e-01+5.00e-01j\tB: -24.72 G: -0.72, C:0.00\n",
      "[-68.15215302 -64.27570343  -0.71661663 -43.2706871  -26.23139191\n",
      " -60.19863129 -67.74921417]\n",
      "dc: -9.12e-02+6.87e-02j\tI:  5.25e-01+5.00e-01j\tQ: 5.00e-01+5.00e-01j\tB: -28.17 G: -0.61, C:0.00\n",
      "[-68.19025421 -65.91146851  -0.61166042 -53.16455841 -29.21370506\n",
      " -60.38910675 -69.02346039]\n",
      "dc: -9.12e-02+6.87e-02j\tI:  5.00e-01+5.25e-01j\tQ: 5.00e-01+5.00e-01j\tB: -25.32 G: -0.62, C:0.00\n",
      "[-66.64933777 -66.59173584  -0.62254477 -57.15756226 -25.93984795\n",
      " -60.13876724 -66.81315613]\n",
      "dc: -9.12e-02+6.87e-02j\tI:  5.00e-01+5.00e-01j\tQ: 5.25e-01+5.00e-01j\tB: -23.24 G: -0.61, C:0.00\n",
      "[-68.32941437 -66.92837524  -0.61399275 -52.64599991 -23.83761406\n",
      " -59.98638916 -67.59916687]\n",
      "dc: -9.12e-02+6.87e-02j\tI:  5.00e-01+5.00e-01j\tQ: 5.00e-01+5.25e-01j\tB: -24.99 G: -0.60, C:0.00\n",
      "[-68.20968628 -66.01409149  -0.60466331 -56.63589096 -25.57522202\n",
      " -60.37900162 -68.46524811]\n",
      "dc: -9.28e-02+6.98e-02j\tI:  5.08e-01+5.08e-01j\tQ: 4.75e-01+5.08e-01j\tB: -29.60 G: -0.71, C:0.00\n",
      "[-68.54866028 -67.35830688  -0.71195191 -53.9746666  -30.71108055\n",
      " -61.54751587 -69.68196106]\n",
      "dc: -9.35e-02+7.04e-02j\tI:  5.12e-01+5.12e-01j\tQ: 4.50e-01+5.12e-01j\tB: -34.67 G: -0.75, C:0.00\n",
      "[-67.89015198 -68.08211517  -0.75471187 -47.40596008 -38.3309021\n",
      " -60.62701035 -69.0739975 ]\n",
      "dc: -9.35e-02+6.58e-02j\tI:  5.12e-01+5.12e-01j\tQ: 4.83e-01+5.12e-01j\tB: -27.95 G: -0.62, C:0.00\n",
      "[-67.5200882  -66.3476181   -0.62409967 -44.80693436 -29.89941788\n",
      " -59.83478546 -68.22423553]\n",
      "dc: -8.82e-02+6.83e-02j\tI:  5.17e-01+5.17e-01j\tQ: 4.78e-01+5.17e-01j\tB: -29.42 G: -0.60, C:0.00\n",
      "[-68.76634216 -68.68427277  -0.59611136 -45.55017853 -31.56083679\n",
      " -60.43886566 -67.59294891]\n",
      "dc: -9.17e-02+6.82e-02j\tI:  5.22e-01+5.22e-01j\tQ: 4.70e-01+4.89e-01j\tB: -31.04 G: -0.71, C:0.00\n",
      "[-69.0120163  -67.43838501  -0.71039701 -55.33132172 -32.35150528\n",
      " -60.25616455 -66.47341156]\n",
      "dc: -9.19e-02+6.80e-02j\tI:  5.30e-01+4.96e-01j\tQ: 4.60e-01+5.10e-01j\tB: -35.08 G: -0.71, C:0.00\n",
      "[-68.49034882 -66.61273193  -0.71117443 -56.07068253 -37.08308792\n",
      " -60.93254852 -69.82501221]\n",
      "dc: -9.22e-02+6.77e-02j\tI:  5.44e-01+4.82e-01j\tQ: 4.41e-01+5.15e-01j\tB: -30.18 G: -0.76, C:0.00\n",
      "[-67.63048553 -67.34897614  -0.75626677 -54.34784317 -31.36491776\n",
      " -60.99241257 -70.8846817 ]\n",
      "dc: -9.21e-02+6.78e-02j\tI:  5.40e-01+5.20e-01j\tQ: 4.47e-01+5.14e-01j\tB: -40.19 G: -0.62, C:0.00\n",
      "[-67.10103607 -69.3747406   -0.62098986 -55.31110764 -44.50310516\n",
      " -60.07035065 -69.26757812]\n",
      "dc: -9.26e-02+6.73e-02j\tI:  5.59e-01+5.30e-01j\tQ: 4.21e-01+5.20e-01j\tB: -28.63 G: -0.57, C:0.00\n",
      "[-65.29656982 -68.52915192  -0.57201028 -55.53190613 -29.58843613\n",
      " -60.54071045 -69.72782898]\n",
      "dc: -8.94e-02+7.13e-02j\tI:  5.36e-01+5.10e-01j\tQ: 4.52e-01+5.01e-01j\tB: -40.63 G: -0.71, C:0.00\n",
      "[-66.7099762  -66.83896637  -0.71039701 -46.26077271 -53.41194534\n",
      " -60.08979034 -68.10062408]\n",
      "dc: -8.73e-02+7.40e-02j\tI:  5.48e-01+5.09e-01j\tQ: 4.36e-01+4.96e-01j\tB: -30.10 G: -0.75, C:0.00\n",
      "[-68.36984253 -69.43353271  -0.75160205 -39.30256271 -34.67998123\n",
      " -61.09503555 -68.80654907]\n",
      "dc: -9.11e-02+6.93e-02j\tI:  5.27e-01+5.26e-01j\tQ: 4.19e-01+5.14e-01j\tB: -33.64 G: -0.75, C:0.00\n",
      "[-67.383255   -68.26948547  -0.75160205 -52.45474625 -35.73809433\n",
      " -60.91233444 -68.59896851]\n",
      "dc: -9.51e-02+7.00e-02j\tI:  5.39e-01+5.12e-01j\tQ: 4.22e-01+4.97e-01j\tB: -30.01 G: -0.83, C:0.00\n",
      "[-67.07771301 -69.25804901  -0.82779247 -42.78555679 -33.04810333\n",
      " -60.59046936 -69.56768036]\n",
      "dc: -9.33e-02+6.96e-02j\tI:  5.33e-01+5.13e-01j\tQ: 4.36e-01+5.02e-01j\tB: -35.86 G: -0.77, C:0.00\n",
      "[-67.80619049 -67.86753845  -0.76948345 -48.73307419 -39.84771347\n",
      " -59.59455109 -67.51986694]\n",
      "dc: -9.20e-02+7.06e-02j\tI:  5.37e-01+5.04e-01j\tQ: 4.18e-01+5.29e-01j\tB: -29.06 G: -0.73, C:0.00\n",
      "[-68.11872864 -67.28522491  -0.72983336 -50.85785675 -30.33945656\n",
      " -61.06471634 -71.70333862]\n",
      "dc: -9.18e-02+6.88e-02j\tI:  5.26e-01+5.18e-01j\tQ: 4.57e-01+4.99e-01j\tB: -37.31 G: -0.72, C:0.00\n",
      "[-70.54749298 -67.29921722  -0.71661663 -58.08661652 -39.6922226\n",
      " -60.70320129 -68.58108521]\n",
      "dc: -9.30e-02+6.93e-02j\tI:  5.32e-01+4.97e-01j\tQ: 4.82e-01+4.98e-01j\tB: -32.22 G: -0.67, C:0.00\n",
      "[-68.11717224 -67.78901672  -0.67152435 -50.57330704 -34.27881241\n",
      " -59.57666779 -68.79100037]\n",
      "dc: -9.15e-02+6.93e-02j\tI:  5.28e-01+5.19e-01j\tQ: 4.35e-01+5.10e-01j\tB: -39.02 G: -0.73, C:0.00\n",
      "[-67.0295105  -68.24926758  -0.7337206  -54.65182877 -42.73051071\n",
      " -60.32535553 -72.15582275]\n",
      "dc: -8.99e-02+6.79e-02j\tI:  5.52e-01+5.13e-01j\tQ: 4.46e-01+5.00e-01j\tB: -34.07 G: -0.67, C:0.00\n",
      "[-68.46469116 -68.53443909  -0.66763705 -50.78633118 -36.55830765\n",
      " -60.47385025 -69.27457428]\n",
      "dc: -9.26e-02+6.98e-02j\tI:  5.22e-01+5.13e-01j\tQ: 4.49e-01+5.09e-01j\tB: -38.78 G: -0.73, C:0.00\n",
      "[-67.94068909 -68.19723511  -0.73216569 -47.70372772 -45.46015167\n",
      " -60.02137375 -71.46311188]\n",
      "dc: -9.17e-02+7.08e-02j\tI:  5.32e-01+5.35e-01j\tQ: 4.32e-01+5.02e-01j\tB: -31.98 G: -0.71, C:0.00\n",
      "[-67.69345856 -67.57832336  -0.70650971 -46.93871307 -34.62866974\n",
      " -60.29659271 -70.0139389 ]\n",
      "dc: -9.19e-02+6.87e-02j\tI:  5.30e-01+5.06e-01j\tQ: 4.53e-01+5.08e-01j\tB: -40.72 G: -0.71, C:0.00\n",
      "[-66.52883148 -67.5752182   -0.7088421  -59.52568436 -44.62905121\n",
      " -59.77492142 -68.81743622]\n",
      "dc: -8.98e-02+6.90e-02j\tI:  5.27e-01+5.15e-01j\tQ: 4.62e-01+5.12e-01j\tB: -36.79 G: -0.64, C:0.00\n",
      "[-67.41590881 -67.90485382  -0.63809383 -53.5369606  -39.76219177\n",
      " -61.06160736 -68.42170715]\n"
     ]
    },
    {
     "name": "stdout",
     "output_type": "stream",
     "text": [
      "dc: -9.07e-02+6.91e-02j\tI:  5.29e-01+5.15e-01j\tQ: 4.55e-01+5.09e-01j\tB: -39.39 G: -0.67, C:0.00\n",
      "[-68.37761688 -67.33342743  -0.67074686 -48.90256119 -45.82244492\n",
      " -60.67054749 -70.70664978]\n",
      "dc: -9.09e-02+6.99e-02j\tI:  5.36e-01+5.10e-01j\tQ: 4.40e-01+5.18e-01j\tB: -35.02 G: -0.68, C:0.00\n",
      "[-70.09578705 -68.7826004   -0.67929888 -50.82753372 -37.89163971\n",
      " -59.37530899 -68.64406586]\n",
      "dc: -9.16e-02+6.91e-02j\tI:  5.28e-01+5.16e-01j\tQ: 4.53e-01+5.04e-01j\tB: -40.07 G: -0.70, C:0.00\n",
      "[-66.54749298 -67.70582581  -0.70184499 -50.49633789 -46.6138916\n",
      " -59.65597153 -69.24192047]\n",
      "dc: -8.98e-02+6.87e-02j\tI:  5.41e-01+5.16e-01j\tQ: 4.50e-01+5.06e-01j\tB: -38.88 G: -0.66, C:0.00\n",
      "[-67.03884125 -66.4984436   -0.65597528 -50.16281128 -44.34605789\n",
      " -60.79182816 -68.33696747]\n",
      "dc: -9.05e-02+6.89e-02j\tI:  5.37e-01+5.15e-01j\tQ: 4.49e-01+5.07e-01j\tB: -40.21 G: -0.68, C:0.00\n",
      "[-67.57761383 -68.55558777  -0.67696649 -46.95503998 -50.02535629\n",
      " -60.22817612 -69.17195129]\n",
      "dc: -9.05e-02+6.90e-02j\tI:  5.38e-01+5.08e-01j\tQ: 4.69e-01+5.04e-01j\tB: -39.27 G: -0.63, C:0.00\n",
      "[-68.15370941 -68.57891083  -0.63109672 -59.75736618 -42.21506119\n",
      " -60.70475388 -67.59371948]\n",
      "dc: -9.08e-02+6.91e-02j\tI:  5.36e-01+5.11e-01j\tQ: 4.60e-01+5.06e-01j\tB: -42.07 G: -0.66, C:0.00\n",
      "[-68.29442596 -68.87822723  -0.6551978  -54.4426918  -48.13692093\n",
      " -60.84625244 -67.70489502]\n",
      "dc: -9.14e-02+6.92e-02j\tI:  5.40e-01+5.11e-01j\tQ: 4.50e-01+5.04e-01j\tB: -39.18 G: -0.69, C:0.00\n",
      "[-67.96401215 -68.6138916   -0.69018322 -48.45474625 -45.82866287\n",
      " -59.83711624 -69.9789505 ]\n",
      "dc: -9.09e-02+6.91e-02j\tI:  5.32e-01+5.14e-01j\tQ: 4.54e-01+5.08e-01j\tB: -43.68 G: -0.68, C:0.00\n",
      "[-66.98519897 -67.62030792  -0.67541158 -55.41995239 -51.48386002\n",
      " -60.04547501 -69.6578598 ]\n",
      "dc: -9.02e-02+6.93e-02j\tI:  5.42e-01+5.10e-01j\tQ: 4.52e-01+5.11e-01j\tB: -39.86 G: -0.64, C:0.00\n",
      "[-68.29676056 -66.96102905  -0.64431345 -54.42014694 -44.31651688\n",
      " -60.14731979 -68.87496948]\n",
      "dc: -9.13e-02+6.91e-02j\tI:  5.32e-01+5.14e-01j\tQ: 4.53e-01+5.06e-01j\tB: -45.31 G: -0.69, C:0.00\n",
      "[-67.49598694 -68.66365051  -0.68862832 -57.9738884  -54.07355881\n",
      " -59.90164566 -68.39838409]\n",
      "dc: -9.16e-02+6.94e-02j\tI:  5.32e-01+5.10e-01j\tQ: 4.57e-01+5.07e-01j\tB: -40.43 G: -0.68, C:0.00\n",
      "[-67.67324066 -68.1971817   -0.67929888 -51.11907959 -46.50349426\n",
      " -60.66277313 -71.26718903]\n",
      "dc: -8.98e-02+7.11e-02j\tI:  5.26e-01+5.01e-01j\tQ: 4.62e-01+4.98e-01j\tB: -35.14 G: -0.75, C:0.00\n",
      "[-68.92805481 -67.76957703  -0.75471187 -46.22034454 -39.51107788\n",
      " -60.89989471 -68.62229156]\n",
      "dc: -9.15e-02+6.86e-02j\tI:  5.36e-01+5.15e-01j\tQ: 4.51e-01+5.10e-01j\tB: -44.78 G: -0.66, C:0.00\n",
      "[-67.79919434 -66.65937805  -0.65597528 -55.66251755 -54.12020493\n",
      " -60.55937195 -69.28935242]\n",
      "dc: -9.03e-02+6.92e-02j\tI:  5.36e-01+5.13e-01j\tQ: 4.51e-01+5.06e-01j\tB: -43.84 G: -0.68, C:0.00\n",
      "[-68.92183685 -69.36335754  -0.68085378 -52.11966324 -53.8721962\n",
      " -61.53351974 -68.29498291]\n",
      "dc: -9.28e-02+6.67e-02j\tI:  5.31e-01+5.14e-01j\tQ: 4.55e-01+5.13e-01j\tB: -40.17 G: -0.64, C:0.00\n",
      "[-67.88082123 -66.0117569   -0.64431345 -52.30391693 -45.84343338\n",
      " -59.78347397 -69.12686157]\n",
      "dc: -9.02e-02+7.01e-02j\tI:  5.35e-01+5.11e-01j\tQ: 4.53e-01+5.04e-01j\tB: -43.92 G: -0.69, C:0.00\n",
      "[-68.7251358  -67.26734161  -0.69018322 -48.23550415 -67.32602692\n",
      " -61.00796127 -68.52200317]\n",
      "dc: -8.98e-02+6.97e-02j\tI:  5.38e-01+5.20e-01j\tQ: 4.54e-01+5.05e-01j\tB: -40.05 G: -0.64, C:0.00\n",
      "[-68.4413681  -68.3293457   -0.63576144 -52.43453217 -45.43371582\n",
      " -59.31233597 -68.94026947]\n",
      "dc: -9.13e-02+6.90e-02j\tI:  5.32e-01+5.09e-01j\tQ: 4.53e-01+5.07e-01j\tB: -41.81 G: -0.69, C:0.00\n",
      "[-66.54360199 -65.94334412  -0.69018322 -51.47282028 -50.02069092\n",
      " -60.00193787 -69.9431839 ]\n",
      "dc: -9.03e-02+6.95e-02j\tI:  5.36e-01+5.17e-01j\tQ: 4.54e-01+5.06e-01j\tB: -42.53 G: -0.65, C:0.00\n",
      "[-67.09015656 -67.87220764  -0.65442038 -51.61898041 -51.33303452\n",
      " -60.26626968 -69.94085693]\n",
      "dc: -9.07e-02+6.95e-02j\tI:  5.33e-01+5.17e-01j\tQ: 4.45e-01+5.07e-01j\tB: -39.79 G: -0.69, C:0.00\n",
      "[-66.34302521 -68.53132629  -0.69251555 -47.9253006  -47.71787643\n",
      " -60.43653488 -70.14066315]\n",
      "dc: -9.08e-02+6.92e-02j\tI:  5.35e-01+5.12e-01j\tQ: 4.56e-01+5.06e-01j\tB: -44.90 G: -0.66, C:0.00\n",
      "[-67.14146423 -67.89785767  -0.66374981 -56.64832687 -53.92895126\n",
      " -60.28493118 -68.01821136]\n",
      "dc: -9.13e-02+6.90e-02j\tI:  5.32e-01+5.10e-01j\tQ: 4.52e-01+5.07e-01j\tB: -43.65 G: -0.70, C:0.00\n",
      "[-67.45166779 -67.46948242  -0.69562536 -55.29167175 -51.67977905\n",
      " -59.81379318 -68.46524811]\n",
      "dc: -9.11e-02+6.91e-02j\tI:  5.33e-01+5.12e-01j\tQ: 4.53e-01+5.07e-01j\tB: -43.78 G: -0.67, C:0.00\n",
      "[-67.13058472 -67.02711487  -0.66763705 -50.99002075 -57.28288651\n",
      " -59.57978058 -69.2403717 ]\n",
      "dc: -9.09e-02+6.93e-02j\tI:  5.37e-01+5.12e-01j\tQ: 4.51e-01+5.05e-01j\tB: -42.55 G: -0.67, C:0.00\n",
      "[-67.08937836 -67.93440247  -0.66763705 -50.92160797 -52.17657089\n",
      " -59.90475464 -70.46252441]\n",
      "dc: -9.09e-02+6.92e-02j\tI:  5.33e-01+5.13e-01j\tQ: 4.53e-01+5.07e-01j\tB: -46.44 G: -0.66, C:0.00\n",
      "[-68.43748474 -65.68989563  -0.65908509 -59.07553864 -56.89415741\n",
      " -60.44664001 -68.57020569]\n",
      "dc: -9.06e-02+6.94e-02j\tI:  5.36e-01+5.15e-01j\tQ: 4.53e-01+5.06e-01j\tB: -44.89 G: -0.65, C:0.00\n",
      "[-68.05963898 -67.11418915  -0.65208799 -52.90100479 -56.79853058\n",
      " -61.89036942 -69.24581146]\n",
      "dc: -9.14e-02+6.93e-02j\tI:  5.33e-01+5.14e-01j\tQ: 4.56e-01+5.07e-01j\tB: -42.82 G: -0.65, C:0.00\n",
      "[-67.18811035 -65.46365356  -0.65053308 -53.39624023 -50.78804016\n",
      " -60.27404404 -71.6858139 ]\n",
      "dc: -9.06e-02+6.92e-02j\tI:  5.35e-01+5.13e-01j\tQ: 4.52e-01+5.06e-01j\tB: -48.47 G: -0.67, C:0.00\n",
      "[-67.64759064 -69.1044693   -0.66685963 -59.99526596 -63.14022064\n",
      " -61.16189575 -67.21276855]\n",
      "dc: -9.16e-02+6.81e-02j\tI:  5.34e-01+5.17e-01j\tQ: 4.53e-01+5.09e-01j\tB: -45.28 G: -0.64, C:0.00\n",
      "[-68.01454926 -68.045578    -0.63731635 -53.5369606  -59.11223221\n",
      " -60.00193787 -67.19100189]\n",
      "dc: -9.03e-02+6.94e-02j\tI:  5.32e-01+5.13e-01j\tQ: 4.56e-01+5.04e-01j\tB: -40.19 G: -0.68, C:0.00\n",
      "[-69.66197205 -68.58357239  -0.67929888 -47.87321091 -48.45023727\n",
      " -60.48784637 -69.87243652]\n",
      "dc: -9.12e-02+6.88e-02j\tI:  5.35e-01+5.15e-01j\tQ: 4.52e-01+5.08e-01j\tB: -47.44 G: -0.65, C:0.00\n",
      "[-67.20755005 -66.52487946  -0.64897817 -57.12257385 -63.8360405\n",
      " -60.37278366 -69.20072174]\n",
      "dc: -9.13e-02+6.88e-02j\tI:  5.33e-01+5.17e-01j\tQ: 4.49e-01+5.08e-01j\tB: -46.09 G: -0.67, C:0.00\n",
      "[-66.90823364 -67.7252655   -0.66763705 -57.6699028  -56.69124222\n",
      " -60.30591965 -68.79799652]\n",
      "dc: -9.17e-02+6.84e-02j\tI:  5.32e-01+5.15e-01j\tQ: 4.51e-01+5.09e-01j\tB: -47.57 G: -0.66, C:0.00\n",
      "[-68.38616943 -67.57444     -0.66374981 -60.77272034 -59.56082535\n",
      " -59.7951355  -68.10450745]\n",
      "dc: -9.12e-02+6.84e-02j\tI:  5.36e-01+5.16e-01j\tQ: 4.51e-01+5.10e-01j\tB: -44.56 G: -0.64, C:0.00\n",
      "[-68.70570374 -66.31496429  -0.63964874 -55.18827057 -54.59134293\n",
      " -59.89853668 -66.94454956]\n",
      "dc: -9.12e-02+6.89e-02j\tI:  5.33e-01+5.15e-01j\tQ: 4.52e-01+5.07e-01j\tB: -44.51 G: -0.67, C:0.00\n",
      "[-67.15623474 -65.59815216  -0.66919196 -51.52413177 -59.43176651\n",
      " -61.11835861 -68.32219696]\n",
      "dc: -9.11e-02+6.88e-02j\tI:  5.33e-01+5.14e-01j\tQ: 4.52e-01+5.08e-01j\tB: -45.56 G: -0.67, C:0.00\n",
      "[-67.94457245 -66.03119659  -0.66530472 -51.58321762 -68.14857483\n",
      " -59.88531876 -69.60655212]\n",
      "dc: -9.09e-02+6.90e-02j\tI:  5.35e-01+5.14e-01j\tQ: 4.52e-01+5.07e-01j\tB: -45.30 G: -0.66, C:0.00\n",
      "[-66.35079956 -68.33634186  -0.65753019 -51.38108063 -64.84983826\n",
      " -60.0967865  -70.1134491 ]\n",
      "dc: -9.07e-02+6.92e-02j\tI:  5.34e-01+5.13e-01j\tQ: 4.53e-01+5.07e-01j\tB: -46.06 G: -0.67, C:0.00\n",
      "[-69.59899902 -67.93284607  -0.66763705 -52.1414299  -66.43273926\n",
      " -60.00971222 -70.51616669]\n",
      "dc: -9.09e-02+6.90e-02j\tI:  5.34e-01+5.15e-01j\tQ: 4.51e-01+5.07e-01j\tB: -46.44 G: -0.66, C:0.00\n",
      "[-68.99102783 -67.31321716  -0.66374981 -55.71538544 -59.21874619\n",
      " -60.46296692 -70.50528717]\n",
      "dc: -9.11e-02+6.87e-02j\tI:  5.35e-01+5.15e-01j\tQ: 4.53e-01+5.08e-01j\tB: -46.14 G: -0.66, C:0.00\n",
      "[-69.027565   -66.27297974  -0.65597528 -53.08059311 -65.83409882\n",
      " -60.52516174 -67.46311188]\n",
      "dc: -9.09e-02+6.92e-02j\tI:  5.33e-01+5.14e-01j\tQ: 4.52e-01+5.06e-01j\tB: -47.45 G: -0.68, C:0.00\n",
      "[-67.97412109 -69.18998718  -0.67541158 -58.01509094 -60.36237717\n",
      " -60.66976929 -68.98847198]\n",
      "dc: -9.09e-02+6.90e-02j\tI:  5.33e-01+5.14e-01j\tQ: 4.52e-01+5.06e-01j\tB: -45.20 G: -0.67, C:0.00\n",
      "[-69.29656982 -66.52876282  -0.66919196 -51.81723404 -62.24692535\n",
      " -60.10456085 -68.95659637]\n",
      "dc: -9.09e-02+6.90e-02j\tI:  5.35e-01+5.14e-01j\tQ: 4.52e-01+5.07e-01j\tB: -45.81 G: -0.66, C:0.00\n",
      "[-66.91989136 -66.6142807   -0.66374981 -51.79701996 -67.81271362\n",
      " -60.78016663 -70.11578369]\n"
     ]
    },
    {
     "name": "stdout",
     "output_type": "stream",
     "text": [
      "dc: -9.06e-02+6.93e-02j\tI:  5.35e-01+5.14e-01j\tQ: 4.53e-01+5.06e-01j\tB: -45.96 G: -0.66, C:0.00\n",
      "[-68.41493225 -68.6520462   -0.66374981 -54.22267532 -59.60902786\n",
      " -60.99474335 -67.88993073]\n",
      "dc: -9.07e-02+6.92e-02j\tI:  5.34e-01+5.14e-01j\tQ: 4.52e-01+5.06e-01j\tB: -44.11 G: -0.67, C:0.00\n",
      "[-67.42212677 -68.37055206  -0.66608214 -50.08972931 -60.21699524\n",
      " -60.29347992 -69.00169373]\n",
      "dc: -9.09e-02+6.91e-02j\tI:  5.34e-01+5.14e-01j\tQ: 4.52e-01+5.07e-01j\tB: -45.12 G: -0.67, C:0.00\n",
      "[-67.18656158 -66.33673096  -0.66608214 -51.23025513 -65.10406494\n",
      " -60.43342209 -68.57720184]\n",
      "dc: -9.08e-02+6.92e-02j\tI:  5.34e-01+5.14e-01j\tQ: 4.52e-01+5.06e-01j\tB: -47.61 G: -0.67, C:0.00\n",
      "[-67.76187134 -68.56414032  -0.67385668 -56.46796036 -64.45567322\n",
      " -60.75139999 -68.79566193]\n",
      "dc: -9.08e-02+6.91e-02j\tI:  5.35e-01+5.14e-01j\tQ: 4.51e-01+5.07e-01j\tB: -46.16 G: -0.67, C:0.00\n",
      "[-68.25788879 -66.08328247  -0.66608214 -55.75114822 -59.05003738\n",
      " -60.34090805 -69.59178162]\n",
      "dc: -9.08e-02+6.90e-02j\tI:  5.35e-01+5.14e-01j\tQ: 4.52e-01+5.07e-01j\tB: -46.62 G: -0.66, C:0.00\n",
      "[-68.97392273 -66.22944641  -0.66219491 -54.38749313 -64.58395386\n",
      " -60.15742874 -69.34999084]\n",
      "dc: -9.07e-02+6.92e-02j\tI:  5.35e-01+5.13e-01j\tQ: 4.52e-01+5.06e-01j\tB: -46.06 G: -0.67, C:0.00\n",
      "[-66.5956955  -65.9938736   -0.66919196 -52.48428726 -68.6912384\n",
      " -61.67890549 -67.08448792]\n",
      "dc: -9.06e-02+6.93e-02j\tI:  5.35e-01+5.14e-01j\tQ: 4.52e-01+5.06e-01j\tB: -46.25 G: -0.67, C:0.00\n",
      "[-68.3099823  -65.26773834  -0.66763705 -55.41217804 -59.99542236\n",
      " -61.41923523 -68.01898956]\n",
      "dc: -9.07e-02+6.91e-02j\tI:  5.35e-01+5.14e-01j\tQ: 4.52e-01+5.07e-01j\tB: -47.59 G: -0.67, C:0.00\n",
      "[-68.72358704 -67.5223465   -0.66530472 -55.9050827  -64.5761795\n",
      " -61.24430847 -69.66641235]\n",
      "dc: -9.08e-02+6.91e-02j\tI:  5.35e-01+5.14e-01j\tQ: 4.52e-01+5.06e-01j\tB: -46.17 G: -0.67, C:0.00\n",
      "[-69.97839355 -66.50233459  -0.66608214 -56.36533737 -57.69882202\n",
      " -61.086483   -67.50431824]\n",
      "dc: -9.07e-02+6.92e-02j\tI:  5.35e-01+5.14e-01j\tQ: 4.53e-01+5.06e-01j\tB: -44.51 G: -0.67, C:0.00\n",
      "[-67.62892914 -66.53809357  -0.66608214 -50.17136383 -63.42476654\n",
      " -60.67521286 -68.7700119 ]\n",
      "dc: -9.07e-02+6.91e-02j\tI:  5.35e-01+5.14e-01j\tQ: 4.52e-01+5.06e-01j\tB: -44.29 G: -0.67, C:0.00\n",
      "[-68.79666138 -68.0090332   -0.66685963 -50.05085754 -61.24556732\n",
      " -60.64566803 -67.88215637]\n",
      "dc: -9.07e-02+6.92e-02j\tI:  5.35e-01+5.14e-01j\tQ: 4.52e-01+5.06e-01j\tB: -46.79 G: -0.67, C:0.00\n",
      "[-66.75817871 -66.95713806  -0.66841453 -54.75522995 -64.33672333\n",
      " -60.88278961 -69.73327637]\n",
      "dc: -9.07e-02+6.92e-02j\tI:  5.35e-01+5.14e-01j\tQ: 4.52e-01+5.06e-01j\tB: -46.93 G: -0.67, C:0.00\n",
      "[-67.88315582 -69.02905273  -0.67074686 -55.18516159 -62.37753677\n",
      " -61.28162384 -68.35173798]\n",
      "dc: -9.07e-02+6.91e-02j\tI:  5.35e-01+5.14e-01j\tQ: 4.52e-01+5.07e-01j\tB: -48.33 G: -0.66, C:0.00\n",
      "[-69.60288239 -66.94625854  -0.66452724 -59.32821274 -63.43098831\n",
      " -60.73352051 -68.45980835]\n",
      "dc: -9.06e-02+6.93e-02j\tI:  5.35e-01+5.14e-01j\tQ: 4.52e-01+5.06e-01j\tB: -45.51 G: -0.67, C:0.00\n",
      "[-68.77878571 -67.96160889  -0.66919196 -52.58224869 -60.93458557\n",
      " -60.73896408 -68.6184082 ]\n",
      "dc: -9.07e-02+6.92e-02j\tI:  5.35e-01+5.14e-01j\tQ: 4.52e-01+5.06e-01j\tB: -46.31 G: -0.67, C:0.00\n",
      "[-67.78053284 -66.51165771  -0.67074686 -56.14686966 -59.93478012\n",
      " -60.483181   -67.09148407]\n",
      "dc: -9.07e-02+6.92e-02j\tI:  5.35e-01+5.14e-01j\tQ: 4.52e-01+5.06e-01j\tB: -43.60 G: -0.67, C:0.00\n",
      "[-66.12533569 -66.49688721  -0.66919196 -49.6209259  -59.66500473\n",
      " -61.02506638 -67.70722961]\n",
      "dc: -9.06e-02+6.92e-02j\tI:  5.35e-01+5.14e-01j\tQ: 4.52e-01+5.06e-01j\tB: -43.63 G: -0.67, C:0.00\n",
      "[-69.54924011 -69.12078094  -0.66763705 -47.98905182 -62.42185211\n",
      " -61.54440308 -69.78536224]\n",
      "dc: -9.06e-02+6.92e-02j\tI:  5.35e-01+5.14e-01j\tQ: 4.52e-01+5.06e-01j\tB: -46.57 G: -0.67, C:0.00\n",
      "[-67.65924835 -67.45315552  -0.66919196 -54.56941986 -62.6278801\n",
      " -61.04216766 -68.80966187]\n",
      "dc: -9.07e-02+6.91e-02j\tI:  5.35e-01+5.14e-01j\tQ: 4.52e-01+5.06e-01j\tB: -48.83 G: -0.67, C:0.00\n",
      "[-68.2749939  -67.63041687  -0.67074686 -62.06951141 -62.3907547\n",
      " -60.89367676 -68.67671204]\n",
      "dc: -9.08e-02+6.91e-02j\tI:  5.35e-01+5.14e-01j\tQ: 4.52e-01+5.07e-01j\tB: -43.77 G: -0.67, C:0.00\n",
      "[-66.56226349 -67.16705322  -0.66919196 -48.76261902 -64.40280151\n",
      " -60.13332748 -69.49770355]\n",
      "dc: -9.07e-02+6.92e-02j\tI:  5.35e-01+5.13e-01j\tQ: 4.52e-01+5.06e-01j\tB: -44.67 G: -0.67, C:0.00\n",
      "[-68.36526489 -67.98812866  -0.66772175 -49.73529816 -65.90570831\n",
      " -61.10289383 -67.68476868]\n",
      "dc: -9.07e-02+6.92e-02j\tI:  5.35e-01+5.14e-01j\tQ: 4.52e-01+5.06e-01j\tB: -43.81 G: -0.67, C:0.00\n",
      "[-70.09742737 -68.68395233  -0.67005408 -49.18563843 -59.77626419\n",
      " -60.74215698 -69.08885193]\n",
      "dc: -9.07e-02+6.92e-02j\tI:  5.35e-01+5.14e-01j\tQ: 4.52e-01+5.06e-01j\tB: -44.16 G: -0.67, C:0.00\n",
      "[-69.52755737 -68.08919525  -0.66927665 -49.2416153  -61.93214035\n",
      " -60.82612228 -70.2355957 ]\n",
      "dc: -9.07e-02+6.91e-02j\tI:  5.35e-01+5.14e-01j\tQ: 4.52e-01+5.06e-01j\tB: -45.63 G: -0.66, C:0.00\n",
      "[-68.32405853 -67.92515564  -0.66383445 -52.09797668 -63.11153793\n",
      " -61.42942429 -67.63812256]\n",
      "dc: -9.07e-02+6.92e-02j\tI:  5.35e-01+5.14e-01j\tQ: 4.52e-01+5.06e-01j\tB: -43.96 G: -0.67, C:0.00\n",
      "[-67.31803131 -67.53953552  -0.66694427 -48.98661041 -62.60930252\n",
      " -61.30814362 -69.47368622]\n",
      "dc: -9.07e-02+6.92e-02j\tI:  5.35e-01+5.14e-01j\tQ: 4.52e-01+5.06e-01j\tB: -44.70 G: -0.67, C:0.00\n",
      "[-67.73397064 -68.03011322  -0.66927665 -50.51897049 -62.39006042\n",
      " -61.02126312 -68.2173233 ]\n",
      "dc: -9.07e-02+6.92e-02j\tI:  5.35e-01+5.14e-01j\tQ: 4.52e-01+5.06e-01j\tB: -45.74 G: -0.67, C:0.00\n",
      "[-67.41132355 -69.37121582  -0.67160898 -52.4486084  -63.27791595\n",
      " -60.39541245 -68.62237549]\n",
      "dc: -9.07e-02+6.91e-02j\tI:  5.35e-01+5.14e-01j\tQ: 4.52e-01+5.06e-01j\tB: -47.22 G: -0.67, C:0.00\n",
      "[-69.06341553 -69.1008606   -0.66694427 -56.25502014 -61.2697525\n",
      " -60.93107986 -69.09040833]\n",
      "dc: -9.07e-02+6.91e-02j\tI:  5.35e-01+5.14e-01j\tQ: 4.52e-01+5.06e-01j\tB: -44.80 G: -0.67, C:0.00\n",
      "[-68.91647339 -68.15294647  -0.66849917 -50.90847397 -62.30143356\n",
      " -60.61776352 -66.71762085]\n",
      "dc: -9.08e-02+6.91e-02j\tI:  5.35e-01+5.14e-01j\tQ: 4.52e-01+5.06e-01j\tB: -46.76 G: -0.67, C:0.00\n",
      "[-67.07313538 -68.1342926   -0.67316389 -55.50866699 -61.18112183\n",
      " -61.63622665 -68.40779877]\n",
      "dc: -9.07e-02+6.91e-02j\tI:  5.35e-01+5.14e-01j\tQ: 4.52e-01+5.06e-01j\tB: -45.72 G: -0.67, C:0.00\n",
      "[-68.19733429 -67.88861847  -0.66849917 -52.55823135 -61.8069725\n",
      " -61.22106934 -69.13471985]\n",
      "dc: -9.07e-02+6.91e-02j\tI:  5.35e-01+5.14e-01j\tQ: 4.52e-01+5.07e-01j\tB: -45.89 G: -0.67, C:0.00\n",
      "[-68.23620605 -67.71913147  -0.66538936 -52.7183876  -62.52378464\n",
      " -61.26849365 -69.03131866]\n",
      "dc: -9.07e-02+6.91e-02j\tI:  5.35e-01+5.14e-01j\tQ: 4.52e-01+5.06e-01j\tB: -46.47 G: -0.67, C:0.00\n",
      "[-66.36721039 -68.64352417  -0.67160898 -54.57183456 -62.21902084\n",
      " -61.18919373 -68.36504364]\n",
      "dc: -9.07e-02+6.92e-02j\tI:  5.35e-01+5.14e-01j\tQ: 4.52e-01+5.06e-01j\tB: -45.62 G: -0.67, C:0.00\n",
      "[-68.80685425 -68.2477951   -0.67160898 -52.31255341 -62.37528992\n",
      " -61.14410019 -67.37767792]\n",
      "dc: -9.07e-02+6.91e-02j\tI:  5.35e-01+5.14e-01j\tQ: 4.52e-01+5.06e-01j\tB: -44.24 G: -0.67, C:0.00\n",
      "[-68.95845795 -69.18385315  -0.66849917 -49.56114578 -62.12805939\n",
      " -61.34934998 -66.59633636]\n",
      "dc: -9.07e-02+6.91e-02j\tI:  5.35e-01+5.14e-01j\tQ: 4.52e-01+5.06e-01j\tB: -48.71 G: -0.67, C:0.00\n",
      "[-67.10889435 -67.50765991  -0.66849917 -62.76541901 -63.18228912\n",
      " -59.91028214 -68.48399353]\n",
      "dc: -9.07e-02+6.91e-02j\tI:  5.35e-01+5.14e-01j\tQ: 4.52e-01+5.06e-01j\tB: -45.86 G: -0.67, C:0.00\n",
      "[-67.99986267 -68.19493103  -0.67316389 -52.65152359 -63.11309433\n",
      " -61.07568359 -68.08982086]\n",
      "dc: -9.07e-02+6.91e-02j\tI:  5.35e-01+5.14e-01j\tQ: 4.52e-01+5.06e-01j\tB: -47.10 G: -0.67, C:0.00\n",
      "[-68.20043945 -68.32942963  -0.6747188  -56.06765747 -62.50590134\n",
      " -61.08657074 -67.1794281 ]\n",
      "dc: -9.07e-02+6.91e-02j\tI:  5.35e-01+5.14e-01j\tQ: 4.52e-01+5.06e-01j\tB: -46.80 G: -0.67, C:0.00\n",
      "[-68.01385498 -69.09146118  -0.67005408 -54.67368317 -62.14749527\n",
      " -61.47529602 -69.1075058 ]\n",
      "dc: -9.07e-02+6.91e-02j\tI:  5.35e-01+5.14e-01j\tQ: 4.52e-01+5.06e-01j\tB: -46.09 G: -0.67, C:0.00\n",
      "[-67.64611816 -66.79862213  -0.67160898 -54.11002731 -62.39783859\n",
      " -60.31066895 -68.11547852]\n",
      "dc: -9.07e-02+6.91e-02j\tI:  5.35e-01+5.14e-01j\tQ: 4.52e-01+5.06e-01j\tB: -46.13 G: -0.67, C:0.00\n",
      "[-67.97342682 -67.73312378  -0.67005408 -53.91333389 -61.87849808\n",
      " -60.8059082  -68.12169647]\n",
      "Warning: Maximum number of iterations has been exceeded.\n"
     ]
    },
    {
     "name": "stdout",
     "output_type": "stream",
     "text": [
      "dc: -9.07e-02+6.91e-02j\tI:  5.35e-01+5.14e-01j\tQ: 4.52e-01+5.06e-01j\tB: -46.86 G: -0.68, C:0.00\n",
      "[-67.51317596 -66.29949951  -0.67549628 -55.35239792 -62.55332565\n",
      " -61.63700485 -69.02820587]\n",
      "D:/qtlab/ReiData/data/calibrations/\n",
      "D:/qtlab/ReiData/data/calibrations//IQ-if7.5e+07-rf6.7e+09-sb--1.pkl\n",
      "6751000000.0\n",
      "[ 0.1  0.1] -51.40599823\n",
      "[ 0.105  0.1  ] -52.2148780823\n",
      "[ 0.1    0.105] -50.8755226135\n",
      "[ 0.105  0.095] -52.6448631287\n",
      "[ 0.1075  0.09  ] -53.6005935669\n",
      "[ 0.1125  0.09  ] -54.8319358826\n",
      "[ 0.11875  0.085  ] -57.0238952637\n",
      "[ 0.12125  0.075  ] -59.7405967712\n",
      "[ 0.129375  0.0625  ] -63.8075828552\n",
      "[ 0.140625  0.0575  ] -65.8686828613\n",
      "[ 0.1571875  0.04125  ] -55.7526283264\n",
      "[ 0.15125  0.035  ] -54.8157615662\n",
      "[ 0.126875  0.0725  ] -63.134513855\n",
      "[ 0.143125  0.0475  ] -59.1840324402\n",
      "[ 0.1309375  0.06625  ] -67.9460601807\n",
      "[ 0.1421875  0.06125  ] -68.1016769409\n",
      "[ 0.14859375  0.060625  ] -62.5710372925\n",
      "[ 0.1325  0.07  ] -69.8663330078\n",
      "[ 0.1284375  0.07625  ] -63.2738761902\n",
      "[ 0.14375  0.065  ] -67.3243331909\n",
      "[ 0.13414062  0.0659375 ] -72.606590271\n",
      "[ 0.12445312  0.0746875 ] -61.4020957947\n",
      "[ 0.13775391  0.06460938] -79.6851043701\n",
      "[ 0.13939453  0.06054688] -69.4479598999\n",
      "[ 0.13422363  0.06763672] -74.3399887085\n",
      "[ 0.13783691  0.06630859] -82.6699295044\n",
      "[ 0.13968506  0.06649414] -74.8544998169\n",
      "[ 0.14136719  0.06328125] -70.6639404297\n",
      "[ 0.13600952  0.06654785] -81.8916244507\n",
      "[ 0.13609253  0.06824707] -79.3592147827\n",
      "[ 0.13733856  0.0655188 ] -83.86277771\n",
      "[ 0.13916595  0.06527954] -76.0689620972\n",
      "[ 0.13679863  0.06623077] -83.8239364624\n",
      "[ 0.13630028  0.06544098] -78.9034957886\n",
      "[ 0.13745275  0.06609169] -83.2130661011\n",
      "[ 0.13668444  0.06565788] -81.035484314\n",
      "[ 0.13726068  0.06598324] -82.7359237671\n",
      "[ 0.1370686   0.06587479] -82.3531723022\n",
      "[ 0.13739566  0.06580524] -82.7110137939\n",
      "[ 0.13766562  0.06544926] -80.5754241943\n",
      "[ 0.13721785  0.0657684 ] -81.8771820068\n",
      "[ 0.13736711  0.06566202] -83.462928772\n",
      "[ 0.13720358  0.06569679] -82.826965332\n",
      "[ 0.13750209  0.06548403] -81.4042053223\n",
      "[ 0.13727821  0.0656436 ] -79.2229614258\n",
      "[ 0.13735284  0.06559041] -76.8912506104\n",
      "[ 0.13727107  0.0656078 ] -78.8339080811\n",
      "[ 0.1372568   0.06553618] -74.3150024414\n",
      "[ 0.13732883  0.06557685] -78.5543746948\n",
      "[ 0.13728081  0.06554974] -77.523765564\n",
      "[ 0.13731682  0.06557008] -78.0584793091\n",
      "[ 0.13730482  0.0655633 ] -77.6772460938\n",
      "[ 0.13733369  0.06554783] -77.3314361572\n",
      "[ 0.13730968  0.06553427] -76.8525619507\n",
      "[ 0.13732769  0.06554444] -79.5565948486\n",
      "[ 0.13736144  0.06549994] -79.5780563354\n",
      "[ 0.13737231  0.0654743 ] -77.6870651245\n",
      "[ 0.13733885  0.0655269 ] -80.0972671509\n",
      "[ 0.13731597  0.06554576] -81.991607666\n",
      "[ 0.13731569  0.06553766] -79.3772735596\n",
      "[ 0.13733306  0.06552959] -78.9864578247\n",
      "[ 0.13732727  0.06553228] -78.7260818481\n",
      "[ 0.1373387   0.06552285] -80.9053955078\n",
      "[ 0.13735     0.06550937] -78.5516662598\n",
      "[ 0.13733295  0.06552655] -80.660774231\n",
      "[ 0.13734432  0.0655151 ] -81.4822463989\n",
      "[ 0.13734417  0.06551104] -82.2446899414\n",
      "Warning: Maximum number of iterations has been exceeded.\n",
      "dc:  1.37e-01+6.55e-02j\tI:  5.00e-01+5.00e-01j\tQ: 5.00e-01+5.00e-01j\tB: -37.36 G: -27.17, C:0.00\n",
      "[-84.14067078 -77.66782379 -27.17363548 -76.30229187 -37.72634888\n",
      " -77.39415741 -81.72271729]\n",
      "dc:  1.44e-01+6.55e-02j\tI:  5.00e-01+5.00e-01j\tQ: 5.00e-01+5.00e-01j\tB: -37.29 G: -27.18, C:0.00\n",
      "[-83.55252075 -76.46121216 -27.17596626 -72.49432373 -37.72634888\n",
      " -77.57064056 -82.20045471]\n",
      "dc:  1.37e-01+6.88e-02j\tI:  5.00e-01+5.00e-01j\tQ: 5.00e-01+5.00e-01j\tB: -37.30 G: -27.18, C:0.00\n",
      "[-84.24835205 -77.02020264 -27.17518997 -72.45933533 -37.72867966\n",
      " -77.23477936 -81.91552734]\n",
      "dc:  1.37e-01+6.55e-02j\tI:  5.25e-01+5.00e-01j\tQ: 5.00e-01+5.00e-01j\tB: -36.77 G: -27.05, C:0.00\n",
      "[-83.92565918 -76.95023346 -27.05002022 -71.41444397 -37.19534683\n",
      " -77.3809433  -81.58821869]\n",
      "dc:  1.37e-01+6.55e-02j\tI:  5.00e-01+5.25e-01j\tQ: 5.00e-01+5.00e-01j\tB: -37.48 G: -27.05, C:0.00\n",
      "[-83.37719727 -77.95081329 -27.05468369 -73.59986115 -37.88728333\n",
      " -78.34575653 -81.68578339]\n",
      "dc:  1.37e-01+6.55e-02j\tI:  5.00e-01+5.00e-01j\tQ: 5.25e-01+5.00e-01j\tB: -37.62 G: -27.07, C:0.00\n",
      "[-83.31890106 -77.18735504 -27.07334328 -73.30054474 -38.04743576\n",
      " -77.39804077 -81.91279602]\n",
      "dc:  1.37e-01+6.55e-02j\tI:  5.00e-01+5.00e-01j\tQ: 5.00e-01+5.25e-01j\tB: -36.95 G: -27.06, C:0.00\n",
      "[-82.71948242 -77.00621033 -27.06168175 -73.52367401 -37.34617615\n",
      " -77.42913818 -81.92601013]\n",
      "dc:  1.40e-01+6.66e-02j\tI:  4.75e-01+5.08e-01j\tQ: 5.08e-01+5.08e-01j\tB: -37.98 G: -27.18, C:0.00\n",
      "[-84.3719635  -77.71835327 -27.18374252 -81.07974243 -38.33975983\n",
      " -76.31660461 -82.36216736]\n",
      "dc:  1.41e-01+6.72e-02j\tI:  4.50e-01+5.12e-01j\tQ: 5.12e-01+5.12e-01j\tB: -38.44 G: -27.26, C:0.00\n",
      "[-82.64674377 -76.26140594 -27.25604439 -72.46633911 -38.95705795\n",
      " -77.08161926 -81.90190887]\n",
      "dc:  1.41e-01+6.72e-02j\tI:  4.83e-01+5.12e-01j\tQ: 5.12e-01+4.79e-01j\tB: -38.33 G: -27.24, C:0.00\n",
      "[-84.46951294 -77.5146637  -27.23816299 -76.44378662 -38.72226715\n",
      " -78.44838715 -82.66692352]\n",
      "dc:  1.33e-01+6.77e-02j\tI:  4.78e-01+5.17e-01j\tQ: 5.17e-01+4.97e-01j\tB: -38.01 G: -27.15, C:0.00\n",
      "[-82.86564636 -76.08181763 -27.1534214  -66.54602814 -38.65773773\n",
      " -77.82486725 -82.32291412]\n",
      "dc:  1.38e-01+6.41e-02j\tI:  4.70e-01+5.22e-01j\tQ: 5.22e-01+4.96e-01j\tB: -38.45 G: -27.14, C:0.00\n",
      "[-83.53406525 -77.4960022  -27.14409065 -71.56993103 -38.97571564\n",
      " -76.06781769 -81.48364258]\n",
      "dc:  1.38e-01+6.17e-02j\tI:  4.56e-01+5.33e-01j\tQ: 5.33e-01+4.94e-01j\tB: -39.07 G: -27.13, C:0.00\n",
      "[-83.50491333 -77.48045349 -27.12776566 -68.61638641 -39.69097519\n",
      " -78.25790405 -82.70502472]\n",
      "dc:  1.38e-01+6.61e-02j\tI:  4.56e-01+5.33e-01j\tQ: 5.33e-01+4.94e-01j\tB: -39.22 G: -27.13, C:0.00\n",
      "[-83.59645081 -76.39901733 -27.13087463 -78.0616684  -39.67309189\n",
      " -77.25888062 -82.90949249]\n",
      "dc:  1.39e-01+6.63e-02j\tI:  4.33e-01+5.50e-01j\tQ: 5.50e-01+4.92e-01j\tB: -40.34 G: -27.11, C:0.00\n",
      "[-83.60163879 -77.65149689 -27.11299324 -75.96565247 -40.86725998\n",
      " -78.14595795 -81.78414154]\n",
      "dc:  1.39e-01+6.63e-02j\tI:  4.33e-01+5.17e-01j\tQ: 5.50e-01+4.92e-01j\tB: -40.01 G: -27.26, C:0.00\n",
      "[-82.98577118 -77.88706207 -27.26304245 -80.1125946  -40.45832062\n",
      " -78.35430908 -81.80939484]\n",
      "dc:  1.40e-01+6.66e-02j\tI:  4.11e-01+5.47e-01j\tQ: 5.33e-01+4.89e-01j\tB: -40.83 G: -27.30, C:0.00\n",
      "[-83.65982056 -79.16986084 -27.29569435 -80.44689941 -41.30341339\n",
      " -77.62272644 -82.0014267 ]\n",
      "dc:  1.41e-01+6.72e-02j\tI:  3.67e-01+5.71e-01j\tQ: 5.37e-01+4.83e-01j\tB: -42.90 G: -27.39, C:0.00\n",
      "[-84.0187912  -78.48104095 -27.3882122  -82.42473602 -43.50671768\n",
      " -76.23186493 -82.9265976 ]\n",
      "dc:  1.47e-01+6.42e-02j\tI:  3.96e-01+5.49e-01j\tQ: 5.49e-01+4.87e-01j\tB: -41.26 G: -27.31, C:0.00\n",
      "[-81.50821686 -76.82195282 -27.30735588 -67.70210266 -42.15628052\n",
      " -77.89639282 -81.65856934]\n",
      "dc:  1.41e-01+6.38e-02j\tI:  3.62e-01+5.65e-01j\tQ: 5.65e-01+5.08e-01j\tB: -42.75 G: -27.24, C:0.00\n",
      "[-84.16278076 -77.70436096 -27.23660851 -76.91958618 -43.4701767\n",
      " -76.72399139 -80.32368469]\n",
      "dc:  1.41e-01+6.22e-02j\tI:  3.01e-01+5.91e-01j\tQ: 5.91e-01+5.22e-01j\tB: -45.69 G: -27.22, C:0.00\n",
      "[-82.41083527 -77.62583923 -27.21950531 -73.54699707 -46.8637619\n",
      " -76.97122192 -80.3400116 ]\n",
      "dc:  1.41e-01+6.22e-02j\tI:  3.45e-01+5.91e-01j\tQ: 5.91e-01+4.78e-01j\tB: -45.57 G: -27.24, C:0.00\n",
      "[-82.53601074 -77.86529541 -27.23505402 -71.95865631 -46.81711197\n",
      " -75.31835938 -82.22377777]\n",
      "dc:  1.44e-01+6.78e-02j\tI:  3.03e-01+5.89e-01j\tQ: 5.89e-01+4.90e-01j\tB: -47.05 G: -27.37, C:0.00\n",
      "[-81.34106445 -77.34051514 -27.37343979 -70.89199066 -48.63635254\n",
      " -76.70610809 -80.89122009]\n",
      "dc:  1.47e-01+7.08e-02j\tI:  2.27e-01+6.17e-01j\tQ: 6.17e-01+4.88e-01j\tB: -51.04 G: -27.47, C:0.00\n",
      "[-83.19373322 -77.89173126 -27.46906662 -65.63018799 -54.81944275\n",
      " -75.3821106  -80.14642334]\n",
      "dc:  1.46e-01+6.46e-02j\tI:  2.56e-01+6.40e-01j\tQ: 5.95e-01+4.91e-01j\tB: -53.40 G: -27.30, C:0.00\n",
      "[-83.20729065 -78.90397644 -27.29725075 -69.19792175 -57.35005188\n",
      " -75.34168243 -81.91201782]\n",
      "dc:  1.50e-01+6.37e-02j\tI:  1.68e-01+7.01e-01j\tQ: 6.18e-01+4.91e-01j\tB: -48.56 G: -27.24, C:0.00\n",
      "[-81.45767975 -78.03244781 -27.24282837 -65.37284851 -51.30302048\n",
      " -74.6054306  -82.46012115]\n",
      "dc:  1.48e-01+6.40e-02j\tI:  1.98e-01+6.36e-01j\tQ: 6.10e-01+4.91e-01j\tB: -51.32 G: -27.50, C:0.00\n",
      "[-81.31851196 -78.10397339 -27.50249672 -65.08130646 -55.40564346\n",
      " -74.87210083 -83.05254364]\n",
      "dc:  1.41e-01+6.61e-02j\tI:  1.68e-01+6.67e-01j\tQ: 6.32e-01+4.97e-01j\tB: -49.23 G: -27.35, C:0.00\n",
      "[-81.20267487 -77.57375336 -27.3547821  -77.74758148 -50.92362213\n",
      " -74.29367065 -82.86828613]\n"
     ]
    },
    {
     "name": "stdout",
     "output_type": "stream",
     "text": [
      "dc:  1.47e-01+6.28e-02j\tI:  1.32e-01+6.76e-01j\tQ: 6.75e-01+5.06e-01j\tB: -44.29 G: -27.29, C:0.00\n",
      "[-80.09480286 -78.13818359 -27.2886982  -68.06050873 -45.66026306\n",
      " -74.03322601 -82.52542877]\n",
      "dc:  1.46e-01+6.39e-02j\tI:  1.91e-01+6.50e-01j\tQ: 6.40e-01+5.00e-01j\tB: -49.43 G: -27.33, C:0.00\n",
      "[-80.93833923 -77.23867035 -27.32523727 -69.58509064 -51.81303024\n",
      " -75.59823608 -81.55516815]\n",
      "dc:  1.49e-01+6.84e-02j\tI:  1.02e-01+6.76e-01j\tQ: 6.38e-01+5.19e-01j\tB: -44.26 G: -27.43, C:0.00\n",
      "[-80.69810486 -77.53876495 -27.42630768 -64.29063416 -46.03654861\n",
      " -73.86995697 -80.45040894]\n",
      "dc:  1.43e-01+6.37e-02j\tI:  2.84e-01+6.12e-01j\tQ: 6.03e-01+4.88e-01j\tB: -49.96 G: -27.31, C:0.00\n",
      "[-80.46720123 -78.47015381 -27.31046677 -74.11842346 -51.97473907\n",
      " -75.63166809 -81.73709106]\n",
      "dc:  1.49e-01+6.89e-02j\tI:  1.40e-01+6.83e-01j\tQ: 6.42e-01+4.63e-01j\tB: -44.66 G: -27.51, C:0.00\n",
      "[-82.21647644 -78.10863495 -27.51260376 -62.80025482 -46.66473007\n",
      " -73.9865799  -82.05351257]\n",
      "dc:  1.43e-01+6.38e-02j\tI:  2.61e-01+6.14e-01j\tQ: 6.04e-01+5.07e-01j\tB: -49.73 G: -27.30, C:0.00\n",
      "[-83.69250488 -77.86763    -27.29958153 -71.14155579 -51.89543915\n",
      " -76.251297   -80.44496155]\n",
      "dc:  1.50e-01+6.42e-02j\tI:  3.04e-01+5.90e-01j\tQ: 5.91e-01+4.91e-01j\tB: -46.29 G: -27.35, C:0.00\n",
      "[-84.20446777 -77.32807159 -27.35400391 -63.64223862 -48.55316544\n",
      " -75.90144348 -80.4542923 ]\n",
      "dc:  1.43e-01+6.56e-02j\tI:  2.02e-01+6.47e-01j\tQ: 6.22e-01+4.96e-01j\tB: -52.59 G: -27.36, C:0.00\n",
      "[-81.96379852 -77.52321625 -27.36177826 -73.50579071 -55.53469849\n",
      " -75.33312988 -82.05935669]\n",
      "dc:  1.45e-01+6.70e-02j\tI:  2.86e-01+6.06e-01j\tQ: 5.77e-01+4.87e-01j\tB: -48.36 G: -27.42, C:0.00\n",
      "[-83.28702545 -78.39629364 -27.41775513 -67.89335632 -50.51934814\n",
      " -75.63244629 -81.64302063]\n",
      "dc:  1.45e-01+6.46e-02j\tI:  2.14e-01+6.39e-01j\tQ: 6.24e-01+4.97e-01j\tB: -52.23 G: -27.35, C:0.00\n",
      "[-82.8423233  -77.42681122 -27.35244942 -70.44651031 -55.54402924\n",
      " -74.87054443 -81.13689423]\n",
      "dc:  1.48e-01+6.73e-02j\tI:  2.00e-01+6.50e-01j\tQ: 6.20e-01+4.76e-01j\tB: -50.99 G: -27.46, C:0.00\n",
      "[-81.53542328 -78.54012299 -27.45740509 -64.43757629 -55.18484497\n",
      " -74.53079224 -80.90210724]\n",
      "dc:  1.50e-01+6.86e-02j\tI:  1.48e-01+6.64e-01j\tQ: 6.27e-01+4.92e-01j\tB: -46.53 G: -27.49, C:0.00\n",
      "[-81.73522949 -78.06121063 -27.48772621 -62.2187233  -49.17046356\n",
      " -74.51679993 -83.30365753]\n",
      "dc:  1.45e-01+6.49e-02j\tI:  2.50e-01+6.25e-01j\tQ: 6.09e-01+4.89e-01j\tB: -52.93 G: -27.36, C:0.00\n",
      "[-82.26778412 -77.93915558 -27.36177826 -69.22280121 -56.83460236\n",
      " -75.56869507 -80.00725555]\n",
      "dc:  1.44e-01+6.42e-02j\tI:  2.49e-01+6.18e-01j\tQ: 6.06e-01+5.08e-01j\tB: -50.69 G: -27.32, C:0.00\n",
      "[-81.75544739 -77.53410339 -27.31746292 -71.48052216 -53.11526489\n",
      " -75.72651672 -83.48130798]\n",
      "dc:  1.47e-01+6.65e-02j\tI:  2.12e-01+6.42e-01j\tQ: 6.17e-01+4.84e-01j\tB: -53.15 G: -27.42, C:0.00\n",
      "[-82.74669647 -77.42992401 -27.42475128 -67.11201477 -57.61283112\n",
      " -76.12612915 -82.08850098]\n",
      "dc:  1.45e-01+5.93e-02j\tI:  2.17e-01+6.59e-01j\tQ: 6.08e-01+4.95e-01j\tB: -56.67 G: -27.29, C:0.00\n",
      "[-83.39042664 -77.58618927 -27.28792    -67.67178345 -64.73119354\n",
      " -75.04780579 -80.24711609]\n",
      "dc:  1.44e-01+5.36e-02j\tI:  2.13e-01+6.80e-01j\tQ: 6.04e-01+4.99e-01j\tB: -55.10 G: -27.20, C:0.00\n",
      "[-81.74689484 -78.22681427 -27.19695854 -62.92076111 -64.67971039\n",
      " -75.60290527 -80.95341492]\n",
      "dc:  1.42e-01+6.45e-02j\tI:  2.53e-01+6.48e-01j\tQ: 6.15e-01+4.93e-01j\tB: -56.22 G: -27.19, C:0.00\n",
      "[-81.90627289 -76.90436554 -27.19151688 -78.50481415 -60.487854\n",
      " -74.93817902 -82.03408051]\n",
      "dc:  1.44e-01+6.39e-02j\tI:  2.50e-01+6.48e-01j\tQ: 5.97e-01+4.86e-01j\tB: -56.47 G: -27.29, C:0.00\n",
      "[-82.74825287 -78.2874527  -27.29103088 -73.40161133 -61.51409531\n",
      " -75.10300446 -82.27042389]\n",
      "dc:  1.46e-01+6.23e-02j\tI:  2.78e-01+6.40e-01j\tQ: 5.92e-01+4.84e-01j\tB: -51.28 G: -27.26, C:0.00\n",
      "[-83.48950195 -77.664711   -27.25993156 -68.37071228 -54.32653809\n",
      " -76.4728775  -82.29608154]\n",
      "dc:  1.44e-01+6.48e-02j\tI:  2.21e-01+6.46e-01j\tQ: 6.14e-01+4.93e-01j\tB: -55.09 G: -27.34, C:0.00\n",
      "[-81.39548492 -76.46199036 -27.33534431 -71.78295135 -59.90320969\n",
      " -75.42330933 -81.21308899]\n",
      "dc:  1.45e-01+6.29e-02j\tI:  2.20e-01+6.69e-01j\tQ: 6.07e-01+4.92e-01j\tB: -57.86 G: -27.25, C:0.00\n",
      "[-82.92939758 -78.06121063 -27.2544899  -71.04281616 -65.21149445\n",
      " -74.99027252 -82.45623779]\n",
      "dc:  1.44e-01+6.19e-02j\tI:  2.05e-01+6.91e-01j\tQ: 6.06e-01+4.93e-01j\tB: -53.90 G: -27.19, C:0.00\n",
      "[-80.23163605 -78.18793488 -27.19384766 -69.72114563 -58.20136261\n",
      " -76.03827667 -81.63446808]\n",
      "dc:  1.41e-01+6.01e-02j\tI:  2.61e-01+6.61e-01j\tQ: 5.96e-01+4.99e-01j\tB: -53.15 G: -27.13, C:0.00\n",
      "[-82.65340424 -77.8520813  -27.12620926 -69.08908081 -56.99631119\n",
      " -76.79785156 -80.95652771]\n",
      "dc:  1.43e-01+6.17e-02j\tI:  2.48e-01+6.56e-01j\tQ: 6.01e-01+4.95e-01j\tB: -56.23 G: -27.20, C:0.00\n",
      "[-82.2203598  -78.09775543 -27.2039547  -72.54718781 -61.34538651\n",
      " -75.74595642 -81.26595306]\n",
      "dc:  1.41e-01+6.11e-02j\tI:  2.14e-01+6.69e-01j\tQ: 6.19e-01+4.93e-01j\tB: -55.33 G: -27.23, C:0.00\n",
      "[-80.01783752 -78.66918182 -27.22961044 -70.4519577  -60.47386169\n",
      " -75.63244629 -81.68811035]\n",
      "dc:  1.42e-01+5.97e-02j\tI:  2.46e-01+6.71e-01j\tQ: 6.01e-01+4.92e-01j\tB: -56.06 G: -27.16, C:0.00\n",
      "[-82.67050934 -78.97860718 -27.15575409 -68.04106903 -62.68182755\n",
      " -75.08822632 -81.81250763]\n",
      "dc:  1.46e-01+6.29e-02j\tI:  2.65e-01+6.48e-01j\tQ: 5.91e-01+4.91e-01j\tB: -52.37 G: -27.24, C:0.00\n",
      "[-83.91494751 -77.21534729 -27.23660851 -68.87527466 -55.9024353\n",
      " -76.49930573 -80.64283752]\n",
      "dc:  1.42e-01+6.16e-02j\tI:  2.26e-01+6.64e-01j\tQ: 6.12e-01+4.93e-01j\tB: -57.23 G: -27.24, C:0.00\n",
      "[-82.98770905 -77.52243805 -27.23505402 -69.0556488  -64.88962555\n",
      " -75.0252533  -82.78432465]\n",
      "dc:  1.44e-01+6.49e-02j\tI:  2.25e-01+6.44e-01j\tQ: 6.12e-01+4.93e-01j\tB: -55.73 G: -27.33, C:0.00\n",
      "[-83.49927521 -77.84275055 -27.33378983 -71.39811707 -60.76929474\n",
      " -75.55858612 -80.96352386]\n",
      "dc:  1.43e-01+6.10e-02j\tI:  2.41e-01+6.64e-01j\tQ: 6.04e-01+4.92e-01j\tB: -57.72 G: -27.20, C:0.00\n",
      "[-81.64193726 -76.82583618 -27.2039547  -71.63446045 -64.90283966\n",
      " -75.82836914 -81.83000946]\n",
      "dc:  1.44e-01+6.27e-02j\tI:  2.21e-01+6.61e-01j\tQ: 6.14e-01+4.88e-01j\tB: -57.42 G: -27.29, C:0.00\n",
      "[-81.95758057 -79.32379913 -27.28636551 -70.81269073 -63.86122513\n",
      " -75.99396515 -82.98490143]\n",
      "dc:  1.45e-01+5.93e-02j\tI:  2.05e-01+6.74e-01j\tQ: 5.99e-01+4.89e-01j\tB: -54.81 G: -27.31, C:0.00\n",
      "[-84.02909088 -78.24080658 -27.31435394 -66.66731262 -60.91701126\n",
      " -74.93585205 -80.90988159]\n",
      "dc:  1.43e-01+6.32e-02j\tI:  2.41e-01+6.54e-01j\tQ: 6.11e-01+4.92e-01j\tB: -58.30 G: -27.23, C:0.00\n",
      "[-81.76399231 -78.26490784 -27.23349953 -73.36973572 -64.95026398\n",
      " -76.06704712 -82.53049469]\n",
      "dc:  1.43e-01+5.97e-02j\tI:  2.06e-01+6.76e-01j\tQ: 6.21e-01+4.98e-01j\tB: -53.77 G: -27.20, C:0.00\n",
      "[-82.10840607 -78.80290222 -27.19695854 -67.68344116 -58.58309555\n",
      " -74.93973541 -81.21930695]\n",
      "dc:  1.44e-01+6.28e-02j\tI:  2.39e-01+6.55e-01j\tQ: 6.03e-01+4.89e-01j\tB: -57.99 G: -27.27, C:0.00\n",
      "[-80.35758209 -77.00543213 -27.27237129 -71.57148743 -65.60488129\n",
      " -75.89134216 -82.6062851 ]\n",
      "dc:  1.42e-01+6.54e-02j\tI:  2.45e-01+6.63e-01j\tQ: 6.09e-01+4.87e-01j\tB: -59.29 G: -27.20, C:0.00\n",
      "[-81.78421021 -77.91738129 -27.19618034 -81.3067627  -65.33821869\n",
      " -76.20232391 -80.48228455]\n",
      "dc:  1.40e-01+6.85e-02j\tI:  2.59e-01+6.66e-01j\tQ: 6.09e-01+4.83e-01j\tB: -57.26 G: -27.15, C:0.00\n",
      "[-82.29421997 -78.17394257 -27.1526432  -76.27896881 -62.10417938\n",
      " -76.28084564 -82.0177536 ]\n",
      "dc:  1.44e-01+6.45e-02j\tI:  2.43e-01+6.58e-01j\tQ: 6.04e-01+4.87e-01j\tB: -58.23 G: -27.25, C:0.00\n",
      "[-83.30024719 -78.9249649  -27.24827003 -72.45079041 -65.00157928\n",
      " -75.45130157 -82.53242493]\n",
      "dc:  1.43e-01+6.40e-02j\tI:  2.55e-01+6.60e-01j\tQ: 5.99e-01+4.91e-01j\tB: -55.84 G: -27.18, C:0.00\n",
      "[-83.86292267 -78.64430237 -27.18374252 -76.17012787 -59.78814697\n",
      " -75.8501358  -80.7151413 ]\n",
      "dc:  1.44e-01+6.30e-02j\tI:  2.30e-01+6.61e-01j\tQ: 6.10e-01+4.89e-01j\tB: -57.94 G: -27.26, C:0.00\n",
      "[-81.62949371 -78.05654907 -27.25682259 -71.81871796 -65.36698151\n",
      " -74.93196106 -81.49685669]\n",
      "dc:  1.44e-01+6.63e-02j\tI:  2.31e-01+6.56e-01j\tQ: 6.10e-01+4.86e-01j\tB: -57.86 G: -27.28, C:0.00\n",
      "[-83.04446411 -78.21203613 -27.28403282 -71.48519135 -65.15084839\n",
      " -74.8899765  -81.2636261 ]\n",
      "dc:  1.44e-01+6.49e-02j\tI:  2.34e-01+6.58e-01j\tQ: 6.09e-01+4.88e-01j\tB: -57.87 G: -27.27, C:0.00\n",
      "[-81.84796143 -78.79279327 -27.26615143 -72.61716461 -64.579422\n",
      " -75.04003143 -81.86459351]\n"
     ]
    },
    {
     "name": "stdout",
     "output_type": "stream",
     "text": [
      "dc:  1.43e-01+6.23e-02j\tI:  2.39e-01+6.62e-01j\tQ: 6.06e-01+4.91e-01j\tB: -58.06 G: -27.22, C:0.00\n",
      "[-82.37541199 -77.75411987 -27.22183609 -72.39558411 -65.34909821\n",
      " -75.16053009 -80.96392822]\n",
      "dc:  1.42e-01+6.41e-02j\tI:  2.59e-01+6.49e-01j\tQ: 6.07e-01+4.86e-01j\tB: -55.93 G: -27.21, C:0.00\n",
      "[-82.01433563 -78.80989838 -27.21483994 -73.80200195 -60.47386169\n",
      " -75.5313797  -81.38490295]\n",
      "dc:  1.44e-01+6.32e-02j\tI:  2.30e-01+6.64e-01j\tQ: 6.07e-01+4.90e-01j\tB: -58.23 G: -27.25, C:0.00\n",
      "[-82.32376099 -78.33798981 -27.24671555 -71.83660126 -65.47737885\n",
      " -76.64391327 -80.62999725]\n",
      "dc:  1.43e-01+6.42e-02j\tI:  2.49e-01+6.58e-01j\tQ: 6.03e-01+4.90e-01j\tB: -57.68 G: -27.21, C:0.00\n",
      "[-82.99081421 -78.72593689 -27.21017456 -75.48363495 -63.29446411\n",
      " -75.14809418 -80.68209076]\n",
      "dc:  1.43e-01+6.33e-02j\tI:  2.35e-01+6.60e-01j\tQ: 6.08e-01+4.89e-01j\tB: -58.25 G: -27.25, C:0.00\n",
      "[-82.25067902 -78.28356171 -27.24671555 -72.84495544 -65.35842896\n",
      " -74.83322906 -82.45857239]\n",
      "dc:  1.43e-01+6.45e-02j\tI:  2.39e-01+6.66e-01j\tQ: 6.11e-01+4.90e-01j\tB: -58.55 G: -27.19, C:0.00\n",
      "[-82.12706757 -79.38910675 -27.19073868 -72.15068817 -65.75881958\n",
      " -76.6058197  -81.31259918]\n",
      "dc:  1.43e-01+6.57e-02j\tI:  2.39e-01+6.60e-01j\tQ: 6.11e-01+4.88e-01j\tB: -58.10 G: -27.24, C:0.00\n",
      "[-80.82872009 -78.10630798 -27.23583031 -73.79656219 -64.70848083\n",
      " -75.59979248 -82.15924835]\n",
      "dc:  1.43e-01+6.49e-02j\tI:  2.39e-01+6.60e-01j\tQ: 6.10e-01+4.88e-01j\tB: -58.24 G: -27.23, C:0.00\n",
      "[-82.17060089 -78.14906311 -27.22650146 -74.59811401 -64.67271423\n",
      " -75.5313797  -81.36198425]\n",
      "dc:  1.42e-01+6.37e-02j\tI:  2.33e-01+6.64e-01j\tQ: 6.15e-01+4.92e-01j\tB: -58.38 G: -27.20, C:0.00\n",
      "[-81.1474762  -78.31311035 -27.19695854 -76.12347412 -64.58953094\n",
      " -75.63478088 -81.39189911]\n",
      "dc:  1.41e-01+6.51e-02j\tI:  2.48e-01+6.59e-01j\tQ: 6.14e-01+4.89e-01j\tB: -59.36 G: -27.18, C:0.00\n",
      "[-82.69771576 -78.51058197 -27.18374252 -78.68907166 -65.71916962\n",
      " -75.27015686 -82.17675018]\n",
      "dc:  1.40e-01+6.60e-02j\tI:  2.57e-01+6.56e-01j\tQ: 6.18e-01+4.88e-01j\tB: -58.01 G: -27.15, C:0.00\n",
      "[-80.40656281 -77.08317566 -27.14875603 -78.28557587 -63.7158432\n",
      " -75.82214355 -81.22748566]\n",
      "dc:  1.41e-01+6.56e-02j\tI:  2.47e-01+6.62e-01j\tQ: 6.15e-01+4.90e-01j\tB: -58.97 G: -27.16, C:0.00\n",
      "[-81.45845795 -76.34381866 -27.15886307 -83.91166687 -65.62820435\n",
      " -74.00990295 -79.74137115]\n",
      "dc:  1.41e-01+6.43e-02j\tI:  2.46e-01+6.63e-01j\tQ: 6.15e-01+4.91e-01j\tB: -58.83 G: -27.16, C:0.00\n",
      "[-82.24368286 -78.96617126 -27.15730858 -77.74602509 -64.94482422\n",
      " -74.9094162  -82.0725708 ]\n",
      "dc:  1.40e-01+6.63e-02j\tI:  2.45e-01+6.71e-01j\tQ: 6.15e-01+4.87e-01j\tB: -59.00 G: -27.13, C:0.00\n",
      "[-81.40558624 -78.01689911 -27.13398552 -83.99286652 -64.56620789\n",
      " -74.8915329  -82.2599411 ]\n",
      "Warning: Maximum number of iterations has been exceeded.\n",
      "dc:  1.41e-01+6.51e-02j\tI:  2.48e-01+6.59e-01j\tQ: 6.14e-01+4.89e-01j\tB: -58.91 G: -27.18, C:0.00\n",
      "[-82.81200409 -77.56908417 -27.18063164 -78.7015152  -65.20760345\n",
      " -75.3447876  -80.58568573]\n",
      "D:/qtlab/ReiData/data/calibrations/\n"
     ]
    },
    {
     "data": {
      "text/plain": [
       "{'I': (0.24764264232158317+0.65890104903789948j),\n",
       " 'Q': (0.61423155430803233+0.48877158473967863j),\n",
       " 'dc': (0.14143137026361272+0.065077569347558845j),\n",
       " 'num_sidebands': 7,\n",
       " 'score': -38.572228763045096}"
      ]
     },
     "execution_count": 39,
     "metadata": {},
     "output_type": "execute_result"
    }
   ],
   "source": [
    "#sa.set_ref(0)\n",
    "iq_ex.get_calibration(sa)\n",
    "iq_ro.get_calibration(sa)"
   ]
  },
  {
   "cell_type": "markdown",
   "metadata": {},
   "source": [
    "### Длительность и амплитуда считывающих импульсов"
   ]
  },
  {
   "cell_type": "code",
   "execution_count": 40,
   "metadata": {
    "collapsed": true
   },
   "outputs": [],
   "source": [
    "def set_adc_nop(ro_adc_length):\n",
    "    adc.stop()\n",
    "    signal_size = int(np.ceil(4./3.*(ro_adc_length)*adc.get_clock()))\n",
    "    nop = int( 2**np.ceil(np.log2(signal_size)) )\n",
    "    posttrigger = nop*3/4\n",
    "    \n",
    "    print (nop)\n",
    "    adc.set_nop(nop)\n",
    "    adc.set_post_trigger(posttrigger)"
   ]
  },
  {
   "cell_type": "code",
   "execution_count": 66,
   "metadata": {},
   "outputs": [
    {
     "name": "stdout",
     "output_type": "stream",
     "text": [
      "1024\n"
     ]
    }
   ],
   "source": [
    "ro_adc_length = 1e-6        # Вот такой длины считываем (опухоль Фёдорова!!)\n",
    "ro_amplitude = 0.24\n",
    "ro_dac_length = 0.5e-6\n",
    "adc.set_nums(20000)\n",
    "#adc.set_software_nums_multi(1)\n",
    "set_adc_nop(ro_adc_length)"
   ]
  },
  {
   "cell_type": "code",
   "execution_count": 63,
   "metadata": {},
   "outputs": [
    {
     "data": {
      "text/plain": [
       "[<matplotlib.lines.Line2D at 0x241cc32f400>]"
      ]
     },
     "execution_count": 63,
     "metadata": {},
     "output_type": "execute_result"
    }
   ],
   "source": [
    "#tomography.set_sequence([tomography.ro_rect(ro_amplitude, ro_dac_length, awg_channels)], awg_channels)\n",
    "plt.plot(np.mean(np.real(adc.measure()['Voltage']), axis=0))"
   ]
  },
  {
   "cell_type": "code",
   "execution_count": null,
   "metadata": {
    "collapsed": true
   },
   "outputs": [],
   "source": [
    "plt.pcolormesh(np.real(adc.measure()['Voltage']));\n",
    "plt.colorbar()"
   ]
  },
  {
   "cell_type": "code",
   "execution_count": 42,
   "metadata": {
    "collapsed": true
   },
   "outputs": [],
   "source": [
    "adc.stop()"
   ]
  },
  {
   "cell_type": "markdown",
   "metadata": {},
   "source": [
    "### Прохождение считывающих испульсов разной амплитуды"
   ]
  },
  {
   "cell_type": "code",
   "execution_count": 65,
   "metadata": {},
   "outputs": [
    {
     "data": {
      "application/vnd.jupyter.widget-view+json": {
       "model_id": "4a720d5989554e408deb82fad85f5fe7",
       "version_major": 2,
       "version_minor": 0
      },
      "text/plain": [
       "A Jupyter Widget"
      ]
     },
     "metadata": {},
     "output_type": "display_data"
    },
    {
     "name": "stdout",
     "output_type": "stream",
     "text": [
      "Started at:  Mar 06 2018 09:32:56\n"
     ]
    },
    {
     "name": "stderr",
     "output_type": "stream",
     "text": [
      "D:\\qtlab_replacement\\instruments\\Tektronix_AWG5014.py:647: ComplexWarning: Casting complex values to real discards the imaginary part\n",
      "  m1[:] = marker[:len(m1)]\n"
     ]
    },
    {
     "name": "stdout",
     "output_type": "stream",
     "text": [
      "\n",
      "Elapsed time: 0 h 3 m 41.22 s\n"
     ]
    },
    {
     "name": "stderr",
     "output_type": "stream",
     "text": [
      "C:\\ProgramData\\Anaconda3\\lib\\site-packages\\matplotlib\\cbook\\deprecation.py:106: MatplotlibDeprecationWarning: Adding an axes using the same arguments as a previous axes currently reuses the earlier instance.  In a future version, a new instance will always be created and returned.  Meanwhile, this warning can be suppressed, and the future behavior ensured, by passing a unique label to each axes instance.\n",
      "  warnings.warn(message, mplDeprecation, stacklevel=1)\n"
     ]
    }
   ],
   "source": [
    "def set_pulse_amplitude(x):\n",
    "    awg_tek.set_nop(awg_tek.get_clock()/rep_rate)\n",
    "    pg.set_seq([pg.p('ro_trg', trg_length, pg.rect, 1), pg.p('iq_ro', ro_dac_length, pg.rect, x)])\n",
    "    awg_tek.run()\n",
    "measurement = sweep.sweep(adc_reducer, (np.linspace(0, 1, 51), set_pulse_amplitude, 'Readout amplitude'), filename='Readout pulse passthrough')"
   ]
  },
  {
   "cell_type": "markdown",
   "metadata": {},
   "source": [
    "### Осцилляции Раби"
   ]
  },
  {
   "cell_type": "code",
   "execution_count": 67,
   "metadata": {},
   "outputs": [
    {
     "data": {
      "application/vnd.jupyter.widget-view+json": {
       "model_id": "74c325877e6d4b8bbd203d711c6bb338",
       "version_major": 2,
       "version_minor": 0
      },
      "text/plain": [
       "A Jupyter Widget"
      ]
     },
     "metadata": {},
     "output_type": "display_data"
    },
    {
     "name": "stdout",
     "output_type": "stream",
     "text": [
      "Started at:  Mar 06 2018 09:37:12\n"
     ]
    },
    {
     "name": "stderr",
     "output_type": "stream",
     "text": [
      "D:\\qtlab_replacement\\instruments\\Tektronix_AWG5014.py:647: ComplexWarning: Casting complex values to real discards the imaginary part\n",
      "  m1[:] = marker[:len(m1)]\n"
     ]
    },
    {
     "name": "stdout",
     "output_type": "stream",
     "text": [
      "\n",
      "Elapsed time: 0 h 2 m 33.32 s\n"
     ]
    },
    {
     "name": "stderr",
     "output_type": "stream",
     "text": [
      "C:\\ProgramData\\Anaconda3\\lib\\site-packages\\matplotlib\\cbook\\deprecation.py:106: MatplotlibDeprecationWarning: Adding an axes using the same arguments as a previous axes currently reuses the earlier instance.  In a future version, a new instance will always be created and returned.  Meanwhile, this warning can be suppressed, and the future behavior ensured, by passing a unique label to each axes instance.\n",
      "  warnings.warn(message, mplDeprecation, stacklevel=1)\n"
     ]
    }
   ],
   "source": [
    "ex_amplitude = 0.5\n",
    "pause_length = 16e-9\n",
    "lengths = np.linspace(0e-9, 0.2e-6, 41)\n",
    "readout_begin = np.max(lengths)\n",
    "def set_ex_length(length):\n",
    "    awg_tek.set_nop(awg_tek.get_clock()/rep_rate)\n",
    "    sequence = [pg.p(None, readout_begin-length), \n",
    "                pg.p('iq_ex', length, pg.rect, ex_amplitude), \n",
    "                pg.p(None, pause_length), \n",
    "                pg.p('ro_trg', trg_length, pg.rect, 1), \n",
    "                pg.p('iq_ro', ro_dac_length, pg.rect, ro_amplitude)]\n",
    "    pg.set_seq(sequence)\n",
    "    awg_tek.run()\n",
    "measurement = sweep.sweep(adc_reducer, (lengths, set_ex_length, 'Rabi pulse length'), filename='Rabi')\n",
    "measurement_fitted, fitted_parameters = fitting.S21pm_fit(measurement, fitting.exp_sin_fit)\n",
    "annotation = 'Phase: {0:4.4g} rad, Freq: {1:4.4g}, Decay: {2:4.4g} s'.format(fitted_parameters['phase'], \n",
    "                                                                             fitted_parameters['freq'], \n",
    "                                                                             fitted_parameters['decay'])\n",
    "save_pkl.save_pkl({'type':'Rabi'}, measurement_fitted,annotation=annotation)"
   ]
  },
  {
   "cell_type": "code",
   "execution_count": null,
   "metadata": {
    "collapsed": true
   },
   "outputs": [],
   "source": [
    "save_pkl.save_pkl({'type':'Rabi'}, measurement_fitted,annotation=annotation)"
   ]
  },
  {
   "cell_type": "markdown",
   "metadata": {},
   "source": [
    "### Осцилляции Рамзея"
   ]
  },
  {
   "cell_type": "code",
   "execution_count": 60,
   "metadata": {
    "scrolled": true
   },
   "outputs": [
    {
     "data": {
      "application/vnd.jupyter.widget-view+json": {
       "model_id": "830f3849456240e58090fac9a289b0fc",
       "version_major": 2,
       "version_minor": 0
      },
      "text/plain": [
       "A Jupyter Widget"
      ]
     },
     "metadata": {},
     "output_type": "display_data"
    },
    {
     "name": "stdout",
     "output_type": "stream",
     "text": [
      "Started at:  Mar 05 2018 21:37:22\n"
     ]
    },
    {
     "name": "stderr",
     "output_type": "stream",
     "text": [
      "D:\\qtlab_replacement\\instruments\\Tektronix_AWG5014.py:647: ComplexWarning: Casting complex values to real discards the imaginary part\n",
      "  m1[:] = marker[:len(m1)]\n"
     ]
    },
    {
     "name": "stdout",
     "output_type": "stream",
     "text": [
      "\n",
      "Elapsed time: 0 h 16 m 47.74 s\n"
     ]
    },
    {
     "name": "stderr",
     "output_type": "stream",
     "text": [
      "C:\\ProgramData\\Anaconda3\\lib\\site-packages\\matplotlib\\cbook\\deprecation.py:106: MatplotlibDeprecationWarning: Adding an axes using the same arguments as a previous axes currently reuses the earlier instance.  In a future version, a new instance will always be created and returned.  Meanwhile, this warning can be suppressed, and the future behavior ensured, by passing a unique label to each axes instance.\n",
      "  warnings.warn(message, mplDeprecation, stacklevel=1)\n"
     ]
    }
   ],
   "source": [
    "ex_amplitude = 0.5\n",
    "pi2_pulse = 10e-9\n",
    "pause_length = 16e-9\n",
    "delays = np.linspace(0e-9, 2000e-9, 301)\n",
    "target_freq_offset = 7e6\n",
    "\n",
    "readout_begin = np.max(delays)+pi2_pulse*2\n",
    "\n",
    "def set_delay(delay):\n",
    "    awg_tek.set_nop(awg_tek.get_clock()/rep_rate)\n",
    "    \n",
    "    sequence = [pg.p(None, readout_begin-pi2_pulse),\n",
    "                pg.p('iq_ex', pi2_pulse, pg.rect, ex_amplitude), \n",
    "                pg.p(None, delay), \n",
    "                pg.p('iq_ex', pi2_pulse, pg.rect, ex_amplitude*np.exp(1j*delay*target_freq_offset*2*np.pi)), \n",
    "                pg.p(None, delay), \n",
    "                pg.p('ro_trg', trg_length, pg.rect, 1), \n",
    "                pg.p('iq_ro', ro_dac_length, pg.rect, ro_amplitude)]\n",
    "    \n",
    "    pg.set_seq(sequence)\n",
    "    awg_tek.run()\n",
    "measurement = sweep.sweep(adc_reducer, (delays, set_delay, 'Ramsey delay'), filename='Ramsey')\n",
    "#measurement = sweep.sweep(adc_sz, (delays, set_delay, 'Ramsey delay'), filename='Ramsey')\n",
    "measurement_fitted, fitted_parameters = fitting.S21pm_fit(measurement, fitting.exp_sin_fit)\n",
    "annotation = 'Phase: {0:4.4g} rad, Freq: {1:4.4g}, Decay: {2:4.4g} s'.format(fitted_parameters['phase'], \n",
    "                                                                             fitted_parameters['freq'], \n",
    "                                                                             fitted_parameters['decay'])\n",
    "#save_pkl({'type':'Ramsey'}, measurement_fitted, annotation=annotation)"
   ]
  },
  {
   "cell_type": "code",
   "execution_count": 61,
   "metadata": {},
   "outputs": [
    {
     "name": "stderr",
     "output_type": "stream",
     "text": [
      "C:\\ProgramData\\Anaconda3\\lib\\site-packages\\matplotlib\\cbook\\deprecation.py:106: MatplotlibDeprecationWarning: Adding an axes using the same arguments as a previous axes currently reuses the earlier instance.  In a future version, a new instance will always be created and returned.  Meanwhile, this warning can be suppressed, and the future behavior ensured, by passing a unique label to each axes instance.\n",
      "  warnings.warn(message, mplDeprecation, stacklevel=1)\n"
     ]
    }
   ],
   "source": [
    "save_pkl.save_pkl({'type':'Ramsey'}, measurement_fitted, annotation=annotation)"
   ]
  },
  {
   "cell_type": "markdown",
   "metadata": {},
   "source": [
    "### Затухание свободной индукции (T1)"
   ]
  },
  {
   "cell_type": "code",
   "execution_count": null,
   "metadata": {},
   "outputs": [
    {
     "data": {
      "application/vnd.jupyter.widget-view+json": {
       "model_id": "073e1b85d97941849938b4e6b6e62950",
       "version_major": 2,
       "version_minor": 0
      },
      "text/plain": [
       "A Jupyter Widget"
      ]
     },
     "metadata": {},
     "output_type": "display_data"
    },
    {
     "name": "stdout",
     "output_type": "stream",
     "text": [
      "Started at:  Mar 06 2018 09:47:32\n"
     ]
    },
    {
     "name": "stderr",
     "output_type": "stream",
     "text": [
      "C:\\ProgramData\\Anaconda3\\lib\\site-packages\\matplotlib\\cbook\\deprecation.py:106: MatplotlibDeprecationWarning: Adding an axes using the same arguments as a previous axes currently reuses the earlier instance.  In a future version, a new instance will always be created and returned.  Meanwhile, this warning can be suppressed, and the future behavior ensured, by passing a unique label to each axes instance.\n",
      "  warnings.warn(message, mplDeprecation, stacklevel=1)\n",
      "D:\\qtlab_replacement\\instruments\\Tektronix_AWG5014.py:647: ComplexWarning: Casting complex values to real discards the imaginary part\n",
      "  m1[:] = marker[:len(m1)]\n"
     ]
    }
   ],
   "source": [
    "ex_amplitude = 0.5\n",
    "pi_pulse = 22e-9\n",
    "pause_length = 16e-9\n",
    "delays = np.linspace(0e-9, 10000e-9, 201)\n",
    "readout_begin = np.max(delays)+pi_pulse\n",
    "def set_delay(delay):\n",
    "    awg_tek.set_nop(awg_tek.get_clock()/rep_rate)\n",
    "    \n",
    "    sequence = [pg.p(None, readout_begin-ro_dac_length),\n",
    "                pg.p('iq_ex', pi_pulse, pg.rect, ex_amplitude), \n",
    "                pg.p(None, delay), \n",
    "                pg.p('ro_trg', trg_length, pg.rect, 1), \n",
    "                pg.p('iq_ro', ro_dac_length, pg.rect, ro_amplitude)]\n",
    "    \n",
    "    pg.set_seq(sequence)\n",
    "    awg_tek.run()\n",
    "measurement = sweep.sweep(adc_reducer, (delays, set_delay, 'delay'), filename='Decay')\n",
    "\n",
    "measurement_fitted, fitted_parameters = fitting.S21pm_fit(measurement, fitting.exp_fit)\n",
    "#save_pkl.save_pkl({'type':'Decay'}, measurement_fitted)\n",
    "annotation = 'Decay: {0:4.6g} s'.format(fitted_parameters['decay'])\n",
    "save_pkl.save_pkl({'type':'Decay'}, measurement_fitted, annotation=annotation)"
   ]
  },
  {
   "cell_type": "code",
   "execution_count": null,
   "metadata": {
    "collapsed": true
   },
   "outputs": [],
   "source": [
    "annotation = 'Decay: {0:4.6g} s'.format(fitted_parameters['decay'])\n",
    "save_pkl.save_pkl({'type':'Decay'}, measurement_fitted, annotation=annotation)"
   ]
  },
  {
   "cell_type": "markdown",
   "metadata": {},
   "source": [
    "### Rabi amplitude oscillations"
   ]
  },
  {
   "cell_type": "code",
   "execution_count": null,
   "metadata": {
    "collapsed": true
   },
   "outputs": [],
   "source": [
    "ex_amps = np.linspace(0.,1.0,51)\n",
    "pause_length = 32e-9\n",
    "length = 32e-9\n",
    "sigma = 8e-9\n",
    "num_pulses = 4\n",
    "readout_begin = np.max((length+pause_length)*num_pulses)\n",
    "def set_ex_amp(amp):\n",
    "    awg_tek.set_nop(awg_tek.get_clock()/rep_rate)\n",
    "    \n",
    "    sequence = [pg.p('iq_ex', pi_pulse, pg.gauss_hd, sigma, ex_amplitude, 0), \n",
    "                pg.p(None, readout_begin-length)]*num_pulses+\\ \n",
    "               [pg.p('ro_trg', trg_length, pg.rect, 1), \n",
    "                pg.p('iq_ro', ro_dac_length, pg.rect, ro_amplitude)]\n",
    "    \n",
    "    pg.set_seq(sequence)\n",
    "    \n",
    "    awg_tek.run()\n",
    "measurement = sweep.sweep(adc_reducer, (ex_amps, set_ex_amp, 'Rabi pulse amplitude'), filename='Rabi')"
   ]
  },
  {
   "cell_type": "markdown",
   "metadata": {},
   "source": [
    "### gaussian $\\pi/2$ pulse amplitudes"
   ]
  },
  {
   "cell_type": "code",
   "execution_count": null,
   "metadata": {
    "collapsed": true
   },
   "outputs": [],
   "source": [
    "#amp_x=0.554\n",
    "#amp_y=0.554\n",
    "#sigma = 2e-9\n",
    "#amp_x=0.29\n",
    "#amp_y=0.29\n",
    "amp_x = 0.925\n",
    "length = 32e-9\n",
    "pause_length = 8e-9\n",
    "sigma = 8e-9\n",
    "amp_x_hd = 0.925\n",
    "length_hd = 32e-9\n",
    "sigma_hd = 8e-9\n",
    "pause_length_hd = 8e-9\n",
    "alpha_hd = -0.92e-9"
   ]
  },
  {
   "cell_type": "markdown",
   "metadata": {},
   "source": [
    "### Ramsey with gauss pulses"
   ]
  },
  {
   "cell_type": "code",
   "execution_count": null,
   "metadata": {
    "collapsed": true,
    "scrolled": true
   },
   "outputs": [],
   "source": [
    "delays = np.linspace(0e-9, 2000e-9, 201)\n",
    "target_freq_offset = 20e6\n",
    "\n",
    "def set_delay(delay):\n",
    "    sequence = [pg.p(None, readout_begin-length),\n",
    "                pg.p('iq_ex', pi2_pulse, pg.gauss_hd, sigma, ex_amplitude, 0), \n",
    "                pg.p(None, delay), \n",
    "                pg.p('iq_ex', pi2_pulse, pg.gauss_hd, sigma, ex_amplitude*np.exp(1j*delay*target_freq_offset*2*np.pi), 0), \n",
    "                pg.p(None, delay), \n",
    "                pg.p('ro_trg', trg_length, pg.rect, 1), \n",
    "                pg.p('iq_ro', ro_dac_length, pg.rect, ro_amplitude)]\n",
    "    \n",
    "    pg.set_seq(sequence)\n",
    "    awg_tek.run()\n",
    "measurement = sweep.sweep(adc_reducer, (delays, set_delay, 'Ramsey delay'), filename='Ramsey')\n",
    "measurement_fitted, fitted_parameters = fitting.S21pm_fit(measurement, fitting.exp_sin_fit)\n",
    "annotation = 'Phase: {0:4.4g} rad, Freq: {1:4.4g}, Decay: {2:4.4g} s'.format(fitted_parameters['phase'], \n",
    "                                                                             fitted_parameters['freq'], \n",
    "                                                                             fitted_parameters['decay'])\n",
    "save_pkl.save_pkl({'type':'Ramsey'}, measurement_fitted, annotation=annotation)"
   ]
  },
  {
   "cell_type": "markdown",
   "metadata": {},
   "source": [
    "# Optimizing readout pulse settings"
   ]
  },
  {
   "cell_type": "code",
   "execution_count": null,
   "metadata": {
    "collapsed": true
   },
   "outputs": [],
   "source": [
    "ex_calib_seq = [pg.p('iq_ex', length, pg.gauss_hd, amp_x, 0, sigma), pg.p(None, pause_length)]*2\n",
    "ro_seq = [pg.p('ro_trg', trg_length, pg.rect, 1), pg.p('iq_ro', ro_dac_length, pg.rect, ro_amplitude)]\n",
    "adc_sz = tomography_new.sz_measurer(adc, ex_calib_seq, ro_seq, pg)\n",
    "adc.set_software_nums_multi(20)\n",
    "adc_sz.repeat_samples = 1\n",
    "\n",
    "target_min = lambda: 1-adc_sz.measure()['Calibrated fidelity binary']\n",
    "\n",
    "class ro_pulse_generator:\n",
    "    def __init__(self, adc_sz, ro_amplitude, ro_dac_length):\n",
    "        self.ro_amplitude = ro_amplitude\n",
    "        self.ro_dac_length = ro_dac_length\n",
    "        self.adc_sz = adc_sz\n",
    "    def make_ro_seq(self):\n",
    "        adc_sz.ro_seq = [pg.p('ro_trg', trg_length, pg.rect, 1), pg.p('iq_ro', self.ro_dac_length, pg.rect, self.ro_amplitude)]\n",
    "    def set_ro_length(self, ro_dac_length):\n",
    "        self.ro_dac_length = ro_dac_length\n",
    "        self.make_ro_seq()\n",
    "    def set_ro_amplitude(self, ro_amplitude):\n",
    "        self.ro_amplitude = ro_amplitude\n",
    "        self.make_ro_seq()\n",
    "\n",
    "ro_dac_lengths = np.linspace(0, 0.05e-6, 6)\n",
    "ro_dac_amplitudes = np.linspace(0.8,1.0, 5)\n",
    "\n",
    "ro_pulse_generator_inst = ro_pulse_generator(adc_sz, ro_amplitude, ro_dac_length)\n",
    "solution, score = sweep.optimize(target_min, (ro_pulse_generator_inst.set_ro_length, 3e-8), \n",
    "                                             (ro_pulse_generator_inst.set_ro_amplitude, 0.9), maxfun=30)\n",
    "ro_dac_length = solution[0]\n",
    "ro_dac_amplitude = solution[1]\n",
    "#\n",
    "#sweep.sweep(adc_sz, (ro_dac_lengths, ro_pulse_generator_inst.set_ro_length, 'Readout pulse length'), \n",
    "#                    (ro_dac_amplitudes, ro_pulse_generator_inst.set_ro_amplitude, 'Readout pulse amplitude'))"
   ]
  },
  {
   "cell_type": "markdown",
   "metadata": {},
   "source": [
    "### |0> & |1> readout calibration"
   ]
  },
  {
   "cell_type": "code",
   "execution_count": null,
   "metadata": {
    "collapsed": true
   },
   "outputs": [],
   "source": [
    "ro_dac_length = 50e-9\n",
    "ro_dac_amplitude = 0.13\n",
    "ex_calib_seq = [pg.p('iq_ex', length, pg.gauss_hd, amp_x, 0, sigma, alpha_hd), pg.p(None, pause_length)]*2\n",
    "#ro_seq = [pg.p('ro_trg', trg_length, pg.rect, 1), pg.p('iq_ro', ro_dac_length, pg.rect, ro_amplitude)]\n",
    "ro_seq = [pg.p('ro_trg', trg_length, pg.rect, 1), pg.p('iq_ro', ro_dac_length, pg.rect, 1.0)]\n",
    "adc_sz = tomography_new.sz_measurer(adc, ex_calib_seq, ro_seq, pg)\n",
    "adc_sz.save_last_samples = True\n",
    "adc_sz.repeat_samples = 1\n",
    "adc.set_software_nums_multi(20)\n",
    "print(adc_sz.measure())\n",
    "#sz_filter = adc_sz.calibrate()\n",
    "#print('ROC AUC:', adc_sz.calib_roc_auc, 'Fidelity:', adc_sz.calib_fidelity)\n",
    "#print('ROC AUC binary:', adc_sz.calib_roc_auc_binary, 'Fidelity binary:', adc_sz.calib_fidelity_binary) "
   ]
  },
  {
   "cell_type": "code",
   "execution_count": null,
   "metadata": {
    "collapsed": true
   },
   "outputs": [],
   "source": [
    "plt.figure()\n",
    "plt.pcolormesh(np.real(adc_sz.samples[0,:,:]), vmin=15, vmax=25); plt.colorbar()\n",
    "plt.figure()\n",
    "plt.pcolormesh(np.real(adc_sz.samples[1,:,:]), vmin=15, vmax=25); plt.colorbar()"
   ]
  },
  {
   "cell_type": "code",
   "execution_count": null,
   "metadata": {
    "collapsed": true
   },
   "outputs": [],
   "source": [
    "plt.hist(adc_sz.calib_pred.T, bins=20)"
   ]
  },
  {
   "cell_type": "code",
   "execution_count": null,
   "metadata": {
    "collapsed": true
   },
   "outputs": [],
   "source": [
    "#plt.scatter(np.real(adc_sz.calib_usl_pred[0,:]), np.imag(adc_sz.calib_usl_pred[0,:]), color='r', s=1)\n",
    "#plt.scatter(np.real(adc_sz.calib_usl_pred[1,:]), np.imag(adc_sz.calib_usl_pred[1,:]), color='b', s=1)\n",
    "#plt.figure()\n",
    "#plt.hist(adc_sz.calib_pred.T, bins=20)\n",
    "plt.figure()\n",
    "#plt.hist(np.real(adc_sz.calib_usl_pred.T), bins=20)\n",
    "plt.plot(np.real(adc_sz.calib_bg-np.mean(adc_sz.calib_bg)))\n",
    "plt.plot(np.imag(adc_sz.calib_bg-np.mean(adc_sz.calib_bg)))\n",
    "plt.plot(np.real(adc_sz.calib_feature))\n",
    "plt.plot(np.imag(adc_sz.calib_feature))"
   ]
  },
  {
   "cell_type": "markdown",
   "metadata": {},
   "source": [
    "### Tomography"
   ]
  },
  {
   "cell_type": "code",
   "execution_count": null,
   "metadata": {
    "collapsed": true
   },
   "outputs": [],
   "source": [
    "observables = { 'X': 0.5*np.asarray([[0, 1],   [1, 0]]),\n",
    "                'Y': 0.5*np.asarray([[0, -1j],   [1j, 0]]),\n",
    "                '-X': 0.5*np.asarray([[0, -1],   [-1, 0]]),\n",
    "                '-Y': 0.5*np.asarray([[0, 1j],   [-1j, 0]]),\n",
    "                'Z': 0.5*np.asarray([[1, 0],   [0, -1]])}\n",
    "proj_seq = {'Xo':{'pulses': [pg.p('iq_ex', length, pg.gauss_hd, 0, -amp_x, sigma, alpha_hd), pg.p(None, pause_length)]+ro_seq, \n",
    "                 'operator': observables['X']},\n",
    "            'Yo':{'pulses': [pg.p('iq_ex', length, pg.gauss_hd, amp_x, 0, sigma, alpha_hd), pg.p(None, pause_length)]+ro_seq,\n",
    "                 'operator': observables['Y']},\n",
    "            '-Xo':{'pulses':[pg.p('iq_ex', length, pg.gauss_hd, 0, amp_x, sigma, alpha_hd), pg.p(None, pause_length)]+ro_seq,\n",
    "                 'operator': observables['-X']},\n",
    "            '-Yo':{'pulses':[pg.p('iq_ex', length, pg.gauss_hd, -amp_x, 0, sigma, alpha_hd), pg.p(None, pause_length)]+ro_seq,\n",
    "                 'operator': observables['-Y']},\n",
    "            'Zo': {'pulses':ro_seq, 'operator':observables['Z']} }\n",
    "reconstruction_basis={'x':{'operator':observables['X']},\n",
    "                      'y':{'operator':observables['Y']},\n",
    "                      'z':{'operator':observables['Z']}}\n",
    "tomo = tomography_new.tomography(adc_sz, pg, proj_seq, reconstruction_basis=reconstruction_basis)"
   ]
  },
  {
   "cell_type": "code",
   "execution_count": null,
   "metadata": {
    "collapsed": true
   },
   "outputs": [],
   "source": [
    "proj_seq = {'Z': {'pulses':ro_seq, 'operator':observables['Z']}}\n",
    "tomoz = tomography_new.tomography(adc_sz, pg, proj_seq)"
   ]
  },
  {
   "cell_type": "code",
   "execution_count": null,
   "metadata": {
    "collapsed": true
   },
   "outputs": [],
   "source": [
    "## tomography of |0> state\n",
    "adc.set_software_nums_multi(20)\n",
    "tomo.set_prepare_seq([])\n",
    "tomo.measure()"
   ]
  },
  {
   "cell_type": "code",
   "execution_count": null,
   "metadata": {
    "collapsed": true
   },
   "outputs": [],
   "source": [
    "## tomography of |1> state\n",
    "tomo.set_prepare_seq([pg.p('iq_ex', length, pg.gauss_hd, 0, -amp_x, sigma, alpha_hd), pg.p(None, pause_length)]*2)\n",
    "tomo.measure()"
   ]
  },
  {
   "cell_type": "code",
   "execution_count": null,
   "metadata": {
    "collapsed": true
   },
   "outputs": [],
   "source": [
    "## tomography of |1> state\n",
    "tomo.set_prepare_seq([pg.p('iq_ex', length, pg.gauss_hd, 0, -amp_x, sigma, alpha_hd), pg.p(None, pause_length)]+\n",
    "                     [pg.p('iq_ex', length, pg.gauss_hd, 0, -amp_x, sigma, alpha_hd), pg.p(None, pause_length),\n",
    "                     pg.p('iq_ex', length, pg.gauss_hd, 0, amp_x, sigma, alpha_hd), pg.p(None, pause_length)]*10)\n",
    "tomo.measure()"
   ]
  },
  {
   "cell_type": "code",
   "execution_count": null,
   "metadata": {
    "collapsed": true
   },
   "outputs": [],
   "source": [
    "## tomography of |1> state\n",
    "tomo.set_prepare_seq([pg.p('iq_ex', length, pg.gauss_hd, 0, -amp_x, sigma, -0.92e-9), pg.p(None, pause_length)]+\n",
    "                     [pg.p('iq_ex', length, pg.gauss_hd, 0, -amp_x, sigma, -0.92e-9), pg.p(None, pause_length),\n",
    "                     pg.p('iq_ex', length, pg.gauss_hd, 0, amp_x, sigma, -0.92e-9), pg.p(None, pause_length)]*10)\n",
    "tomo.measure()"
   ]
  },
  {
   "cell_type": "code",
   "execution_count": null,
   "metadata": {
    "collapsed": true
   },
   "outputs": [],
   "source": [
    "## tomography of |0>+|1> state\n",
    "tomo.set_prepare_seq([pg.p('iq_ex', length, pg.gauss_hd, 0, -amp_x, sigma), pg.p(None, pause_length)])\n",
    "tomo.measure()"
   ]
  },
  {
   "cell_type": "code",
   "execution_count": null,
   "metadata": {
    "collapsed": true
   },
   "outputs": [],
   "source": [
    "## tomography of |0>-|1> state\n",
    "tomo.set_prepare_seq([pg.p('iq_ex', length, pg.gauss_hd, 0, 1j*amp_x, sigma), pg.p(None, pause_length)])\n",
    "tomo.measure()"
   ]
  },
  {
   "cell_type": "code",
   "execution_count": null,
   "metadata": {
    "collapsed": true
   },
   "outputs": [],
   "source": [
    "## tomography of -|0>-|1> state\n",
    "tomo.set_prepare_seq([pg.p('iq_ex', length, pg.gauss_hd, 0, -amp_x, sigma), pg.p(None, pause_length)])\n",
    "tomo.measure()"
   ]
  },
  {
   "cell_type": "code",
   "execution_count": null,
   "metadata": {
    "collapsed": true
   },
   "outputs": [],
   "source": [
    "## tomography of -|0>+|1> state\n",
    "tomo.set_prepare_seq([pg.p('iq_ex', length, pg.gauss_hd, 0, -1j*amp_x, sigma), pg.p(None, pause_length)])\n",
    "tomo.measure()"
   ]
  },
  {
   "cell_type": "markdown",
   "metadata": {},
   "source": [
    "# Randomized benchmarking"
   ]
  },
  {
   "cell_type": "code",
   "execution_count": null,
   "metadata": {
    "collapsed": true
   },
   "outputs": [],
   "source": [
    "import interleaved_benchmarking\n",
    "imp.reload(interleaved_benchmarking)\n",
    "\n",
    "bench = interleaved_benchmarking.interleaved_benchmarking(tomo)\n",
    "\n",
    "unitaries = {0:np.sqrt(0.5)*np.asarray([[1, -1j],  [-1j, 1]]),\\\n",
    "             1:np.sqrt(0.5)*np.asarray([[1, -1],    [1, 1]]),\\\n",
    "             2:np.sqrt(0.5)*np.asarray([[1, 1j],   [1j, 1]]),\\\n",
    "             3:np.sqrt(0.5)*np.asarray([[1, 1],   [-1, 1]])}\n",
    "bench.interleavers = {'X': {'pulses':[pg.p('iq_ex', length, pg.gauss_hd, -amp_x, 0, sigma, alpha_hd), pg.p(None, pause_length)],\n",
    "                            'unitary': np.sqrt(0.5)*np.asarray([[1, -1j],  [-1j, 1]])},\n",
    "                      'Y': {'pulses':[pg.p('iq_ex', length, pg.gauss_hd, 1j*amp_x, 0, sigma, alpha_hd), pg.p(None, pause_length)],\n",
    "                            'unitary': np.sqrt(0.5)*np.asarray([[1, -1],    [1, 1]])},\n",
    "                      '-X':{'pulses':[pg.p('iq_ex', length, pg.gauss_hd, amp_x, 0, sigma, alpha_hd), pg.p(None, pause_length)],\n",
    "                            'unitary': np.sqrt(0.5)*np.asarray([[1, 1j],   [1j, 1]])},\n",
    "                      '-Y':{'pulses':[pg.p('iq_ex', length, pg.gauss_hd, -1j*amp_x, 0, sigma, alpha_hd), pg.p(None, pause_length)],\n",
    "                            'unitary': np.sqrt(0.5)*np.asarray([[1, 1],   [-1, 1]])},\n",
    "                      'I':{'pulses':[], 'unitary':np.asarray([[1, 0], [0,1]])}}\n",
    "bench.sequence_length = 10\n",
    "bench.random_sequence_num = 6\n",
    "bench.prepare_random_interleaving_sequences()\n",
    "#bench.generate_interleaver_sequence_from_names()"
   ]
  },
  {
   "cell_type": "code",
   "execution_count": null,
   "metadata": {
    "collapsed": true
   },
   "outputs": [],
   "source": [
    "seq_lengths = np.arange(101)\n",
    "sweep.sweep(bench, (seq_lengths, bench.set_sequence_length_and_regenerate, 'Gate number'))"
   ]
  },
  {
   "cell_type": "code",
   "execution_count": null,
   "metadata": {
    "collapsed": true
   },
   "outputs": [],
   "source": [
    "bench.target_gate = bench.interleavers['X']['pulses']\n",
    "bench.target_gate_unitary = bench.interleavers['X']['unitary']\n",
    "bench.target_gate_name = 'X (benchmarking)'\n",
    "tfunc = lambda : np.mean(bench.measure()['Euclidean distance'])\n",
    "class hd_pulse_generator:\n",
    "    def __init__(self, pulse_setter, pg, channel):\n",
    "        self.amp_x = -amp_x_hd\n",
    "        self.amp_y = amp_x_hd\n",
    "        self.sigma = sigma_hd\n",
    "        self.length = length_hd\n",
    "        self.pause_length = pause_length_hd\n",
    "        self.alpha = alpha_hd\n",
    "        \n",
    "        self.pg = pg\n",
    "        self.channel = channel\n",
    "        self.pulse = self.pulse_gen()\n",
    "        self.pulse_setter = pulse_setter\n",
    "    def set_real_amplitude(self,x):\n",
    "        self.amp_x = x\n",
    "        self.pulse_setter(self.pulse_gen())\n",
    "    def set_imag_amplitude(self,y):\n",
    "        self.amp_y = y\n",
    "        self.pulse_setter(self.pulse_gen())\n",
    "    def set_sigma(self,s):\n",
    "        self.sigma = s\n",
    "        self.pulse_setter(self.pulse_gen())\n",
    "    def set_length(self,l):\n",
    "        self.length = l\n",
    "        self.pulse_setter(self.pulse_gen())\n",
    "    def set_pause_length(self, p):\n",
    "        self.pause_length = p\n",
    "        self.pulse_setter(self.pulse_gen())\n",
    "    def set_alpha(self, a):\n",
    "        self.alpha = a\n",
    "        self.pulse_setter(self.pulse_gen())\n",
    "    def pulse_gen(self):\n",
    "        return [pg.p(self.channel, self.length, self.pg.gauss_hd, self.amp_x+1j*self.amp_y, 0, self.sigma, self.alpha), pg.p(None, self.pause_length)]\n",
    "    \n",
    "xg = hd_pulse_generator(bench.set_target_pulse, pg, 'iq_ex')"
   ]
  },
  {
   "cell_type": "code",
   "execution_count": null,
   "metadata": {
    "collapsed": true
   },
   "outputs": [],
   "source": [
    "sol, score = sweep.optimize(tfunc,  (xg.set_real_amplitude, xg.amp_x), \n",
    "                                    (xg.set_imag_amplitude, xg.amp_y),\n",
    "                                    (xg.set_alpha, xg.alpha))"
   ]
  },
  {
   "cell_type": "code",
   "execution_count": null,
   "metadata": {
    "collapsed": true
   },
   "outputs": [],
   "source": [
    "amps = np.linspace(0.925, 0.975, 21)\n",
    "alphas = np.linspace(-2e-9, 2e-9, 11)\n",
    "sweep.sweep(bench, (amps, xg.set_real_amplitude, 'Amplitude'), (alphas, xg.set_alpha, 'HD DRAG coeff'), filename='Randomized interleaved benchmarging X-rotation')"
   ]
  },
  {
   "cell_type": "code",
   "execution_count": null,
   "metadata": {
    "collapsed": true
   },
   "outputs": [],
   "source": [
    "data = save_pkl.load_pkl('Euclidean distance Randomized interleaved benchmarging X-rotation', 'D:\\\\qtlab\\\\ReiData\\\\data\\\\2017-07-02\\\\23-03-34')\n",
    "plt.figure()\n",
    "plt.pcolormesh(data[1]['Euclidean distance'][1][1], data[1]['Euclidean distance'][1][0], data[1]['Euclidean distance'][2][:,:,5])\n",
    "plt.colorbar()"
   ]
  },
  {
   "cell_type": "code",
   "execution_count": null,
   "metadata": {
    "collapsed": true
   },
   "outputs": [],
   "source": [
    "data[1]"
   ]
  },
  {
   "cell_type": "code",
   "execution_count": null,
   "metadata": {
    "collapsed": true
   },
   "outputs": [],
   "source": [
    "data[1]['Euclidean distance']"
   ]
  },
  {
   "cell_type": "code",
   "execution_count": null,
   "metadata": {
    "collapsed": true
   },
   "outputs": [],
   "source": [
    "meas = bench.measure()"
   ]
  },
  {
   "cell_type": "code",
   "execution_count": null,
   "metadata": {
    "collapsed": true
   },
   "outputs": [],
   "source": [
    "meas['Xo']"
   ]
  },
  {
   "cell_type": "code",
   "execution_count": null,
   "metadata": {
    "collapsed": true
   },
   "outputs": [],
   "source": [
    "import plotting\n",
    "imp.reload(plotting)\n",
    "plotting.plot_measurement(bench.reference_benchmark_result)"
   ]
  },
  {
   "cell_type": "markdown",
   "metadata": {},
   "source": [
    "# Optimizing Drag"
   ]
  },
  {
   "cell_type": "code",
   "execution_count": null,
   "metadata": {
    "collapsed": true
   },
   "outputs": [],
   "source": [
    "num_interleved_pulses = 2\n",
    "alphas = np.linspace(-1e-8, 1e-8, 201)\n",
    "def set_drag (alpha):\n",
    "    ramsey_half = [pg.p('iq_ex', length_hd, pg.gauss_hd, amp_x_hd, 0, sigma_hd, alpha), \n",
    "                 pg.p(None, pause_length_hd)]\n",
    "    interleaved_identity = [pg.p('iq_ex', length_hd, pg.gauss_hd, -amp_x_hd, 0, sigma_hd, alpha), \n",
    "                           pg.p(None, pause_length_hd),\n",
    "                           pg.p('iq_ex', length_hd, pg.gauss_hd, amp_x_hd, 0, sigma_hd, alpha), \n",
    "                           pg.p(None, pause_length_hd)]\n",
    "    tomo.set_prepare_seq(ramsey_half+interleaved_identity*num_interleved_pulses+ramsey_half)\n",
    "    \n",
    "measurement = sweep.sweep(tomo, (alphas, set_drag, 'delta_freq'), filename='DRAG', output=False)"
   ]
  },
  {
   "cell_type": "markdown",
   "metadata": {},
   "source": [
    "### Randomized Benchmarking"
   ]
  },
  {
   "cell_type": "code",
   "execution_count": null,
   "metadata": {
    "collapsed": true
   },
   "outputs": [],
   "source": [
    "pause_pulse = tomography.pause(pause_length, awg_channels)\n",
    "pulses = {0:tomography.ex_gauss_hd(amp_x_hd, amp_y_hd, length_hd, sigma_hd, awg_channels, -200e6/np.pi),\n",
    "          1:tomography.ex_gauss_hd(amp_y_hd, -amp_x_hd, length_hd, sigma_hd, awg_channels, -200e6/np.pi),\n",
    "          2:tomography.ex_gauss_hd(-amp_x_hd, -amp_y_hd, length_hd, sigma_hd, awg_channels, -200e6/np.pi),\n",
    "          3:tomography.ex_gauss_hd(-amp_y_hd, amp_x_hd, length_hd, sigma_hd, awg_channels, -200e6/np.pi)}\n",
    "\n",
    "unitaries = {0:np.sqrt(0.5)*np.asarray([[1, -1j],  [-1j, 1]]),\\\n",
    "             1:np.sqrt(0.5)*np.asarray([[1, -1],    [1, 1]]),\\\n",
    "             2:np.sqrt(0.5)*np.asarray([[1, 1j],   [1j, 1]]),\\\n",
    "             3:np.sqrt(0.5)*np.asarray([[1, 1],   [-1, 1]])}\n",
    "\n",
    "observables = { 'X': 0.5*np.asarray([[0, 1],   [1, 0]]),\n",
    "                'Y': 0.5*np.asarray([[0, -1j],   [1j, 0]]),\n",
    "                '-X': 0.5*np.asarray([[0, -1],   [-1, 0]]),\n",
    "                '-Y': 0.5*np.asarray([[0, 1j],   [-1j, 0]]),\n",
    "                'Z': 0.5*np.asarray([[1, 0],   [0, -1]])}\n",
    "\n",
    "initial = np.asarray([0, 1]).T\n",
    "random_pulse_ids = np.arange(20)\n",
    "num_gates = np.linspace(0, 100, 11)\n",
    "\n",
    "sequences = []\n",
    "pulse_sequences = []\n",
    "theor_projs = {o:np.zeros((len(num_gates), len(random_pulse_ids))) for o in observables.keys()}\n",
    "rho_t = np.zeros((len(num_gates), len(random_pulse_ids),2,2), dtype=np.complex)\n",
    "psis = np.zeros((len(num_gates), len(random_pulse_ids),2), dtype=np.complex)\n",
    "n=0\n",
    "\n",
    "def set_num_gates(n_new):\n",
    "    global n\n",
    "    n = n_new\n",
    "\n",
    "def set_random_sequence(id):\n",
    "    sequence = np.random.randint (4, size = n).tolist()\n",
    "    sequence_pulses = [j for i in [[pulses[i], pause_pulse] for i in sequence] for j in i]\n",
    "    sequence_unitaries = [unitaries[i] for i in sequence]\n",
    "    psi = initial.copy()\n",
    "    \n",
    "    for U in sequence_unitaries:\n",
    "        psi = np.dot(U, psi)\n",
    "    \n",
    "    rho_t[n,id,:,:] = np.einsum('i,j->ij', np.conj(psi), psi)\n",
    "    psis[n,id,:] = psi\n",
    "    \n",
    "    sequences.append(sequence)\n",
    "    for o in observables.keys():\n",
    "        theor_projs[o][n,id] = np.dot(np.dot(np.conj(psi), observables[o]), psi)\n",
    "    \n",
    "    tomo_hd.set_prepare_seq(sequence_pulses)\n",
    "    pulse_sequences.append(sequence_pulses)\n",
    "    \n",
    "m = sweep.sweep(tomo_hd, (num_gates, set_num_gates, 'gate num'), (random_pulse_ids, set_random_sequence, 'random seq id'), filename='RB', output=False)\n",
    "X = (m['X'][2]-m['-X'][2])/2.\n",
    "Y = (m['Y'][2]-m['-Y'][2])/2.\n",
    "Z = m['Z'][2]\n",
    "rho_m = np.transpose([[0.5+Z, X+1j*Y], [X-1j*Y, 0.5-Z]], [2,3,0,1])\n",
    "fidelities = np.sqrt(np.einsum('nmi,nmji,nmj->nm', np.conj(psis), rho_m, psis))\n",
    "\n",
    "m['Fidelity'] = [d for d in m['X']]\n",
    "m['Fidelity'][2] = np.asarray(fidelities, dtype=np.float)\n",
    "for o,O in observables.items():\n",
    "    m[o+' fit'] = [d for d in m[o]]\n",
    "    m[o+' fit'][2] = np.asarray(theor_projs[o], dtype=np.float)\n",
    "#m['rho_t'] = m['X'].copy()\n",
    "save_pkl.save_pkl({'type':'Randomized benchmark Clifford'}, m)"
   ]
  },
  {
   "cell_type": "code",
   "execution_count": null,
   "metadata": {
    "collapsed": true
   },
   "outputs": [],
   "source": [
    "plt.plot(m['Fidelity'][1]m['Fidelity'])"
   ]
  },
  {
   "cell_type": "code",
   "execution_count": null,
   "metadata": {
    "collapsed": true
   },
   "outputs": [],
   "source": [
    "rho_m"
   ]
  },
  {
   "cell_type": "code",
   "execution_count": null,
   "metadata": {
    "collapsed": true
   },
   "outputs": [],
   "source": [
    "plt.plot(m['Fidelity'][1][0], np.mean(m['Fidelity'][2],axis=1))\n",
    "plt.xlabel('gate num')\n",
    "plt.ylabel('fidelity')\n",
    "plt.grid()"
   ]
  },
  {
   "cell_type": "code",
   "execution_count": null,
   "metadata": {
    "collapsed": true,
    "scrolled": true
   },
   "outputs": [],
   "source": [
    "rho_m = np.transpose([[0.5+Z, X+1j*Y], [X-1j*Y, 0.5-Z]], [2,3,0,1])\n",
    "fidelities = np.sqrt(np.einsum('mni,mnji,mnj->mn', np.conj(psis), rho_m, psis))\n",
    "\n",
    "m['Fidelity'] = [d for d in m['X']]\n",
    "m['Fidelity'][2] = np.asarray(fidelities, dtype=np.float)\n",
    "for o,O in observables.items():\n",
    "    m[o+' fit'] = [d for d in m[o]]\n",
    "    m[o+' fit'][2] = np.asarray(theor_projs[o], dtype=np.float)\n",
    "#m['rho_t'] = m['X'].copy()\n",
    "save_pkl.save_pkl({'type':'Randomized benchmark Clifford'}, m)"
   ]
  },
  {
   "cell_type": "code",
   "execution_count": null,
   "metadata": {
    "collapsed": true
   },
   "outputs": [],
   "source": [
    "m"
   ]
  },
  {
   "cell_type": "code",
   "execution_count": null,
   "metadata": {
    "collapsed": true
   },
   "outputs": [],
   "source": []
  },
  {
   "cell_type": "code",
   "execution_count": null,
   "metadata": {
    "collapsed": true
   },
   "outputs": [],
   "source": [
    "fidelities"
   ]
  },
  {
   "cell_type": "code",
   "execution_count": null,
   "metadata": {
    "collapsed": true
   },
   "outputs": [],
   "source": [
    "psis"
   ]
  },
  {
   "cell_type": "code",
   "execution_count": null,
   "metadata": {
    "collapsed": true
   },
   "outputs": [],
   "source": [
    "rho_m"
   ]
  },
  {
   "cell_type": "code",
   "execution_count": null,
   "metadata": {
    "collapsed": true
   },
   "outputs": [],
   "source": [
    "rho_t"
   ]
  },
  {
   "cell_type": "code",
   "execution_count": null,
   "metadata": {
    "collapsed": true
   },
   "outputs": [],
   "source": [
    "measurement['theory'] = thoer_proj\n",
    "save_pkl.save_pkl({'type':'Randomized benchmark Clifford'}, measurement)"
   ]
  },
  {
   "cell_type": "code",
   "execution_count": null,
   "metadata": {
    "collapsed": true
   },
   "outputs": [],
   "source": [
    "print(theor_projs)\n",
    "print(measurement)\n",
    "print(psis)\n",
    "print (sequences)\n",
    "print (rho_t)\n",
    "print (rho_m)"
   ]
  },
  {
   "cell_type": "code",
   "execution_count": null,
   "metadata": {
    "collapsed": true
   },
   "outputs": [],
   "source": [
    "np.dot(np.conj(psis[1]), np.dot(observables['Y'],psis[1]))"
   ]
  },
  {
   "cell_type": "code",
   "execution_count": null,
   "metadata": {
    "collapsed": true
   },
   "outputs": [],
   "source": [
    "num_pulses = np.round(np.arange(0, 41)).astype(np.int)\n",
    "\n",
    "def set_num_pulses(n):\n",
    "    tomoz.set_prepare_seq([tomography.ex_gauss(amp_x, length, sigma, awg_channels), \n",
    "                          tomography.pause(pause_length, awg_channels)]*n)\n",
    "\n",
    "measurement = sweep.sweep(tomoz, (num_pulses, set_num_pulses, 'SX pi2 pulse num'), filename='Rabi', output=False)"
   ]
  },
  {
   "cell_type": "code",
   "execution_count": null,
   "metadata": {
    "collapsed": true
   },
   "outputs": [],
   "source": [
    "num_pulses = np.round(np.arange(0, 21)).astype(np.int)\n",
    "\n",
    "def set_num_pulses(n):\n",
    "    tomo.set_prepare_seq([tomography.ex_gauss_hd(amp_x_hd, amp_y_hd, length_hd, sigma_hd, awg_channels, -200e6/np.pi), \n",
    "                          tomography.pause(pause_length, awg_channels)]*n)\n",
    "\n",
    "measurement = sweep.sweep(tomo, (num_pulses, set_num_pulses, 'SX pi2 pulse num'), filename='Rabi', output=False)"
   ]
  },
  {
   "cell_type": "code",
   "execution_count": null,
   "metadata": {
    "collapsed": true
   },
   "outputs": [],
   "source": [
    "num_pulses = np.round(np.arange(0, 21)).astype(np.int)\n",
    "\n",
    "def set_num_pulses(n):\n",
    "    tomo.set_prepare_seq([tomography.ex_gauss(amp_x_hd, length_hd, sigma_hd, awg_channels), \n",
    "                          tomography.pause(pause_length, awg_channels)]*n)\n",
    "\n",
    "measurement = sweep.sweep(tomo, (num_pulses, set_num_pulses, 'SX pi2 pulse num'), filename='Rabi', output=False)"
   ]
  },
  {
   "cell_type": "code",
   "execution_count": null,
   "metadata": {
    "collapsed": true
   },
   "outputs": [],
   "source": [
    "ex_amplitude=0.25\n",
    "lengths = np.linspace(0e-9, 200e-9, 51)\n",
    "readout_begin = np.max(lengths)\n",
    "\n",
    "def set_ex_length(length):\n",
    "    tomo.set_prepare_seq([tomography.ex_rect(ex_amplitude, length, awg_channels), tomography.pause(pause_length, awg_channels)])\n",
    "\n",
    "measurement = sweep.sweep(tomo, (lengths, set_ex_length, 'Rabi x-axis pulse length'), filename='Rabi', output=False)"
   ]
  },
  {
   "cell_type": "code",
   "execution_count": null,
   "metadata": {
    "collapsed": true
   },
   "outputs": [],
   "source": [
    "from mpl_toolkits.mplot3d import Axes3D\n",
    "fig = plt.figure()\n",
    "ax = fig.add_subplot(111, projection='3d')\n",
    "ax.plot(measurement ['X'][2], measurement ['Y'][2], measurement ['Z'][2], c='r', marker='o')\n",
    "ax.set_xlabel('X')\n",
    "ax.set_ylabel('Y')\n",
    "ax.set_zlabel('Z')\n",
    "ax.set_xlim([-0.6, 0.6])\n",
    "ax.set_ylim([-0.6, 0.6])\n",
    "ax.set_zlim([-0.6, 0.6])"
   ]
  },
  {
   "cell_type": "code",
   "execution_count": null,
   "metadata": {
    "collapsed": true
   },
   "outputs": [],
   "source": [
    "ex_amplitude = 0.25\n",
    "pause_length = 16e-9\n",
    "lengths = np.linspace(0e-9, 2000e-9, 2001)\n",
    "readout_begin = np.max(lengths)\n",
    "\n",
    "def set_ex_length(length):\n",
    "    tomo.set_prepare_seq([tomography.ex_rect(1j*ex_amplitude, length, awg_channels), tomography.pause(pause_length, awg_channels)])\n",
    "\n",
    "measurement = sweep.sweep(tomo, (lengths, set_ex_length, 'Rabi y-axis pulse length'), filename='Rabi', output=False)"
   ]
  },
  {
   "cell_type": "markdown",
   "metadata": {},
   "source": [
    "### Optimizing phase between x and y pulses"
   ]
  },
  {
   "cell_type": "code",
   "execution_count": null,
   "metadata": {
    "collapsed": true
   },
   "outputs": [],
   "source": [
    "c_phase = 0\n",
    "c_n = 0\n",
    "\n",
    "adc.set_software_averages(1)\n",
    "adc.set_software_nums_multi(3)\n",
    "\n",
    "def set_n(n):\n",
    "    global c_n\n",
    "    global c_phase\n",
    "    c_n = n \n",
    "    y_pulse = [tomography.ex_gauss_hd(amp_x_hd*np.exp(1j*c_phase), amp_y_hd*np.exp(1j*c_phase), length_hd, sigma_hd, awg_channels, -200e6), tomography.pause(pause_length, awg_channels)]\n",
    "    tomo.set_prepare_seq(y_pulse*c_n)\n",
    "\n",
    "def set_y_phase(phase):\n",
    "    global c_n\n",
    "    global c_phase\n",
    "    c_phase = phase\n",
    "    y_pulse = [tomography.ex_gauss_hd(amp_x_hd*np.exp(1j*c_phase), amp_y_hd*np.exp(1j*c_phase), length_hd, sigma_hd, awg_channels, -200e6), tomography.pause(pause_length, awg_channels)]\n",
    "    tomo.set_prepare_seq(y_pulse*c_n)\n",
    "\n",
    "phases = np.linspace(np.pi/2.*0.8, np.pi/2.*1.2, 11, endpoint=False)\n",
    "num_pulses = np.arange(0,5)\n",
    "measurement = sweep.sweep(tomo, (phases, set_y_phase, 'y-pulse phase'), (num_pulses, set_n, 'y pulse num'), filename='y-phase', output=False)"
   ]
  },
  {
   "cell_type": "code",
   "execution_count": null,
   "metadata": {
    "collapsed": true
   },
   "outputs": [],
   "source": [
    "phases[7]"
   ]
  },
  {
   "cell_type": "code",
   "execution_count": null,
   "metadata": {
    "collapsed": true
   },
   "outputs": [],
   "source": [
    "plt.plot(np.asarray(results).T)"
   ]
  },
  {
   "cell_type": "code",
   "execution_count": null,
   "metadata": {
    "collapsed": true
   },
   "outputs": [],
   "source": [
    "adc.stop()"
   ]
  },
  {
   "cell_type": "code",
   "execution_count": null,
   "metadata": {
    "collapsed": true
   },
   "outputs": [],
   "source": [
    "plt.close()"
   ]
  },
  {
   "cell_type": "markdown",
   "metadata": {
    "collapsed": true
   },
   "source": [
    "# load calibration data"
   ]
  },
  {
   "cell_type": "code",
   "execution_count": null,
   "metadata": {
    "collapsed": true
   },
   "outputs": [],
   "source": [
    "import pickle\n",
    "f0 = open('D:\\\\qtlab\\\\ReiData\\\\data\\\\2017-04-26\\\\13-11-46\\\\Voltage ro calibration.pkl', 'rb')\n",
    "f1 = open('D:\\\\qtlab\\\\ReiData\\\\data\\\\2017-04-26\\\\13-11-14\\\\Voltage ro calibration.pkl', 'rb')\n",
    "cal0 = pickle.load(f0)\n",
    "cal1 = pickle.load(f1)"
   ]
  },
  {
   "cell_type": "code",
   "execution_count": null,
   "metadata": {
    "collapsed": true
   },
   "outputs": [],
   "source": [
    "import numpy as np\n",
    "import matplotlib.pyplot as plt\n",
    "%matplotlib qt4\n",
    "cal0_nomean = cal0[1]['Voltage'][2][0,:,:]-np.mean(cal0[1]['Voltage'][2][0,:,:])\n",
    "cal1_nomean = cal0[1]['Voltage'][2][1,:,:]-np.mean(cal0[1]['Voltage'][2][1,:,:])\n",
    "\n",
    "cal0_mean = np.mean(cal0_nomean, axis=0)\n",
    "cal1_mean = np.mean(cal1_nomean, axis=0)"
   ]
  },
  {
   "cell_type": "code",
   "execution_count": null,
   "metadata": {
    "collapsed": true
   },
   "outputs": [],
   "source": [
    "cal_mean = (cal0_mean+cal1_mean)/2.\n",
    "cal_diff = (cal1_mean-cal0_mean)\n",
    "\n",
    "plt.figure('Samples')\n",
    "plt.plot(np.mean(cal0_nomean, axis=0), label='|0>')\n",
    "plt.plot(np.mean(cal1_nomean, axis=0), label='|1>')\n",
    "plt.legend()\n",
    "\n",
    "plt.figure('Offset & feature')\n",
    "plt.plot(cal_mean, label='mean')\n",
    "plt.plot(cal_diff, label='diff')\n",
    "plt.legend()"
   ]
  },
  {
   "cell_type": "code",
   "execution_count": null,
   "metadata": {
    "collapsed": true
   },
   "outputs": [],
   "source": [
    "plt.figure('Fourier domain')\n",
    "plt.plot(np.abs(np.fft.fft(cal0_mean)), label='|0>')\n",
    "plt.plot(np.abs(np.fft.fft(cal1_mean)), label='|1>') \n",
    "plt.plot(np.abs(np.fft.fft(cal_mean)), label='mean')\n",
    "plt.plot(np.abs(np.fft.fft(cal_diff)), label='diff')\n",
    "plt.legend()\n",
    "\n",
    "feature = np.conj(cal_diff/np.sum(np.abs(cal_diff**2)))"
   ]
  },
  {
   "cell_type": "code",
   "execution_count": null,
   "metadata": {
    "collapsed": true
   },
   "outputs": [],
   "source": [
    "coeffs0 = np.dot(cal0_nomean-cal_mean, feature)\n",
    "coeffs1 = np.dot(cal1_nomean-cal_mean, feature)\n",
    "predictions = np.asarray([np.real(coeffs0), np.real(coeffs1)])"
   ]
  },
  {
   "cell_type": "code",
   "execution_count": null,
   "metadata": {
    "collapsed": true
   },
   "outputs": [],
   "source": [
    "hist_all, bins = np.histogram(predictions, bins='auto')\n",
    "proba_points = (bins[1:]+bins[:-1])/2.\n",
    "hists = []\n",
    "for y in range(2):\n",
    "    hists.append(np.histogram(predictions[y,:], bins=bins)[0])\n",
    "\n",
    "hists = np.asarray(hists, dtype=float)\n",
    "probabilities = hists/hist_all\n",
    "naive_probabilities = np.asarray([proba_points<0, proba_points>0], dtype=float)\n",
    "probabilities[np.isnan(probabilities)] = naive_probabilities[np.isnan(probabilities)]\n",
    "predictor = lambda x: np.interp(x, proba_points, probabilities[1,:], left=0., right=1.)\n",
    "calib_proba_points = proba_points\n",
    "calib_proba = probabilities[1,:]\n",
    "calib_hists = hists"
   ]
  },
  {
   "cell_type": "code",
   "execution_count": null,
   "metadata": {
    "collapsed": true
   },
   "outputs": [],
   "source": [
    "from sklearn.metrics import roc_curve, roc_auc_score\n",
    "roc = roc_curve([0]*coeffs0.size+[1]*coeffs0.size, predictor(predictions.ravel()))\n",
    "roc_auc = roc_auc_score([0]*coeffs0.size+[1]*coeffs0.size, predictor(predictions.ravel()))"
   ]
  },
  {
   "cell_type": "code",
   "execution_count": null,
   "metadata": {
    "collapsed": true
   },
   "outputs": [],
   "source": [
    "plt.figure('ROC')\n",
    "plt.plot(roc[0], roc[1])\n",
    "plt.xlabel('True Positive Rate')\n",
    "plt.ylabel('True Negative Rate')\n",
    "roc_auc"
   ]
  },
  {
   "cell_type": "code",
   "execution_count": null,
   "metadata": {
    "collapsed": true
   },
   "outputs": [],
   "source": [
    "plt.figure('probability curve')\n",
    "plt.plot(calib_proba_points, calib_proba)"
   ]
  },
  {
   "cell_type": "code",
   "execution_count": null,
   "metadata": {
    "collapsed": true
   },
   "outputs": [],
   "source": [
    "plt.figure('Readout hists')\n",
    "plt.bar(proba_points-0.25, hists[0], width=0.05, label='|0>')\n",
    "plt.bar(proba_points+0.25, hists[1], width=0.05, label='|1>')\n",
    "plt.legend()"
   ]
  },
  {
   "cell_type": "code",
   "execution_count": null,
   "metadata": {
    "collapsed": true
   },
   "outputs": [],
   "source": [
    "plt.close()"
   ]
  },
  {
   "cell_type": "code",
   "execution_count": null,
   "metadata": {
    "collapsed": true
   },
   "outputs": [],
   "source": [
    "cal0_nomean.shape"
   ]
  },
  {
   "cell_type": "code",
   "execution_count": null,
   "metadata": {
    "collapsed": true
   },
   "outputs": [],
   "source": [
    "plt.figure(figsize=(12,3))\n",
    "plt.imshow(np.sum(np.real(np.reshape(cal0_nomean, (200, 100, 1024))), axis=0), cmap='RdBu')\n",
    "plt.figure(figsize=(12,3))\n",
    "plt.imshow(np.sum(np.real(np.reshape(cal1_nomean, (200, 100, 1024))), axis=0), cmap='RdBu')"
   ]
  },
  {
   "cell_type": "code",
   "execution_count": null,
   "metadata": {
    "collapsed": true
   },
   "outputs": [],
   "source": [
    "plt.plot(np.mean(cal0_nomean, axis=0))\n",
    "plt.plot(np.mean(cal1_nomean, axis=0))"
   ]
  },
  {
   "cell_type": "code",
   "execution_count": null,
   "metadata": {
    "collapsed": true
   },
   "outputs": [],
   "source": []
  }
 ],
 "metadata": {
  "kernelspec": {
   "display_name": "Python 3",
   "language": "python",
   "name": "python3"
  },
  "language_info": {
   "codemirror_mode": {
    "name": "ipython",
    "version": 3
   },
   "file_extension": ".py",
   "mimetype": "text/x-python",
   "name": "python",
   "nbconvert_exporter": "python",
   "pygments_lexer": "ipython3",
   "version": "3.6.3"
  }
 },
 "nbformat": 4,
 "nbformat_minor": 1
}
