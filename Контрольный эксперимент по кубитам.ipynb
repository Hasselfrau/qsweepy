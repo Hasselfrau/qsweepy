{
 "cells": [
  {
   "cell_type": "markdown",
   "metadata": {},
   "source": [
    "### Запуск QtLab"
   ]
  },
  {
   "cell_type": "markdown",
   "metadata": {},
   "source": [
    "Для начала надо добавить пути со скриптами и драйверами устройств, подключить библиотеки numpy и matplotlib."
   ]
  },
  {
   "cell_type": "code",
   "execution_count": 1,
   "metadata": {
    "scrolled": true
   },
   "outputs": [
    {
     "name": "stdout",
     "output_type": "stream",
     "text": [
      "Failed loading module Signal_Hound_SA:  [WinError 126] The specified module could not be found\n"
     ]
    }
   ],
   "source": [
    "%run D:\\qtlab_replacement\\init.py\n",
    "import matplotlib.pyplot as plt\n",
    "from instruments import *\n",
    "import numpy as np\n",
    "import sweep\n",
    "from save_pkl import *\n",
    "from matplotlib import interactive\n",
    "interactive(True)\n",
    "%matplotlib qt5"
   ]
  },
  {
   "cell_type": "markdown",
   "metadata": {},
   "source": [
    "Чтобы не держать константы далеко в коде, мы записываем сюда параметры кубитов."
   ]
  },
  {
   "cell_type": "code",
   "execution_count": 2,
   "metadata": {
    "collapsed": true
   },
   "outputs": [],
   "source": [
    "#Параметры кубитов.\n",
    "Qubits = {1: {'Fr': 9.58578e9,'F01': 5.842543e9, 'I0': 0.,'Ispan': 0.,'P': -30,'Pex': -2,'Span': 200e6},\n",
    "          2: {'Fr': 9.8075e9 ,'F01': 6.74974e9, 'P':-30},\n",
    "          4: {'Fr': 9.587e9,'F01': 5.91557e9, 'I0': 0.,'Ispan': 0.,'P': -30,'Pex': -2,'Span': 200e6}}\n",
    "qubit_id = 1"
   ]
  },
  {
   "cell_type": "code",
   "execution_count": 3,
   "metadata": {},
   "outputs": [
    {
     "name": "stderr",
     "output_type": "stream",
     "text": [
      "root: WARNING  Tektronix_AWG5014 : get all not yet fully functional\n"
     ]
    }
   ],
   "source": [
    "awg = Tektronix_AWG5014('awg_tek', address = 'TCPIP0::10.20.61.186::inst0::INSTR')"
   ]
  },
  {
   "cell_type": "markdown",
   "metadata": {},
   "source": [
    "# Спектроскопия"
   ]
  },
  {
   "cell_type": "markdown",
   "metadata": {},
   "source": [
    "Инстантизируем драйверы устройств для векторного анализатора ('pna') и генератора сигналов ('lo1')."
   ]
  },
  {
   "cell_type": "code",
   "execution_count": 4,
   "metadata": {
    "collapsed": true,
    "scrolled": true
   },
   "outputs": [],
   "source": [
    "pna = Agilent_N5242A('pna', address = 'PNA')\n",
    "lo1 = Agilent_E8257D('lo1', address = 'GEN1')"
   ]
  },
  {
   "cell_type": "code",
   "execution_count": 5,
   "metadata": {},
   "outputs": [
    {
     "data": {
      "text/plain": [
       "True"
      ]
     },
     "execution_count": 5,
     "metadata": {},
     "output_type": "execute_result"
    }
   ],
   "source": [
    "# векторный анализатор в режим линейного свипа\n",
    "pna.set_sweep_mode(\"LIN\")"
   ]
  },
  {
   "cell_type": "markdown",
   "metadata": {},
   "source": [
    "## Спектроскопия через смесители #### ЖМИ МИНЯ\n",
    "\n",
    "\n",
    "Если подключена импульсная схема, а хочется сделать спектроскопию - то нет проблем! Единственное что нужно сделать, это, во-первых, открыть смесители (подав на них, скажем, 0.3В), и во-вторых, обратить внимание на мощность на выходе. Она будет ниже чем если делать спектроскопию нормально. Ну и шумов тоже получится больше - лучше всего не подавать какие-то сигналы с AWG, а задать оффсеты. Тогда вроде бы шумов меньше получается.\n",
    "\n",
    "Что тут хорошо: можно переключаться между режимами не выходя из офиса (или из вообще не вставая на кровати). Этот режим очень популярен при измерениях в Черноголовке среди людей, которые не любят в эту самую Черноголовку ездить.\n",
    "Тем не менее иногда полезно заходить в лабу и посмотреть что же на самом деле там происходит."
   ]
  },
  {
   "cell_type": "code",
   "execution_count": 6,
   "metadata": {},
   "outputs": [
    {
     "name": "stderr",
     "output_type": "stream",
     "text": [
      "root: WARNING  Tektronix_AWG5014 : get all not yet fully functional\n"
     ]
    }
   ],
   "source": [
    "# AWG для того чтобы открыть смесители\n",
    "awg_tek = Tektronix_AWG5014('awg_tek', address = 'TCPIP0::10.20.61.186::inst0::INSTR')\n",
    "\n",
    "# Задаём постояннmtые смещения на каналы 1 и 3\n",
    "awg_tek.set_offset(0.3, channel=1)\n",
    "awg_tek.set_offset(0.3, channel=3)\n",
    "\n",
    "# Сами импульсы надо при этом выключить! Будет меньше шуметь (но то не точно).\n",
    "awg_tek.stop()"
   ]
  },
  {
   "cell_type": "markdown",
   "metadata": {},
   "source": [
    "## Резонаторная спектроскопия #### НЕЖМИ МИНЯ\n"
   ]
  },
  {
   "cell_type": "code",
   "execution_count": null,
   "metadata": {
    "collapsed": true
   },
   "outputs": [],
   "source": [
    "lo1.set_status(0)\n",
    "pna.set_status(1)\n",
    "pna.set_power(-10) # \n",
    "pna.set_nop(1001)\n",
    "pna.set_xlim(9.0e9, 10.0e9)\n",
    "pna.set_bandwidth(100)\n",
    "#freqs = pna.get_freqpoints()\n",
    "#S21 = pna.get_tracedata()"
   ]
  },
  {
   "cell_type": "code",
   "execution_count": null,
   "metadata": {
    "collapsed": true
   },
   "outputs": [],
   "source": [
    "meas = sweep.sweep(pna, ([0], lambda x: None, 'None'), filename='Single Tone spectroscopy #2')"
   ]
  },
  {
   "cell_type": "markdown",
   "metadata": {},
   "source": [
    "## Резонатор от мощности (проверка нелинейности резонатора) #### НЕЖМИ МИНЯ\n"
   ]
  },
  {
   "cell_type": "code",
   "execution_count": null,
   "metadata": {
    "collapsed": true
   },
   "outputs": [],
   "source": [
    "pna.set_power(-10) # \n",
    "pna.set_nop(201) \n",
    "#pna.set_xlim(9.8e9, 9.81e9)\n",
    "pna.set_xlim(9.4e9, 9.7e9)\n",
    "pna.set_bandwidth(100)\n",
    "freqs = pna.get_freqpoints()\n",
    "S21 = pna.get_tracedata()"
   ]
  },
  {
   "cell_type": "code",
   "execution_count": null,
   "metadata": {
    "collapsed": true,
    "scrolled": true
   },
   "outputs": [],
   "source": [
    "resonator_powers = np.arange(16, -21, -1)\n",
    "meas = sweep.sweep(pna, (resonator_powers, pna.set_power, 'Power, dBm'), filename='Single Tone spectroscopy power dependent #4')"
   ]
  },
  {
   "cell_type": "markdown",
   "metadata": {},
   "source": [
    "## Фитуем добротность резонатора #### НЕЖМИ МИНЯ\n"
   ]
  },
  {
   "cell_type": "code",
   "execution_count": null,
   "metadata": {
    "collapsed": true
   },
   "outputs": [],
   "source": [
    "from resonator_tools import circuit\n",
    "#plt.plot(freqs, scipy.signal.detrend(np.unwrap(S21[1])))\n",
    "fitter =circuit.reflection_port(f_data=freqs, z_data_raw=S21[0]*np.exp(1j*S21[1]))\n",
    "fitter.autofit()\n",
    "fitter.plotall()"
   ]
  },
  {
   "cell_type": "code",
   "execution_count": null,
   "metadata": {
    "collapsed": true
   },
   "outputs": [],
   "source": [
    "fitter.fitresults['Qc_err']"
   ]
  },
  {
   "cell_type": "code",
   "execution_count": null,
   "metadata": {
    "collapsed": true,
    "scrolled": true
   },
   "outputs": [],
   "source": [
    "plt.plot(freqs, np.abs(np.gradient(S21[0]*np.exp(1j*S21[1]))))"
   ]
  },
  {
   "cell_type": "code",
   "execution_count": null,
   "metadata": {
    "collapsed": true
   },
   "outputs": [],
   "source": [
    "powers = np.linspace(-65, 5, 15)\n",
    "sweep.sweep(pna, (powers, pna.set_power, 'readout power'), filename='Resonator power spectroscopy')"
   ]
  },
  {
   "cell_type": "markdown",
   "metadata": {},
   "source": [
    "### 1D скан при фиксированной мощности"
   ]
  },
  {
   "cell_type": "code",
   "execution_count": 7,
   "metadata": {},
   "outputs": [
    {
     "data": {
      "text/plain": [
       "True"
      ]
     },
     "execution_count": 7,
     "metadata": {},
     "output_type": "execute_result"
    }
   ],
   "source": [
    "#### НЕЖМИ МИНЯ\n",
    "\n",
    "qubit_id = 1\n",
    "pna.set_nop(1)\n",
    "#pna.set_xlim(9.58578e9, 9.58578e9)"
   ]
  },
  {
   "cell_type": "code",
   "execution_count": 9,
   "metadata": {
    "scrolled": true
   },
   "outputs": [
    {
     "data": {
      "application/vnd.jupyter.widget-view+json": {
       "model_id": "92bc8feefacd410f91540749d7c5f4c4",
       "version_major": 2,
       "version_minor": 0
      },
      "text/plain": [
       "A Jupyter Widget"
      ]
     },
     "metadata": {},
     "output_type": "display_data"
    },
    {
     "name": "stdout",
     "output_type": "stream",
     "text": [
      "Started at:  Apr 09 2018 16:04:34\n"
     ]
    },
    {
     "name": "stderr",
     "output_type": "stream",
     "text": [
      "C:\\ProgramData\\Anaconda3\\lib\\site-packages\\matplotlib\\cbook\\deprecation.py:106: MatplotlibDeprecationWarning: Adding an axes using the same arguments as a previous axes currently reuses the earlier instance.  In a future version, a new instance will always be created and returned.  Meanwhile, this warning can be suppressed, and the future behavior ensured, by passing a unique label to each axes instance.\n",
      "  warnings.warn(message, mplDeprecation, stacklevel=1)\n"
     ]
    },
    {
     "name": "stdout",
     "output_type": "stream",
     "text": [
      "\n",
      "Elapsed time: 0 h 1 m 21.04 s\n"
     ]
    }
   ],
   "source": [
    "#### НЕЖМИ МИНЯ\n",
    "\n",
    "#Измерение\n",
    "lo1.set_status(1)\n",
    "ex_freqs = np.arange(5.7e9, 5.9e9, 1e6)\n",
    "\n",
    "pna.set_xlim(Qubits[qubit_id]['Fr'], Qubits[qubit_id]['Fr'])\n",
    "pna.set_nop(1)\n",
    "pna.set_bandwidth(5)\n",
    "#pna.set_average_mode('POINT')\n",
    "#pna.set_average(1)\n",
    "#pna.set_averages(1)\n",
    "pna.set_power (-40)\n",
    "lo1.set_power (10)\n",
    "#current_src.set_current(-2.5e-3)\n",
    "\n",
    "header = '''#Parameter = Ex frequency\n",
    "#Ex power = {:f}'''\n",
    "try:\n",
    "    ex1D = sweep.sweep(pna, (ex_freqs, lo1.set_frequency, 'Second tone freq', 'Hz'), filename = \"ex_{:.1f}dBm #2\".format(lo1.get_power()))\n",
    "except KeyboardInterrupt: pass "
   ]
  },
  {
   "cell_type": "code",
   "execution_count": null,
   "metadata": {
    "collapsed": true,
    "scrolled": true
   },
   "outputs": [],
   "source": [
    "#### НЕЖМИ МИНЯ\n",
    "\n",
    "#Измерение\n",
    "lo1.set_status(1)\n",
    "ex_freqs = np.arange(5.9e9, 6.0e9, 2e6)\n",
    "\n",
    "pna.set_xlim(9.45e9, 9.75e9)\n",
    "pna.set_nop(1001)\n",
    "pna.set_bandwidth(501)\n",
    "pna.set_average_mode('POINT')\n",
    "pna.set_average(1)\n",
    "pna.set_averages(1)\n",
    "pna.set_power (-15)\n",
    "lo1.set_power (13)\n",
    "#current_src.set_current(-2.5e-3)\n",
    "\n",
    "header = '''#Parameter = Ex frequency\n",
    "#Ex power = {:f}'''\n",
    "try:\n",
    "    ex1D = sweep.sweep(pna, (ex_freqs, lo1.set_frequency, 'Second tone freq'), filename = \"ex_{:.1f}dBm #4\".format(lo1.get_power()))\n",
    "except KeyboardInterrupt: pass "
   ]
  },
  {
   "cell_type": "markdown",
   "metadata": {},
   "source": [
    "##### 2D скан (мощность второго тона, частота второго тона)"
   ]
  },
  {
   "cell_type": "code",
   "execution_count": null,
   "metadata": {
    "collapsed": true
   },
   "outputs": [],
   "source": [
    "#### НЕЖМИ МИНЯ\n",
    "Qubit_id = 2\n",
    "ex_freqs = np.arange(6.25e9, 6.9e9, 2e6)\n",
    "ex_powers = np.arange(-20, 15, 5)\n",
    "\n",
    "pna.set_xlim(Qubits[Qubit_id]['Fr'], Qubits[Qubit_id]['Fr'])\n",
    "pna.set_nop(1)\n",
    "pna.set_power(Qubits[Qubit_id]['P'])\n",
    "pna.set_bandwidth(5)\n",
    "#lo1.set_power(-20)\n",
    "\n",
    "header = '''#Parameter =\n",
    "#Ro power = {:f}'''.format( pna.get_power() )\n",
    "\n",
    "lo1.set_status(1)\n",
    "#ps.S21vs2DPar(pna, currents, current.set_current, ex_freqs, lo1.set_frequency, filename = \"#2{:.1f}dBm\".format(lo1.get_power()),\\\n",
    "#           header = header)\n",
    "ex2D = sweep.sweep(pna, (ex_powers, lo1.set_power, 'Second tone power'), (ex_freqs, lo1.set_frequency, 'Second tone freq'), filename = \"#2{:.1f}dBm\".format(pna.get_power()),\\\n",
    "           header = header)\n",
    "lo1.set_status(0)"
   ]
  },
  {
   "cell_type": "markdown",
   "metadata": {},
   "source": [
    "# Импульсы #### ЖМИ МИНЯ ПОЛНОСТЬЮ"
   ]
  },
  {
   "cell_type": "markdown",
   "metadata": {},
   "source": [
    "### Создаём девайсы"
   ]
  },
  {
   "cell_type": "markdown",
   "metadata": {},
   "source": [
    "Инстантизация драйверов устройств.\n",
    "sa - анализатор спектра,\n",
    "awg_tek - геннератор сигналов произвольной формы,\n",
    "adc - аналогово-цифровой преобразователь."
   ]
  },
  {
   "cell_type": "code",
   "execution_count": 6,
   "metadata": {},
   "outputs": [],
   "source": [
    "#if not ('pna' in locals()): pna = Agilent_N5242A('pna', address = 'PNA')\n",
    "#if not ('lo1' in locals()): lo1 = Agilent_E8257D('lo1', address = 'PSG1')\n",
    "sa = Agilent_N9030A('pxa', address = 'PXA')\n",
    "#sa = Signal_Hound_SA(name='SA124', serial=61660066)\n",
    "#lo_ex = Labbrick(name='lo_ex', serial=15249)\n",
    "lo_ex = lo1\n",
    "lo_ro = pna\n",
    "#lo_ro = Labbrick(name='lo_ro', serial=15257)\n",
    "#awg_tek = Tektronix_AWG5014('awg_tek', address = 'TCPIP0::10.20.61.186::inst0::INSTR')\n",
    "adc = Spectrum_M3i2132('adc')"
   ]
  },
  {
   "cell_type": "markdown",
   "metadata": {},
   "source": [
    "\n",
    "### Загружаем импульсные скрипты всякие"
   ]
  },
  {
   "cell_type": "code",
   "execution_count": 7,
   "metadata": {},
   "outputs": [
    {
     "data": {
      "text/plain": [
       "<module 'sweep' from 'D:\\\\qtlab_replacement\\\\scripts\\\\sweep.py'>"
      ]
     },
     "execution_count": 7,
     "metadata": {},
     "output_type": "execute_result"
    }
   ],
   "source": [
    "import awg_digital\n",
    "import awg_iq\n",
    "import data_reduce\n",
    "import imp\n",
    "import fitting\n",
    "import plotting\n",
    "import save_pkl\n",
    "import tomography as tomography_new\n",
    "import tomography_legacy as tomography\n",
    "import sweep\n",
    "imp.reload(awg_digital)\n",
    "imp.reload(awg_iq)\n",
    "imp.reload(data_reduce)\n",
    "imp.reload(fitting)\n",
    "imp.reload(plotting)\n",
    "imp.reload(save_pkl)\n",
    "imp.reload(tomography)\n",
    "imp.reload(tomography_new)\n",
    "imp.reload(sweep)"
   ]
  },
  {
   "cell_type": "markdown",
   "metadata": {},
   "source": [
    "### Осцилляторы"
   ]
  },
  {
   "cell_type": "markdown",
   "metadata": {},
   "source": [
    "Генераторы опорных волн для смесителей.\n",
    "На вход надо подавать около 13 дБ (точка децибельной компрессии).\n",
    "В качестве источника можно использовать agilent или labbrick. У labbrick фазовые шумы, лучше использвать agilent.\n",
    "Векторный анализатор можно включить в режим постоянной волны, тогда его тоже можно использовать."
   ]
  },
  {
   "cell_type": "code",
   "execution_count": 8,
   "metadata": {},
   "outputs": [],
   "source": [
    "# Источник тока - в autorange\n",
    "#current.set_autorange(1)\n",
    "#Мощности гетеродинов, постоянные\n",
    "#Мощность гетеродина для возбуждения 13-16 дБм\n",
    "#lo_ex_pow = 14\n",
    "#lo_ex_pow = 14\n",
    "lo_ex_pow = 14\n",
    "#lo_ex = lo1\n",
    "lo_ex.set_status(1)\n",
    "#lo_ex.set_power(lo_ex_pow)\n",
    "#pna как lo2 (excitation)\n",
    "#Port1 - выход\n",
    "#Мощность гетеродина для считывания 10-13 дБм, с учётом разветвителя 13-16 dBm\n",
    "#lo_ro_pow = 16\n",
    "lo_ro_pow = 16\n",
    "lo_ro.set_power(lo_ro_pow)\n",
    "\n",
    "#lo_ex = pna\n",
    "pna.write(\"OUTP ON\")\n",
    "pna.write(\"SOUR1:POW1:MODE ON\")\n",
    "pna.write(\"SOUR1:POW2:MODE OFF\")\n",
    "pna.set_sweep_mode(\"CW\")\n",
    "lo_ex.set_power(lo_ex_pow)\n",
    "awg_tek=awg"
   ]
  },
  {
   "cell_type": "markdown",
   "metadata": {},
   "source": [
    "### AWGшки"
   ]
  },
  {
   "cell_type": "code",
   "execution_count": 9,
   "metadata": {},
   "outputs": [
    {
     "name": "stderr",
     "output_type": "stream",
     "text": [
      "root: WARNING  Tektronix_AWG5014 : Clock set to 1000000000.0. This is not fully functional yet. To avoid problems, it is better not to change the clock during operation\n"
     ]
    }
   ],
   "source": [
    "# промежуточные частоты для гетеродинной схемы:\n",
    "ex_if = 125e6\n",
    "ro_if = 75e6\n",
    "# клоки генератора и оцифровщика\n",
    "ex_clock = 1e9\n",
    "ro_clock = 1e9\n",
    "\n",
    "rep_rate = 20e3 # частота повторений эксперимента\n",
    "\n",
    "awg_tek.stop()\n",
    "awg_tek.set_clock(ex_clock) # клок всех авгшк\n",
    "awg_tek.set_nop(ex_clock/rep_rate) # репрейт нужно задавать по=хорошему только на управляющей,\n",
    "awg_tek.run()\n",
    "# а вот длину сэмплов, которая очевидно то же самое, нужно задавать на всех авгшках.\n",
    "# хорошо, что сейчас она только одна.\n",
    "\n",
    "# миксеры подключены к AWG5014 через 6 дБ аттенюаторы. Ставим амплитуду 0.7 В на считывание, 0.4 В на возбуждение.\n",
    "for channel in range(3,5):\n",
    "    awg_tek.set_amplitude(0.5, channel=channel)\n",
    "    awg_tek.set_offset(0.0, channel=channel)\n",
    "for channel in range(1,3):\n",
    "    awg_tek.set_amplitude(0.8, channel=channel)\n",
    "    awg_tek.set_offset(0.0, channel=channel)\n",
    "# Выходы 1, 2 тектроникс: возбуждение (кубитный тон) через 6 дБ аттенюатор\n",
    "# Выходы 3, 4 тектроникс: считывание (резонаторный тон) через 6 дБ аттенюатор\n",
    "iq_ex = awg_iq.awg_iq(awg_tek, awg_tek, 2, 1, lo_ex)\n",
    "iq_ro = awg_iq.awg_iq(awg_tek, awg_tek, 3, 4, lo_ro)\n",
    "iq_ex.set_if(ex_if)\n",
    "iq_ro.set_if(ro_if)\n",
    "iq_ex.set_sideband_id(-1)\n",
    "iq_ro.set_sideband_id(-1)\n",
    "iq_ex.set_frequency(Qubits[qubit_id]['F01'])\n",
    "iq_ro.set_frequency(Qubits[qubit_id]['Fr'])\n",
    "\n",
    "# К первому маркере первого канала тектроникса подсоединён триггер оцифровщика.\n",
    "# Надо подавать какой-нибудь триггер, что-ли.\n",
    "# А ещё нужно подавать клок. К сожалению наш оцифровщик не может в 1ГГц клок, ему нужен 500МГц клок.\n",
    "# Будем подавать 500 МГц с цифрового выхода тектроникса.\n",
    "awg_tek.set_marker1_low(-1, channel=1)\n",
    "awg_tek.set_marker2_low(-1, channel=1)\n",
    "awg_tek.set_marker1_high(2, channel=1)\n",
    "awg_tek.set_marker2_high(2, channel=1)\n",
    "awg_tek.set_marker1_low(-0.1, channel=2)\n",
    "awg_tek.set_marker2_low(-0.1, channel=2) \n",
    "awg_tek.set_marker1_high(0.1, channel=2) # с клока хватит и такой амплитуды\n",
    "awg_tek.set_marker2_high(0.1, channel=2) # с клока хватит и такой амплитуды\n",
    "\n",
    "ro_trg = awg_digital.awg_digital(awg_tek, 1)\n",
    "osc_trg = awg_digital.awg_digital(awg_tek, 5)\n",
    "ro_adc_clock = awg_digital.awg_digital(awg_tek, 2) #\n",
    "osc_adc_clock = awg_digital.awg_digital(awg_tek, 6) #\n",
    "\n",
    "# тупо клок\n",
    "ro_adc_clock.set_waveform(np.asarray([0,1]*int(ro_adc_clock.get_nop()/2), dtype=int))\n",
    "osc_adc_clock.set_waveform(np.asarray([0,1]*int(ro_adc_clock.get_nop()/2), dtype=int))\n",
    "awg_channels = {'iq_ex':iq_ex, 'iq_ro':iq_ro, 'ro_trg':ro_trg, 'osc_trg':osc_trg}\n",
    "trg_length = 4e-9\n",
    "pg = tomography_new.pulses(awg_channels)"
   ]
  },
  {
   "cell_type": "markdown",
   "metadata": {},
   "source": [
    "### Оцифровщик"
   ]
  },
  {
   "cell_type": "code",
   "execution_count": 10,
   "metadata": {
    "collapsed": true
   },
   "outputs": [],
   "source": [
    "# настройки оцифровщика\n",
    "adc.reset()            \n",
    "adc.set_timeout(10000)\n",
    "adc.set_clock(ro_clock)\n",
    "\n",
    "#adc.set_spc_samplerate(smp_rate)\n",
    "#External trigger\n",
    "adc.set_trigger_ext0_level0(0) # logical 0 value to 200 mV\n",
    "adc.set_trigger_ext0_level1(1300) # logical 1 value to 600 mV\n",
    "adc.trigger_termination_50Ohm()\n",
    "adc.trigger_mode_pos()\n",
    "adc.set_trigger_ext0_pulsewidth(0)\n",
    "adc.disable_trigger_output()\n",
    "adc.select_channel01()\n",
    "adc.set_multi_mode()\n",
    "#adc.set_segmentsize()\n",
    "adc.set_trigger_ORmask_tmask_ext0()\n",
    "adc.set_trigger_ANDmask_tmask_ext0()\n",
    "adc.set_trigger_ORmask_tmask_NO_ch0()\n",
    "adc.set_trigger_ORmask_tmask_NO_ch1()\n",
    "adc.set_trigger_ANDmask_tmask_NO_ch0()\n",
    "adc.set_trigger_ANDmask_tmask_NO_ch1()\n",
    "# усилитель на оцифровщике\n",
    "adc.set_input_amp_ch0(50)\n",
    "adc.set_input_amp_ch1(50)\n",
    "adc.set_input_offset_ch0(0)\n",
    "adc.set_input_offset_ch1(0)\n",
    "\n",
    "#External clock\n",
    "adc.set_reference_clock(adc.get_clock())\n",
    "\n",
    "# \"Измеритель средних прошедших импульсов\"\n",
    "# Просто усредняет всё по номеру сэмпла.\n",
    "adc_reducer = data_reduce.data_reduce(adc)\n",
    "adc_reducer.filters['Mean Voltage (AC)'] = data_reduce.mean_reducer_noavg(adc, 'Voltage', 0)\n",
    "adc_reducer.filters['S21+'] = data_reduce.mean_reducer_freq(adc, 'Voltage', 0, iq_ro.get_if())\n",
    "adc_reducer.filters['S21-'] = data_reduce.mean_reducer_freq(adc, 'Voltage', 0, -iq_ro.get_if())\n",
    "# Этот измеритель мы как правило используем когда точек не слишком много и все результаты его жизнедеятельности как правило \n",
    "# выглядят как ломаные. Чтобы было красиво, давайте лучше сделаем точки (а кривые потом получим фитованые)\n",
    "adc_reducer.extra_opts['scatter'] = True"
   ]
  },
  {
   "cell_type": "markdown",
   "metadata": {},
   "source": [
    "### Измерение двухтонового спектра импульсами"
   ]
  },
  {
   "cell_type": "code",
   "execution_count": 45,
   "metadata": {
    "scrolled": true
   },
   "outputs": [
    {
     "data": {
      "application/vnd.jupyter.widget-view+json": {
       "model_id": "216b21bd3c1a4fb184cdb39cb3ff3a32",
       "version_major": 2,
       "version_minor": 0
      },
      "text/plain": [
       "A Jupyter Widget"
      ]
     },
     "metadata": {},
     "output_type": "display_data"
    },
    {
     "name": "stdout",
     "output_type": "stream",
     "text": [
      "Started at:  Apr 09 2018 14:35:33\n"
     ]
    },
    {
     "name": "stderr",
     "output_type": "stream",
     "text": [
      "C:\\ProgramData\\Anaconda3\\lib\\site-packages\\matplotlib\\cbook\\deprecation.py:106: MatplotlibDeprecationWarning: Adding an axes using the same arguments as a previous axes currently reuses the earlier instance.  In a future version, a new instance will always be created and returned.  Meanwhile, this warning can be suppressed, and the future behavior ensured, by passing a unique label to each axes instance.\n",
      "  warnings.warn(message, mplDeprecation, stacklevel=1)\n"
     ]
    },
    {
     "ename": "KeyboardInterrupt",
     "evalue": "",
     "output_type": "error",
     "traceback": [
      "\u001b[1;31m---------------------------------------------------------------------------\u001b[0m",
      "\u001b[1;31mKeyboardInterrupt\u001b[0m                         Traceback (most recent call last)",
      "\u001b[1;32mC:\\ProgramData\\Anaconda3\\lib\\site-packages\\matplotlib\\backends\\backend_qt5agg.py\u001b[0m in \u001b[0;36m__draw_idle_agg\u001b[1;34m(self, *args)\u001b[0m\n\u001b[0;32m    162\u001b[0m         \u001b[1;32mtry\u001b[0m\u001b[1;33m:\u001b[0m\u001b[1;33m\u001b[0m\u001b[0m\n\u001b[0;32m    163\u001b[0m             \u001b[1;31m# actually do the drawing\u001b[0m\u001b[1;33m\u001b[0m\u001b[1;33m\u001b[0m\u001b[0m\n\u001b[1;32m--> 164\u001b[1;33m             \u001b[0mself\u001b[0m\u001b[1;33m.\u001b[0m\u001b[0mdraw\u001b[0m\u001b[1;33m(\u001b[0m\u001b[1;33m)\u001b[0m\u001b[1;33m\u001b[0m\u001b[0m\n\u001b[0m\u001b[0;32m    165\u001b[0m         \u001b[1;32mexcept\u001b[0m \u001b[0mException\u001b[0m\u001b[1;33m:\u001b[0m\u001b[1;33m\u001b[0m\u001b[0m\n\u001b[0;32m    166\u001b[0m             \u001b[1;31m# Uncaught exceptions are fatal for PyQt5, so catch them instead.\u001b[0m\u001b[1;33m\u001b[0m\u001b[1;33m\u001b[0m\u001b[0m\n",
      "\u001b[1;32mC:\\ProgramData\\Anaconda3\\lib\\site-packages\\matplotlib\\backends\\backend_qt5agg.py\u001b[0m in \u001b[0;36mdraw\u001b[1;34m(self)\u001b[0m\n\u001b[0;32m    131\u001b[0m         \u001b[0mself\u001b[0m\u001b[1;33m.\u001b[0m\u001b[0m_agg_is_drawing\u001b[0m \u001b[1;33m=\u001b[0m \u001b[1;32mTrue\u001b[0m\u001b[1;33m\u001b[0m\u001b[0m\n\u001b[0;32m    132\u001b[0m         \u001b[1;32mtry\u001b[0m\u001b[1;33m:\u001b[0m\u001b[1;33m\u001b[0m\u001b[0m\n\u001b[1;32m--> 133\u001b[1;33m             \u001b[0msuper\u001b[0m\u001b[1;33m(\u001b[0m\u001b[0mFigureCanvasQTAggBase\u001b[0m\u001b[1;33m,\u001b[0m \u001b[0mself\u001b[0m\u001b[1;33m)\u001b[0m\u001b[1;33m.\u001b[0m\u001b[0mdraw\u001b[0m\u001b[1;33m(\u001b[0m\u001b[1;33m)\u001b[0m\u001b[1;33m\u001b[0m\u001b[0m\n\u001b[0m\u001b[0;32m    134\u001b[0m         \u001b[1;32mfinally\u001b[0m\u001b[1;33m:\u001b[0m\u001b[1;33m\u001b[0m\u001b[0m\n\u001b[0;32m    135\u001b[0m             \u001b[0mself\u001b[0m\u001b[1;33m.\u001b[0m\u001b[0m_agg_is_drawing\u001b[0m \u001b[1;33m=\u001b[0m \u001b[1;32mFalse\u001b[0m\u001b[1;33m\u001b[0m\u001b[0m\n",
      "\u001b[1;32mC:\\ProgramData\\Anaconda3\\lib\\site-packages\\matplotlib\\backends\\backend_agg.py\u001b[0m in \u001b[0;36mdraw\u001b[1;34m(self)\u001b[0m\n\u001b[0;32m    428\u001b[0m             \u001b[1;31m# if toolbar:\u001b[0m\u001b[1;33m\u001b[0m\u001b[1;33m\u001b[0m\u001b[0m\n\u001b[0;32m    429\u001b[0m             \u001b[1;31m#     toolbar.set_cursor(cursors.WAIT)\u001b[0m\u001b[1;33m\u001b[0m\u001b[1;33m\u001b[0m\u001b[0m\n\u001b[1;32m--> 430\u001b[1;33m             \u001b[0mself\u001b[0m\u001b[1;33m.\u001b[0m\u001b[0mfigure\u001b[0m\u001b[1;33m.\u001b[0m\u001b[0mdraw\u001b[0m\u001b[1;33m(\u001b[0m\u001b[0mself\u001b[0m\u001b[1;33m.\u001b[0m\u001b[0mrenderer\u001b[0m\u001b[1;33m)\u001b[0m\u001b[1;33m\u001b[0m\u001b[0m\n\u001b[0m\u001b[0;32m    431\u001b[0m         \u001b[1;32mfinally\u001b[0m\u001b[1;33m:\u001b[0m\u001b[1;33m\u001b[0m\u001b[0m\n\u001b[0;32m    432\u001b[0m             \u001b[1;31m# if toolbar:\u001b[0m\u001b[1;33m\u001b[0m\u001b[1;33m\u001b[0m\u001b[0m\n",
      "\u001b[1;32mC:\\ProgramData\\Anaconda3\\lib\\site-packages\\matplotlib\\artist.py\u001b[0m in \u001b[0;36mdraw_wrapper\u001b[1;34m(artist, renderer, *args, **kwargs)\u001b[0m\n\u001b[0;32m     53\u001b[0m                 \u001b[0mrenderer\u001b[0m\u001b[1;33m.\u001b[0m\u001b[0mstart_filter\u001b[0m\u001b[1;33m(\u001b[0m\u001b[1;33m)\u001b[0m\u001b[1;33m\u001b[0m\u001b[0m\n\u001b[0;32m     54\u001b[0m \u001b[1;33m\u001b[0m\u001b[0m\n\u001b[1;32m---> 55\u001b[1;33m             \u001b[1;32mreturn\u001b[0m \u001b[0mdraw\u001b[0m\u001b[1;33m(\u001b[0m\u001b[0martist\u001b[0m\u001b[1;33m,\u001b[0m \u001b[0mrenderer\u001b[0m\u001b[1;33m,\u001b[0m \u001b[1;33m*\u001b[0m\u001b[0margs\u001b[0m\u001b[1;33m,\u001b[0m \u001b[1;33m**\u001b[0m\u001b[0mkwargs\u001b[0m\u001b[1;33m)\u001b[0m\u001b[1;33m\u001b[0m\u001b[0m\n\u001b[0m\u001b[0;32m     56\u001b[0m         \u001b[1;32mfinally\u001b[0m\u001b[1;33m:\u001b[0m\u001b[1;33m\u001b[0m\u001b[0m\n\u001b[0;32m     57\u001b[0m             \u001b[1;32mif\u001b[0m \u001b[0martist\u001b[0m\u001b[1;33m.\u001b[0m\u001b[0mget_agg_filter\u001b[0m\u001b[1;33m(\u001b[0m\u001b[1;33m)\u001b[0m \u001b[1;32mis\u001b[0m \u001b[1;32mnot\u001b[0m \u001b[1;32mNone\u001b[0m\u001b[1;33m:\u001b[0m\u001b[1;33m\u001b[0m\u001b[0m\n",
      "\u001b[1;32mC:\\ProgramData\\Anaconda3\\lib\\site-packages\\matplotlib\\figure.py\u001b[0m in \u001b[0;36mdraw\u001b[1;34m(self, renderer)\u001b[0m\n\u001b[0;32m   1297\u001b[0m \u001b[1;33m\u001b[0m\u001b[0m\n\u001b[0;32m   1298\u001b[0m             mimage._draw_list_compositing_images(\n\u001b[1;32m-> 1299\u001b[1;33m                 renderer, self, artists, self.suppressComposite)\n\u001b[0m\u001b[0;32m   1300\u001b[0m \u001b[1;33m\u001b[0m\u001b[0m\n\u001b[0;32m   1301\u001b[0m             \u001b[0mrenderer\u001b[0m\u001b[1;33m.\u001b[0m\u001b[0mclose_group\u001b[0m\u001b[1;33m(\u001b[0m\u001b[1;34m'figure'\u001b[0m\u001b[1;33m)\u001b[0m\u001b[1;33m\u001b[0m\u001b[0m\n",
      "\u001b[1;32mC:\\ProgramData\\Anaconda3\\lib\\site-packages\\matplotlib\\image.py\u001b[0m in \u001b[0;36m_draw_list_compositing_images\u001b[1;34m(renderer, parent, artists, suppress_composite)\u001b[0m\n\u001b[0;32m    136\u001b[0m     \u001b[1;32mif\u001b[0m \u001b[0mnot_composite\u001b[0m \u001b[1;32mor\u001b[0m \u001b[1;32mnot\u001b[0m \u001b[0mhas_images\u001b[0m\u001b[1;33m:\u001b[0m\u001b[1;33m\u001b[0m\u001b[0m\n\u001b[0;32m    137\u001b[0m         \u001b[1;32mfor\u001b[0m \u001b[0ma\u001b[0m \u001b[1;32min\u001b[0m \u001b[0martists\u001b[0m\u001b[1;33m:\u001b[0m\u001b[1;33m\u001b[0m\u001b[0m\n\u001b[1;32m--> 138\u001b[1;33m             \u001b[0ma\u001b[0m\u001b[1;33m.\u001b[0m\u001b[0mdraw\u001b[0m\u001b[1;33m(\u001b[0m\u001b[0mrenderer\u001b[0m\u001b[1;33m)\u001b[0m\u001b[1;33m\u001b[0m\u001b[0m\n\u001b[0m\u001b[0;32m    139\u001b[0m     \u001b[1;32melse\u001b[0m\u001b[1;33m:\u001b[0m\u001b[1;33m\u001b[0m\u001b[0m\n\u001b[0;32m    140\u001b[0m         \u001b[1;31m# Composite any adjacent images together\u001b[0m\u001b[1;33m\u001b[0m\u001b[1;33m\u001b[0m\u001b[0m\n",
      "\u001b[1;32mC:\\ProgramData\\Anaconda3\\lib\\site-packages\\matplotlib\\artist.py\u001b[0m in \u001b[0;36mdraw_wrapper\u001b[1;34m(artist, renderer, *args, **kwargs)\u001b[0m\n\u001b[0;32m     53\u001b[0m                 \u001b[0mrenderer\u001b[0m\u001b[1;33m.\u001b[0m\u001b[0mstart_filter\u001b[0m\u001b[1;33m(\u001b[0m\u001b[1;33m)\u001b[0m\u001b[1;33m\u001b[0m\u001b[0m\n\u001b[0;32m     54\u001b[0m \u001b[1;33m\u001b[0m\u001b[0m\n\u001b[1;32m---> 55\u001b[1;33m             \u001b[1;32mreturn\u001b[0m \u001b[0mdraw\u001b[0m\u001b[1;33m(\u001b[0m\u001b[0martist\u001b[0m\u001b[1;33m,\u001b[0m \u001b[0mrenderer\u001b[0m\u001b[1;33m,\u001b[0m \u001b[1;33m*\u001b[0m\u001b[0margs\u001b[0m\u001b[1;33m,\u001b[0m \u001b[1;33m**\u001b[0m\u001b[0mkwargs\u001b[0m\u001b[1;33m)\u001b[0m\u001b[1;33m\u001b[0m\u001b[0m\n\u001b[0m\u001b[0;32m     56\u001b[0m         \u001b[1;32mfinally\u001b[0m\u001b[1;33m:\u001b[0m\u001b[1;33m\u001b[0m\u001b[0m\n\u001b[0;32m     57\u001b[0m             \u001b[1;32mif\u001b[0m \u001b[0martist\u001b[0m\u001b[1;33m.\u001b[0m\u001b[0mget_agg_filter\u001b[0m\u001b[1;33m(\u001b[0m\u001b[1;33m)\u001b[0m \u001b[1;32mis\u001b[0m \u001b[1;32mnot\u001b[0m \u001b[1;32mNone\u001b[0m\u001b[1;33m:\u001b[0m\u001b[1;33m\u001b[0m\u001b[0m\n",
      "\u001b[1;32mC:\\ProgramData\\Anaconda3\\lib\\site-packages\\matplotlib\\axes\\_base.py\u001b[0m in \u001b[0;36mdraw\u001b[1;34m(self, renderer, inframe)\u001b[0m\n\u001b[0;32m   2435\u001b[0m             \u001b[0mrenderer\u001b[0m\u001b[1;33m.\u001b[0m\u001b[0mstop_rasterizing\u001b[0m\u001b[1;33m(\u001b[0m\u001b[1;33m)\u001b[0m\u001b[1;33m\u001b[0m\u001b[0m\n\u001b[0;32m   2436\u001b[0m \u001b[1;33m\u001b[0m\u001b[0m\n\u001b[1;32m-> 2437\u001b[1;33m         \u001b[0mmimage\u001b[0m\u001b[1;33m.\u001b[0m\u001b[0m_draw_list_compositing_images\u001b[0m\u001b[1;33m(\u001b[0m\u001b[0mrenderer\u001b[0m\u001b[1;33m,\u001b[0m \u001b[0mself\u001b[0m\u001b[1;33m,\u001b[0m \u001b[0martists\u001b[0m\u001b[1;33m)\u001b[0m\u001b[1;33m\u001b[0m\u001b[0m\n\u001b[0m\u001b[0;32m   2438\u001b[0m \u001b[1;33m\u001b[0m\u001b[0m\n\u001b[0;32m   2439\u001b[0m         \u001b[0mrenderer\u001b[0m\u001b[1;33m.\u001b[0m\u001b[0mclose_group\u001b[0m\u001b[1;33m(\u001b[0m\u001b[1;34m'axes'\u001b[0m\u001b[1;33m)\u001b[0m\u001b[1;33m\u001b[0m\u001b[0m\n",
      "\u001b[1;32mC:\\ProgramData\\Anaconda3\\lib\\site-packages\\matplotlib\\image.py\u001b[0m in \u001b[0;36m_draw_list_compositing_images\u001b[1;34m(renderer, parent, artists, suppress_composite)\u001b[0m\n\u001b[0;32m    136\u001b[0m     \u001b[1;32mif\u001b[0m \u001b[0mnot_composite\u001b[0m \u001b[1;32mor\u001b[0m \u001b[1;32mnot\u001b[0m \u001b[0mhas_images\u001b[0m\u001b[1;33m:\u001b[0m\u001b[1;33m\u001b[0m\u001b[0m\n\u001b[0;32m    137\u001b[0m         \u001b[1;32mfor\u001b[0m \u001b[0ma\u001b[0m \u001b[1;32min\u001b[0m \u001b[0martists\u001b[0m\u001b[1;33m:\u001b[0m\u001b[1;33m\u001b[0m\u001b[0m\n\u001b[1;32m--> 138\u001b[1;33m             \u001b[0ma\u001b[0m\u001b[1;33m.\u001b[0m\u001b[0mdraw\u001b[0m\u001b[1;33m(\u001b[0m\u001b[0mrenderer\u001b[0m\u001b[1;33m)\u001b[0m\u001b[1;33m\u001b[0m\u001b[0m\n\u001b[0m\u001b[0;32m    139\u001b[0m     \u001b[1;32melse\u001b[0m\u001b[1;33m:\u001b[0m\u001b[1;33m\u001b[0m\u001b[0m\n\u001b[0;32m    140\u001b[0m         \u001b[1;31m# Composite any adjacent images together\u001b[0m\u001b[1;33m\u001b[0m\u001b[1;33m\u001b[0m\u001b[0m\n",
      "\u001b[1;32mC:\\ProgramData\\Anaconda3\\lib\\site-packages\\matplotlib\\artist.py\u001b[0m in \u001b[0;36mdraw_wrapper\u001b[1;34m(artist, renderer, *args, **kwargs)\u001b[0m\n\u001b[0;32m     53\u001b[0m                 \u001b[0mrenderer\u001b[0m\u001b[1;33m.\u001b[0m\u001b[0mstart_filter\u001b[0m\u001b[1;33m(\u001b[0m\u001b[1;33m)\u001b[0m\u001b[1;33m\u001b[0m\u001b[0m\n\u001b[0;32m     54\u001b[0m \u001b[1;33m\u001b[0m\u001b[0m\n\u001b[1;32m---> 55\u001b[1;33m             \u001b[1;32mreturn\u001b[0m \u001b[0mdraw\u001b[0m\u001b[1;33m(\u001b[0m\u001b[0martist\u001b[0m\u001b[1;33m,\u001b[0m \u001b[0mrenderer\u001b[0m\u001b[1;33m,\u001b[0m \u001b[1;33m*\u001b[0m\u001b[0margs\u001b[0m\u001b[1;33m,\u001b[0m \u001b[1;33m**\u001b[0m\u001b[0mkwargs\u001b[0m\u001b[1;33m)\u001b[0m\u001b[1;33m\u001b[0m\u001b[0m\n\u001b[0m\u001b[0;32m     56\u001b[0m         \u001b[1;32mfinally\u001b[0m\u001b[1;33m:\u001b[0m\u001b[1;33m\u001b[0m\u001b[0m\n\u001b[0;32m     57\u001b[0m             \u001b[1;32mif\u001b[0m \u001b[0martist\u001b[0m\u001b[1;33m.\u001b[0m\u001b[0mget_agg_filter\u001b[0m\u001b[1;33m(\u001b[0m\u001b[1;33m)\u001b[0m \u001b[1;32mis\u001b[0m \u001b[1;32mnot\u001b[0m \u001b[1;32mNone\u001b[0m\u001b[1;33m:\u001b[0m\u001b[1;33m\u001b[0m\u001b[0m\n",
      "\u001b[1;32mC:\\ProgramData\\Anaconda3\\lib\\site-packages\\matplotlib\\axis.py\u001b[0m in \u001b[0;36mdraw\u001b[1;34m(self, renderer, *args, **kwargs)\u001b[0m\n\u001b[0;32m   1133\u001b[0m         \u001b[0mticks_to_draw\u001b[0m \u001b[1;33m=\u001b[0m \u001b[0mself\u001b[0m\u001b[1;33m.\u001b[0m\u001b[0m_update_ticks\u001b[0m\u001b[1;33m(\u001b[0m\u001b[0mrenderer\u001b[0m\u001b[1;33m)\u001b[0m\u001b[1;33m\u001b[0m\u001b[0m\n\u001b[0;32m   1134\u001b[0m         ticklabelBoxes, ticklabelBoxes2 = self._get_tick_bboxes(ticks_to_draw,\n\u001b[1;32m-> 1135\u001b[1;33m                                                                 renderer)\n\u001b[0m\u001b[0;32m   1136\u001b[0m \u001b[1;33m\u001b[0m\u001b[0m\n\u001b[0;32m   1137\u001b[0m         \u001b[1;32mfor\u001b[0m \u001b[0mtick\u001b[0m \u001b[1;32min\u001b[0m \u001b[0mticks_to_draw\u001b[0m\u001b[1;33m:\u001b[0m\u001b[1;33m\u001b[0m\u001b[0m\n",
      "\u001b[1;32mC:\\ProgramData\\Anaconda3\\lib\\site-packages\\matplotlib\\axis.py\u001b[0m in \u001b[0;36m_get_tick_bboxes\u001b[1;34m(self, ticks, renderer)\u001b[0m\n\u001b[0;32m   1073\u001b[0m         \u001b[1;32mfor\u001b[0m \u001b[0mtick\u001b[0m \u001b[1;32min\u001b[0m \u001b[0mticks\u001b[0m\u001b[1;33m:\u001b[0m\u001b[1;33m\u001b[0m\u001b[0m\n\u001b[0;32m   1074\u001b[0m             \u001b[1;32mif\u001b[0m \u001b[0mtick\u001b[0m\u001b[1;33m.\u001b[0m\u001b[0mlabel1On\u001b[0m \u001b[1;32mand\u001b[0m \u001b[0mtick\u001b[0m\u001b[1;33m.\u001b[0m\u001b[0mlabel1\u001b[0m\u001b[1;33m.\u001b[0m\u001b[0mget_visible\u001b[0m\u001b[1;33m(\u001b[0m\u001b[1;33m)\u001b[0m\u001b[1;33m:\u001b[0m\u001b[1;33m\u001b[0m\u001b[0m\n\u001b[1;32m-> 1075\u001b[1;33m                 \u001b[0mextent\u001b[0m \u001b[1;33m=\u001b[0m \u001b[0mtick\u001b[0m\u001b[1;33m.\u001b[0m\u001b[0mlabel1\u001b[0m\u001b[1;33m.\u001b[0m\u001b[0mget_window_extent\u001b[0m\u001b[1;33m(\u001b[0m\u001b[0mrenderer\u001b[0m\u001b[1;33m)\u001b[0m\u001b[1;33m\u001b[0m\u001b[0m\n\u001b[0m\u001b[0;32m   1076\u001b[0m                 \u001b[0mticklabelBoxes\u001b[0m\u001b[1;33m.\u001b[0m\u001b[0mappend\u001b[0m\u001b[1;33m(\u001b[0m\u001b[0mextent\u001b[0m\u001b[1;33m)\u001b[0m\u001b[1;33m\u001b[0m\u001b[0m\n\u001b[0;32m   1077\u001b[0m             \u001b[1;32mif\u001b[0m \u001b[0mtick\u001b[0m\u001b[1;33m.\u001b[0m\u001b[0mlabel2On\u001b[0m \u001b[1;32mand\u001b[0m \u001b[0mtick\u001b[0m\u001b[1;33m.\u001b[0m\u001b[0mlabel2\u001b[0m\u001b[1;33m.\u001b[0m\u001b[0mget_visible\u001b[0m\u001b[1;33m(\u001b[0m\u001b[1;33m)\u001b[0m\u001b[1;33m:\u001b[0m\u001b[1;33m\u001b[0m\u001b[0m\n",
      "\u001b[1;32mC:\\ProgramData\\Anaconda3\\lib\\site-packages\\matplotlib\\text.py\u001b[0m in \u001b[0;36mget_window_extent\u001b[1;34m(self, renderer, dpi)\u001b[0m\n\u001b[0;32m    933\u001b[0m         \u001b[0mbbox\u001b[0m\u001b[1;33m,\u001b[0m \u001b[0minfo\u001b[0m\u001b[1;33m,\u001b[0m \u001b[0mdescent\u001b[0m \u001b[1;33m=\u001b[0m \u001b[0mself\u001b[0m\u001b[1;33m.\u001b[0m\u001b[0m_get_layout\u001b[0m\u001b[1;33m(\u001b[0m\u001b[0mself\u001b[0m\u001b[1;33m.\u001b[0m\u001b[0m_renderer\u001b[0m\u001b[1;33m)\u001b[0m\u001b[1;33m\u001b[0m\u001b[0m\n\u001b[0;32m    934\u001b[0m         \u001b[0mx\u001b[0m\u001b[1;33m,\u001b[0m \u001b[0my\u001b[0m \u001b[1;33m=\u001b[0m \u001b[0mself\u001b[0m\u001b[1;33m.\u001b[0m\u001b[0mget_unitless_position\u001b[0m\u001b[1;33m(\u001b[0m\u001b[1;33m)\u001b[0m\u001b[1;33m\u001b[0m\u001b[0m\n\u001b[1;32m--> 935\u001b[1;33m         \u001b[0mx\u001b[0m\u001b[1;33m,\u001b[0m \u001b[0my\u001b[0m \u001b[1;33m=\u001b[0m \u001b[0mself\u001b[0m\u001b[1;33m.\u001b[0m\u001b[0mget_transform\u001b[0m\u001b[1;33m(\u001b[0m\u001b[1;33m)\u001b[0m\u001b[1;33m.\u001b[0m\u001b[0mtransform_point\u001b[0m\u001b[1;33m(\u001b[0m\u001b[1;33m(\u001b[0m\u001b[0mx\u001b[0m\u001b[1;33m,\u001b[0m \u001b[0my\u001b[0m\u001b[1;33m)\u001b[0m\u001b[1;33m)\u001b[0m\u001b[1;33m\u001b[0m\u001b[0m\n\u001b[0m\u001b[0;32m    936\u001b[0m         \u001b[0mbbox\u001b[0m \u001b[1;33m=\u001b[0m \u001b[0mbbox\u001b[0m\u001b[1;33m.\u001b[0m\u001b[0mtranslated\u001b[0m\u001b[1;33m(\u001b[0m\u001b[0mx\u001b[0m\u001b[1;33m,\u001b[0m \u001b[0my\u001b[0m\u001b[1;33m)\u001b[0m\u001b[1;33m\u001b[0m\u001b[0m\n\u001b[0;32m    937\u001b[0m         \u001b[1;32mif\u001b[0m \u001b[0mdpi\u001b[0m \u001b[1;32mis\u001b[0m \u001b[1;32mnot\u001b[0m \u001b[1;32mNone\u001b[0m\u001b[1;33m:\u001b[0m\u001b[1;33m\u001b[0m\u001b[0m\n",
      "\u001b[1;32mC:\\ProgramData\\Anaconda3\\lib\\site-packages\\matplotlib\\transforms.py\u001b[0m in \u001b[0;36mtransform_point\u001b[1;34m(self, point)\u001b[0m\n\u001b[0;32m   1513\u001b[0m             \u001b[0mmsg\u001b[0m \u001b[1;33m=\u001b[0m \u001b[1;34m\"The length of 'point' must be 'self.input_dims'\"\u001b[0m\u001b[1;33m\u001b[0m\u001b[0m\n\u001b[0;32m   1514\u001b[0m             \u001b[1;32mraise\u001b[0m \u001b[0mValueError\u001b[0m\u001b[1;33m(\u001b[0m\u001b[0mmsg\u001b[0m\u001b[1;33m)\u001b[0m\u001b[1;33m\u001b[0m\u001b[0m\n\u001b[1;32m-> 1515\u001b[1;33m         \u001b[1;32mreturn\u001b[0m \u001b[0mself\u001b[0m\u001b[1;33m.\u001b[0m\u001b[0mtransform\u001b[0m\u001b[1;33m(\u001b[0m\u001b[0mnp\u001b[0m\u001b[1;33m.\u001b[0m\u001b[0masarray\u001b[0m\u001b[1;33m(\u001b[0m\u001b[1;33m[\u001b[0m\u001b[0mpoint\u001b[0m\u001b[1;33m]\u001b[0m\u001b[1;33m)\u001b[0m\u001b[1;33m)\u001b[0m\u001b[1;33m[\u001b[0m\u001b[1;36m0\u001b[0m\u001b[1;33m]\u001b[0m\u001b[1;33m\u001b[0m\u001b[0m\n\u001b[0m\u001b[0;32m   1516\u001b[0m \u001b[1;33m\u001b[0m\u001b[0m\n\u001b[0;32m   1517\u001b[0m     \u001b[1;32mdef\u001b[0m \u001b[0mtransform_path\u001b[0m\u001b[1;33m(\u001b[0m\u001b[0mself\u001b[0m\u001b[1;33m,\u001b[0m \u001b[0mpath\u001b[0m\u001b[1;33m)\u001b[0m\u001b[1;33m:\u001b[0m\u001b[1;33m\u001b[0m\u001b[0m\n",
      "\u001b[1;32mC:\\ProgramData\\Anaconda3\\lib\\site-packages\\matplotlib\\transforms.py\u001b[0m in \u001b[0;36mtransform\u001b[1;34m(self, values)\u001b[0m\n\u001b[0;32m   1425\u001b[0m \u001b[1;33m\u001b[0m\u001b[0m\n\u001b[0;32m   1426\u001b[0m         \u001b[1;31m# Transform the values\u001b[0m\u001b[1;33m\u001b[0m\u001b[1;33m\u001b[0m\u001b[0m\n\u001b[1;32m-> 1427\u001b[1;33m         \u001b[0mres\u001b[0m \u001b[1;33m=\u001b[0m \u001b[0mself\u001b[0m\u001b[1;33m.\u001b[0m\u001b[0mtransform_affine\u001b[0m\u001b[1;33m(\u001b[0m\u001b[0mself\u001b[0m\u001b[1;33m.\u001b[0m\u001b[0mtransform_non_affine\u001b[0m\u001b[1;33m(\u001b[0m\u001b[0mvalues\u001b[0m\u001b[1;33m)\u001b[0m\u001b[1;33m)\u001b[0m\u001b[1;33m\u001b[0m\u001b[0m\n\u001b[0m\u001b[0;32m   1428\u001b[0m \u001b[1;33m\u001b[0m\u001b[0m\n\u001b[0;32m   1429\u001b[0m         \u001b[1;31m# Convert the result back to the shape of the input values.\u001b[0m\u001b[1;33m\u001b[0m\u001b[1;33m\u001b[0m\u001b[0m\n",
      "\u001b[1;32mC:\\ProgramData\\Anaconda3\\lib\\site-packages\\matplotlib\\transforms.py\u001b[0m in \u001b[0;36mtransform_affine\u001b[1;34m(self, points)\u001b[0m\n\u001b[0;32m   2452\u001b[0m \u001b[1;33m\u001b[0m\u001b[0m\n\u001b[0;32m   2453\u001b[0m     \u001b[1;32mdef\u001b[0m \u001b[0mtransform_affine\u001b[0m\u001b[1;33m(\u001b[0m\u001b[0mself\u001b[0m\u001b[1;33m,\u001b[0m \u001b[0mpoints\u001b[0m\u001b[1;33m)\u001b[0m\u001b[1;33m:\u001b[0m\u001b[1;33m\u001b[0m\u001b[0m\n\u001b[1;32m-> 2454\u001b[1;33m         \u001b[1;32mreturn\u001b[0m \u001b[0mself\u001b[0m\u001b[1;33m.\u001b[0m\u001b[0mget_affine\u001b[0m\u001b[1;33m(\u001b[0m\u001b[1;33m)\u001b[0m\u001b[1;33m.\u001b[0m\u001b[0mtransform\u001b[0m\u001b[1;33m(\u001b[0m\u001b[0mpoints\u001b[0m\u001b[1;33m)\u001b[0m\u001b[1;33m\u001b[0m\u001b[0m\n\u001b[0m\u001b[0;32m   2455\u001b[0m     \u001b[0mtransform_affine\u001b[0m\u001b[1;33m.\u001b[0m\u001b[0m__doc__\u001b[0m \u001b[1;33m=\u001b[0m \u001b[0mTransform\u001b[0m\u001b[1;33m.\u001b[0m\u001b[0mtransform_affine\u001b[0m\u001b[1;33m.\u001b[0m\u001b[0m__doc__\u001b[0m\u001b[1;33m\u001b[0m\u001b[0m\n\u001b[0;32m   2456\u001b[0m \u001b[1;33m\u001b[0m\u001b[0m\n",
      "\u001b[1;32mC:\\ProgramData\\Anaconda3\\lib\\site-packages\\matplotlib\\transforms.py\u001b[0m in \u001b[0;36mget_affine\u001b[1;34m(self)\u001b[0m\n\u001b[0;32m   2480\u001b[0m         \u001b[1;32melse\u001b[0m\u001b[1;33m:\u001b[0m\u001b[1;33m\u001b[0m\u001b[0m\n\u001b[0;32m   2481\u001b[0m             return Affine2D(np.dot(self._b.get_affine().get_matrix(),\n\u001b[1;32m-> 2482\u001b[1;33m                                 self._a.get_affine().get_matrix()))\n\u001b[0m\u001b[0;32m   2483\u001b[0m     \u001b[0mget_affine\u001b[0m\u001b[1;33m.\u001b[0m\u001b[0m__doc__\u001b[0m \u001b[1;33m=\u001b[0m \u001b[0mTransform\u001b[0m\u001b[1;33m.\u001b[0m\u001b[0mget_affine\u001b[0m\u001b[1;33m.\u001b[0m\u001b[0m__doc__\u001b[0m\u001b[1;33m\u001b[0m\u001b[0m\n\u001b[0;32m   2484\u001b[0m \u001b[1;33m\u001b[0m\u001b[0m\n",
      "\u001b[1;31mKeyboardInterrupt\u001b[0m: "
     ]
    },
    {
     "ename": "KeyboardInterrupt",
     "evalue": "",
     "output_type": "error",
     "traceback": [
      "\u001b[1;31m---------------------------------------------------------------------------\u001b[0m",
      "\u001b[1;31mKeyboardInterrupt\u001b[0m                         Traceback (most recent call last)",
      "\u001b[1;32mC:\\ProgramData\\Anaconda3\\lib\\site-packages\\matplotlib\\backends\\backend_qt5agg.py\u001b[0m in \u001b[0;36mpaintEvent\u001b[1;34m(self, e)\u001b[0m\n\u001b[0;32m     52\u001b[0m         \u001b[1;32mreturn\u001b[0m \u001b[0mself\u001b[0m\u001b[1;33m.\u001b[0m\u001b[0m_bbox_queue\u001b[0m\u001b[1;33m\u001b[0m\u001b[0m\n\u001b[0;32m     53\u001b[0m \u001b[1;33m\u001b[0m\u001b[0m\n\u001b[1;32m---> 54\u001b[1;33m     \u001b[1;32mdef\u001b[0m \u001b[0mpaintEvent\u001b[0m\u001b[1;33m(\u001b[0m\u001b[0mself\u001b[0m\u001b[1;33m,\u001b[0m \u001b[0me\u001b[0m\u001b[1;33m)\u001b[0m\u001b[1;33m:\u001b[0m\u001b[1;33m\u001b[0m\u001b[0m\n\u001b[0m\u001b[0;32m     55\u001b[0m         \"\"\"Copy the image from the Agg canvas to the qt.drawable.\n\u001b[0;32m     56\u001b[0m \u001b[1;33m\u001b[0m\u001b[0m\n",
      "\u001b[1;31mKeyboardInterrupt\u001b[0m: "
     ]
    },
    {
     "ename": "KeyboardInterrupt",
     "evalue": "",
     "output_type": "error",
     "traceback": [
      "\u001b[1;31m---------------------------------------------------------------------------\u001b[0m",
      "\u001b[1;31mRuntimeError\u001b[0m                              Traceback (most recent call last)",
      "\u001b[1;32mD:\\qtlab_replacement\\scripts\\sweep.py\u001b[0m in \u001b[0;36msweep\u001b[1;34m(measurer, filename, root_dir, plot, header, output, save, time_war_label, cycle_save_mode, *params)\u001b[0m\n\u001b[0;32m    183\u001b[0m                                 \u001b[1;32mif\u001b[0m \u001b[0mplot_update_start\u001b[0m \u001b[1;33m-\u001b[0m \u001b[0mlast_plot_update\u001b[0m \u001b[1;33m>\u001b[0m \u001b[1;36m10\u001b[0m\u001b[1;33m*\u001b[0m\u001b[0mplot_update_time\u001b[0m\u001b[1;33m:\u001b[0m\u001b[1;33m\u001b[0m\u001b[0m\n\u001b[1;32m--> 184\u001b[1;33m                                         \u001b[0mplotting\u001b[0m\u001b[1;33m.\u001b[0m\u001b[0mupdate_plot_measurement\u001b[0m\u001b[1;33m(\u001b[0m\u001b[0mmk_measurement\u001b[0m\u001b[1;33m(\u001b[0m\u001b[1;36m0\u001b[0m\u001b[1;33m)\u001b[0m\u001b[1;33m,\u001b[0m \u001b[0mplot_axes\u001b[0m\u001b[1;33m)\u001b[0m\u001b[1;33m\u001b[0m\u001b[0m\n\u001b[0m\u001b[0;32m    185\u001b[0m \t\t\t'''\n",
      "\u001b[1;32mD:\\qtlab_replacement\\scripts\\plotting.py\u001b[0m in \u001b[0;36mupdate_plot_measurement\u001b[1;34m(measurement, axes)\u001b[0m\n\u001b[0;32m    137\u001b[0m                         \u001b[0mmeas\u001b[0m\u001b[1;33m[\u001b[0m\u001b[0mplot_name\u001b[0m\u001b[1;33m]\u001b[0m \u001b[1;33m=\u001b[0m \u001b[1;33m(\u001b[0m\u001b[0mmeasurement\u001b[0m\u001b[1;33m[\u001b[0m\u001b[0mplot\u001b[0m\u001b[1;33m[\u001b[0m\u001b[1;34m'mname'\u001b[0m\u001b[1;33m]\u001b[0m\u001b[1;33m]\u001b[0m\u001b[1;33m[\u001b[0m\u001b[1;36m0\u001b[0m\u001b[1;33m]\u001b[0m\u001b[1;33m,\u001b[0m \u001b[0mmeasurement\u001b[0m\u001b[1;33m[\u001b[0m\u001b[0mplot\u001b[0m\u001b[1;33m[\u001b[0m\u001b[1;34m'mname'\u001b[0m\u001b[1;33m]\u001b[0m\u001b[1;33m]\u001b[0m\u001b[1;33m[\u001b[0m\u001b[1;36m1\u001b[0m\u001b[1;33m]\u001b[0m\u001b[1;33m,\u001b[0m \u001b[0mplot\u001b[0m\u001b[1;33m[\u001b[0m\u001b[1;34m'filter'\u001b[0m\u001b[1;33m]\u001b[0m\u001b[1;33m(\u001b[0m\u001b[0mmeasurement\u001b[0m\u001b[1;33m[\u001b[0m\u001b[0mplot\u001b[0m\u001b[1;33m[\u001b[0m\u001b[1;34m'mname'\u001b[0m\u001b[1;33m]\u001b[0m\u001b[1;33m]\u001b[0m\u001b[1;33m[\u001b[0m\u001b[1;36m2\u001b[0m\u001b[1;33m]\u001b[0m\u001b[1;33m)\u001b[0m\u001b[1;33m)\u001b[0m\u001b[1;33m\u001b[0m\u001b[0m\n\u001b[1;32m--> 138\u001b[1;33m                 \u001b[0mplots\u001b[0m \u001b[1;33m=\u001b[0m \u001b[0mupdate_plot_measurement_sa\u001b[0m\u001b[1;33m(\u001b[0m\u001b[0mmeas\u001b[0m\u001b[1;33m,\u001b[0m \u001b[0max\u001b[0m\u001b[1;33m)\u001b[0m\u001b[1;33m\u001b[0m\u001b[0m\n\u001b[0m\u001b[0;32m    139\u001b[0m \u001b[1;33m\u001b[0m\u001b[0m\n",
      "\u001b[1;32mD:\\qtlab_replacement\\scripts\\plotting.py\u001b[0m in \u001b[0;36mupdate_plot_measurement_sa\u001b[1;34m(measurement, plots)\u001b[0m\n\u001b[0;32m    246\u001b[0m                         \u001b[0mplot\u001b[0m\u001b[1;33m.\u001b[0m\u001b[0mset_data\u001b[0m\u001b[1;33m(\u001b[0m\u001b[0mdata\u001b[0m\u001b[1;33m)\u001b[0m\u001b[1;33m\u001b[0m\u001b[0m\n\u001b[1;32m--> 247\u001b[1;33m                         \u001b[0mplt\u001b[0m\u001b[1;33m.\u001b[0m\u001b[0mclim\u001b[0m\u001b[1;33m(\u001b[0m\u001b[0mnp\u001b[0m\u001b[1;33m.\u001b[0m\u001b[0mnanmin\u001b[0m\u001b[1;33m(\u001b[0m\u001b[0mdata\u001b[0m\u001b[1;33m)\u001b[0m\u001b[1;33m,\u001b[0m \u001b[0mnp\u001b[0m\u001b[1;33m.\u001b[0m\u001b[0mnanmax\u001b[0m\u001b[1;33m(\u001b[0m\u001b[0mdata\u001b[0m\u001b[1;33m)\u001b[0m\u001b[1;33m)\u001b[0m\u001b[1;33m\u001b[0m\u001b[0m\n\u001b[0m\u001b[0;32m    248\u001b[0m                 \u001b[0mplt\u001b[0m\u001b[1;33m.\u001b[0m\u001b[0mdraw\u001b[0m\u001b[1;33m(\u001b[0m\u001b[1;33m)\u001b[0m\u001b[1;33m\u001b[0m\u001b[0m\n",
      "\u001b[1;32mC:\\ProgramData\\Anaconda3\\lib\\site-packages\\matplotlib\\pyplot.py\u001b[0m in \u001b[0;36mclim\u001b[1;34m(vmin, vmax)\u001b[0m\n\u001b[0;32m   2225\u001b[0m     \u001b[1;32mif\u001b[0m \u001b[0mim\u001b[0m \u001b[1;32mis\u001b[0m \u001b[1;32mNone\u001b[0m\u001b[1;33m:\u001b[0m\u001b[1;33m\u001b[0m\u001b[0m\n\u001b[1;32m-> 2226\u001b[1;33m         \u001b[1;32mraise\u001b[0m \u001b[0mRuntimeError\u001b[0m\u001b[1;33m(\u001b[0m\u001b[1;34m'You must first define an image, e.g., with imshow'\u001b[0m\u001b[1;33m)\u001b[0m\u001b[1;33m\u001b[0m\u001b[0m\n\u001b[0m\u001b[0;32m   2227\u001b[0m \u001b[1;33m\u001b[0m\u001b[0m\n",
      "\u001b[1;31mRuntimeError\u001b[0m: You must first define an image, e.g., with imshow",
      "\nDuring handling of the above exception, another exception occurred:\n",
      "\u001b[1;31mKeyboardInterrupt\u001b[0m                         Traceback (most recent call last)",
      "\u001b[1;32mC:\\ProgramData\\Anaconda3\\lib\\site-packages\\matplotlib\\backends\\backend_qt5agg.py\u001b[0m in \u001b[0;36mpaintEvent\u001b[1;34m(self, e)\u001b[0m\n\u001b[0;32m     52\u001b[0m         \u001b[1;32mreturn\u001b[0m \u001b[0mself\u001b[0m\u001b[1;33m.\u001b[0m\u001b[0m_bbox_queue\u001b[0m\u001b[1;33m\u001b[0m\u001b[0m\n\u001b[0;32m     53\u001b[0m \u001b[1;33m\u001b[0m\u001b[0m\n\u001b[1;32m---> 54\u001b[1;33m     \u001b[1;32mdef\u001b[0m \u001b[0mpaintEvent\u001b[0m\u001b[1;33m(\u001b[0m\u001b[0mself\u001b[0m\u001b[1;33m,\u001b[0m \u001b[0me\u001b[0m\u001b[1;33m)\u001b[0m\u001b[1;33m:\u001b[0m\u001b[1;33m\u001b[0m\u001b[0m\n\u001b[0m\u001b[0;32m     55\u001b[0m         \"\"\"Copy the image from the Agg canvas to the qt.drawable.\n\u001b[0;32m     56\u001b[0m \u001b[1;33m\u001b[0m\u001b[0m\n",
      "\u001b[1;31mKeyboardInterrupt\u001b[0m: "
     ]
    },
    {
     "name": "stderr",
     "output_type": "stream",
     "text": [
      "root: ERROR    Internal Python error in the inspect module.\n",
      "Below is the traceback from this internal error.\n",
      "\n"
     ]
    },
    {
     "name": "stdout",
     "output_type": "stream",
     "text": [
      "Traceback (most recent call last):\n",
      "  File \"D:\\qtlab_replacement\\scripts\\sweep.py\", line 184, in sweep\n",
      "    plotting.update_plot_measurement(mk_measurement(0), plot_axes)\n",
      "  File \"D:\\qtlab_replacement\\scripts\\plotting.py\", line 138, in update_plot_measurement\n",
      "    plots = update_plot_measurement_sa(meas, ax)\n",
      "  File \"D:\\qtlab_replacement\\scripts\\plotting.py\", line 247, in update_plot_measurement_sa\n",
      "    plt.clim(np.nanmin(data), np.nanmax(data))\n",
      "  File \"C:\\ProgramData\\Anaconda3\\lib\\site-packages\\matplotlib\\pyplot.py\", line 2226, in clim\n",
      "    raise RuntimeError('You must first define an image, e.g., with imshow')\n",
      "RuntimeError: You must first define an image, e.g., with imshow\n",
      "\n",
      "During handling of the above exception, another exception occurred:\n",
      "\n",
      "Traceback (most recent call last):\n",
      "  File \"C:\\ProgramData\\Anaconda3\\lib\\site-packages\\IPython\\core\\interactiveshell.py\", line 2862, in run_code\n",
      "    exec(code_obj, self.user_global_ns, self.user_ns)\n",
      "  File \"<ipython-input-45-122e72e2a5d8>\", line 9, in <module>\n",
      "    filename='Two-tone mixer passthrough')\n",
      "  File \"D:\\qtlab_replacement\\scripts\\sweep.py\", line 215, in sweep\n",
      "    save_pkl.save_pkl(header, mk_measurement(0), location = data_dir)\n",
      "  File \"D:\\qtlab_replacement\\scripts\\save_pkl.py\", line 68, in save_pkl\n",
      "    plotting.plot_measurement(data, filename, save=location, annotation=annotation)\n",
      "  File \"D:\\qtlab_replacement\\scripts\\plotting.py\", line 127, in plot_measurement\n",
      "    plt.savefig('{0}/{1}.png'.format(save, ax_name))\n",
      "  File \"C:\\ProgramData\\Anaconda3\\lib\\site-packages\\matplotlib\\pyplot.py\", line 701, in savefig\n",
      "    res = fig.savefig(*args, **kwargs)\n",
      "  File \"C:\\ProgramData\\Anaconda3\\lib\\site-packages\\matplotlib\\figure.py\", line 1834, in savefig\n",
      "    self.canvas.print_figure(fname, **kwargs)\n",
      "  File \"C:\\ProgramData\\Anaconda3\\lib\\site-packages\\matplotlib\\backends\\backend_qt5agg.py\", line 185, in print_figure\n",
      "    super(FigureCanvasQTAggBase, self).print_figure(*args, **kwargs)\n",
      "  File \"C:\\ProgramData\\Anaconda3\\lib\\site-packages\\matplotlib\\backend_bases.py\", line 2267, in print_figure\n",
      "    **kwargs)\n",
      "  File \"C:\\ProgramData\\Anaconda3\\lib\\site-packages\\matplotlib\\backends\\backend_agg.py\", line 529, in print_png\n",
      "    filename_or_obj.close()\n",
      "KeyboardInterrupt\n",
      "\n",
      "During handling of the above exception, another exception occurred:\n",
      "\n",
      "Traceback (most recent call last):\n",
      "  File \"C:\\ProgramData\\Anaconda3\\lib\\site-packages\\IPython\\core\\interactiveshell.py\", line 1806, in showtraceback\n",
      "    stb = value._render_traceback_()\n",
      "AttributeError: 'KeyboardInterrupt' object has no attribute '_render_traceback_'\n",
      "\n",
      "During handling of the above exception, another exception occurred:\n",
      "\n",
      "Traceback (most recent call last):\n",
      "  File \"C:\\ProgramData\\Anaconda3\\lib\\site-packages\\IPython\\core\\ultratb.py\", line 1090, in get_records\n",
      "    return _fixed_getinnerframes(etb, number_of_lines_of_context, tb_offset)\n",
      "  File \"C:\\ProgramData\\Anaconda3\\lib\\site-packages\\IPython\\core\\ultratb.py\", line 311, in wrapped\n",
      "    return f(*args, **kwargs)\n",
      "  File \"C:\\ProgramData\\Anaconda3\\lib\\site-packages\\IPython\\core\\ultratb.py\", line 345, in _fixed_getinnerframes\n",
      "    records = fix_frame_records_filenames(inspect.getinnerframes(etb, context))\n",
      "  File \"C:\\ProgramData\\Anaconda3\\lib\\inspect.py\", line 1480, in getinnerframes\n",
      "    frameinfo = (tb.tb_frame,) + getframeinfo(tb, context)\n",
      "  File \"C:\\ProgramData\\Anaconda3\\lib\\inspect.py\", line 1438, in getframeinfo\n",
      "    filename = getsourcefile(frame) or getfile(frame)\n",
      "  File \"C:\\ProgramData\\Anaconda3\\lib\\inspect.py\", line 693, in getsourcefile\n",
      "    if getattr(getmodule(object, filename), '__loader__', None) is not None:\n",
      "  File \"C:\\ProgramData\\Anaconda3\\lib\\inspect.py\", line 729, in getmodule\n",
      "    for modname, module in list(sys.modules.items()):\n",
      "KeyboardInterrupt\n"
     ]
    },
    {
     "ename": "TypeError",
     "evalue": "must be str, not list",
     "output_type": "error",
     "traceback": [
      "\u001b[1;31m---------------------------------------------------------------------------\u001b[0m",
      "\u001b[1;31mRuntimeError\u001b[0m                              Traceback (most recent call last)",
      "\u001b[1;32mD:\\qtlab_replacement\\scripts\\sweep.py\u001b[0m in \u001b[0;36msweep\u001b[1;34m(measurer, filename, root_dir, plot, header, output, save, time_war_label, cycle_save_mode, *params)\u001b[0m\n\u001b[0;32m    183\u001b[0m                                 \u001b[1;32mif\u001b[0m \u001b[0mplot_update_start\u001b[0m \u001b[1;33m-\u001b[0m \u001b[0mlast_plot_update\u001b[0m \u001b[1;33m>\u001b[0m \u001b[1;36m10\u001b[0m\u001b[1;33m*\u001b[0m\u001b[0mplot_update_time\u001b[0m\u001b[1;33m:\u001b[0m\u001b[1;33m\u001b[0m\u001b[0m\n\u001b[1;32m--> 184\u001b[1;33m                                         \u001b[0mplotting\u001b[0m\u001b[1;33m.\u001b[0m\u001b[0mupdate_plot_measurement\u001b[0m\u001b[1;33m(\u001b[0m\u001b[0mmk_measurement\u001b[0m\u001b[1;33m(\u001b[0m\u001b[1;36m0\u001b[0m\u001b[1;33m)\u001b[0m\u001b[1;33m,\u001b[0m \u001b[0mplot_axes\u001b[0m\u001b[1;33m)\u001b[0m\u001b[1;33m\u001b[0m\u001b[0m\n\u001b[0m\u001b[0;32m    185\u001b[0m \t\t\t'''\n",
      "\u001b[1;32mD:\\qtlab_replacement\\scripts\\plotting.py\u001b[0m in \u001b[0;36mupdate_plot_measurement\u001b[1;34m(measurement, axes)\u001b[0m\n\u001b[0;32m    137\u001b[0m                         \u001b[0mmeas\u001b[0m\u001b[1;33m[\u001b[0m\u001b[0mplot_name\u001b[0m\u001b[1;33m]\u001b[0m \u001b[1;33m=\u001b[0m \u001b[1;33m(\u001b[0m\u001b[0mmeasurement\u001b[0m\u001b[1;33m[\u001b[0m\u001b[0mplot\u001b[0m\u001b[1;33m[\u001b[0m\u001b[1;34m'mname'\u001b[0m\u001b[1;33m]\u001b[0m\u001b[1;33m]\u001b[0m\u001b[1;33m[\u001b[0m\u001b[1;36m0\u001b[0m\u001b[1;33m]\u001b[0m\u001b[1;33m,\u001b[0m \u001b[0mmeasurement\u001b[0m\u001b[1;33m[\u001b[0m\u001b[0mplot\u001b[0m\u001b[1;33m[\u001b[0m\u001b[1;34m'mname'\u001b[0m\u001b[1;33m]\u001b[0m\u001b[1;33m]\u001b[0m\u001b[1;33m[\u001b[0m\u001b[1;36m1\u001b[0m\u001b[1;33m]\u001b[0m\u001b[1;33m,\u001b[0m \u001b[0mplot\u001b[0m\u001b[1;33m[\u001b[0m\u001b[1;34m'filter'\u001b[0m\u001b[1;33m]\u001b[0m\u001b[1;33m(\u001b[0m\u001b[0mmeasurement\u001b[0m\u001b[1;33m[\u001b[0m\u001b[0mplot\u001b[0m\u001b[1;33m[\u001b[0m\u001b[1;34m'mname'\u001b[0m\u001b[1;33m]\u001b[0m\u001b[1;33m]\u001b[0m\u001b[1;33m[\u001b[0m\u001b[1;36m2\u001b[0m\u001b[1;33m]\u001b[0m\u001b[1;33m)\u001b[0m\u001b[1;33m)\u001b[0m\u001b[1;33m\u001b[0m\u001b[0m\n\u001b[1;32m--> 138\u001b[1;33m                 \u001b[0mplots\u001b[0m \u001b[1;33m=\u001b[0m \u001b[0mupdate_plot_measurement_sa\u001b[0m\u001b[1;33m(\u001b[0m\u001b[0mmeas\u001b[0m\u001b[1;33m,\u001b[0m \u001b[0max\u001b[0m\u001b[1;33m)\u001b[0m\u001b[1;33m\u001b[0m\u001b[0m\n\u001b[0m\u001b[0;32m    139\u001b[0m \u001b[1;33m\u001b[0m\u001b[0m\n",
      "\u001b[1;32mD:\\qtlab_replacement\\scripts\\plotting.py\u001b[0m in \u001b[0;36mupdate_plot_measurement_sa\u001b[1;34m(measurement, plots)\u001b[0m\n\u001b[0;32m    246\u001b[0m                         \u001b[0mplot\u001b[0m\u001b[1;33m.\u001b[0m\u001b[0mset_data\u001b[0m\u001b[1;33m(\u001b[0m\u001b[0mdata\u001b[0m\u001b[1;33m)\u001b[0m\u001b[1;33m\u001b[0m\u001b[0m\n\u001b[1;32m--> 247\u001b[1;33m                         \u001b[0mplt\u001b[0m\u001b[1;33m.\u001b[0m\u001b[0mclim\u001b[0m\u001b[1;33m(\u001b[0m\u001b[0mnp\u001b[0m\u001b[1;33m.\u001b[0m\u001b[0mnanmin\u001b[0m\u001b[1;33m(\u001b[0m\u001b[0mdata\u001b[0m\u001b[1;33m)\u001b[0m\u001b[1;33m,\u001b[0m \u001b[0mnp\u001b[0m\u001b[1;33m.\u001b[0m\u001b[0mnanmax\u001b[0m\u001b[1;33m(\u001b[0m\u001b[0mdata\u001b[0m\u001b[1;33m)\u001b[0m\u001b[1;33m)\u001b[0m\u001b[1;33m\u001b[0m\u001b[0m\n\u001b[0m\u001b[0;32m    248\u001b[0m                 \u001b[0mplt\u001b[0m\u001b[1;33m.\u001b[0m\u001b[0mdraw\u001b[0m\u001b[1;33m(\u001b[0m\u001b[1;33m)\u001b[0m\u001b[1;33m\u001b[0m\u001b[0m\n",
      "\u001b[1;32mC:\\ProgramData\\Anaconda3\\lib\\site-packages\\matplotlib\\pyplot.py\u001b[0m in \u001b[0;36mclim\u001b[1;34m(vmin, vmax)\u001b[0m\n\u001b[0;32m   2225\u001b[0m     \u001b[1;32mif\u001b[0m \u001b[0mim\u001b[0m \u001b[1;32mis\u001b[0m \u001b[1;32mNone\u001b[0m\u001b[1;33m:\u001b[0m\u001b[1;33m\u001b[0m\u001b[0m\n\u001b[1;32m-> 2226\u001b[1;33m         \u001b[1;32mraise\u001b[0m \u001b[0mRuntimeError\u001b[0m\u001b[1;33m(\u001b[0m\u001b[1;34m'You must first define an image, e.g., with imshow'\u001b[0m\u001b[1;33m)\u001b[0m\u001b[1;33m\u001b[0m\u001b[0m\n\u001b[0m\u001b[0;32m   2227\u001b[0m \u001b[1;33m\u001b[0m\u001b[0m\n",
      "\u001b[1;31mRuntimeError\u001b[0m: You must first define an image, e.g., with imshow",
      "\nDuring handling of the above exception, another exception occurred:\n",
      "\u001b[1;31mKeyboardInterrupt\u001b[0m                         Traceback (most recent call last)",
      "\u001b[1;32mC:\\ProgramData\\Anaconda3\\lib\\site-packages\\IPython\\core\\interactiveshell.py\u001b[0m in \u001b[0;36mrun_code\u001b[1;34m(self, code_obj, result)\u001b[0m\n\u001b[0;32m   2861\u001b[0m                 \u001b[1;31m#rprint('Running code', repr(code_obj)) # dbg\u001b[0m\u001b[1;33m\u001b[0m\u001b[1;33m\u001b[0m\u001b[0m\n\u001b[1;32m-> 2862\u001b[1;33m                 \u001b[0mexec\u001b[0m\u001b[1;33m(\u001b[0m\u001b[0mcode_obj\u001b[0m\u001b[1;33m,\u001b[0m \u001b[0mself\u001b[0m\u001b[1;33m.\u001b[0m\u001b[0muser_global_ns\u001b[0m\u001b[1;33m,\u001b[0m \u001b[0mself\u001b[0m\u001b[1;33m.\u001b[0m\u001b[0muser_ns\u001b[0m\u001b[1;33m)\u001b[0m\u001b[1;33m\u001b[0m\u001b[0m\n\u001b[0m\u001b[0;32m   2863\u001b[0m             \u001b[1;32mfinally\u001b[0m\u001b[1;33m:\u001b[0m\u001b[1;33m\u001b[0m\u001b[0m\n",
      "\u001b[1;32m<ipython-input-45-122e72e2a5d8>\u001b[0m in \u001b[0;36m<module>\u001b[1;34m()\u001b[0m\n\u001b[0;32m      8\u001b[0m measurement = sweep.sweep(adc_reducer, (frequencies, iq_ex.set_frequency, 'Second tone frequency'), \n\u001b[1;32m----> 9\u001b[1;33m                           filename='Two-tone mixer passthrough')\n\u001b[0m",
      "\u001b[1;32mD:\\qtlab_replacement\\scripts\\sweep.py\u001b[0m in \u001b[0;36msweep\u001b[1;34m(measurer, filename, root_dir, plot, header, output, save, time_war_label, cycle_save_mode, *params)\u001b[0m\n\u001b[0;32m    214\u001b[0m                         \u001b[1;32mif\u001b[0m \u001b[1;33m(\u001b[0m\u001b[0msave\u001b[0m\u001b[1;33m)\u001b[0m\u001b[1;33m:\u001b[0m\u001b[1;33m\u001b[0m\u001b[0m\n\u001b[1;32m--> 215\u001b[1;33m                                 \u001b[0msave_pkl\u001b[0m\u001b[1;33m.\u001b[0m\u001b[0msave_pkl\u001b[0m\u001b[1;33m(\u001b[0m\u001b[0mheader\u001b[0m\u001b[1;33m,\u001b[0m \u001b[0mmk_measurement\u001b[0m\u001b[1;33m(\u001b[0m\u001b[1;36m0\u001b[0m\u001b[1;33m)\u001b[0m\u001b[1;33m,\u001b[0m \u001b[0mlocation\u001b[0m \u001b[1;33m=\u001b[0m \u001b[0mdata_dir\u001b[0m\u001b[1;33m)\u001b[0m\u001b[1;33m\u001b[0m\u001b[0m\n\u001b[0m\u001b[0;32m    216\u001b[0m \u001b[1;33m\u001b[0m\u001b[0m\n",
      "\u001b[1;32mD:\\qtlab_replacement\\scripts\\save_pkl.py\u001b[0m in \u001b[0;36msave_pkl\u001b[1;34m(header, data, plot, curve_fit, annotation, location, time, filename, matlab, gzip)\u001b[0m\n\u001b[0;32m     67\u001b[0m         \u001b[1;32mif\u001b[0m \u001b[0mplot\u001b[0m\u001b[1;33m:\u001b[0m\u001b[1;33m\u001b[0m\u001b[0m\n\u001b[1;32m---> 68\u001b[1;33m                 \u001b[0mplotting\u001b[0m\u001b[1;33m.\u001b[0m\u001b[0mplot_measurement\u001b[0m\u001b[1;33m(\u001b[0m\u001b[0mdata\u001b[0m\u001b[1;33m,\u001b[0m \u001b[0mfilename\u001b[0m\u001b[1;33m,\u001b[0m \u001b[0msave\u001b[0m\u001b[1;33m=\u001b[0m\u001b[0mlocation\u001b[0m\u001b[1;33m,\u001b[0m \u001b[0mannotation\u001b[0m\u001b[1;33m=\u001b[0m\u001b[0mannotation\u001b[0m\u001b[1;33m)\u001b[0m\u001b[1;33m\u001b[0m\u001b[0m\n\u001b[0m\u001b[0;32m     69\u001b[0m \u001b[1;33m\u001b[0m\u001b[0m\n",
      "\u001b[1;32mD:\\qtlab_replacement\\scripts\\plotting.py\u001b[0m in \u001b[0;36mplot_measurement\u001b[1;34m(measurement, name, save, annotation)\u001b[0m\n\u001b[0;32m    126\u001b[0m                         \u001b[0mplt\u001b[0m\u001b[1;33m.\u001b[0m\u001b[0mgrid\u001b[0m\u001b[1;33m(\u001b[0m\u001b[1;33m)\u001b[0m\u001b[1;33m\u001b[0m\u001b[0m\n\u001b[1;32m--> 127\u001b[1;33m                         \u001b[0mplt\u001b[0m\u001b[1;33m.\u001b[0m\u001b[0msavefig\u001b[0m\u001b[1;33m(\u001b[0m\u001b[1;34m'{0}/{1}.png'\u001b[0m\u001b[1;33m.\u001b[0m\u001b[0mformat\u001b[0m\u001b[1;33m(\u001b[0m\u001b[0msave\u001b[0m\u001b[1;33m,\u001b[0m \u001b[0max_name\u001b[0m\u001b[1;33m)\u001b[0m\u001b[1;33m)\u001b[0m\u001b[1;33m\u001b[0m\u001b[0m\n\u001b[0m\u001b[0;32m    128\u001b[0m \u001b[1;33m\u001b[0m\u001b[0m\n",
      "\u001b[1;32mC:\\ProgramData\\Anaconda3\\lib\\site-packages\\matplotlib\\pyplot.py\u001b[0m in \u001b[0;36msavefig\u001b[1;34m(*args, **kwargs)\u001b[0m\n\u001b[0;32m    700\u001b[0m     \u001b[0mfig\u001b[0m \u001b[1;33m=\u001b[0m \u001b[0mgcf\u001b[0m\u001b[1;33m(\u001b[0m\u001b[1;33m)\u001b[0m\u001b[1;33m\u001b[0m\u001b[0m\n\u001b[1;32m--> 701\u001b[1;33m     \u001b[0mres\u001b[0m \u001b[1;33m=\u001b[0m \u001b[0mfig\u001b[0m\u001b[1;33m.\u001b[0m\u001b[0msavefig\u001b[0m\u001b[1;33m(\u001b[0m\u001b[1;33m*\u001b[0m\u001b[0margs\u001b[0m\u001b[1;33m,\u001b[0m \u001b[1;33m**\u001b[0m\u001b[0mkwargs\u001b[0m\u001b[1;33m)\u001b[0m\u001b[1;33m\u001b[0m\u001b[0m\n\u001b[0m\u001b[0;32m    702\u001b[0m     \u001b[0mfig\u001b[0m\u001b[1;33m.\u001b[0m\u001b[0mcanvas\u001b[0m\u001b[1;33m.\u001b[0m\u001b[0mdraw_idle\u001b[0m\u001b[1;33m(\u001b[0m\u001b[1;33m)\u001b[0m   \u001b[1;31m# need this if 'transparent=True' to reset colors\u001b[0m\u001b[1;33m\u001b[0m\u001b[0m\n",
      "\u001b[1;32mC:\\ProgramData\\Anaconda3\\lib\\site-packages\\matplotlib\\figure.py\u001b[0m in \u001b[0;36msavefig\u001b[1;34m(self, fname, **kwargs)\u001b[0m\n\u001b[0;32m   1833\u001b[0m \u001b[1;33m\u001b[0m\u001b[0m\n\u001b[1;32m-> 1834\u001b[1;33m         \u001b[0mself\u001b[0m\u001b[1;33m.\u001b[0m\u001b[0mcanvas\u001b[0m\u001b[1;33m.\u001b[0m\u001b[0mprint_figure\u001b[0m\u001b[1;33m(\u001b[0m\u001b[0mfname\u001b[0m\u001b[1;33m,\u001b[0m \u001b[1;33m**\u001b[0m\u001b[0mkwargs\u001b[0m\u001b[1;33m)\u001b[0m\u001b[1;33m\u001b[0m\u001b[0m\n\u001b[0m\u001b[0;32m   1835\u001b[0m \u001b[1;33m\u001b[0m\u001b[0m\n",
      "\u001b[1;32mC:\\ProgramData\\Anaconda3\\lib\\site-packages\\matplotlib\\backends\\backend_qt5agg.py\u001b[0m in \u001b[0;36mprint_figure\u001b[1;34m(self, *args, **kwargs)\u001b[0m\n\u001b[0;32m    184\u001b[0m     \u001b[1;32mdef\u001b[0m \u001b[0mprint_figure\u001b[0m\u001b[1;33m(\u001b[0m\u001b[0mself\u001b[0m\u001b[1;33m,\u001b[0m \u001b[1;33m*\u001b[0m\u001b[0margs\u001b[0m\u001b[1;33m,\u001b[0m \u001b[1;33m**\u001b[0m\u001b[0mkwargs\u001b[0m\u001b[1;33m)\u001b[0m\u001b[1;33m:\u001b[0m\u001b[1;33m\u001b[0m\u001b[0m\n\u001b[1;32m--> 185\u001b[1;33m         \u001b[0msuper\u001b[0m\u001b[1;33m(\u001b[0m\u001b[0mFigureCanvasQTAggBase\u001b[0m\u001b[1;33m,\u001b[0m \u001b[0mself\u001b[0m\u001b[1;33m)\u001b[0m\u001b[1;33m.\u001b[0m\u001b[0mprint_figure\u001b[0m\u001b[1;33m(\u001b[0m\u001b[1;33m*\u001b[0m\u001b[0margs\u001b[0m\u001b[1;33m,\u001b[0m \u001b[1;33m**\u001b[0m\u001b[0mkwargs\u001b[0m\u001b[1;33m)\u001b[0m\u001b[1;33m\u001b[0m\u001b[0m\n\u001b[0m\u001b[0;32m    186\u001b[0m         \u001b[0mself\u001b[0m\u001b[1;33m.\u001b[0m\u001b[0mdraw\u001b[0m\u001b[1;33m(\u001b[0m\u001b[1;33m)\u001b[0m\u001b[1;33m\u001b[0m\u001b[0m\n",
      "\u001b[1;32mC:\\ProgramData\\Anaconda3\\lib\\site-packages\\matplotlib\\backend_bases.py\u001b[0m in \u001b[0;36mprint_figure\u001b[1;34m(self, filename, dpi, facecolor, edgecolor, orientation, format, **kwargs)\u001b[0m\n\u001b[0;32m   2266\u001b[0m                 \u001b[0mbbox_inches_restore\u001b[0m\u001b[1;33m=\u001b[0m\u001b[0m_bbox_inches_restore\u001b[0m\u001b[1;33m,\u001b[0m\u001b[1;33m\u001b[0m\u001b[0m\n\u001b[1;32m-> 2267\u001b[1;33m                 **kwargs)\n\u001b[0m\u001b[0;32m   2268\u001b[0m         \u001b[1;32mfinally\u001b[0m\u001b[1;33m:\u001b[0m\u001b[1;33m\u001b[0m\u001b[0m\n",
      "\u001b[1;32mC:\\ProgramData\\Anaconda3\\lib\\site-packages\\matplotlib\\backends\\backend_agg.py\u001b[0m in \u001b[0;36mprint_png\u001b[1;34m(self, filename_or_obj, *args, **kwargs)\u001b[0m\n\u001b[0;32m    528\u001b[0m             \u001b[1;32mif\u001b[0m \u001b[0mclose\u001b[0m\u001b[1;33m:\u001b[0m\u001b[1;33m\u001b[0m\u001b[0m\n\u001b[1;32m--> 529\u001b[1;33m                 \u001b[0mfilename_or_obj\u001b[0m\u001b[1;33m.\u001b[0m\u001b[0mclose\u001b[0m\u001b[1;33m(\u001b[0m\u001b[1;33m)\u001b[0m\u001b[1;33m\u001b[0m\u001b[0m\n\u001b[0m\u001b[0;32m    530\u001b[0m             \u001b[0mrenderer\u001b[0m\u001b[1;33m.\u001b[0m\u001b[0mdpi\u001b[0m \u001b[1;33m=\u001b[0m \u001b[0moriginal_dpi\u001b[0m\u001b[1;33m\u001b[0m\u001b[0m\n",
      "\u001b[1;31mKeyboardInterrupt\u001b[0m: ",
      "\nDuring handling of the above exception, another exception occurred:\n",
      "\u001b[1;31mAttributeError\u001b[0m                            Traceback (most recent call last)",
      "\u001b[1;32mC:\\ProgramData\\Anaconda3\\lib\\site-packages\\IPython\\core\\interactiveshell.py\u001b[0m in \u001b[0;36mshowtraceback\u001b[1;34m(self, exc_tuple, filename, tb_offset, exception_only, running_compiled_code)\u001b[0m\n\u001b[0;32m   1805\u001b[0m                         \u001b[1;31m# in the engines. This should return a list of strings.\u001b[0m\u001b[1;33m\u001b[0m\u001b[1;33m\u001b[0m\u001b[0m\n\u001b[1;32m-> 1806\u001b[1;33m                         \u001b[0mstb\u001b[0m \u001b[1;33m=\u001b[0m \u001b[0mvalue\u001b[0m\u001b[1;33m.\u001b[0m\u001b[0m_render_traceback_\u001b[0m\u001b[1;33m(\u001b[0m\u001b[1;33m)\u001b[0m\u001b[1;33m\u001b[0m\u001b[0m\n\u001b[0m\u001b[0;32m   1807\u001b[0m                     \u001b[1;32mexcept\u001b[0m \u001b[0mException\u001b[0m\u001b[1;33m:\u001b[0m\u001b[1;33m\u001b[0m\u001b[0m\n",
      "\u001b[1;31mAttributeError\u001b[0m: 'KeyboardInterrupt' object has no attribute '_render_traceback_'",
      "\nDuring handling of the above exception, another exception occurred:\n",
      "\u001b[1;31mTypeError\u001b[0m                                 Traceback (most recent call last)",
      "\u001b[1;32mC:\\ProgramData\\Anaconda3\\lib\\site-packages\\IPython\\core\\interactiveshell.py\u001b[0m in \u001b[0;36mrun_code\u001b[1;34m(self, code_obj, result)\u001b[0m\n\u001b[0;32m   2877\u001b[0m             \u001b[1;32mif\u001b[0m \u001b[0mresult\u001b[0m \u001b[1;32mis\u001b[0m \u001b[1;32mnot\u001b[0m \u001b[1;32mNone\u001b[0m\u001b[1;33m:\u001b[0m\u001b[1;33m\u001b[0m\u001b[0m\n\u001b[0;32m   2878\u001b[0m                 \u001b[0mresult\u001b[0m\u001b[1;33m.\u001b[0m\u001b[0merror_in_exec\u001b[0m \u001b[1;33m=\u001b[0m \u001b[0msys\u001b[0m\u001b[1;33m.\u001b[0m\u001b[0mexc_info\u001b[0m\u001b[1;33m(\u001b[0m\u001b[1;33m)\u001b[0m\u001b[1;33m[\u001b[0m\u001b[1;36m1\u001b[0m\u001b[1;33m]\u001b[0m\u001b[1;33m\u001b[0m\u001b[0m\n\u001b[1;32m-> 2879\u001b[1;33m             \u001b[0mself\u001b[0m\u001b[1;33m.\u001b[0m\u001b[0mshowtraceback\u001b[0m\u001b[1;33m(\u001b[0m\u001b[0mrunning_compiled_code\u001b[0m\u001b[1;33m=\u001b[0m\u001b[1;32mTrue\u001b[0m\u001b[1;33m)\u001b[0m\u001b[1;33m\u001b[0m\u001b[0m\n\u001b[0m\u001b[0;32m   2880\u001b[0m         \u001b[1;32melse\u001b[0m\u001b[1;33m:\u001b[0m\u001b[1;33m\u001b[0m\u001b[0m\n\u001b[0;32m   2881\u001b[0m             \u001b[0moutflag\u001b[0m \u001b[1;33m=\u001b[0m \u001b[1;32mFalse\u001b[0m\u001b[1;33m\u001b[0m\u001b[0m\n",
      "\u001b[1;32mC:\\ProgramData\\Anaconda3\\lib\\site-packages\\IPython\\core\\interactiveshell.py\u001b[0m in \u001b[0;36mshowtraceback\u001b[1;34m(self, exc_tuple, filename, tb_offset, exception_only, running_compiled_code)\u001b[0m\n\u001b[0;32m   1807\u001b[0m                     \u001b[1;32mexcept\u001b[0m \u001b[0mException\u001b[0m\u001b[1;33m:\u001b[0m\u001b[1;33m\u001b[0m\u001b[0m\n\u001b[0;32m   1808\u001b[0m                         stb = self.InteractiveTB.structured_traceback(etype,\n\u001b[1;32m-> 1809\u001b[1;33m                                             value, tb, tb_offset=tb_offset)\n\u001b[0m\u001b[0;32m   1810\u001b[0m \u001b[1;33m\u001b[0m\u001b[0m\n\u001b[0;32m   1811\u001b[0m                     \u001b[0mself\u001b[0m\u001b[1;33m.\u001b[0m\u001b[0m_showtraceback\u001b[0m\u001b[1;33m(\u001b[0m\u001b[0metype\u001b[0m\u001b[1;33m,\u001b[0m \u001b[0mvalue\u001b[0m\u001b[1;33m,\u001b[0m \u001b[0mstb\u001b[0m\u001b[1;33m)\u001b[0m\u001b[1;33m\u001b[0m\u001b[0m\n",
      "\u001b[1;32mC:\\ProgramData\\Anaconda3\\lib\\site-packages\\IPython\\core\\ultratb.py\u001b[0m in \u001b[0;36mstructured_traceback\u001b[1;34m(self, etype, value, tb, tb_offset, number_of_lines_of_context)\u001b[0m\n\u001b[0;32m   1369\u001b[0m         \u001b[0mself\u001b[0m\u001b[1;33m.\u001b[0m\u001b[0mtb\u001b[0m \u001b[1;33m=\u001b[0m \u001b[0mtb\u001b[0m\u001b[1;33m\u001b[0m\u001b[0m\n\u001b[0;32m   1370\u001b[0m         return FormattedTB.structured_traceback(\n\u001b[1;32m-> 1371\u001b[1;33m             self, etype, value, tb, tb_offset, number_of_lines_of_context)\n\u001b[0m\u001b[0;32m   1372\u001b[0m \u001b[1;33m\u001b[0m\u001b[0m\n\u001b[0;32m   1373\u001b[0m \u001b[1;33m\u001b[0m\u001b[0m\n",
      "\u001b[1;32mC:\\ProgramData\\Anaconda3\\lib\\site-packages\\IPython\\core\\ultratb.py\u001b[0m in \u001b[0;36mstructured_traceback\u001b[1;34m(self, etype, value, tb, tb_offset, number_of_lines_of_context)\u001b[0m\n\u001b[0;32m   1277\u001b[0m             \u001b[1;31m# Verbose modes need a full traceback\u001b[0m\u001b[1;33m\u001b[0m\u001b[1;33m\u001b[0m\u001b[0m\n\u001b[0;32m   1278\u001b[0m             return VerboseTB.structured_traceback(\n\u001b[1;32m-> 1279\u001b[1;33m                 \u001b[0mself\u001b[0m\u001b[1;33m,\u001b[0m \u001b[0metype\u001b[0m\u001b[1;33m,\u001b[0m \u001b[0mvalue\u001b[0m\u001b[1;33m,\u001b[0m \u001b[0mtb\u001b[0m\u001b[1;33m,\u001b[0m \u001b[0mtb_offset\u001b[0m\u001b[1;33m,\u001b[0m \u001b[0mnumber_of_lines_of_context\u001b[0m\u001b[1;33m\u001b[0m\u001b[0m\n\u001b[0m\u001b[0;32m   1280\u001b[0m             )\n\u001b[0;32m   1281\u001b[0m         \u001b[1;32melse\u001b[0m\u001b[1;33m:\u001b[0m\u001b[1;33m\u001b[0m\u001b[0m\n",
      "\u001b[1;32mC:\\ProgramData\\Anaconda3\\lib\\site-packages\\IPython\\core\\ultratb.py\u001b[0m in \u001b[0;36mstructured_traceback\u001b[1;34m(self, etype, evalue, etb, tb_offset, number_of_lines_of_context)\u001b[0m\n\u001b[0;32m   1138\u001b[0m             \u001b[0mexception\u001b[0m \u001b[1;33m=\u001b[0m \u001b[0mself\u001b[0m\u001b[1;33m.\u001b[0m\u001b[0mget_parts_of_chained_exception\u001b[0m\u001b[1;33m(\u001b[0m\u001b[0mevalue\u001b[0m\u001b[1;33m)\u001b[0m\u001b[1;33m\u001b[0m\u001b[0m\n\u001b[0;32m   1139\u001b[0m             \u001b[1;32mif\u001b[0m \u001b[0mexception\u001b[0m\u001b[1;33m:\u001b[0m\u001b[1;33m\u001b[0m\u001b[0m\n\u001b[1;32m-> 1140\u001b[1;33m                 \u001b[0mformatted_exceptions\u001b[0m \u001b[1;33m+=\u001b[0m \u001b[0mself\u001b[0m\u001b[1;33m.\u001b[0m\u001b[0mprepare_chained_exception_message\u001b[0m\u001b[1;33m(\u001b[0m\u001b[0mevalue\u001b[0m\u001b[1;33m.\u001b[0m\u001b[0m__cause__\u001b[0m\u001b[1;33m)\u001b[0m\u001b[1;33m\u001b[0m\u001b[0m\n\u001b[0m\u001b[0;32m   1141\u001b[0m                 \u001b[0metype\u001b[0m\u001b[1;33m,\u001b[0m \u001b[0mevalue\u001b[0m\u001b[1;33m,\u001b[0m \u001b[0metb\u001b[0m \u001b[1;33m=\u001b[0m \u001b[0mexception\u001b[0m\u001b[1;33m\u001b[0m\u001b[0m\n\u001b[0;32m   1142\u001b[0m             \u001b[1;32melse\u001b[0m\u001b[1;33m:\u001b[0m\u001b[1;33m\u001b[0m\u001b[0m\n",
      "\u001b[1;31mTypeError\u001b[0m: must be str, not list"
     ]
    }
   ],
   "source": [
    "#### НЕЖМИ МИНЯ\n",
    "\n",
    "#iq_ro.awg_I.__set_dc(1.0)\n",
    "frequencies = np.arange(5.5e9, 5.9e9, 2e6)\n",
    "iq_ex.set_if(0.0)\n",
    "iq_ex._set_dc(0.1)\n",
    "\n",
    "measurement = sweep.sweep(adc_reducer, (frequencies, iq_ex.set_frequency, 'Second tone frequency'), \n",
    "                          filename='Two-tone mixer passthrough')"
   ]
  },
  {
   "cell_type": "markdown",
   "metadata": {},
   "source": [
    "### Калибровка миксеров"
   ]
  },
  {
   "cell_type": "code",
   "execution_count": 11,
   "metadata": {
    "scrolled": true
   },
   "outputs": [
    {
     "name": "stdout",
     "output_type": "stream",
     "text": [
      "d:\\qtlab\\ReiData\\data/calibrations//IQ-if1.2e+08-rf5.8e+09-sb--1.pkl\n",
      "d:\\qtlab\\ReiData\\data/calibrations//IQ-if7.5e+07-rf9.6e+09-sb--1.pkl\n"
     ]
    },
    {
     "data": {
      "text/plain": [
       "{'I': (0.31353201731277081+0.54257746444126442j),\n",
       " 'Q': (0.57193952776845824+0.51228166137994147j),\n",
       " 'dc': (0.043093863426735338-0.045260680954120322j),\n",
       " 'num_sidebands': 7,\n",
       " 'score': -18.798982445552799}"
      ]
     },
     "execution_count": 11,
     "metadata": {},
     "output_type": "execute_result"
    }
   ],
   "source": [
    "#sa.set_ref(0)\n",
    "iq_ex.get_calibration(sa)\n",
    "iq_ro.get_calibration(sa)"
   ]
  },
  {
   "cell_type": "markdown",
   "metadata": {},
   "source": [
    "### Длительность и амплитуда считывающих импульсов"
   ]
  },
  {
   "cell_type": "code",
   "execution_count": 12,
   "metadata": {
    "collapsed": true
   },
   "outputs": [],
   "source": [
    "def set_adc_nop(ro_adc_length):\n",
    "    adc.stop()\n",
    "    signal_size = int(np.ceil(8./7.*(ro_adc_length)*adc.get_clock()))\n",
    "    nop = int( 2**np.ceil(np.log2(signal_size)) )\n",
    "    posttrigger = nop*7/8\n",
    "    \n",
    "    print (nop, type(nop))\n",
    "    adc.set_nop(nop)\n",
    "    adc.set_post_trigger(posttrigger)"
   ]
  },
  {
   "cell_type": "code",
   "execution_count": 26,
   "metadata": {
    "collapsed": true
   },
   "outputs": [],
   "source": [
    "adc.stop()"
   ]
  },
  {
   "cell_type": "code",
   "execution_count": 13,
   "metadata": {},
   "outputs": [
    {
     "name": "stdout",
     "output_type": "stream",
     "text": [
      "512 <class 'int'>\n"
     ]
    },
    {
     "data": {
      "text/plain": [
       "True"
      ]
     },
     "execution_count": 13,
     "metadata": {},
     "output_type": "execute_result"
    }
   ],
   "source": [
    " \n",
    "# ro_amplitude = 0.5 Qubit #2 preliminary\n",
    "# ro_amplitude = 0.3 Qubit #3 preliminary\n",
    "ro_dac_amplitude = 0.25\n",
    "ro_dac_length =0.1e-6 # вообще считывающие импульсы такой длины? тогда что такое adc \n",
    "# Ответ: ro_dac_length - это длительность генерируемого прямоугольного импульса\n",
    "# ro_adc_length - это минимальное время, в течении которого мы считываем этот импульс, когда он прошёл через криостат.\n",
    "# В криостате импульс деформируется и становится длинее. Сколько времени хотите его интегрировать, столько и ставьте.\n",
    "# Наверное, имеет смысл сюда поставить на 1-2 времени затухания фотона в резонатор больше, чем ro_dac_length\n",
    "#ro_adc_length = ro_dac_length*3\n",
    "#ro_adc_length=0.8e-6 use it for bench in the end\n",
    "ro_adc_length=0.6e-6  \n",
    "#adc.set_nums(30000)\n",
    "#adc.set_software_nums_multi(1)\n",
    "#set_adc_nop(ro_adc_length)\n",
    "adc.set_nums(1000)\n",
    "set_adc_nop(ro_adc_length)\n",
    "adc.set_nums(30000)\n"
   ]
  },
  {
   "cell_type": "code",
   "execution_count": 19,
   "metadata": {
    "scrolled": true
   },
   "outputs": [
    {
     "ename": "KeyboardInterrupt",
     "evalue": "",
     "output_type": "error",
     "traceback": [
      "\u001b[1;31m---------------------------------------------------------------------------\u001b[0m",
      "\u001b[1;31mKeyboardInterrupt\u001b[0m                         Traceback (most recent call last)",
      "\u001b[1;32m<ipython-input-19-0e3df44972c8>\u001b[0m in \u001b[0;36m<module>\u001b[1;34m()\u001b[0m\n\u001b[0;32m      1\u001b[0m \u001b[1;31m#tomography.set_sequence([tomography.ro_rect(ro_amplitude, ro_dac_length, awg_channels)], awg_channels)\u001b[0m\u001b[1;33m\u001b[0m\u001b[1;33m\u001b[0m\u001b[0m\n\u001b[0;32m      2\u001b[0m \u001b[0mplt\u001b[0m\u001b[1;33m.\u001b[0m\u001b[0mfigure\u001b[0m\u001b[1;33m(\u001b[0m\u001b[1;33m)\u001b[0m\u001b[1;33m\u001b[0m\u001b[0m\n\u001b[1;32m----> 3\u001b[1;33m \u001b[0mplt\u001b[0m\u001b[1;33m.\u001b[0m\u001b[0mplot\u001b[0m\u001b[1;33m(\u001b[0m\u001b[0mnp\u001b[0m\u001b[1;33m.\u001b[0m\u001b[0mmean\u001b[0m\u001b[1;33m(\u001b[0m\u001b[0mnp\u001b[0m\u001b[1;33m.\u001b[0m\u001b[0mimag\u001b[0m\u001b[1;33m(\u001b[0m\u001b[0madc\u001b[0m\u001b[1;33m.\u001b[0m\u001b[0mmeasure\u001b[0m\u001b[1;33m(\u001b[0m\u001b[1;33m)\u001b[0m\u001b[1;33m[\u001b[0m\u001b[1;34m'Voltage'\u001b[0m\u001b[1;33m]\u001b[0m\u001b[1;33m)\u001b[0m\u001b[1;33m,\u001b[0m \u001b[0maxis\u001b[0m\u001b[1;33m=\u001b[0m\u001b[1;36m0\u001b[0m\u001b[1;33m)\u001b[0m\u001b[1;33m)\u001b[0m\u001b[1;33m\u001b[0m\u001b[0m\n\u001b[0m",
      "\u001b[1;32mD:\\qtlab_replacement\\instruments\\Spectrum_M3i2132.py\u001b[0m in \u001b[0;36mmeasure\u001b[1;34m(self)\u001b[0m\n\u001b[0;32m   1496\u001b[0m                 \u001b[1;32mfor\u001b[0m \u001b[0mi\u001b[0m \u001b[1;32min\u001b[0m \u001b[0mrange\u001b[0m\u001b[1;33m(\u001b[0m\u001b[0mself\u001b[0m\u001b[1;33m.\u001b[0m\u001b[0msoftware_averages\u001b[0m\u001b[1;33m)\u001b[0m\u001b[1;33m:\u001b[0m\u001b[1;33m\u001b[0m\u001b[0m\n\u001b[0;32m   1497\u001b[0m                         \u001b[1;32mfor\u001b[0m \u001b[0mj\u001b[0m \u001b[1;32min\u001b[0m \u001b[0mrange\u001b[0m\u001b[1;33m(\u001b[0m\u001b[0mself\u001b[0m\u001b[1;33m.\u001b[0m\u001b[0msoftware_nums_multi\u001b[0m\u001b[1;33m)\u001b[0m\u001b[1;33m:\u001b[0m\u001b[1;33m\u001b[0m\u001b[0m\n\u001b[1;32m-> 1498\u001b[1;33m                                 \u001b[0mself\u001b[0m\u001b[1;33m.\u001b[0m\u001b[0mstart_with_trigger_and_waitready\u001b[0m\u001b[1;33m(\u001b[0m\u001b[1;33m)\u001b[0m\u001b[1;33m\u001b[0m\u001b[0m\n\u001b[0m\u001b[0;32m   1499\u001b[0m                                 \u001b[0mdata\u001b[0m\u001b[1;33m[\u001b[0m\u001b[1;33m:\u001b[0m\u001b[1;33m,\u001b[0m\u001b[0mj\u001b[0m\u001b[1;33m*\u001b[0m\u001b[0mlnumber_of_segments\u001b[0m\u001b[1;33m:\u001b[0m\u001b[1;33m(\u001b[0m\u001b[0mj\u001b[0m\u001b[1;33m+\u001b[0m\u001b[1;36m1\u001b[0m\u001b[1;33m)\u001b[0m\u001b[1;33m*\u001b[0m\u001b[0mlnumber_of_segments\u001b[0m\u001b[1;33m,\u001b[0m\u001b[1;33m:\u001b[0m\u001b[1;33m]\u001b[0m \u001b[1;33m=\u001b[0m\u001b[0;31m \u001b[0m\u001b[0;31m\\\u001b[0m\u001b[1;33m\u001b[0m\u001b[0m\n\u001b[0;32m   1500\u001b[0m                                                 \u001b[0mself\u001b[0m\u001b[1;33m.\u001b[0m\u001b[0mreadout_doublechannel_multimode_bin\u001b[0m\u001b[1;33m(\u001b[0m\u001b[1;33m)\u001b[0m\u001b[1;33m/\u001b[0m\u001b[0mfloat\u001b[0m\u001b[1;33m(\u001b[0m\u001b[0mself\u001b[0m\u001b[1;33m.\u001b[0m\u001b[0msoftware_averages\u001b[0m\u001b[1;33m)\u001b[0m\u001b[1;33m\u001b[0m\u001b[0m\n",
      "\u001b[1;32mD:\\qtlab_replacement\\instruments\\Spectrum_M3i2132.py\u001b[0m in \u001b[0;36mstart_with_trigger_and_waitready\u001b[1;34m(self)\u001b[0m\n\u001b[0;32m    787\u001b[0m                 \u001b[0mself\u001b[0m\u001b[1;33m.\u001b[0m\u001b[0m_buffer_setup\u001b[0m\u001b[1;33m(\u001b[0m\u001b[1;33m)\u001b[0m\u001b[1;33m\u001b[0m\u001b[0m\n\u001b[0;32m    788\u001b[0m \t\tself._set_param(_spcm_regs.SPC_M2CMD,\n\u001b[1;32m--> 789\u001b[1;33m \t\t\t_spcm_regs.M2CMD_CARD_START | _spcm_regs.M2CMD_CARD_ENABLETRIGGER | _spcm_regs.M2CMD_CARD_WAITREADY | _spcm_regs.M2CMD_DATA_WAITDMA)\n\u001b[0m\u001b[0;32m    790\u001b[0m \u001b[1;33m\u001b[0m\u001b[0m\n\u001b[0;32m    791\u001b[0m         \u001b[1;32mdef\u001b[0m \u001b[0mforce_trigger\u001b[0m\u001b[1;33m(\u001b[0m\u001b[0mself\u001b[0m\u001b[1;33m)\u001b[0m\u001b[1;33m:\u001b[0m\u001b[1;33m\u001b[0m\u001b[0m\n",
      "\u001b[1;32mD:\\qtlab_replacement\\instruments\\Spectrum_M3i2132.py\u001b[0m in \u001b[0;36m_set_param\u001b[1;34m(self, regnum, regval)\u001b[0m\n\u001b[0;32m    320\u001b[0m \t\t'''\n\u001b[0;32m    321\u001b[0m                 \u001b[0mlogging\u001b[0m\u001b[1;33m.\u001b[0m\u001b[0mdebug\u001b[0m\u001b[1;33m(\u001b[0m\u001b[0m__name__\u001b[0m \u001b[1;33m+\u001b[0m \u001b[1;34m' : Set reg %s to %s'\u001b[0m \u001b[1;33m%\u001b[0m\u001b[1;33m(\u001b[0m\u001b[0mregnum\u001b[0m\u001b[1;33m,\u001b[0m \u001b[0mregval\u001b[0m\u001b[1;33m)\u001b[0m\u001b[1;33m)\u001b[0m\u001b[1;33m\u001b[0m\u001b[0m\n\u001b[1;32m--> 322\u001b[1;33m                 \u001b[0merr\u001b[0m \u001b[1;33m=\u001b[0m \u001b[0mself\u001b[0m\u001b[1;33m.\u001b[0m\u001b[0m_spcm_win32\u001b[0m\u001b[1;33m.\u001b[0m\u001b[0mSetParam32\u001b[0m\u001b[1;33m(\u001b[0m\u001b[0mself\u001b[0m\u001b[1;33m.\u001b[0m\u001b[0m_spcm_win32\u001b[0m\u001b[1;33m.\u001b[0m\u001b[0mhandel\u001b[0m\u001b[1;33m,\u001b[0m \u001b[0mregnum\u001b[0m\u001b[1;33m,\u001b[0m \u001b[0mregval\u001b[0m\u001b[1;33m)\u001b[0m\u001b[1;33m\u001b[0m\u001b[0m\n\u001b[0m\u001b[0;32m    323\u001b[0m                 \u001b[1;32mif\u001b[0m \u001b[1;33m(\u001b[0m\u001b[0merr\u001b[0m\u001b[1;33m==\u001b[0m\u001b[1;36m0\u001b[0m\u001b[1;33m)\u001b[0m\u001b[1;33m:\u001b[0m\u001b[1;33m\u001b[0m\u001b[0m\n\u001b[0;32m    324\u001b[0m                         \u001b[1;32mreturn\u001b[0m \u001b[1;36m0\u001b[0m\u001b[1;33m\u001b[0m\u001b[0m\n",
      "\u001b[1;31mKeyboardInterrupt\u001b[0m: "
     ]
    }
   ],
   "source": [
    "#tomography.set_sequence([tomography.ro_rect(ro_amplitude, ro_dac_length, awg_channels)], awg_channels)\n",
    "plt.figure()\n",
    "plt.plot(np.mean(np.imag(adc.measure()['Voltage']), axis=0))"
   ]
  },
  {
   "cell_type": "code",
   "execution_count": null,
   "metadata": {
    "collapsed": true
   },
   "outputs": [],
   "source": [
    "plt.pcolormesh(np.real(adc.measure()['Voltage']));\n",
    "plt.colorbar()"
   ]
  },
  {
   "cell_type": "code",
   "execution_count": null,
   "metadata": {
    "collapsed": true
   },
   "outputs": [],
   "source": [
    "adc.stop()"
   ]
  },
  {
   "cell_type": "markdown",
   "metadata": {},
   "source": [
    "### Прохождение считывающих испульсов разной амплитуды"
   ]
  },
  {
   "cell_type": "code",
   "execution_count": 28,
   "metadata": {},
   "outputs": [
    {
     "data": {
      "application/vnd.jupyter.widget-view+json": {
       "model_id": "9cf8c45a586e4ab5b617067d23af4b0a",
       "version_major": 2,
       "version_minor": 0
      },
      "text/plain": [
       "A Jupyter Widget"
      ]
     },
     "metadata": {},
     "output_type": "display_data"
    },
    {
     "name": "stdout",
     "output_type": "stream",
     "text": [
      "Started at:  Apr 09 2018 16:16:16\n"
     ]
    },
    {
     "name": "stderr",
     "output_type": "stream",
     "text": [
      "D:\\qtlab_replacement\\instruments\\Tektronix_AWG5014.py:648: ComplexWarning: Casting complex values to real discards the imaginary part\n",
      "  m1[:] = marker[:len(m1)]\n"
     ]
    },
    {
     "name": "stdout",
     "output_type": "stream",
     "text": [
      "\n",
      "Elapsed time: 0 h 1 m 31.78 s\n"
     ]
    },
    {
     "name": "stderr",
     "output_type": "stream",
     "text": [
      "C:\\ProgramData\\Anaconda3\\lib\\site-packages\\matplotlib\\cbook\\deprecation.py:106: MatplotlibDeprecationWarning: Adding an axes using the same arguments as a previous axes currently reuses the earlier instance.  In a future version, a new instance will always be created and returned.  Meanwhile, this warning can be suppressed, and the future behavior ensured, by passing a unique label to each axes instance.\n",
      "  warnings.warn(message, mplDeprecation, stacklevel=1)\n"
     ]
    }
   ],
   "source": [
    "def set_pulse_amplitude(x):\n",
    "    awg_tek.set_nop(awg_tek.get_clock()/rep_rate)\n",
    "    pg.set_seq([pg.p('ro_trg', trg_length, pg.rect, 1), pg.p('iq_ro', ro_dac_length, pg.rect, x)])\n",
    "    awg_tek.run()\n",
    "measurement = sweep.sweep(adc_reducer, (np.linspace(0, 1, 21), set_pulse_amplitude, 'Readout amplitude'), filename='Readout pulse passthrough')"
   ]
  },
  {
   "cell_type": "code",
   "execution_count": 35,
   "metadata": {
    "collapsed": true
   },
   "outputs": [],
   "source": [
    "adc.stop()"
   ]
  },
  {
   "cell_type": "markdown",
   "metadata": {},
   "source": [
    "### Осцилляции Раби"
   ]
  },
  {
   "cell_type": "code",
   "execution_count": 36,
   "metadata": {
    "scrolled": true
   },
   "outputs": [
    {
     "data": {
      "application/vnd.jupyter.widget-view+json": {
       "model_id": "d27b195e1d084a31b45d7c16b870639f",
       "version_major": 2,
       "version_minor": 0
      },
      "text/plain": [
       "A Jupyter Widget"
      ]
     },
     "metadata": {},
     "output_type": "display_data"
    },
    {
     "name": "stdout",
     "output_type": "stream",
     "text": [
      "Started at:  Apr 09 2018 16:35:22\n"
     ]
    },
    {
     "name": "stderr",
     "output_type": "stream",
     "text": [
      "D:\\qtlab_replacement\\instruments\\Tektronix_AWG5014.py:648: ComplexWarning: Casting complex values to real discards the imaginary part\n",
      "  m1[:] = marker[:len(m1)]\n"
     ]
    },
    {
     "name": "stdout",
     "output_type": "stream",
     "text": [
      "\n",
      "Elapsed time: 0 h 7 m 4.98 s\n"
     ]
    },
    {
     "name": "stderr",
     "output_type": "stream",
     "text": [
      "C:\\ProgramData\\Anaconda3\\lib\\site-packages\\matplotlib\\cbook\\deprecation.py:106: MatplotlibDeprecationWarning: Adding an axes using the same arguments as a previous axes currently reuses the earlier instance.  In a future version, a new instance will always be created and returned.  Meanwhile, this warning can be suppressed, and the future behavior ensured, by passing a unique label to each axes instance.\n",
      "  warnings.warn(message, mplDeprecation, stacklevel=1)\n"
     ]
    }
   ],
   "source": [
    "ex_amplitude = 1.0#смотрим на график в S21-phase ?? как жить что частота от этого зависит\n",
    "pause_length = 16e-9#пауза между возб.импульсом и считывающим\n",
    "lengths = np.linspace(0e-6, 1.0e-6,101)#время наблюдения осцилляций,для фитования частоты достатоно пары периодов\n",
    "readout_begin = np.max(lengths)\n",
    "lo1.set_status(True)\n",
    "def set_ex_length(length):\n",
    "    awg_tek.set_nop(awg_tek.get_clock()/rep_rate)\n",
    "    sequence = [pg.p(None, readout_begin-length), \n",
    "                pg.p('iq_ex', length, pg.rect, ex_amplitude), \n",
    "                pg.p(None, pause_length), \n",
    "                pg.p('ro_trg', trg_length, pg.rect, 1), \n",
    "                pg.p('iq_ro', ro_dac_length, pg.rect, ro_dac_amplitude)]\n",
    "    pg.set_seq(sequence)\n",
    "    awg_tek.run()\n",
    "measurement = sweep.sweep(adc_reducer, (lengths, set_ex_length, 'Rabi pulse length', 's'), filename='Rabi')\n",
    "measurement_fitted, fitted_parameters_rabi = fitting.S21pm_fit(measurement, fitting.exp_sin_fit)\n",
    "annotation = 'Phase: {0:4.4g} rad, Freq: {1:4.4g}, Decay: {2:4.4g} s'.format(fitted_parameters_rabi['phase'], \n",
    "                                                                             fitted_parameters_rabi['freq'], \n",
    "                                                                             fitted_parameters_rabi['decay'])\n",
    "save_pkl.save_pkl({'type':'Rabi'}, measurement_fitted,annotation=annotation)"
   ]
  },
  {
   "cell_type": "code",
   "execution_count": null,
   "metadata": {
    "collapsed": true
   },
   "outputs": [],
   "source": [
    "save_pkl.save_pkl({'type':'Rabi'}, measurement_fitted,annotation=annotation)"
   ]
  },
  {
   "cell_type": "code",
   "execution_count": null,
   "metadata": {
    "collapsed": true
   },
   "outputs": [],
   "source": [
    "Rabi_fr=fitted_parameters_rabi['freq']\n",
    "T_pi=np.pi/Rabi_fr\n",
    "T_pi_half=T_pi/2\n",
    "T_pi,T_pi_half"
   ]
  },
  {
   "cell_type": "code",
   "execution_count": null,
   "metadata": {
    "collapsed": true
   },
   "outputs": [],
   "source": [
    "measurement"
   ]
  },
  {
   "cell_type": "code",
   "execution_count": null,
   "metadata": {
    "collapsed": true
   },
   "outputs": [],
   "source": [
    "measurement_fitted"
   ]
  },
  {
   "cell_type": "code",
   "execution_count": null,
   "metadata": {
    "collapsed": true
   },
   "outputs": [],
   "source": [
    "Rabi_fr"
   ]
  },
  {
   "cell_type": "code",
   "execution_count": null,
   "metadata": {
    "collapsed": true
   },
   "outputs": [],
   "source": [
    "det=np.sqrt(4*Rabi_fr**2-Qubits[4]['F01']**2)\n",
    "det"
   ]
  },
  {
   "cell_type": "markdown",
   "metadata": {},
   "source": [
    "### Осцилляции Рамзея"
   ]
  },
  {
   "cell_type": "code",
   "execution_count": null,
   "metadata": {
    "scrolled": false
   },
   "outputs": [
    {
     "data": {
      "application/vnd.jupyter.widget-view+json": {
       "model_id": "17b4a2f74f0c475e8deb364a8b5783c6",
       "version_major": 2,
       "version_minor": 0
      },
      "text/plain": [
       "A Jupyter Widget"
      ]
     },
     "metadata": {},
     "output_type": "display_data"
    },
    {
     "name": "stdout",
     "output_type": "stream",
     "text": [
      "Started at:  Apr 09 2018 18:01:40\n"
     ]
    },
    {
     "name": "stderr",
     "output_type": "stream",
     "text": [
      "D:\\qtlab_replacement\\instruments\\Tektronix_AWG5014.py:648: ComplexWarning: Casting complex values to real discards the imaginary part\n",
      "  m1[:] = marker[:len(m1)]\n"
     ]
    }
   ],
   "source": [
    "ex_amplitude = 1.0\n",
    "# pi2_pulse = 7e-9 #Q2\n",
    "pi2_pulse = 64e-9 #Q4\n",
    "#pi2_pulse = T_pi_half #Q4\n",
    "pause_length = 16e-9\n",
    "delays = np.linspace(0e-9, 1000e-9, 51)#последовательность задержек между двумя пи/2 импульсами\n",
    "target_freq_offset = 3e6\n",
    "\n",
    "readout_begin = np.max(delays)+pi2_pulse*2\n",
    "\n",
    "def set_delay(delay):\n",
    "    awg_tek.set_nop(awg_tek.get_clock()/rep_rate)\n",
    "    \n",
    "    sequence = [pg.p(None, readout_begin-pi2_pulse),\n",
    "                pg.p('iq_ex', pi2_pulse, pg.rect, ex_amplitude), \n",
    "                pg.p(None, delay), \n",
    "                pg.p('iq_ex', pi2_pulse, pg.rect, ex_amplitude*np.exp(1j*delay*target_freq_offset*2*np.pi)),#зачем фаза? \n",
    "                pg.p(None, pause_length), \n",
    "                pg.p('ro_trg', trg_length, pg.rect, 1), \n",
    "                pg.p('iq_ro', ro_dac_length, pg.rect, ro_dac_amplitude)]\n",
    "    \n",
    "    pg.set_seq(sequence)\n",
    "    awg_tek.run()\n",
    "measurement = sweep.sweep(adc_reducer, (delays, set_delay, 'Ramsey delay', 's'), filename='Ramsey')\n",
    "#measurement = sweep.sweep(adc_sz, (delays, set_delay, 'Ramsey delay'), filename='Ramsey')\n",
    "measurement_fitted, fitted_parameters = fitting.S21pm_fit(measurement, fitting.exp_sin_fit)\n",
    "annotation = 'Phase: {0:4.4g} rad, Freq: {1:4.4g}, Decay: {2:4.4g} s'.format(fitted_parameters['phase'], \n",
    "                                                                             fitted_parameters['freq'], \n",
    "                                                                             fitted_parameters['decay'])\n",
    "save_pkl({'type':'Ramsey'}, measurement_fitted, annotation=annotation)"
   ]
  },
  {
   "cell_type": "code",
   "execution_count": 45,
   "metadata": {
    "scrolled": true
   },
   "outputs": [
    {
     "name": "stderr",
     "output_type": "stream",
     "text": [
      "C:\\ProgramData\\Anaconda3\\lib\\site-packages\\matplotlib\\cbook\\deprecation.py:106: MatplotlibDeprecationWarning: Adding an axes using the same arguments as a previous axes currently reuses the earlier instance.  In a future version, a new instance will always be created and returned.  Meanwhile, this warning can be suppressed, and the future behavior ensured, by passing a unique label to each axes instance.\n",
      "  warnings.warn(message, mplDeprecation, stacklevel=1)\n"
     ]
    }
   ],
   "source": [
    "measurement_fitted, fitted_parameters = fitting.S21pm_fit(measurement, fitting.exp_sin_fit)\n",
    "annotation = 'Phase: {0:4.4g} rad, Freq: {1:4.4g}, Decay: {2:4.4g} s'.format(fitted_parameters['phase'], \n",
    "                                                                             fitted_parameters['freq'], \n",
    "                                                                             fitted_parameters['decay'])\n",
    "save_pkl.save_pkl({'type':'Ramsey'}, measurement_fitted, annotation=annotation)"
   ]
  },
  {
   "cell_type": "markdown",
   "metadata": {},
   "source": [
    "### Затухание свободной индукции (T1)"
   ]
  },
  {
   "cell_type": "code",
   "execution_count": null,
   "metadata": {
    "collapsed": true
   },
   "outputs": [],
   "source": [
    "ex_amplitude = 0.2\n",
    "pi_pulse = 20e-9\n",
    "pause_length = 16e-9"
   ]
  },
  {
   "cell_type": "code",
   "execution_count": 56,
   "metadata": {
    "collapsed": true
   },
   "outputs": [],
   "source": [
    "adc.stop()"
   ]
  },
  {
   "cell_type": "code",
   "execution_count": 57,
   "metadata": {},
   "outputs": [
    {
     "data": {
      "application/vnd.jupyter.widget-view+json": {
       "model_id": "da1ad4dacbbc4e629b86edf378013c0c",
       "version_major": 2,
       "version_minor": 0
      },
      "text/plain": [
       "A Jupyter Widget"
      ]
     },
     "metadata": {},
     "output_type": "display_data"
    },
    {
     "name": "stdout",
     "output_type": "stream",
     "text": [
      "Started at:  Apr 09 2018 17:55:26\n"
     ]
    },
    {
     "name": "stderr",
     "output_type": "stream",
     "text": [
      "C:\\ProgramData\\Anaconda3\\lib\\site-packages\\matplotlib\\cbook\\deprecation.py:106: MatplotlibDeprecationWarning: Adding an axes using the same arguments as a previous axes currently reuses the earlier instance.  In a future version, a new instance will always be created and returned.  Meanwhile, this warning can be suppressed, and the future behavior ensured, by passing a unique label to each axes instance.\n",
      "  warnings.warn(message, mplDeprecation, stacklevel=1)\n",
      "D:\\qtlab_replacement\\instruments\\Tektronix_AWG5014.py:648: ComplexWarning: Casting complex values to real discards the imaginary part\n",
      "  m1[:] = marker[:len(m1)]\n"
     ]
    },
    {
     "name": "stdout",
     "output_type": "stream",
     "text": [
      "\n",
      "Elapsed time: 0 h 3 m 35.96 s\n",
      "[7.9202813932156325e-06, -0.06763574113038846, -0.03240679379727257, 0.05780554537855299, -0.037322928960993804, -0.06063712100194457, -0.03310670786357711, 0.058125560513415594, -0.03716962968677179]\n"
     ]
    }
   ],
   "source": [
    "pi_pulse = 128e-9\n",
    "delays = np.linspace(0e-6,8e-6, 51)#серия задержек после возбуждения перед считыванием состояния\n",
    "readout_begin = np.max(delays)+pi_pulse#зачем он тут прибавляет, а потом в коде вычитает? \n",
    "# раньше смысл был в том, чтобы менять длительность возбуждающей последовательности, не сдвигая считывание. То есть\n",
    "# дополнительные импульсы приделываются до считывания (котороене двигается), а не считывание приделывается к концу.\n",
    "# Сейчас это ещё раз реализовано в коде, которые делает последовательности импульсов (pg.set_seq). Если вдруг у нас будет\n",
    "# много считываний, то там тоже надо будет мутить какую-нибудь синхронизацию.\n",
    "def set_delay(delay):\n",
    "    awg_tek.set_nop(awg_tek.get_clock()/rep_rate)\n",
    "    \n",
    "    sequence = [pg.p(None, readout_begin-pi_pulse),\n",
    "                pg.p('iq_ex', pi_pulse, pg.rect, ex_amplitude), \n",
    "                pg.p(None, delay), \n",
    "                pg.p('ro_trg', trg_length, pg.rect, 1), \n",
    "                pg.p('iq_ro', ro_dac_length, pg.rect, ro_dac_amplitude)]\n",
    "    \n",
    "    pg.set_seq(sequence)\n",
    "    awg_tek.run()\n",
    "measurement = sweep.sweep(adc_reducer, (delays, set_delay, 'delay'), filename='Decay')\n",
    "\n",
    "measurement_fitted, fitted_parameters = fitting.S21pm_fit(measurement, fitting.exp_fit)\n",
    "#save_pkl.save_pkl({'type':'Decay'}, measurement_fitted)\n",
    "annotation = 'Decay: {0:4.6g} s'.format(fitted_parameters['decay'])\n",
    "save_pkl.save_pkl({'type':'Decay'}, measurement_fitted, annotation=annotation)"
   ]
  },
  {
   "cell_type": "code",
   "execution_count": 53,
   "metadata": {},
   "outputs": [
    {
     "name": "stderr",
     "output_type": "stream",
     "text": [
      "C:\\ProgramData\\Anaconda3\\lib\\site-packages\\matplotlib\\cbook\\deprecation.py:106: MatplotlibDeprecationWarning: Adding an axes using the same arguments as a previous axes currently reuses the earlier instance.  In a future version, a new instance will always be created and returned.  Meanwhile, this warning can be suppressed, and the future behavior ensured, by passing a unique label to each axes instance.\n",
      "  warnings.warn(message, mplDeprecation, stacklevel=1)\n"
     ]
    }
   ],
   "source": [
    "annotation = 'Decay: {0:4.6g} s'.format(fitted_parameters['decay'])\n",
    "save_pkl.save_pkl({'type':'Decay'}, measurement_fitted, annotation=annotation)"
   ]
  },
  {
   "cell_type": "markdown",
   "metadata": {},
   "source": [
    "# Double readout"
   ]
  },
  {
   "cell_type": "code",
   "execution_count": null,
   "metadata": {
    "collapsed": true
   },
   "outputs": [],
   "source": [
    "adc.set_nums(10000)\n",
    "\n",
    "sweep_number=5\n",
    "result=[]\n",
    "for swp in range(sweep_number):\n",
    "    awg_tek.set_nop(awg_tek.get_clock()/rep_rate)\n",
    "    \n",
    "    sequence = [pg.p('ro_trg', trg_length, pg.rect, 1),\n",
    "                pg.p('iq_ro', ro_dac_length, pg.rect, ro_dac_amplitude)]\n",
    "    pg.set_seq(sequence)\n",
    "    awg_tek.run()\n",
    "    measurement=adc.measure()\n",
    "    #result.append(measurement)\n",
    "    with open('data.pickle{0}'.format(swp), 'wb') as f:\n",
    "        pickle.dump(measurement, f)\n",
    "   # measurement.clear()\n",
    "    print('{0} done'.format(swp))\n",
    "    \n",
    "\n"
   ]
  },
  {
   "cell_type": "code",
   "execution_count": null,
   "metadata": {
    "collapsed": true
   },
   "outputs": [],
   "source": [
    "#ex_amplitude = 0.2\n",
    "#pi_pulse = 20e-9\n",
    "#pause_length = 16e-9\n",
    "#pi_pulse=20e-9\n",
    "adc.set_nums(10000)\n",
    "\n",
    "\n",
    "sweep_number=5\n",
    "result=[]\n",
    "for swp in range(sweep_number):\n",
    "    awg_tek.set_nop(awg_tek.get_clock()/rep_rate)\n",
    "    \n",
    "    sequence = [pg.p('iq_ex', length, pg.gauss_hd, 0, amp, sigma, alpha),\n",
    "                pg.p('iq_ex', length, pg.gauss_hd, 0, amp, sigma, alpha),\n",
    "                pg.p(None,pause_length),\n",
    "                pg.p('ro_trg', trg_length, pg.rect, 1),\n",
    "                pg.p('iq_ro', ro_dac_length, pg.rect, ro_dac_amplitude)]\n",
    "    pg.set_seq(sequence)\n",
    "    awg_tek.run()\n",
    "    measurement=adc.measure()\n",
    "   # result.append(measurement)\n",
    "    with open('data1gaus.pickle{0}'.format(swp), 'wb') as f:\n",
    "        pickle.dump(measurement, f)\n",
    "    measurement.clear()\n",
    "    print('{0} done'.format(swp))\n",
    "    "
   ]
  },
  {
   "cell_type": "code",
   "execution_count": null,
   "metadata": {
    "collapsed": true
   },
   "outputs": [],
   "source": [
    "imp.reload(sweep)\n",
    "imp.reload(save_pkl)\n",
    "sweep_number=100\n",
    "adc.set_nums(500)\n",
    "measurment_data_pre=[]\n",
    "for swp in range(sweep_number):\n",
    "    delays = np.linspace(0e-6, 10e-6, 51)\n",
    "    def set_delay(delay):\n",
    "        awg_tek.set_nop(awg_tek.get_clock()/rep_rate)\n",
    "    \n",
    "        sequence = [pg.p('ro_trg', trg_length, pg.rect, 1),\n",
    "                    pg.p('iq_ro', ro_dac_length, pg.rect, ro_dac_amplitude),\n",
    "                    pg.p(None, delay),\n",
    "                    pg.p('iq_ro', ro_dac_length, pg.rect, ro_dac_amplitude)\n",
    "                   ]\n",
    "        pg.set_seq(sequence)\n",
    "        awg_tek.run()\n",
    "    measurement_pre = sweep.sweep(adc, (delays, set_delay, 'delay'), filename='Decay{0}'.format(swp),time_war_label=False)\n",
    "    measurement_pre.clear()\n",
    "   \n",
    "    \n",
    " \n"
   ]
  },
  {
   "cell_type": "code",
   "execution_count": null,
   "metadata": {
    "collapsed": true
   },
   "outputs": [],
   "source": [
    "for file_name in range (swp):\n",
    "    if (file_name==0):\n",
    "        with open(r'D:\\qtlab\\ReiData\\data\\2017-11-03\\Voltage Decay{0}.pkl'.format(file_name),'rb') as f:\n",
    "            data=pkl.load(f,encoding='latin1')\n",
    "        Voltage_avg=[[np.mean(data[1]['Voltage'][2][i][j]) for i in range(len(data[1]['Voltage'][2][0][1]))]\\\n",
    "                     for j in range(len(data[1]['Voltage'][2][0]))]\n",
    "        print (Voltage_avg_amp[0])\n",
    "        print (file_name)\n",
    "    else:\n",
    "        with open(r'D:\\qtlab\\ReiData\\data\\2017-11-03\\Voltage Decay{0}.pkl'.format(file_name),'rb') as f:\n",
    "            data_r=pkl.load(f,encoding='latin1')\n",
    "        Voltage_avg=[(np.real(data_r[1]['Voltage'][2][vnum])+np.real(Voltage_avg[vnum]))/2+\\\n",
    "                      (np.imag(data_r[1]['Voltage'][2][vnum])+np.imag(Voltage_avg[vnum]))/2 for vnum \\\n",
    "                      in range(len(data_r[1]['Voltage'][2]))]\n",
    "        print (data_r[1]['Voltage'][2])\n",
    "        print (Voltage_avg[0])\n",
    "        print (file_name)\n",
    "                      "
   ]
  },
  {
   "cell_type": "code",
   "execution_count": null,
   "metadata": {
    "collapsed": true,
    "scrolled": true
   },
   "outputs": [],
   "source": [
    "sweep_num=80\n",
    "adc.set_nums(500)\n",
    "delays = np.linspace(0e-6, 10e-6, 51)\n",
    "def set_delay(delay):\n",
    "    awg_tek.set_nop(awg_tek.get_clock()/rep_rate)\n",
    "    \n",
    "    sequence = [pg.p(None, delay)\n",
    "                pg.p('iq_ex', pi_pulse, pg.rect, ex_amplitude),\n",
    "                pg.p('ro_trg', trg_length, pg.rect, 1),\n",
    "                pg.p('iq_ro', ro_dac_length, pg.rect, ro_dac_amplitude)]\n",
    "    pg.set_seq(sequence)\n",
    "    awg_tek.run()\n",
    "measurement_pre = sweep.sweep(adc, (delays, set_delay, 'delay'), filename='Decay')\n",
    "voltage_amp_pre_ONES=[np.sqrt(np.real(measurement_pre['Voltage'][2][1][i])**2+np.imag(measurement_pre['Voltage'][2][1][i])**2) for i in \\\n",
    "             range(len(measurement_pre['Voltage'][2][1]))]\n",
    "voltage_phase_pre_ONES=[np.arctan(np.real(measurement_pre['Voltage'][2][1][i])/np.imag(measurement_pre['Voltage'][2][1][i])) for i in \\\n",
    "             range(len(measurement_pre['Voltage'][2][1]))] \n",
    "plt.plot(voltage_amp_pre_ONES)\n",
    "plt.show()"
   ]
  },
  {
   "cell_type": "code",
   "execution_count": null,
   "metadata": {
    "collapsed": true
   },
   "outputs": [],
   "source": [
    "import matplotlib.patches as mpatches"
   ]
  },
  {
   "cell_type": "code",
   "execution_count": null,
   "metadata": {
    "collapsed": true
   },
   "outputs": [],
   "source": [
    "non_avg_ones=[[voltage_amp_pre_ONES[i][j] for i in range(len(voltage_amp_pre_ONES))]\\\n",
    "              for j in range (len(voltage_amp_pre_ONES[0]))]\n",
    "avg_ones=[np.mean(ones) for ones in non_avg_ones ]\n",
    "non_avg_zeros=[[voltage_amp_pre_ZEROS[i][j] for i in range(len(voltage_amp_pre_ZEROS))]\\\n",
    "              for j in range (len(voltage_amp_pre_ZEROS[0]))]\n",
    "avg_zeros=[np.mean(zeros) for zeros in non_avg_zeros ]\n",
    "avg_ones_n=[np.mean(ones)-np.mean(avg_ones) for ones in non_avg_ones ]\n",
    "avg_zeros_n=[np.mean(zeros)-np.mean(avg_zeros) for zeros in non_avg_zeros ]\n",
    "plt.plot(avg_ones_n)\n",
    "plt.plot(avg_zeros_n)\n",
    "blue_patch = mpatches.Patch(color='blue', label='|1>')\n",
    "red_patch = mpatches.Patch(color='orange', label='|0>')\n",
    "plt.legend(handles=[blue_patch,red_patch])\n",
    "plt.show()"
   ]
  },
  {
   "cell_type": "code",
   "execution_count": null,
   "metadata": {
    "collapsed": true
   },
   "outputs": [],
   "source": [
    "delays = np.linspace(0e-6, 1.5e-6, 51)\n",
    "def set_delay(delay):\n",
    "    awg_tek.set_nop(awg_tek.get_clock()/rep_rate)\n",
    "    \n",
    "    sequence = [pg.p('ro_trg', trg_length, pg.rect, 1),\n",
    "                pg.p('iq_ro', ro_dac_length, pg.rect, ro_dac_amplitude),\n",
    "                pg.p(None, delay), \n",
    "                pg.p('ro_trg', trg_length, pg.rect, 1),\n",
    "                pg.p('iq_ro', ro_dac_length, pg.rect, ro_dac_amplitude) ]\n",
    "    pg.set_seq(sequence)\n",
    "    awg_tek.run()\n",
    "measurement_post = sweep.sweep(adc_reducer, (delays, set_delay, 'delay'), filename='Decay')"
   ]
  },
  {
   "cell_type": "code",
   "execution_count": null,
   "metadata": {
    "collapsed": true
   },
   "outputs": [],
   "source": [
    "voltage_amp_post=[np.sqrt(np.real(measurement_post['Voltage'][2][1][i])**2+np.imag(measurement_post['Voltage'][2][1][i])**2) for i in \\\n",
    "             range(len(measurement_post['Voltage'][2][1]))]\n",
    "voltage_phase_post=[np.arctan(np.real(measurement_post['Voltage'][2][1][i])/np.imag(measurement_post['Voltage'][2][1][i])) for i in \\\n",
    "             range(len(measurement_post['Voltage'][2][1]))]"
   ]
  },
  {
   "cell_type": "code",
   "execution_count": null,
   "metadata": {
    "collapsed": true
   },
   "outputs": [],
   "source": [
    "measurement"
   ]
  },
  {
   "cell_type": "code",
   "execution_count": null,
   "metadata": {
    "collapsed": true
   },
   "outputs": [],
   "source": [
    "measurement['S21-'][1][0]\n",
    "S21_pre=measurement['S21-'][1][0][::2]\n",
    "S21_post=measurement['S21-'][1][0][1::2]\n",
    "len(measurement['S21-'][1][0])"
   ]
  },
  {
   "cell_type": "markdown",
   "metadata": {},
   "source": [
    "# Optimizing readout pulse settings"
   ]
  },
  {
   "cell_type": "code",
   "execution_count": 24,
   "metadata": {
    "collapsed": true
   },
   "outputs": [],
   "source": [
    "#+ \n",
    "#amp_x=0.554\n",
    "#amp_y=0.554\n",
    "#sigma = 2e-9\n",
    "#amp_x=0.29\n",
    "#amp_y=0.29\n",
    "# Кубит #4, импульсы 8 нс\n",
    "#pause_length = 2e-9\n",
    "#length = 10e-9 # Длительность импульса \n",
    "#sigma = 2.5e-9 # Срез импульса (в сигмах) = Длительност/сигма\n",
    "#amp=0.893\n",
    "#amp_y=0.880\n",
    "#anharmonicity = -200e6\n",
    "#alpha_dimensionless = 0.724\n",
    "# Кубит #4, импульсы 16 нс\n",
    "#pause_length = 0e-9\n",
    "#length = 16e-9 # Длительность импульса \n",
    "#sigma = 3e-9 # Срез импульса (в сигмах) = Длительност/сигма\n",
    "#amp=0.322\n",
    "#anharmonicity = -200e6\n",
    "#alpha_dimensionless = 0.909#553\n",
    "#alpha = -alpha_dimensionless/(anharmonicity*2*np.pi)\n",
    "#xy_acorr = 0.003\n",
    "#amp_y_raw=0.322#\n",
    "amp=0.3245\n",
    "amp2=0.655\n",
    "length=16e-9\n",
    "sigma=3e-9\n",
    "anharmonicity=-227e6\n",
    "pause_length=0\n",
    "alpha_dimensionless =1.035\n",
    "# alpha_dimensionless =1.1\n",
    "alpha = -alpha_dimensionless/(anharmonicity*2*np.pi)\n",
    "xy_acorr =0.0\n",
    "amp_y_raw=0.3245\n",
    "amp_y=amp_y_raw*np.exp(1j*xy_acorr)"
   ]
  },
  {
   "cell_type": "code",
   "execution_count": null,
   "metadata": {
    "collapsed": true
   },
   "outputs": [],
   "source": [
    "#parametres\n",
    "ampx_pi_half\n",
    "ampx_pi\n",
    "ampy_pi_half\n",
    "ampy_pi\n",
    "ength=16e-9\n",
    "sigma=3e-9\n",
    "anharmonicity=-227e6\n",
    "alpha_dimensionless =1.035\n",
    "alpha = -alpha_dimensionless/(anharmonicity*2*np.pi)"
   ]
  },
  {
   "cell_type": "code",
   "execution_count": 25,
   "metadata": {
    "collapsed": true
   },
   "outputs": [],
   "source": [
    "# To calibrate we need a pi-pulse. Two choices are available, either we use a rectangular pulse or a gaussian pulse.\n",
    "# The pulse is used to excite the qubit with high probability.\n",
    "#ex_calib_seq = [pg.p('iq_ex', pi_pulse, pg.rect, ex_amplitude)] # rectangular pulse\n",
    "ex_calib_seq = [pg.p('iq_ex', length, pg.gauss_hd, amp, 0, sigma), pg.p(None, pause_length)]*2 # gaussian pulse\n",
    "ro_seq = [pg.p('ro_trg', trg_length, pg.rect, 1), pg.p('iq_ro', ro_dac_length, pg.rect, ro_dac_amplitude)]\n",
    "adc_sz = tomography_new.sz_measurer(adc, ex_calib_seq, ro_seq, pg)\n",
    "adc.set_software_nums_multi(1)\n",
    "adc_sz.repeat_samples = 1\n",
    "\n",
    "adc.set_nums(50000)\n",
    "\n",
    "target_min = lambda: 1-adc_sz.measure()['Calibrated fidelity binary']\n",
    "\n",
    "class ro_pulse_generator:\n",
    "    def __init__(self, adc_sz, ro_dac_amplitude, ro_dac_length):\n",
    "        self.ro_dac_amplitude = ro_dac_amplitude\n",
    "        self.ro_dac_length = ro_dac_length\n",
    "        self.adc_sz = adc_sz\n",
    "    def make_ro_seq(self):\n",
    "        adc_sz.ro_seq = [pg.p('ro_trg', trg_length, pg.rect, 1), pg.p('iq_ro', self.ro_dac_length, pg.rect, self.ro_amplitude)]\n",
    "    def set_ro_length(self, ro_dac_length):\n",
    "        self.ro_dac_length = ro_dac_length\n",
    "        self.make_ro_seq()\n",
    "    def set_ro_amplitude(self, ro_amplitude):\n",
    "        self.ro_amplitude = ro_amplitude\n",
    "        self.make_ro_seq()\n",
    "\n",
    "ro_dac_lengths = np.linspace(0, 0.05e-6, 6)\n",
    "ro_dac_amplitudes = np.linspace(0.0,0.5, 11)\n",
    "#ro_dac_length = 300e-9\n",
    "\n",
    "ro_pulse_generator_inst = ro_pulse_generator(adc_sz, ro_dac_amplitude, ro_dac_length)\n",
    "#solution, score = sweep.optimize(target_min, (ro_pulse_generator_inst.set_ro_length, 3e-8), \n",
    "#                                             (ro_pulse_generator_inst.set_ro_amplitude, 0.9), maxfun=30)\n",
    "\n",
    "#ro_dac_length = solution[0]\n",
    "#ro_dac_amplitude = solution[1]"
   ]
  },
  {
   "cell_type": "code",
   "execution_count": 26,
   "metadata": {
    "scrolled": true
   },
   "outputs": [
    {
     "data": {
      "application/vnd.jupyter.widget-view+json": {
       "model_id": "171d17cf9a9447f3a1d0960de2d34e67"
      }
     },
     "metadata": {},
     "output_type": "display_data"
    },
    {
     "name": "stdout",
     "output_type": "stream",
     "text": [
      "Started at:  Nov 10 2017 17:47:17\n"
     ]
    },
    {
     "name": "stderr",
     "output_type": "stream",
     "text": [
      "D:\\qtlab_replacement\\instruments\\Tektronix_AWG5014.py:642: ComplexWarning: Casting complex values to real discards the imaginary part\n",
      "  m1[:] = marker[:len(m1)]\n",
      "D:\\qtlab_replacement\\scripts\\tomography.py:123: RuntimeWarning: invalid value encountered in true_divide\n",
      "  probabilities = hists/hist_all\n"
     ]
    },
    {
     "name": "stdout",
     "output_type": "stream",
     "text": [
      "\n",
      "Elapsed time: 0 h 3 m 36.2 s\n"
     ]
    },
    {
     "data": {
      "text/plain": [
       "True"
      ]
     },
     "execution_count": 26,
     "metadata": {},
     "output_type": "execute_result"
    }
   ],
   "source": [
    "ro_amplitude_calib = sweep.sweep(adc_sz, #(ro_dac_lengths, ro_pulse_generator_inst.set_ro_length, 'Readout pulse length'), \n",
    "                    (ro_dac_amplitudes, ro_pulse_generator_inst.set_ro_amplitude, 'Readout pulse amplitude'))\n",
    "ro_dac_amplitude = ro_amplitude_calib['Calibrated fidelity'][1][0][np.argmax(ro_amplitude_calib['Calibrated fidelity'][2])]\n",
    "\n",
    "adc.set_software_nums_multi(1)"
   ]
  },
  {
   "cell_type": "code",
   "execution_count": 27,
   "metadata": {},
   "outputs": [
    {
     "name": "stdout",
     "output_type": "stream",
     "text": [
      "Calibrated optimal readout amplitude:  0.4\n"
     ]
    },
    {
     "name": "stderr",
     "output_type": "stream",
     "text": [
      "D:\\qtlab_replacement\\instruments\\Tektronix_AWG5014.py:642: ComplexWarning: Casting complex values to real discards the imaginary part\n",
      "  m1[:] = marker[:len(m1)]\n"
     ]
    }
   ],
   "source": [
    "#setting optimal settings \n",
    "print ('Calibrated optimal readout amplitude: ', ro_dac_amplitude)\n",
    "ro_pulse_generator_inst.set_ro_amplitude(ro_dac_amplitude)\n",
    "adc_sz.measure()\n",
    "plt.plot(adc_sz.calib_proba_points, adc_sz.calib_hists.T)\n",
    "adc_calibrated_reducer = data_reduce.data_reduce(adc)\n",
    "adc_calibrated_reducer.filters['sz'] = adc_sz.filter"
   ]
  },
  {
   "cell_type": "code",
   "execution_count": null,
   "metadata": {
    "collapsed": true
   },
   "outputs": [],
   "source": [
    "adc.stop()\n",
    "pg.p"
   ]
  },
  {
   "cell_type": "markdown",
   "metadata": {},
   "source": [
    "### Rabi amplitude oscillations"
   ]
  },
  {
   "cell_type": "code",
   "execution_count": null,
   "metadata": {
    "collapsed": true,
    "scrolled": true
   },
   "outputs": [],
   "source": [
    "#ex_amps = np.linspace(0.3225,0.3325,21)\n",
    "#num_pulses = 50\n",
    "ex_amps = np.linspace(0.1,0.7,41)\n",
    "num_pulses = 4\n",
    "# ro_dac_length=0.2e-6\n",
    "#readout_begin = np.max((length+pause_length)*num_pulses)\n",
    "def set_ex_amp(amp):\n",
    "    awg_tek.set_nop(awg_tek.get_clock()/rep_rate)\n",
    "    \n",
    "    sequence = [pg.p('iq_ex', length, pg.gauss_hd, amp, 0, sigma, alpha), \n",
    "                pg.p(None, pause_length)]*num_pulses+\\\n",
    "                [pg.p('ro_trg', trg_length, pg.rect, 1), \n",
    "                pg.p('iq_ro', ro_dac_length, pg.rect, ro_dac_amplitude)]\n",
    "    \n",
    "    pg.set_seq(sequence)\n",
    "    \n",
    "    awg_tek.run()\n",
    "measurement = sweep.sweep(adc_reducer, (ex_amps, set_ex_amp, 'Rabi pulse amplitude'), filename='Rabi')"
   ]
  },
  {
   "cell_type": "markdown",
   "metadata": {},
   "source": [
    "## Rabi amplitude oscillations pi + pi/2 pulses"
   ]
  },
  {
   "cell_type": "code",
   "execution_count": 35,
   "metadata": {
    "scrolled": true
   },
   "outputs": [
    {
     "data": {
      "application/vnd.jupyter.widget-view+json": {
       "model_id": "8bbe6b9f072048abb9c8a1e8c08f3376"
      }
     },
     "metadata": {},
     "output_type": "display_data"
    },
    {
     "name": "stdout",
     "output_type": "stream",
     "text": [
      "Started at:  Nov 10 2017 18:17:17\n"
     ]
    },
    {
     "name": "stderr",
     "output_type": "stream",
     "text": [
      "D:\\qtlab_replacement\\instruments\\Tektronix_AWG5014.py:642: ComplexWarning: Casting complex values to real discards the imaginary part\n",
      "  m1[:] = marker[:len(m1)]\n"
     ]
    },
    {
     "name": "stdout",
     "output_type": "stream",
     "text": [
      "\n",
      "Elapsed time: 0 h 4 m 36.72 s\n",
      "{'phase': 3.2075903075746095, 'freq': 3.0276699017788729, 'decay': 12.667307609565038, 'amplitudes': array([  1.03572704e-03,   1.20872809e-05,  -9.75184365e-04,\n",
      "         1.22408749e-02])}\n"
     ]
    },
    {
     "data": {
      "text/plain": [
       "(0.32681771105710067, 0.65710470813444433)"
      ]
     },
     "execution_count": 35,
     "metadata": {},
     "output_type": "execute_result"
    }
   ],
   "source": [
    "from numpy import pi\n",
    "def set_ex_amp(amp):\n",
    "    awg_tek.set_nop(awg_tek.get_clock()/rep_rate)    \n",
    "    sequence = [pg.p('iq_ex', length, pg.gauss_hd, amp, 0, sigma, alpha), \n",
    "                pg.p(None, pause_length)]*num_pulses+\\\n",
    "               [pg.p('ro_trg', trg_length, pg.rect, 1), \n",
    "                pg.p('iq_ro', ro_dac_length, pg.rect, ro_dac_amplitude)]\n",
    "    pg.set_seq(sequence)\n",
    "    awg_tek.run()\n",
    "#measurement = sweep.sweep(adc_reducer, (ex_amps, set_ex_amp, 'Rabi pulse amplitude'), filename='Rabi')\n",
    "#measurement_fitted, fitted_parameters_rabi = fitting.S21pm_fit(measurement, fitting.exp_sin_fit)\n",
    "#def find_ampl(impulse):\n",
    "    #i=0\n",
    "    #derivative1, derivative2 =0,0\n",
    "    #count=0\n",
    "    #while (0.5*count<impulse/(0.5*pi)):\n",
    "        #i=i+1;\n",
    "        #derivative1=derivative2;\n",
    "        #derivative2=(3*measurement['Mean Voltage (AC)'][i]-4*measurement[i-1]+measurement[i-2])/(2*(0.7/21)\n",
    "        #if ((derivative1*derivative2)<0) :\n",
    "            #count=count+1\n",
    "    #return measurement[i]\n",
    "\n",
    "#def Rabi_ampl(impulse):\n",
    "\n",
    "# В таком сиде как оно написано здесь эта процедура не имеет никакого смысла =(\n",
    "# Если утверждение amp*2=amp_pi верно, то это не нужно. Если нет, то таким обрзом вы это не увидите.\n",
    "\n",
    "ex_amps = np.linspace(0,0.7,41)\n",
    "num_pulses=4\n",
    "measurement = sweep.sweep(adc_reducer, (ex_amps, set_ex_amp, 'Rabi pulse amplitude'), filename='Rabi')\n",
    "measurement_fitted, fitted_parameters_rabi = fitting.S21pm_fit(measurement, fitting.exp_sin_fit)\n",
    "print(fitted_parameters_rabi)\n",
    "      # return find_ampl(impulse)\n",
    "#ampl_half_pi=Rabi_ampl(pi/2)   \n",
    "amp=(3*pi-fitted_parameters_rabi['phase'])/(2*pi*fitted_parameters_rabi['freq'])\n",
    "amp_pi=(pi*5-fitted_parameters_rabi['phase'])/(2*pi*fitted_parameters_rabi['freq'])\n",
    "amp, amp_pi"
   ]
  },
  {
   "cell_type": "code",
   "execution_count": null,
   "metadata": {
    "collapsed": true
   },
   "outputs": [],
   "source": []
  },
  {
   "cell_type": "markdown",
   "metadata": {},
   "source": [
    "### Rabi Y-amplitude oscillations"
   ]
  },
  {
   "cell_type": "code",
   "execution_count": null,
   "metadata": {
    "collapsed": true,
    "scrolled": true
   },
   "outputs": [],
   "source": [
    "ex_amps = np.linspace(0.1,0.7, 101)\n",
    "num_pulses = 5\n",
    "#readout_begin = np.max((length+pause_length)*num_pulses)\n",
    "def set_ex_amp(amp):\n",
    "    awg_tek.set_nop(awg_tek.get_clock()/rep_rate)\n",
    "    \n",
    "    sequence = [pg.p('iq_ex', length, pg.gauss_hd, 0, amp, sigma, alpha), \n",
    "                pg.p(None, pause_length)]*num_pulses+\\\n",
    "               [pg.p('ro_trg', trg_length, pg.rect, 1), \n",
    "                pg.p('iq_ro', ro_dac_length, pg.rect, ro_dac_amplitude)]\n",
    "    \n",
    "    pg.set_seq(sequence)\n",
    "    \n",
    "    awg_tek.run()\n",
    "measurement = sweep.sweep(adc_reducer, (ex_amps, set_ex_amp, 'Rabi Y-pulse amplitude'), filename='Rabi Y-amplitude')"
   ]
  },
  {
   "cell_type": "markdown",
   "metadata": {},
   "source": [
    "## Amplification of phase errors"
   ]
  },
  {
   "cell_type": "code",
   "execution_count": null,
   "metadata": {
    "collapsed": true
   },
   "outputs": [],
   "source": [
    "num_pulses = np.arange(0, 201, 21)\n",
    "y_sign = '-'\n",
    "y_sign_mul = 1 if y_sign == '-' else -1\n",
    "\n",
    "def set_ape_length(num_pulses):\n",
    "    sequence = [pg.p('iq_ex', length, pg.gauss_hd, amp, 0, sigma, alpha), pg.p(None, pause_length)]+\\\n",
    "               [pg.p('iq_ex', length, pg.gauss_hd, amp, 0, sigma, alpha), pg.p(None, pause_length),\n",
    "                pg.p('iq_ex', length, pg.gauss_hd, -amp, 0, sigma, alpha), pg.p(None, pause_length)]*num_pulses+\\\n",
    "               [pg.p('iq_ex', length, pg.gauss_hd, 0, y_sign_mul*amp, sigma, alpha), pg.p(None, pause_length),\n",
    "                pg.p('ro_trg', trg_length, pg.rect, 1), \n",
    "                pg.p('iq_ro', ro_dac_length, pg.rect, ro_dac_amplitude)]\n",
    "\n",
    "    pg.set_seq(sequence)\n",
    "    \n",
    "    awg_tek.run()\n",
    "measurement = sweep.sweep(adc_reducer, (num_pulses, set_ape_length, 'APE identity pulse num'), filename='APE Y'+y_sign)"
   ]
  },
  {
   "cell_type": "markdown",
   "metadata": {},
   "source": [
    "# Scanning over alpha and looking at phase error"
   ]
  },
  {
   "cell_type": "code",
   "execution_count": null,
   "metadata": {
    "collapsed": true
   },
   "outputs": [],
   "source": [
    "num_pulses = 80\n",
    "y_sign = '+'\n",
    "y_sign_mul = 1 if y_sign == '+' else -1\n",
    "#anharmonicity = -223e6\n",
    "#alphas = np.linspace(-1.0, 1.0, 21)/(200e6*2*np.pi)\n",
    "alphas = np.linspace(0.75, 1.2, 21)\n",
    "\n",
    "def set_alpha(alpha_dimensionless):\n",
    "    alpha = -alpha_dimensionless/(anharmonicity*2*np.pi)\n",
    "    sequence = [pg.p('iq_ex', length, pg.gauss_hd, amp, 0, sigma, alpha), pg.p(None, pause_length)]+\\\n",
    "               [pg.p('iq_ex', length, pg.gauss_hd, amp, 0, sigma, alpha), pg.p(None, pause_length),\n",
    "                pg.p('iq_ex', length, pg.gauss_hd, -amp, 0, sigma, alpha), pg.p(None, pause_length)]*num_pulses+\\\n",
    "               [pg.p('iq_ex', length, pg.gauss_hd, 0, y_sign_mul*amp, sigma, alpha), pg.p(None, pause_length),\n",
    "                pg.p('ro_trg', trg_length, pg.rect, 1), \n",
    "                pg.p('iq_ro', ro_dac_length, pg.rect, ro_dac_amplitude)]\n",
    "\n",
    "    pg.set_seq(sequence)\n",
    "    \n",
    "    awg_tek.run()\n",
    "measurement = sweep.sweep(adc_reducer, (alphas, set_alpha, 'HD DRAG alpha'), filename='APE Y'+y_sign+' dependence on HD DRAG alpha')"
   ]
  },
  {
   "cell_type": "markdown",
   "metadata": {},
   "source": [
    "### X-Y axes angle error"
   ]
  },
  {
   "cell_type": "code",
   "execution_count": null,
   "metadata": {
    "collapsed": true
   },
   "outputs": [],
   "source": [
    "num_pulses = np.arange(0, 21, 1)\n",
    "y_sign = '-'\n",
    "y_sign_mul = 1 if y_sign == '-' else -1\n",
    "\n",
    "def set_xyea_length(num_pulses):\n",
    "    sequence = [pg.p('iq_ex', length, pg.gauss_hd, amp, 0, sigma, alpha), pg.p(None, pause_length)]+\\\n",
    "               [pg.p('iq_ex', length, pg.gauss_hd, 0, amp_y_raw, sigma, alpha), pg.p(None, pause_length),\n",
    "                pg.p('iq_ex', length, pg.gauss_hd, 0, amp_y_raw, sigma, alpha), pg.p(None, pause_length),\n",
    "                pg.p('iq_ex', length, pg.gauss_hd, amp, 0, sigma, alpha), pg.p(None, pause_length),\n",
    "                pg.p('iq_ex', length, pg.gauss_hd, amp, 0, sigma, alpha), pg.p(None, pause_length),]*(2*num_pulses)+\\\n",
    "               [pg.p('iq_ex', length, pg.gauss_hd, 0, y_sign_mul*amp_y_raw, sigma, alpha), pg.p(None, pause_length),\n",
    "                pg.p('ro_trg', trg_length, pg.rect, 1), \n",
    "                pg.p('iq_ro', ro_dac_length, pg.rect, ro_dac_amplitude)]\n",
    "\n",
    "    pg.set_seq(sequence)\n",
    "    \n",
    "    awg_tek.run()\n",
    "measurement = sweep.sweep(adc_reducer, (num_pulses, set_xyea_length, 'X-Y axes angle error pulse num'), filename='XY angle error witness'+y_sign)"
   ]
  },
  {
   "cell_type": "markdown",
   "metadata": {},
   "source": [
    "### Optimizing X-Y axes angle "
   ]
  },
  {
   "cell_type": "code",
   "execution_count": null,
   "metadata": {
    "collapsed": true
   },
   "outputs": [],
   "source": [
    "#angle_corrs = np.linspace(-np.pi/40, np.pi/40, 21)\n",
    "angle_corrs = np.linspace(-0.03, 0.03, 21)\n",
    "num_pulses = 20\n",
    "\n",
    "for signs in ['++++', '+++-', '++-+', '++--', '+-++', '+-+-', '+--+', '+---', \n",
    "              '-+++', '-++-', '-+-+', '-+--', '--++', '--+-', '---+', '----']:\n",
    "    sign_muls = [1 if s == '-' else -1 for s in signs]\n",
    "\n",
    "    def set_xyea_angle_corr(angle_corr):\n",
    "        sequence = [pg.p('iq_ex', length, pg.gauss_hd, sign_muls[0]*amp, 0, sigma, alpha), pg.p(None, pause_length)]+\\\n",
    "                   [pg.p('iq_ex', length, pg.gauss_hd, 0, sign_muls[1]*amp_y_raw*np.exp(1j*angle_corr), sigma, alpha), pg.p(None, pause_length),\n",
    "                    pg.p('iq_ex', length, pg.gauss_hd, 0, sign_muls[1]*amp_y_raw*np.exp(1j*angle_corr), sigma, alpha), pg.p(None, pause_length),\n",
    "                    pg.p('iq_ex', length, pg.gauss_hd, sign_muls[2]*amp, 0, sigma, alpha), pg.p(None, pause_length),\n",
    "                    pg.p('iq_ex', length, pg.gauss_hd, sign_muls[2]*amp, 0, sigma, alpha), pg.p(None, pause_length),]*(2*num_pulses)+\\\n",
    "                   [pg.p('iq_ex', length, pg.gauss_hd, 0, sign_muls[3]*amp_y_raw*np.exp(1j*angle_corr), sigma, alpha), pg.p(None, pause_length),\n",
    "                    pg.p('ro_trg', trg_length, pg.rect, 1), \n",
    "                    pg.p('iq_ro', ro_dac_length, pg.rect, ro_dac_amplitude)]\n",
    "\n",
    "        pg.set_seq(sequence)\n",
    "        awg_tek.run()\n",
    "    measurement = sweep.sweep(adc_reducer, (angle_corrs, set_xyea_angle_corr, 'X-Y axes angle detuning (radians)'), filename='XY angle error optimization'+signs)"
   ]
  },
  {
   "cell_type": "markdown",
   "metadata": {},
   "source": [
    "## Characterizing readout of |0>, |1>, |+>, |->, |i+>, |i-> states"
   ]
  },
  {
   "cell_type": "code",
   "execution_count": null,
   "metadata": {
    "collapsed": true
   },
   "outputs": [],
   "source": [
    "state_prep_seqs = {'|0>': [],\n",
    "                   '|+>': [pg.p('iq_ex', length, pg.gauss_hd, amp, 0, sigma, alpha), pg.p(None, pause_length)],\n",
    "                   '|1>': [pg.p('iq_ex', length, pg.gauss_hd, amp, 0, sigma, alpha), pg.p(None, pause_length),\\\n",
    "                           pg.p('iq_ex', length, pg.gauss_hd, amp, 0, sigma, alpha), pg.p(None, pause_length)],\n",
    "                   '|->': [pg.p('iq_ex', length, pg.gauss_hd, -amp, 0, sigma, alpha), pg.p(None, pause_length)],\n",
    "                   '|i+>': [pg.p('iq_ex', length, pg.gauss_hd, 0, amp_y, sigma, alpha), pg.p(None, pause_length)],\n",
    "                   '|i->': [pg.p('iq_ex', length, pg.gauss_hd, 0, -amp_y,sigma, alpha), pg.p(None, pause_length)]}\n",
    "\n",
    "plt.figure('State readout histograms gaussian')\n",
    "sz_meas = {}\n",
    "for state_name, state_prep_seq in state_prep_seqs.items():\n",
    "    pg.set_seq(state_prep_seq+adc_sz.ro_seq)\n",
    "    sz_meas[state_name] = np.real(adc_calibrated_reducer.measure()['sz'])\n",
    "    hist, bin_edges = np.histogram(sz_meas[state_name], bins=adc_sz.calib_proba_points)\n",
    "    proba_points = (bin_edges[1:]+bin_edges[:-1])/2\n",
    "    plt.plot(proba_points, hist,label=state_name)\n",
    "    print ('{0} state sz mean: {1}, std: {2}'.format(state_name, np.mean(sz_meas[state_name]), np.std(sz_meas[state_name])))\n",
    "    \n",
    "plt.legend()"
   ]
  },
  {
   "cell_type": "code",
   "execution_count": null,
   "metadata": {
    "collapsed": true
   },
   "outputs": [],
   "source": [
    "adc.stop()"
   ]
  },
  {
   "cell_type": "markdown",
   "metadata": {},
   "source": [
    "### Tomography"
   ]
  },
  {
   "cell_type": "code",
   "execution_count": 41,
   "metadata": {
    "collapsed": true
   },
   "outputs": [],
   "source": [
    "#+ \n",
    "amp=0.327\n",
    "amp2=0.657\n",
    "observables = { 'X': 0.5*np.asarray([[0, 1],   [1, 0]]),\n",
    "                'Y': 0.5*np.asarray([[0, -1j],   [1j, 0]]),\n",
    "                '-X': 0.5*np.asarray([[0, -1],   [-1, 0]]),\n",
    "                '-Y': 0.5*np.asarray([[0, 1j],   [-1j, 0]]),\n",
    "                'Z': 0.5*np.asarray([[1, 0],   [0, -1]])}\n",
    "proj_seq = {'Xo':{'pulses': [pg.p('iq_ex', length, pg.gauss_hd, 0, -amp_y, sigma, alpha), pg.p(None, pause_length)]+ro_seq, \n",
    "                 'operator': observables['X']},\n",
    "            'Yo':{'pulses': [pg.p('iq_ex', length, pg.gauss_hd, amp, 0, sigma, alpha), pg.p(None, pause_length)]+ro_seq,\n",
    "                 'operator': observables['Y']},\n",
    "            '-Xo':{'pulses':[pg.p('iq_ex', length, pg.gauss_hd, 0, amp_y, sigma, alpha), pg.p(None, pause_length)]+ro_seq,\n",
    "                 'operator': observables['-X']},\n",
    "            '-Yo':{'pulses':[pg.p('iq_ex', length, pg.gauss_hd, -amp, 0, sigma, alpha), pg.p(None, pause_length)]+ro_seq,\n",
    "                 'operator': observables['-Y']},\n",
    "            'Zo': {'pulses':ro_seq, 'operator':observables['Z']} }\n",
    "reconstruction_basis={'x':{'operator':observables['X']},\n",
    "                      'y':{'operator':observables['Y']},\n",
    "                      'z':{'operator':observables['Z']}}\n",
    "tomo = tomography_new.tomography(adc_sz, pg, proj_seq, reconstruction_basis=reconstruction_basis)"
   ]
  },
  {
   "cell_type": "code",
   "execution_count": 43,
   "metadata": {
    "collapsed": true
   },
   "outputs": [],
   "source": [
    "#+Gh\n",
    "proj_seq = {'Z': {'pulses':ro_seq, 'operator':observables['Z']}}\n",
    "reconstruction_basis={'z':{'operator':observables['Z']}}\n",
    "tomoz = tomography_new.tomography(adc_sz, pg, proj_seq, reconstruction_basis=reconstruction_basis)"
   ]
  },
  {
   "cell_type": "code",
   "execution_count": 40,
   "metadata": {},
   "outputs": [
    {
     "name": "stderr",
     "output_type": "stream",
     "text": [
      "D:\\qtlab_replacement\\instruments\\Tektronix_AWG5014.py:642: ComplexWarning: Casting complex values to real discards the imaginary part\n",
      "  m1[:] = marker[:len(m1)]\n"
     ]
    },
    {
     "ename": "KeyboardInterrupt",
     "evalue": "",
     "output_type": "error",
     "traceback": [
      "\u001b[1;31m---------------------------------------------------------------------------\u001b[0m",
      "\u001b[1;31mKeyboardInterrupt\u001b[0m                         Traceback (most recent call last)",
      "\u001b[1;32m<ipython-input-40-d5610031e36b>\u001b[0m in \u001b[0;36m<module>\u001b[1;34m()\u001b[0m\n\u001b[0;32m      2\u001b[0m \u001b[1;31m#adc.set_software_nums_multi(20)\u001b[0m\u001b[1;33m\u001b[0m\u001b[1;33m\u001b[0m\u001b[0m\n\u001b[0;32m      3\u001b[0m \u001b[0mtomo\u001b[0m\u001b[1;33m.\u001b[0m\u001b[0mset_prepare_seq\u001b[0m\u001b[1;33m(\u001b[0m\u001b[1;33m[\u001b[0m\u001b[1;33m]\u001b[0m\u001b[1;33m)\u001b[0m\u001b[1;33m\u001b[0m\u001b[0m\n\u001b[1;32m----> 4\u001b[1;33m \u001b[0mtomo\u001b[0m\u001b[1;33m.\u001b[0m\u001b[0mmeasure\u001b[0m\u001b[1;33m(\u001b[0m\u001b[1;33m)\u001b[0m\u001b[1;33m\u001b[0m\u001b[0m\n\u001b[0m",
      "\u001b[1;32mD:\\qtlab_replacement\\scripts\\tomography.py\u001b[0m in \u001b[0;36mmeasure\u001b[1;34m(self)\u001b[0m\n\u001b[0;32m    243\u001b[0m                 \u001b[1;32mfor\u001b[0m \u001b[0mp\u001b[0m \u001b[1;32min\u001b[0m \u001b[0mself\u001b[0m\u001b[1;33m.\u001b[0m\u001b[0mproj_seq\u001b[0m\u001b[1;33m.\u001b[0m\u001b[0mkeys\u001b[0m\u001b[1;33m(\u001b[0m\u001b[1;33m)\u001b[0m\u001b[1;33m:\u001b[0m\u001b[1;33m\u001b[0m\u001b[0m\n\u001b[0;32m    244\u001b[0m                         \u001b[0mself\u001b[0m\u001b[1;33m.\u001b[0m\u001b[0mpulse_generator\u001b[0m\u001b[1;33m.\u001b[0m\u001b[0mset_seq\u001b[0m\u001b[1;33m(\u001b[0m\u001b[0mself\u001b[0m\u001b[1;33m.\u001b[0m\u001b[0mprepare_seq\u001b[0m\u001b[1;33m+\u001b[0m\u001b[0mself\u001b[0m\u001b[1;33m.\u001b[0m\u001b[0mproj_seq\u001b[0m\u001b[1;33m[\u001b[0m\u001b[0mp\u001b[0m\u001b[1;33m]\u001b[0m\u001b[1;33m[\u001b[0m\u001b[1;34m'pulses'\u001b[0m\u001b[1;33m]\u001b[0m\u001b[1;33m)\u001b[0m\u001b[1;33m\u001b[0m\u001b[0m\n\u001b[1;32m--> 245\u001b[1;33m                         \u001b[0mmeas\u001b[0m\u001b[1;33m[\u001b[0m\u001b[0mp\u001b[0m\u001b[1;33m]\u001b[0m \u001b[1;33m=\u001b[0m \u001b[0mnp\u001b[0m\u001b[1;33m.\u001b[0m\u001b[0mreal\u001b[0m\u001b[1;33m(\u001b[0m\u001b[0mnp\u001b[0m\u001b[1;33m.\u001b[0m\u001b[0mmean\u001b[0m\u001b[1;33m(\u001b[0m\u001b[0mself\u001b[0m\u001b[1;33m.\u001b[0m\u001b[0madc_reducer\u001b[0m\u001b[1;33m.\u001b[0m\u001b[0mmeasure\u001b[0m\u001b[1;33m(\u001b[0m\u001b[1;33m)\u001b[0m\u001b[1;33m[\u001b[0m\u001b[1;34m'SZ'\u001b[0m\u001b[1;33m]\u001b[0m\u001b[1;33m)\u001b[0m\u001b[1;33m/\u001b[0m\u001b[1;36m2\u001b[0m\u001b[1;33m)\u001b[0m\u001b[1;33m\u001b[0m\u001b[0m\n\u001b[0m\u001b[0;32m    246\u001b[0m \u001b[1;33m\u001b[0m\u001b[0m\n\u001b[0;32m    247\u001b[0m                 \u001b[0mproj_names\u001b[0m \u001b[1;33m=\u001b[0m \u001b[0mself\u001b[0m\u001b[1;33m.\u001b[0m\u001b[0mproj_seq\u001b[0m\u001b[1;33m.\u001b[0m\u001b[0mkeys\u001b[0m\u001b[1;33m(\u001b[0m\u001b[1;33m)\u001b[0m\u001b[1;33m\u001b[0m\u001b[0m\n",
      "\u001b[1;32mD:\\qtlab_replacement\\scripts\\data_reduce.py\u001b[0m in \u001b[0;36mmeasure\u001b[1;34m(self)\u001b[0m\n\u001b[0;32m     18\u001b[0m \u001b[1;33m\u001b[0m\u001b[0m\n\u001b[0;32m     19\u001b[0m         \u001b[1;32mdef\u001b[0m \u001b[0mmeasure\u001b[0m\u001b[1;33m(\u001b[0m\u001b[0mself\u001b[0m\u001b[1;33m)\u001b[0m\u001b[1;33m:\u001b[0m\u001b[1;33m\u001b[0m\u001b[0m\n\u001b[1;32m---> 20\u001b[1;33m                 \u001b[0mdata\u001b[0m \u001b[1;33m=\u001b[0m \u001b[0mself\u001b[0m\u001b[1;33m.\u001b[0m\u001b[0msource\u001b[0m\u001b[1;33m.\u001b[0m\u001b[0mmeasure\u001b[0m\u001b[1;33m(\u001b[0m\u001b[1;33m)\u001b[0m\u001b[1;33m\u001b[0m\u001b[0m\n\u001b[0m\u001b[0;32m     21\u001b[0m                 \u001b[1;32mreturn\u001b[0m \u001b[1;33m{\u001b[0m \u001b[0mfilter_name\u001b[0m\u001b[1;33m:\u001b[0m\u001b[0mfilter\u001b[0m\u001b[1;33m[\u001b[0m\u001b[1;34m'filter'\u001b[0m\u001b[1;33m]\u001b[0m\u001b[1;33m(\u001b[0m\u001b[0mdata\u001b[0m\u001b[1;33m)\u001b[0m \u001b[1;32mfor\u001b[0m \u001b[0mfilter_name\u001b[0m\u001b[1;33m,\u001b[0m \u001b[0mfilter\u001b[0m \u001b[1;32min\u001b[0m \u001b[0mself\u001b[0m\u001b[1;33m.\u001b[0m\u001b[0mfilters\u001b[0m\u001b[1;33m.\u001b[0m\u001b[0mitems\u001b[0m\u001b[1;33m(\u001b[0m\u001b[1;33m)\u001b[0m\u001b[1;33m}\u001b[0m\u001b[1;33m\u001b[0m\u001b[0m\n\u001b[0;32m     22\u001b[0m \u001b[1;33m\u001b[0m\u001b[0m\n",
      "\u001b[1;32mD:\\qtlab_replacement\\instruments\\Spectrum_M3i2132.py\u001b[0m in \u001b[0;36mmeasure\u001b[1;34m(self)\u001b[0m\n\u001b[0;32m   1410\u001b[0m                 \u001b[1;32mfor\u001b[0m \u001b[0mi\u001b[0m \u001b[1;32min\u001b[0m \u001b[0mrange\u001b[0m\u001b[1;33m(\u001b[0m\u001b[0mself\u001b[0m\u001b[1;33m.\u001b[0m\u001b[0msoftware_averages\u001b[0m\u001b[1;33m)\u001b[0m\u001b[1;33m:\u001b[0m\u001b[1;33m\u001b[0m\u001b[0m\n\u001b[0;32m   1411\u001b[0m                         \u001b[1;32mfor\u001b[0m \u001b[0mj\u001b[0m \u001b[1;32min\u001b[0m \u001b[0mrange\u001b[0m\u001b[1;33m(\u001b[0m\u001b[0mself\u001b[0m\u001b[1;33m.\u001b[0m\u001b[0msoftware_nums_multi\u001b[0m\u001b[1;33m)\u001b[0m\u001b[1;33m:\u001b[0m\u001b[1;33m\u001b[0m\u001b[0m\n\u001b[1;32m-> 1412\u001b[1;33m                                 \u001b[0mself\u001b[0m\u001b[1;33m.\u001b[0m\u001b[0mstart_with_trigger_and_waitready\u001b[0m\u001b[1;33m(\u001b[0m\u001b[1;33m)\u001b[0m\u001b[1;33m\u001b[0m\u001b[0m\n\u001b[0m\u001b[0;32m   1413\u001b[0m                                 \u001b[0mdata\u001b[0m\u001b[1;33m[\u001b[0m\u001b[1;33m:\u001b[0m\u001b[1;33m,\u001b[0m\u001b[0mj\u001b[0m\u001b[1;33m*\u001b[0m\u001b[0mlnumber_of_segments\u001b[0m\u001b[1;33m:\u001b[0m\u001b[1;33m(\u001b[0m\u001b[0mj\u001b[0m\u001b[1;33m+\u001b[0m\u001b[1;36m1\u001b[0m\u001b[1;33m)\u001b[0m\u001b[1;33m*\u001b[0m\u001b[0mlnumber_of_segments\u001b[0m\u001b[1;33m,\u001b[0m\u001b[1;33m:\u001b[0m\u001b[1;33m]\u001b[0m \u001b[1;33m=\u001b[0m\u001b[0;31m \u001b[0m\u001b[0;31m\\\u001b[0m\u001b[1;33m\u001b[0m\u001b[0m\n\u001b[0;32m   1414\u001b[0m                                                 \u001b[0mself\u001b[0m\u001b[1;33m.\u001b[0m\u001b[0mreadout_doublechannel_multimode_bin\u001b[0m\u001b[1;33m(\u001b[0m\u001b[1;33m)\u001b[0m\u001b[1;33m/\u001b[0m\u001b[0mfloat\u001b[0m\u001b[1;33m(\u001b[0m\u001b[0mself\u001b[0m\u001b[1;33m.\u001b[0m\u001b[0msoftware_averages\u001b[0m\u001b[1;33m)\u001b[0m\u001b[1;33m\u001b[0m\u001b[0m\n",
      "\u001b[1;32mD:\\qtlab_replacement\\instruments\\Spectrum_M3i2132.py\u001b[0m in \u001b[0;36mstart_with_trigger_and_waitready\u001b[1;34m(self)\u001b[0m\n\u001b[0;32m    701\u001b[0m                 \u001b[0mself\u001b[0m\u001b[1;33m.\u001b[0m\u001b[0m_buffer_setup\u001b[0m\u001b[1;33m(\u001b[0m\u001b[1;33m)\u001b[0m\u001b[1;33m\u001b[0m\u001b[0m\n\u001b[0;32m    702\u001b[0m \t\tself._set_param(_spcm_regs.SPC_M2CMD,\n\u001b[1;32m--> 703\u001b[1;33m \t\t\t_spcm_regs.M2CMD_CARD_START | _spcm_regs.M2CMD_CARD_ENABLETRIGGER | _spcm_regs.M2CMD_CARD_WAITREADY | _spcm_regs.M2CMD_DATA_WAITDMA)\n\u001b[0m\u001b[0;32m    704\u001b[0m \u001b[1;33m\u001b[0m\u001b[0m\n\u001b[0;32m    705\u001b[0m         \u001b[1;32mdef\u001b[0m \u001b[0mforce_trigger\u001b[0m\u001b[1;33m(\u001b[0m\u001b[0mself\u001b[0m\u001b[1;33m)\u001b[0m\u001b[1;33m:\u001b[0m\u001b[1;33m\u001b[0m\u001b[0m\n",
      "\u001b[1;32mD:\\qtlab_replacement\\instruments\\Spectrum_M3i2132.py\u001b[0m in \u001b[0;36m_set_param\u001b[1;34m(self, regnum, regval)\u001b[0m\n\u001b[0;32m    234\u001b[0m \t\t'''\n\u001b[0;32m    235\u001b[0m                 \u001b[0mlogging\u001b[0m\u001b[1;33m.\u001b[0m\u001b[0mdebug\u001b[0m\u001b[1;33m(\u001b[0m\u001b[0m__name__\u001b[0m \u001b[1;33m+\u001b[0m \u001b[1;34m' : Set reg %s to %s'\u001b[0m \u001b[1;33m%\u001b[0m\u001b[1;33m(\u001b[0m\u001b[0mregnum\u001b[0m\u001b[1;33m,\u001b[0m \u001b[0mregval\u001b[0m\u001b[1;33m)\u001b[0m\u001b[1;33m)\u001b[0m\u001b[1;33m\u001b[0m\u001b[0m\n\u001b[1;32m--> 236\u001b[1;33m                 \u001b[0merr\u001b[0m \u001b[1;33m=\u001b[0m \u001b[0mself\u001b[0m\u001b[1;33m.\u001b[0m\u001b[0m_spcm_win32\u001b[0m\u001b[1;33m.\u001b[0m\u001b[0mSetParam32\u001b[0m\u001b[1;33m(\u001b[0m\u001b[0mself\u001b[0m\u001b[1;33m.\u001b[0m\u001b[0m_spcm_win32\u001b[0m\u001b[1;33m.\u001b[0m\u001b[0mhandel\u001b[0m\u001b[1;33m,\u001b[0m \u001b[0mregnum\u001b[0m\u001b[1;33m,\u001b[0m \u001b[0mregval\u001b[0m\u001b[1;33m)\u001b[0m\u001b[1;33m\u001b[0m\u001b[0m\n\u001b[0m\u001b[0;32m    237\u001b[0m                 \u001b[1;32mif\u001b[0m \u001b[1;33m(\u001b[0m\u001b[0merr\u001b[0m\u001b[1;33m==\u001b[0m\u001b[1;36m0\u001b[0m\u001b[1;33m)\u001b[0m\u001b[1;33m:\u001b[0m\u001b[1;33m\u001b[0m\u001b[0m\n\u001b[0;32m    238\u001b[0m                         \u001b[1;32mreturn\u001b[0m \u001b[1;36m0\u001b[0m\u001b[1;33m\u001b[0m\u001b[0m\n",
      "\u001b[1;31mKeyboardInterrupt\u001b[0m: "
     ]
    }
   ],
   "source": [
    "## tomography of |0> state\n",
    "#adc.set_software_nums_multi(20)\n",
    "tomo.set_prepare_seq([])\n",
    "tomo.measure()"
   ]
  },
  {
   "cell_type": "markdown",
   "metadata": {},
   "source": [
    "# Clifford group"
   ]
  },
  {
   "cell_type": "code",
   "execution_count": 44,
   "metadata": {
    "scrolled": true
   },
   "outputs": [
    {
     "name": "stdout",
     "output_type": "stream",
     "text": [
      "dict_keys(['X/2', 'Y/2', '-X/2', '-Υ/2', 'I', 'X', 'Y', 'Y/2 X/2', '-Υ/2 X/2', 'Y X/2', 'X/2 Y/2', 'X/2 Y/2 X/2', '-X/2 Y/2', '-X/2 Y/2 X/2', 'X Y/2', '-Υ/2 X/2 Y/2', 'Y/2 -X/2', 'Y/2 -X/2 Y/2', '-Υ/2 -X/2', 'Y -X/2', 'X/2 -Υ/2', '-X/2 -Υ/2', 'X -Υ/2', 'Y X']) 24\n"
     ]
    }
   ],
   "source": [
    "#+ в оптимальных параметрах амплитуду на 2 умножили и получили пи импульсы))))))000)))\n",
    "import clifford\n",
    "imp.reload(clifford)\n",
    "\n",
    "pi2 = {'X/2': {'pulses':[pg.p('iq_ex', length, pg.gauss_hd, -amp, 0, sigma, alpha), pg.p(None, pause_length)],\n",
    "               'unitary': np.sqrt(0.5)*np.asarray([[1, -1j],  [-1j, 1]])},\n",
    "       'Y/2': {'pulses':[pg.p('iq_ex', length, pg.gauss_hd, 0, amp_y, sigma, alpha), pg.p(None, pause_length)],\n",
    "               'unitary': np.sqrt(0.5)*np.asarray([[1, -1],    [1, 1]])},\n",
    "       '-X/2':{'pulses':[pg.p('iq_ex', length, pg.gauss_hd, amp, 0, sigma, alpha), pg.p(None, pause_length)],\n",
    "               'unitary': np.sqrt(0.5)*np.asarray([[1, 1j],   [1j, 1]])},\n",
    "       '-Υ/2':{'pulses':[pg.p('iq_ex', length, pg.gauss_hd, 0, -amp_y, sigma, alpha), pg.p(None, pause_length)],\n",
    "               'unitary': np.sqrt(0.5)*np.asarray([[1, 1],   [-1, 1]])},\n",
    "       'I':   {'pulses':[], 'unitary':np.asarray([[1, 0], [0,1]])},\n",
    "       'X': {'pulses':[pg.p('iq_ex', length, pg.gauss_hd, -amp2, 0, sigma, alpha), pg.p(None, pause_length)],\n",
    "               'unitary': np.asarray([[0, 1],  [1, 0]])},\n",
    "       'Y': {'pulses':[pg.p('iq_ex', length, pg.gauss_hd, 0, amp2, sigma, alpha), pg.p(None, pause_length)],\n",
    "               'unitary': 1j*np.asarray([[0, -1],  [1, 0]])}}\n",
    "clifford_group = clifford.generate_group(pi2)#тут меняем наш словарь\n",
    "print(clifford_group.keys(), len(clifford_group))"
   ]
  },
  {
   "cell_type": "code",
   "execution_count": null,
   "metadata": {
    "collapsed": true
   },
   "outputs": [],
   "source": [
    "import qutip as qt\n",
    "qt.sigmay()"
   ]
  },
  {
   "cell_type": "markdown",
   "metadata": {},
   "source": [
    "# Randomized benchmarking"
   ]
  },
  {
   "cell_type": "code",
   "execution_count": 45,
   "metadata": {
    "collapsed": true
   },
   "outputs": [],
   "source": [
    "#+\n",
    "import interleaved_benchmarking\n",
    "imp.reload(interleaved_benchmarking)\n",
    "imp.reload(sweep)\n",
    "\n",
    "bench = interleaved_benchmarking.interleaved_benchmarking(tomoz)\n",
    "\n",
    "#unitaries = {0:np.sqrt(0.5)*np.asarray([[1, -1j],  [-1j, 1]]),\\\n",
    "#             1:np.sqrt(0.5)*np.asarray([[1, -1],    [1, 1]]),\\\n",
    "#             2:np.sqrt(0.5)*np.asarray([[1, 1j],   [1j, 1]]),\\\n",
    "#             3:np.sqrt(0.5)*np.asarray([[1, 1],   [-1, 1]])}\n",
    "bench.interleavers = clifford_group\n",
    "#bench.sequence_length = 10\n",
    "bench.random_sequence_num = 20\n",
    "#bench.prepare_random_interleaving_sequences()\n",
    "#bench.get_points()\n",
    "#bench.generate_interleaver_sequence_from_names()"
   ]
  },
  {
   "cell_type": "code",
   "execution_count": 50,
   "metadata": {
    "collapsed": true
   },
   "outputs": [],
   "source": [
    "adc.stop()"
   ]
  },
  {
   "cell_type": "code",
   "execution_count": 54,
   "metadata": {},
   "outputs": [
    {
     "data": {
      "application/vnd.jupyter.widget-view+json": {
       "model_id": "be3ab31bf0c949798552e96e923e77cd"
      }
     },
     "metadata": {},
     "output_type": "display_data"
    },
    {
     "name": "stdout",
     "output_type": "stream",
     "text": [
      "Started at:  Nov 10 2017 18:55:23\n"
     ]
    },
    {
     "name": "stderr",
     "output_type": "stream",
     "text": [
      "D:\\qtlab_replacement\\instruments\\Tektronix_AWG5014.py:642: ComplexWarning: Casting complex values to real discards the imaginary part\n",
      "  m1[:] = marker[:len(m1)]\n"
     ]
    },
    {
     "name": "stdout",
     "output_type": "stream",
     "text": [
      "\n",
      "Elapsed time: 0 h 13 m 18.76 s\n"
     ]
    }
   ],
   "source": [
    "#+\n",
    "#ro_adc_length=0.2e-6 #ВНИМАНИЕ! я это удалю (закомментирую) тут, т.к. оно всё равно здесь ничего не делает, только мозги выносит\n",
    "seq_lengths = np.arange(0,101, 20)\n",
    "#seq_lengths = np.arange(0, 100, 10)\n",
    "random_sequence_ids = np.arange(bench.random_sequence_num)\n",
    "bench.prepare_random_interleaving_sequences()\n",
    "clifford_bench = sweep.sweep(bench,\n",
    "                             (seq_lengths, bench.set_sequence_length_and_regenerate, 'Gate number', ''), \n",
    "                             (random_sequence_ids, bench.set_interleaved_sequence, 'Random sequence id', ''))"
   ]
  },
  {
   "cell_type": "code",
   "execution_count": 69,
   "metadata": {},
   "outputs": [
    {
     "name": "stdout",
     "output_type": "stream",
     "text": [
      "Clifford fidelity:  0.989\n"
     ]
    }
   ],
   "source": [
    "#+\n",
    "imp.reload(fitting)\n",
    "plt.plot(clifford_bench['distance'][1][0], \n",
    "         1-clifford_bench['distance'][2], \n",
    "         marker='o', \n",
    "         color='black', \n",
    "         linestyle='')\n",
    "#plt.plot(clifford_bench['distance'][1][0], np.mean(1-clifford_bench['distance'][2], axis=1))\n",
    "clifford_fitresults, clifford_expfit = fitting.exp_fit1d(clifford_bench['distance'][1][0], \n",
    "                                                        np.reshape(np.mean(1-clifford_bench['distance'][2], axis=1), \n",
    "                                                                   (1, len(clifford_bench['distance'][1][0]))))\n",
    "\n",
    "plt.plot(clifford_bench['distance'][1][0],\n",
    "         clifford_expfit[0],\n",
    "         label='Clifford set')\n",
    "plt.grid()\n",
    "plt.xlabel('Number of gates')\n",
    "plt.ylabel('Fidelity')\n",
    "plt.legend()\n",
    "print('Clifford fidelity: {0:6.3f}'.format(np.exp(-1/clifford_fitresults[0])))"
   ]
  },
  {
   "cell_type": "code",
   "execution_count": 82,
   "metadata": {},
   "outputs": [
    {
     "name": "stdout",
     "output_type": "stream",
     "text": [
      "D:\\qtlab\\ReiData\\data\\2017-11-02\\21-07-16/distance None.pkl\n"
     ]
    },
    {
     "data": {
      "text/plain": [
       "(('Gate number', 'Random sequence id'),\n",
       " (array([ 0,  5, 10, 15, 20, 25, 30, 35, 40, 45, 50]),\n",
       "  array([0, 1, 2, 3, 4, 5, 6, 7, 8, 9])),\n",
       " array([[['I'], ['I'], ['I'], ['I'], ['I'], ['I'], ['I'], ['I'], ['I'],\n",
       "         ['I']],\n",
       "        [ ['-X/2 -Υ/2', 'Identity (benchmarking)', '-Υ/2', 'Identity (benchmarking)', 'X/2 Y/2', 'Identity (benchmarking)', 'Y/2 X/2 X/2', 'Identity (benchmarking)', 'Y/2', 'Identity (benchmarking)', '-Υ/2'],\n",
       "         ['Y/2 Y/2', 'Identity (benchmarking)', '-Υ/2', 'Identity (benchmarking)', '-X/2 Y/2 X/2', 'Identity (benchmarking)', '-Υ/2 X/2 Y/2', 'Identity (benchmarking)', 'X/2 Y/2', 'Identity (benchmarking)', 'X/2 X/2'],\n",
       "         ['-X/2 Y/2 X/2', 'Identity (benchmarking)', 'X/2 -Υ/2', 'Identity (benchmarking)', '-Υ/2', 'Identity (benchmarking)', 'X/2 Y/2 Y/2', 'Identity (benchmarking)', 'X/2 Y/2 X/2', 'Identity (benchmarking)', 'X/2 X/2'],\n",
       "         ['Y/2 Y/2', 'Identity (benchmarking)', 'Y/2 X/2 X/2', 'Identity (benchmarking)', 'X/2', 'Identity (benchmarking)', 'X/2', 'Identity (benchmarking)', 'Y/2 X/2', 'Identity (benchmarking)', '-X/2'],\n",
       "         ['Y/2 Y/2', 'Identity (benchmarking)', 'X/2 -Υ/2', 'Identity (benchmarking)', 'Y/2 X/2 X/2', 'Identity (benchmarking)', 'Y/2 -X/2 Y/2', 'Identity (benchmarking)', '-Υ/2', 'Identity (benchmarking)', 'I'],\n",
       "         ['-X/2 -Υ/2', 'Identity (benchmarking)', 'X/2 Y/2 Y/2', 'Identity (benchmarking)', 'X/2 Y/2', 'Identity (benchmarking)', '-Υ/2 -X/2', 'Identity (benchmarking)', '-Υ/2', 'Identity (benchmarking)', '-Υ/2'],\n",
       "         ['X/2', 'Identity (benchmarking)', '-X/2 Y/2 X/2', 'Identity (benchmarking)', 'X/2 Y/2', 'Identity (benchmarking)', 'X/2 -Υ/2', 'Identity (benchmarking)', 'Y/2 X/2', 'Identity (benchmarking)', 'I'],\n",
       "         ['Y/2 -X/2', 'Identity (benchmarking)', 'Y/2 X/2 X/2', 'Identity (benchmarking)', 'X/2 -Υ/2', 'Identity (benchmarking)', 'X/2 Y/2 X/2', 'Identity (benchmarking)', 'Y/2 -X/2 Y/2', 'Identity (benchmarking)', 'X/2'],\n",
       "         ['X/2 Y/2 Y/2', 'Identity (benchmarking)', 'Y/2 -X/2 Y/2', 'Identity (benchmarking)', 'X/2 X/2', 'Identity (benchmarking)', 'Y/2 Y/2', 'Identity (benchmarking)', 'Y/2 Y/2 X/2 X/2', 'Identity (benchmarking)', '-Υ/2'],\n",
       "         ['Y/2 -X/2 Y/2', 'Identity (benchmarking)', 'Y/2 Y/2 X/2', 'Identity (benchmarking)', '-Υ/2 X/2 Y/2', 'Identity (benchmarking)', '-Υ/2 X/2 X/2', 'Identity (benchmarking)', '-Υ/2 -X/2', 'Identity (benchmarking)', 'Y/2']],\n",
       "        [ ['-Υ/2 X/2 X/2', 'Identity (benchmarking)', '-X/2 Y/2 X/2', 'Identity (benchmarking)', 'Y/2 Y/2 X/2', 'Identity (benchmarking)', '-Υ/2 -X/2', 'Identity (benchmarking)', 'Y/2 Y/2 X/2 X/2', 'Identity (benchmarking)', '-Υ/2 X/2', 'Identity (benchmarking)', '-Υ/2', 'Identity (benchmarking)', 'Y/2 X/2', 'Identity (benchmarking)', 'X/2 Y/2', 'Identity (benchmarking)', '-Υ/2 X/2 X/2', 'Identity (benchmarking)', 'X/2'],\n",
       "         ['-Υ/2 X/2', 'Identity (benchmarking)', 'Y/2', 'Identity (benchmarking)', 'Y/2 X/2 X/2', 'Identity (benchmarking)', 'Y/2 Y/2', 'Identity (benchmarking)', 'Y/2 Y/2 X/2 X/2', 'Identity (benchmarking)', '-Υ/2 X/2', 'Identity (benchmarking)', 'X/2 Y/2 Y/2', 'Identity (benchmarking)', 'Y/2', 'Identity (benchmarking)', 'Y/2 Y/2 X/2 X/2', 'Identity (benchmarking)', '-Υ/2 X/2 X/2', 'Identity (benchmarking)', 'I'],\n",
       "         ['-X/2 -Υ/2', 'Identity (benchmarking)', 'X/2 X/2', 'Identity (benchmarking)', 'Y/2 -X/2', 'Identity (benchmarking)', '-Υ/2 X/2 Y/2', 'Identity (benchmarking)', 'X/2', 'Identity (benchmarking)', 'Y/2 X/2', 'Identity (benchmarking)', 'Y/2', 'Identity (benchmarking)', 'X/2 Y/2 Y/2', 'Identity (benchmarking)', '-Υ/2 X/2 X/2', 'Identity (benchmarking)', 'Y/2 -X/2', 'Identity (benchmarking)', 'Y/2'],\n",
       "         ['Y/2 X/2', 'Identity (benchmarking)', 'Y/2', 'Identity (benchmarking)', 'Y/2 X/2 X/2', 'Identity (benchmarking)', 'Y/2 Y/2 X/2 X/2', 'Identity (benchmarking)', '-X/2 -Υ/2', 'Identity (benchmarking)', 'X/2 Y/2 X/2', 'Identity (benchmarking)', '-Υ/2 -X/2', 'Identity (benchmarking)', 'I', 'Identity (benchmarking)', 'Y/2', 'Identity (benchmarking)', '-Υ/2 X/2 X/2', 'Identity (benchmarking)', '-Υ/2'],\n",
       "         ['X/2 Y/2 Y/2', 'Identity (benchmarking)', '-Υ/2 X/2 X/2', 'Identity (benchmarking)', '-Υ/2 X/2', 'Identity (benchmarking)', 'I', 'Identity (benchmarking)', '-Υ/2', 'Identity (benchmarking)', '-X/2 Y/2 X/2', 'Identity (benchmarking)', 'Y/2 Y/2 X/2 X/2', 'Identity (benchmarking)', 'X/2', 'Identity (benchmarking)', 'Y/2 Y/2 X/2 X/2', 'Identity (benchmarking)', '-Υ/2 X/2 X/2', 'Identity (benchmarking)', 'Y/2'],\n",
       "         ['-X/2 -Υ/2', 'Identity (benchmarking)', 'X/2 -Υ/2', 'Identity (benchmarking)', 'X/2', 'Identity (benchmarking)', 'I', 'Identity (benchmarking)', 'Y/2 -X/2 Y/2', 'Identity (benchmarking)', 'X/2 Y/2', 'Identity (benchmarking)', '-X/2 Y/2', 'Identity (benchmarking)', '-X/2', 'Identity (benchmarking)', 'Y/2 -X/2', 'Identity (benchmarking)', '-Υ/2', 'Identity (benchmarking)', 'Y/2'],\n",
       "         ['-X/2 Y/2 X/2', 'Identity (benchmarking)', 'Y/2 Y/2 X/2 X/2', 'Identity (benchmarking)', 'Y/2 Y/2', 'Identity (benchmarking)', '-Υ/2 X/2 X/2', 'Identity (benchmarking)', '-X/2 Y/2', 'Identity (benchmarking)', '-X/2', 'Identity (benchmarking)', 'Y/2 X/2 X/2', 'Identity (benchmarking)', 'Y/2 Y/2 X/2 X/2', 'Identity (benchmarking)', 'X/2 Y/2', 'Identity (benchmarking)', 'X/2', 'Identity (benchmarking)', 'Y/2'],\n",
       "         ['-X/2 -Υ/2', 'Identity (benchmarking)', '-Υ/2 X/2 Y/2', 'Identity (benchmarking)', '-Υ/2 X/2', 'Identity (benchmarking)', 'Y/2 Y/2 X/2 X/2', 'Identity (benchmarking)', '-X/2 Y/2', 'Identity (benchmarking)', '-X/2 Y/2 X/2', 'Identity (benchmarking)', 'I', 'Identity (benchmarking)', 'X/2 Y/2 X/2', 'Identity (benchmarking)', 'X/2', 'Identity (benchmarking)', 'Y/2 Y/2', 'Identity (benchmarking)', '-Υ/2'],\n",
       "         ['X/2', 'Identity (benchmarking)', 'Y/2 -X/2 Y/2', 'Identity (benchmarking)', '-Υ/2 -X/2', 'Identity (benchmarking)', 'Y/2 X/2 X/2', 'Identity (benchmarking)', 'X/2', 'Identity (benchmarking)', 'Y/2 Y/2 X/2 X/2', 'Identity (benchmarking)', '-X/2 Y/2', 'Identity (benchmarking)', 'X/2 X/2', 'Identity (benchmarking)', 'X/2 Y/2', 'Identity (benchmarking)', 'X/2 Y/2', 'Identity (benchmarking)', 'X/2 X/2'],\n",
       "         ['-Υ/2 X/2 X/2', 'Identity (benchmarking)', '-Υ/2 -X/2', 'Identity (benchmarking)', '-Υ/2', 'Identity (benchmarking)', 'X/2 Y/2', 'Identity (benchmarking)', 'X/2 Y/2 X/2', 'Identity (benchmarking)', 'Y/2 X/2', 'Identity (benchmarking)', '-Υ/2', 'Identity (benchmarking)', 'Y/2 Y/2', 'Identity (benchmarking)', '-X/2 Y/2', 'Identity (benchmarking)', '-X/2 -Υ/2', 'Identity (benchmarking)', 'X/2']],\n",
       "        [ ['-Υ/2 -X/2', 'Identity (benchmarking)', 'Y/2 Y/2 X/2', 'Identity (benchmarking)', 'X/2 -Υ/2', 'Identity (benchmarking)', 'Y/2 X/2 X/2', 'Identity (benchmarking)', 'Y/2 X/2 X/2', 'Identity (benchmarking)', '-Υ/2 X/2 Y/2', 'Identity (benchmarking)', '-X/2 -Υ/2', 'Identity (benchmarking)', 'X/2 X/2', 'Identity (benchmarking)', '-X/2', 'Identity (benchmarking)', 'Y/2', 'Identity (benchmarking)', '-Υ/2 X/2', 'Identity (benchmarking)', '-Υ/2', 'Identity (benchmarking)', 'I', 'Identity (benchmarking)', '-Υ/2 X/2 X/2', 'Identity (benchmarking)', '-Υ/2 X/2 X/2', 'Identity (benchmarking)', '-X/2'],\n",
       "         ['-Υ/2', 'Identity (benchmarking)', 'Y/2 X/2 X/2', 'Identity (benchmarking)', 'X/2 Y/2', 'Identity (benchmarking)', '-Υ/2 X/2 X/2', 'Identity (benchmarking)', 'X/2 Y/2 X/2', 'Identity (benchmarking)', 'Y/2 Y/2 X/2 X/2', 'Identity (benchmarking)', 'X/2 Y/2', 'Identity (benchmarking)', 'X/2 Y/2 X/2', 'Identity (benchmarking)', 'X/2 -Υ/2', 'Identity (benchmarking)', 'I', 'Identity (benchmarking)', '-X/2', 'Identity (benchmarking)', 'Y/2 X/2 X/2', 'Identity (benchmarking)', 'Y/2 -X/2 Y/2', 'Identity (benchmarking)', '-Υ/2 X/2 Y/2', 'Identity (benchmarking)', 'X/2 Y/2 X/2', 'Identity (benchmarking)', '-X/2'],\n",
       "         ['-Υ/2', 'Identity (benchmarking)', 'X/2 Y/2 Y/2', 'Identity (benchmarking)', '-Υ/2', 'Identity (benchmarking)', '-Υ/2 X/2', 'Identity (benchmarking)', 'Y/2 -X/2', 'Identity (benchmarking)', 'Y/2 X/2 X/2', 'Identity (benchmarking)', '-Υ/2 X/2 X/2', 'Identity (benchmarking)', '-X/2 Y/2', 'Identity (benchmarking)', 'Y/2 X/2 X/2', 'Identity (benchmarking)', '-X/2 -Υ/2', 'Identity (benchmarking)', '-Υ/2 X/2', 'Identity (benchmarking)', '-Υ/2 X/2 X/2', 'Identity (benchmarking)', 'Y/2 -X/2', 'Identity (benchmarking)', '-Υ/2 X/2 X/2', 'Identity (benchmarking)', 'X/2 Y/2 X/2', 'Identity (benchmarking)', '-Υ/2'],\n",
       "         ['X/2 Y/2 X/2', 'Identity (benchmarking)', 'X/2 X/2', 'Identity (benchmarking)', 'X/2 Y/2', 'Identity (benchmarking)', '-X/2 Y/2', 'Identity (benchmarking)', 'X/2 Y/2 Y/2', 'Identity (benchmarking)', 'Y/2 Y/2 X/2', 'Identity (benchmarking)', 'X/2 -Υ/2', 'Identity (benchmarking)', 'X/2 Y/2', 'Identity (benchmarking)', 'Y/2', 'Identity (benchmarking)', '-Υ/2 -X/2', 'Identity (benchmarking)', 'X/2 Y/2 X/2', 'Identity (benchmarking)', '-X/2', 'Identity (benchmarking)', '-X/2 -Υ/2', 'Identity (benchmarking)', '-Υ/2 X/2', 'Identity (benchmarking)', 'Y/2 -X/2 Y/2', 'Identity (benchmarking)', 'Y/2'],\n",
       "         ['-X/2 Y/2 X/2', 'Identity (benchmarking)', 'X/2 Y/2 X/2', 'Identity (benchmarking)', '-Υ/2 -X/2', 'Identity (benchmarking)', 'Y/2 Y/2 X/2', 'Identity (benchmarking)', '-Υ/2 X/2', 'Identity (benchmarking)', '-X/2 Y/2', 'Identity (benchmarking)', 'Y/2 X/2 X/2', 'Identity (benchmarking)', '-X/2', 'Identity (benchmarking)', '-X/2 Y/2 X/2', 'Identity (benchmarking)', 'X/2 -Υ/2', 'Identity (benchmarking)', 'X/2 Y/2 X/2', 'Identity (benchmarking)', 'X/2 -Υ/2', 'Identity (benchmarking)', 'X/2 Y/2 Y/2', 'Identity (benchmarking)', '-Υ/2 X/2 Y/2', 'Identity (benchmarking)', '-Υ/2 X/2', 'Identity (benchmarking)', '-Υ/2'],\n",
       "         ['-Υ/2 -X/2', 'Identity (benchmarking)', 'Y/2', 'Identity (benchmarking)', '-Υ/2 X/2', 'Identity (benchmarking)', 'X/2 X/2', 'Identity (benchmarking)', 'X/2 Y/2 Y/2', 'Identity (benchmarking)', 'X/2 Y/2 Y/2', 'Identity (benchmarking)', '-Υ/2 -X/2', 'Identity (benchmarking)', 'X/2', 'Identity (benchmarking)', '-X/2 Y/2 X/2', 'Identity (benchmarking)', 'Y/2', 'Identity (benchmarking)', 'Y/2 -X/2', 'Identity (benchmarking)', '-Υ/2 -X/2', 'Identity (benchmarking)', 'X/2 X/2', 'Identity (benchmarking)', 'Y/2 Y/2', 'Identity (benchmarking)', '-Υ/2 -X/2', 'Identity (benchmarking)', '-Υ/2'],\n",
       "         ['X/2 -Υ/2', 'Identity (benchmarking)', 'Y/2 Y/2', 'Identity (benchmarking)', 'Y/2 -X/2', 'Identity (benchmarking)', 'Y/2 -X/2 Y/2', 'Identity (benchmarking)', '-X/2', 'Identity (benchmarking)', 'Y/2 -X/2 Y/2', 'Identity (benchmarking)', '-Υ/2 X/2', 'Identity (benchmarking)', 'X/2 Y/2 Y/2', 'Identity (benchmarking)', '-Υ/2 -X/2', 'Identity (benchmarking)', 'Y/2 X/2 X/2', 'Identity (benchmarking)', 'X/2 -Υ/2', 'Identity (benchmarking)', 'X/2 Y/2 X/2', 'Identity (benchmarking)', '-X/2 -Υ/2', 'Identity (benchmarking)', 'Y/2 Y/2 X/2', 'Identity (benchmarking)', 'Y/2', 'Identity (benchmarking)', 'X/2'],\n",
       "         ['-X/2 Y/2 X/2', 'Identity (benchmarking)', 'Y/2 Y/2 X/2 X/2', 'Identity (benchmarking)', 'I', 'Identity (benchmarking)', 'X/2 Y/2 X/2', 'Identity (benchmarking)', '-Υ/2', 'Identity (benchmarking)', 'X/2', 'Identity (benchmarking)', 'Y/2 X/2 X/2', 'Identity (benchmarking)', 'I', 'Identity (benchmarking)', '-Υ/2', 'Identity (benchmarking)', 'X/2', 'Identity (benchmarking)', '-X/2 Y/2 X/2', 'Identity (benchmarking)', '-Υ/2', 'Identity (benchmarking)', 'X/2 X/2', 'Identity (benchmarking)', '-Υ/2', 'Identity (benchmarking)', 'Y/2', 'Identity (benchmarking)', 'X/2'],\n",
       "         ['X/2 Y/2', 'Identity (benchmarking)', 'X/2 Y/2 X/2', 'Identity (benchmarking)', 'Y/2 Y/2', 'Identity (benchmarking)', 'X/2 Y/2 X/2', 'Identity (benchmarking)', 'X/2', 'Identity (benchmarking)', '-Υ/2 -X/2', 'Identity (benchmarking)', 'Y/2 X/2 X/2', 'Identity (benchmarking)', '-Υ/2 -X/2', 'Identity (benchmarking)', 'X/2 Y/2', 'Identity (benchmarking)', 'Y/2 Y/2 X/2', 'Identity (benchmarking)', '-Υ/2 X/2', 'Identity (benchmarking)', 'X/2 Y/2 X/2', 'Identity (benchmarking)', 'Y/2 X/2 X/2', 'Identity (benchmarking)', '-Υ/2 -X/2', 'Identity (benchmarking)', 'Y/2 X/2 X/2', 'Identity (benchmarking)', '-X/2'],\n",
       "         ['-X/2 Y/2 X/2', 'Identity (benchmarking)', 'X/2 X/2', 'Identity (benchmarking)', '-Υ/2 X/2 X/2', 'Identity (benchmarking)', 'X/2 -Υ/2', 'Identity (benchmarking)', '-Υ/2 X/2', 'Identity (benchmarking)', 'Y/2 Y/2 X/2 X/2', 'Identity (benchmarking)', 'X/2 -Υ/2', 'Identity (benchmarking)', 'Y/2', 'Identity (benchmarking)', 'Y/2 -X/2', 'Identity (benchmarking)', 'X/2 X/2', 'Identity (benchmarking)', 'Y/2', 'Identity (benchmarking)', 'X/2 Y/2 X/2', 'Identity (benchmarking)', '-X/2 Y/2 X/2', 'Identity (benchmarking)', 'X/2 Y/2 Y/2', 'Identity (benchmarking)', 'X/2 Y/2 X/2', 'Identity (benchmarking)', 'I']],\n",
       "        [ ['-Υ/2 X/2', 'Identity (benchmarking)', 'Y/2 Y/2 X/2', 'Identity (benchmarking)', '-X/2 -Υ/2', 'Identity (benchmarking)', '-Υ/2 X/2', 'Identity (benchmarking)', 'Y/2 X/2 X/2', 'Identity (benchmarking)', '-Υ/2 X/2 X/2', 'Identity (benchmarking)', '-Υ/2 -X/2', 'Identity (benchmarking)', '-Υ/2 X/2', 'Identity (benchmarking)', 'Y/2 X/2', 'Identity (benchmarking)', '-X/2 Y/2 X/2', 'Identity (benchmarking)', 'Y/2 -X/2', 'Identity (benchmarking)', 'X/2 Y/2', 'Identity (benchmarking)', '-Υ/2 X/2', 'Identity (benchmarking)', 'X/2 X/2', 'Identity (benchmarking)', 'Y/2', 'Identity (benchmarking)', '-X/2 Y/2 X/2', 'Identity (benchmarking)', '-Υ/2 X/2 Y/2', 'Identity (benchmarking)', 'Y/2 Y/2 X/2 X/2', 'Identity (benchmarking)', 'I', 'Identity (benchmarking)', '-Υ/2', 'Identity (benchmarking)', 'I'],\n",
       "         ['Y/2 Y/2 X/2 X/2', 'Identity (benchmarking)', '-Υ/2', 'Identity (benchmarking)', 'X/2', 'Identity (benchmarking)', 'Y/2 X/2', 'Identity (benchmarking)', 'Y/2 X/2', 'Identity (benchmarking)', 'Y/2 X/2', 'Identity (benchmarking)', '-Υ/2', 'Identity (benchmarking)', '-Υ/2 X/2 X/2', 'Identity (benchmarking)', '-Υ/2 X/2 Y/2', 'Identity (benchmarking)', '-X/2 Y/2 X/2', 'Identity (benchmarking)', 'X/2', 'Identity (benchmarking)', 'I', 'Identity (benchmarking)', 'Y/2 Y/2 X/2 X/2', 'Identity (benchmarking)', '-X/2 Y/2 X/2', 'Identity (benchmarking)', 'I', 'Identity (benchmarking)', '-X/2', 'Identity (benchmarking)', '-Υ/2 -X/2', 'Identity (benchmarking)', 'X/2', 'Identity (benchmarking)', '-Υ/2 X/2 Y/2', 'Identity (benchmarking)', 'X/2 X/2', 'Identity (benchmarking)', '-X/2'],\n",
       "         ['X/2 Y/2', 'Identity (benchmarking)', 'X/2 Y/2 X/2', 'Identity (benchmarking)', 'Y/2 X/2 X/2', 'Identity (benchmarking)', '-Υ/2 -X/2', 'Identity (benchmarking)', 'X/2 X/2', 'Identity (benchmarking)', '-Υ/2 X/2 X/2', 'Identity (benchmarking)', '-X/2', 'Identity (benchmarking)', '-Υ/2 X/2 X/2', 'Identity (benchmarking)', '-Υ/2 X/2 X/2', 'Identity (benchmarking)', 'X/2', 'Identity (benchmarking)', '-X/2 Y/2', 'Identity (benchmarking)', 'Y/2 Y/2 X/2 X/2', 'Identity (benchmarking)', '-Υ/2 X/2 X/2', 'Identity (benchmarking)', 'Y/2', 'Identity (benchmarking)', 'Y/2 Y/2', 'Identity (benchmarking)', '-Υ/2 -X/2', 'Identity (benchmarking)', 'Y/2 -X/2', 'Identity (benchmarking)', 'Y/2 Y/2 X/2 X/2', 'Identity (benchmarking)', 'X/2 Y/2 Y/2', 'Identity (benchmarking)', 'X/2', 'Identity (benchmarking)', '-Υ/2'],\n",
       "         ['X/2 Y/2 Y/2', 'Identity (benchmarking)', 'Y/2 X/2 X/2', 'Identity (benchmarking)', 'Y/2 Y/2 X/2', 'Identity (benchmarking)', '-Υ/2 X/2 X/2', 'Identity (benchmarking)', 'Y/2 X/2', 'Identity (benchmarking)', 'X/2 -Υ/2', 'Identity (benchmarking)', '-X/2 Y/2', 'Identity (benchmarking)', 'Y/2 -X/2', 'Identity (benchmarking)', 'Y/2 X/2 X/2', 'Identity (benchmarking)', 'Y/2 Y/2 X/2', 'Identity (benchmarking)', 'Y/2 Y/2 X/2', 'Identity (benchmarking)', 'Y/2 -X/2 Y/2', 'Identity (benchmarking)', '-X/2', 'Identity (benchmarking)', '-Υ/2 X/2', 'Identity (benchmarking)', 'Y/2 Y/2 X/2', 'Identity (benchmarking)', '-X/2 -Υ/2', 'Identity (benchmarking)', 'Y/2 X/2 X/2', 'Identity (benchmarking)', 'X/2 -Υ/2', 'Identity (benchmarking)', '-X/2 -Υ/2', 'Identity (benchmarking)', 'I', 'Identity (benchmarking)', 'Y/2'],\n",
       "         ['-X/2 Y/2', 'Identity (benchmarking)', 'X/2 -Υ/2', 'Identity (benchmarking)', '-X/2 -Υ/2', 'Identity (benchmarking)', 'Y/2 X/2 X/2', 'Identity (benchmarking)', 'Y/2 -X/2 Y/2', 'Identity (benchmarking)', '-X/2 -Υ/2', 'Identity (benchmarking)', 'Y/2 -X/2', 'Identity (benchmarking)', 'X/2 Y/2 X/2', 'Identity (benchmarking)', 'X/2 -Υ/2', 'Identity (benchmarking)', '-X/2 Y/2', 'Identity (benchmarking)', '-Υ/2 -X/2', 'Identity (benchmarking)', 'I', 'Identity (benchmarking)', 'Y/2 -X/2 Y/2', 'Identity (benchmarking)', 'Y/2 Y/2 X/2', 'Identity (benchmarking)', '-Υ/2 -X/2', 'Identity (benchmarking)', 'X/2 Y/2 Y/2', 'Identity (benchmarking)', 'Y/2 X/2 X/2', 'Identity (benchmarking)', 'Y/2 -X/2 Y/2', 'Identity (benchmarking)', 'Y/2 -X/2 Y/2', 'Identity (benchmarking)', '-Υ/2 X/2 Y/2', 'Identity (benchmarking)', '-Υ/2'],\n",
       "         ['I', 'Identity (benchmarking)', '-Υ/2 X/2 X/2', 'Identity (benchmarking)', '-Υ/2 X/2', 'Identity (benchmarking)', 'X/2 -Υ/2', 'Identity (benchmarking)', 'X/2 -Υ/2', 'Identity (benchmarking)', 'X/2 -Υ/2', 'Identity (benchmarking)', 'Y/2 Y/2 X/2 X/2', 'Identity (benchmarking)', 'X/2 Y/2', 'Identity (benchmarking)', '-Υ/2 X/2 Y/2', 'Identity (benchmarking)', 'Y/2 -X/2', 'Identity (benchmarking)', '-Υ/2', 'Identity (benchmarking)', '-X/2 Y/2', 'Identity (benchmarking)', 'I', 'Identity (benchmarking)', 'Y/2 -X/2', 'Identity (benchmarking)', 'X/2 Y/2', 'Identity (benchmarking)', 'X/2 X/2', 'Identity (benchmarking)', '-Υ/2 X/2', 'Identity (benchmarking)', '-X/2 Y/2 X/2', 'Identity (benchmarking)', 'X/2 -Υ/2', 'Identity (benchmarking)', 'Y/2 X/2', 'Identity (benchmarking)', '-X/2'],\n",
       "         ['-Υ/2', 'Identity (benchmarking)', 'X/2 Y/2 Y/2', 'Identity (benchmarking)', 'X/2 Y/2 Y/2', 'Identity (benchmarking)', 'I', 'Identity (benchmarking)', '-Υ/2', 'Identity (benchmarking)', 'Y/2 X/2 X/2', 'Identity (benchmarking)', '-Υ/2', 'Identity (benchmarking)', 'X/2 -Υ/2', 'Identity (benchmarking)', 'Y/2 X/2', 'Identity (benchmarking)', '-Υ/2', 'Identity (benchmarking)', 'X/2 Y/2 Y/2', 'Identity (benchmarking)', 'Y/2 -X/2', 'Identity (benchmarking)', 'X/2 Y/2', 'Identity (benchmarking)', '-Υ/2 X/2 X/2', 'Identity (benchmarking)', 'Y/2 Y/2', 'Identity (benchmarking)', 'X/2 Y/2', 'Identity (benchmarking)', '-Υ/2 X/2', 'Identity (benchmarking)', 'Y/2 Y/2 X/2', 'Identity (benchmarking)', '-Υ/2 -X/2', 'Identity (benchmarking)', 'Y/2 Y/2 X/2 X/2', 'Identity (benchmarking)', 'X/2 X/2'],\n",
       "         ['X/2 X/2', 'Identity (benchmarking)', 'X/2 -Υ/2', 'Identity (benchmarking)', 'X/2 Y/2 X/2', 'Identity (benchmarking)', 'Y/2 Y/2', 'Identity (benchmarking)', 'Y/2 Y/2', 'Identity (benchmarking)', 'X/2 X/2', 'Identity (benchmarking)', 'X/2 Y/2 X/2', 'Identity (benchmarking)', 'Y/2 -X/2 Y/2', 'Identity (benchmarking)', '-Υ/2', 'Identity (benchmarking)', '-X/2 Y/2', 'Identity (benchmarking)', 'X/2 Y/2', 'Identity (benchmarking)', '-X/2 Y/2 X/2', 'Identity (benchmarking)', 'X/2 Y/2', 'Identity (benchmarking)', 'Y/2 -X/2', 'Identity (benchmarking)', 'Y/2 Y/2 X/2 X/2', 'Identity (benchmarking)', 'Y/2 Y/2 X/2 X/2', 'Identity (benchmarking)', 'X/2 Y/2 Y/2', 'Identity (benchmarking)', '-Υ/2 X/2 X/2', 'Identity (benchmarking)', 'Y/2', 'Identity (benchmarking)', '-X/2 -Υ/2', 'Identity (benchmarking)', '-X/2'],\n",
       "         ['I', 'Identity (benchmarking)', 'Y/2 Y/2', 'Identity (benchmarking)', '-X/2 Y/2 X/2', 'Identity (benchmarking)', 'Y/2 X/2', 'Identity (benchmarking)', 'Y/2 -X/2 Y/2', 'Identity (benchmarking)', '-X/2', 'Identity (benchmarking)', 'Y/2 X/2', 'Identity (benchmarking)', 'I', 'Identity (benchmarking)', 'Y/2 Y/2', 'Identity (benchmarking)', 'Y/2 X/2 X/2', 'Identity (benchmarking)', '-X/2', 'Identity (benchmarking)', 'Y/2', 'Identity (benchmarking)', '-Υ/2 X/2 Y/2', 'Identity (benchmarking)', '-Υ/2 X/2 Y/2', 'Identity (benchmarking)', '-X/2', 'Identity (benchmarking)', '-X/2 Y/2', 'Identity (benchmarking)', 'X/2 Y/2 X/2', 'Identity (benchmarking)', 'Y/2 Y/2', 'Identity (benchmarking)', 'Y/2 Y/2 X/2 X/2', 'Identity (benchmarking)', '-X/2 Y/2', 'Identity (benchmarking)', 'X/2 X/2'],\n",
       "         ['X/2 Y/2', 'Identity (benchmarking)', 'Y/2', 'Identity (benchmarking)', 'Y/2 -X/2 Y/2', 'Identity (benchmarking)', 'X/2 X/2', 'Identity (benchmarking)', '-Υ/2', 'Identity (benchmarking)', 'X/2 -Υ/2', 'Identity (benchmarking)', 'Y/2', 'Identity (benchmarking)', '-Υ/2', 'Identity (benchmarking)', 'X/2 Y/2 Y/2', 'Identity (benchmarking)', '-Υ/2 X/2 Y/2', 'Identity (benchmarking)', 'Y/2 X/2', 'Identity (benchmarking)', 'Y/2 X/2 X/2', 'Identity (benchmarking)', 'I', 'Identity (benchmarking)', 'Y/2 Y/2 X/2', 'Identity (benchmarking)', 'Y/2 X/2 X/2', 'Identity (benchmarking)', 'Y/2 -X/2', 'Identity (benchmarking)', 'Y/2 Y/2 X/2', 'Identity (benchmarking)', 'X/2 Y/2 X/2', 'Identity (benchmarking)', 'X/2 Y/2 Y/2', 'Identity (benchmarking)', 'Y/2 Y/2', 'Identity (benchmarking)', '-Υ/2']],\n",
       "        [ ['X/2 Y/2 X/2', 'Identity (benchmarking)', 'X/2 Y/2 X/2', 'Identity (benchmarking)', '-Υ/2 X/2 Y/2', 'Identity (benchmarking)', '-X/2 Y/2', 'Identity (benchmarking)', 'Y/2 Y/2', 'Identity (benchmarking)', 'Y/2', 'Identity (benchmarking)', 'Y/2 -X/2', 'Identity (benchmarking)', 'Y/2 -X/2', 'Identity (benchmarking)', '-Υ/2 -X/2', 'Identity (benchmarking)', 'I', 'Identity (benchmarking)', '-Υ/2 X/2 Y/2', 'Identity (benchmarking)', '-X/2', 'Identity (benchmarking)', '-X/2 -Υ/2', 'Identity (benchmarking)', 'X/2 Y/2 Y/2', 'Identity (benchmarking)', '-X/2 -Υ/2', 'Identity (benchmarking)', '-X/2 -Υ/2', 'Identity (benchmarking)', '-Υ/2', 'Identity (benchmarking)', '-Υ/2', 'Identity (benchmarking)', 'Y/2 Y/2 X/2', 'Identity (benchmarking)', 'X/2 Y/2', 'Identity (benchmarking)', '-X/2 Y/2', 'Identity (benchmarking)', 'Y/2 -X/2', 'Identity (benchmarking)', '-Υ/2', 'Identity (benchmarking)', '-Υ/2 X/2 X/2', 'Identity (benchmarking)', 'X/2', 'Identity (benchmarking)', 'Y/2'],\n",
       "         ['X/2 Y/2 X/2', 'Identity (benchmarking)', 'Y/2 Y/2 X/2 X/2', 'Identity (benchmarking)', 'I', 'Identity (benchmarking)', 'Y/2 Y/2 X/2', 'Identity (benchmarking)', 'X/2 X/2', 'Identity (benchmarking)', 'Y/2 -X/2 Y/2', 'Identity (benchmarking)', '-Υ/2 X/2', 'Identity (benchmarking)', 'Y/2 X/2 X/2', 'Identity (benchmarking)', '-X/2 Y/2 X/2', 'Identity (benchmarking)', 'X/2', 'Identity (benchmarking)', 'X/2 Y/2 Y/2', 'Identity (benchmarking)', 'I', 'Identity (benchmarking)', 'X/2 Y/2 X/2', 'Identity (benchmarking)', '-X/2 Y/2 X/2', 'Identity (benchmarking)', 'Y/2 Y/2 X/2 X/2', 'Identity (benchmarking)', 'Y/2 Y/2 X/2', 'Identity (benchmarking)', 'X/2 -Υ/2', 'Identity (benchmarking)', '-X/2', 'Identity (benchmarking)', '-Υ/2', 'Identity (benchmarking)', '-Υ/2 X/2 X/2', 'Identity (benchmarking)', '-Υ/2 X/2 Y/2', 'Identity (benchmarking)', '-Υ/2 X/2 X/2', 'Identity (benchmarking)', 'X/2 Y/2 X/2', 'Identity (benchmarking)', '-X/2 -Υ/2', 'Identity (benchmarking)', '-Υ/2 X/2', 'Identity (benchmarking)', 'X/2 X/2'],\n",
       "         ['Y/2 -X/2', 'Identity (benchmarking)', '-X/2 Y/2 X/2', 'Identity (benchmarking)', 'X/2 -Υ/2', 'Identity (benchmarking)', 'Y/2 -X/2', 'Identity (benchmarking)', '-X/2 Y/2', 'Identity (benchmarking)', '-Υ/2 X/2', 'Identity (benchmarking)', 'Y/2 -X/2', 'Identity (benchmarking)', 'Y/2', 'Identity (benchmarking)', '-Υ/2 X/2 Y/2', 'Identity (benchmarking)', 'X/2', 'Identity (benchmarking)', 'X/2 Y/2 X/2', 'Identity (benchmarking)', '-X/2', 'Identity (benchmarking)', 'X/2 X/2', 'Identity (benchmarking)', '-X/2 -Υ/2', 'Identity (benchmarking)', 'X/2 Y/2 Y/2', 'Identity (benchmarking)', 'Y/2 -X/2', 'Identity (benchmarking)', '-X/2 Y/2', 'Identity (benchmarking)', 'X/2', 'Identity (benchmarking)', 'Y/2 Y/2', 'Identity (benchmarking)', '-X/2 Y/2', 'Identity (benchmarking)', '-Υ/2 X/2 Y/2', 'Identity (benchmarking)', '-X/2 Y/2', 'Identity (benchmarking)', 'X/2 -Υ/2', 'Identity (benchmarking)', '-Υ/2', 'Identity (benchmarking)', '-X/2', 'Identity (benchmarking)', 'X/2'],\n",
       "         ['-X/2 -Υ/2', 'Identity (benchmarking)', '-X/2 Y/2 X/2', 'Identity (benchmarking)', 'X/2 Y/2 X/2', 'Identity (benchmarking)', 'X/2 X/2', 'Identity (benchmarking)', '-Υ/2 -X/2', 'Identity (benchmarking)', 'Y/2 X/2', 'Identity (benchmarking)', '-Υ/2 X/2 Y/2', 'Identity (benchmarking)', 'X/2 X/2', 'Identity (benchmarking)', 'X/2 Y/2', 'Identity (benchmarking)', '-X/2 -Υ/2', 'Identity (benchmarking)', 'X/2 Y/2 Y/2', 'Identity (benchmarking)', '-Υ/2', 'Identity (benchmarking)', 'Y/2 Y/2 X/2 X/2', 'Identity (benchmarking)', 'X/2 Y/2 X/2', 'Identity (benchmarking)', 'I', 'Identity (benchmarking)', '-X/2 Y/2', 'Identity (benchmarking)', 'X/2 -Υ/2', 'Identity (benchmarking)', '-X/2 -Υ/2', 'Identity (benchmarking)', 'Y/2 Y/2 X/2 X/2', 'Identity (benchmarking)', 'Y/2 X/2', 'Identity (benchmarking)', '-X/2 Y/2 X/2', 'Identity (benchmarking)', 'X/2 Y/2 Y/2', 'Identity (benchmarking)', 'Y/2 Y/2', 'Identity (benchmarking)', 'Y/2 -X/2 Y/2', 'Identity (benchmarking)', 'X/2', 'Identity (benchmarking)', 'I'],\n",
       "         ['X/2 Y/2 X/2', 'Identity (benchmarking)', 'X/2 Y/2 X/2', 'Identity (benchmarking)', '-Υ/2 X/2 X/2', 'Identity (benchmarking)', 'X/2', 'Identity (benchmarking)', '-X/2', 'Identity (benchmarking)', 'Y/2 -X/2', 'Identity (benchmarking)', '-X/2', 'Identity (benchmarking)', '-X/2 Y/2 X/2', 'Identity (benchmarking)', '-X/2 Y/2', 'Identity (benchmarking)', '-Υ/2 X/2 Y/2', 'Identity (benchmarking)', 'Y/2 -X/2 Y/2', 'Identity (benchmarking)', 'Y/2 Y/2', 'Identity (benchmarking)', 'Y/2', 'Identity (benchmarking)', '-Υ/2 X/2', 'Identity (benchmarking)', '-Υ/2', 'Identity (benchmarking)', 'X/2 Y/2', 'Identity (benchmarking)', 'X/2 Y/2 X/2', 'Identity (benchmarking)', 'X/2', 'Identity (benchmarking)', '-X/2 Y/2 X/2', 'Identity (benchmarking)', '-Υ/2 X/2 X/2', 'Identity (benchmarking)', 'Y/2 -X/2', 'Identity (benchmarking)', 'Y/2 Y/2', 'Identity (benchmarking)', '-Υ/2 X/2 Y/2', 'Identity (benchmarking)', 'X/2 Y/2', 'Identity (benchmarking)', '-X/2 Y/2', 'Identity (benchmarking)', 'X/2 X/2'],\n",
       "         ['-Υ/2 X/2 Y/2', 'Identity (benchmarking)', '-Υ/2 X/2', 'Identity (benchmarking)', '-X/2 Y/2 X/2', 'Identity (benchmarking)', 'Y/2 Y/2 X/2', 'Identity (benchmarking)', 'X/2 -Υ/2', 'Identity (benchmarking)', 'Y/2 X/2 X/2', 'Identity (benchmarking)', 'X/2 X/2', 'Identity (benchmarking)', '-Υ/2 X/2 Y/2', 'Identity (benchmarking)', 'Y/2 -X/2', 'Identity (benchmarking)', 'X/2 X/2', 'Identity (benchmarking)', 'X/2 Y/2', 'Identity (benchmarking)', 'X/2 Y/2 Y/2', 'Identity (benchmarking)', '-X/2 Y/2', 'Identity (benchmarking)', 'Y/2 X/2', 'Identity (benchmarking)', 'Y/2 X/2 X/2', 'Identity (benchmarking)', 'X/2', 'Identity (benchmarking)', 'Y/2 -X/2', 'Identity (benchmarking)', '-Υ/2 X/2', 'Identity (benchmarking)', 'Y/2 Y/2 X/2', 'Identity (benchmarking)', 'X/2 Y/2 X/2', 'Identity (benchmarking)', 'X/2 -Υ/2', 'Identity (benchmarking)', 'Y/2 Y/2', 'Identity (benchmarking)', 'Y/2 X/2 X/2', 'Identity (benchmarking)', 'X/2 -Υ/2', 'Identity (benchmarking)', 'X/2 Y/2 Y/2', 'Identity (benchmarking)', 'I'],\n",
       "         ['Y/2 Y/2 X/2 X/2', 'Identity (benchmarking)', 'Y/2 -X/2 Y/2', 'Identity (benchmarking)', 'Y/2 -X/2 Y/2', 'Identity (benchmarking)', '-Υ/2 X/2 X/2', 'Identity (benchmarking)', '-Υ/2 X/2 X/2', 'Identity (benchmarking)', '-X/2 -Υ/2', 'Identity (benchmarking)', 'X/2 -Υ/2', 'Identity (benchmarking)', '-Υ/2 -X/2', 'Identity (benchmarking)', 'X/2 Y/2 X/2', 'Identity (benchmarking)', 'Y/2 -X/2', 'Identity (benchmarking)', '-X/2', 'Identity (benchmarking)', 'Y/2 X/2', 'Identity (benchmarking)', '-X/2 -Υ/2', 'Identity (benchmarking)', '-Υ/2', 'Identity (benchmarking)', 'X/2 Y/2 X/2', 'Identity (benchmarking)', 'Y/2', 'Identity (benchmarking)', '-X/2', 'Identity (benchmarking)', '-Υ/2 -X/2', 'Identity (benchmarking)', 'Y/2 -X/2 Y/2', 'Identity (benchmarking)', '-X/2 -Υ/2', 'Identity (benchmarking)', 'I', 'Identity (benchmarking)', 'Y/2 -X/2', 'Identity (benchmarking)', '-X/2 Y/2 X/2', 'Identity (benchmarking)', 'Y/2 X/2 X/2', 'Identity (benchmarking)', 'X/2 Y/2 X/2', 'Identity (benchmarking)', 'I'],\n",
       "         ['-Υ/2 X/2 Y/2', 'Identity (benchmarking)', 'X/2', 'Identity (benchmarking)', 'Y/2 Y/2', 'Identity (benchmarking)', '-X/2 -Υ/2', 'Identity (benchmarking)', 'Y/2 Y/2', 'Identity (benchmarking)', 'I', 'Identity (benchmarking)', 'Y/2 X/2', 'Identity (benchmarking)', 'Y/2 -X/2 Y/2', 'Identity (benchmarking)', 'Y/2 X/2 X/2', 'Identity (benchmarking)', 'X/2 X/2', 'Identity (benchmarking)', 'Y/2 Y/2 X/2', 'Identity (benchmarking)', '-X/2 -Υ/2', 'Identity (benchmarking)', '-X/2', 'Identity (benchmarking)', 'X/2 Y/2 X/2', 'Identity (benchmarking)', '-X/2 Y/2 X/2', 'Identity (benchmarking)', '-Υ/2 -X/2', 'Identity (benchmarking)', 'X/2 Y/2', 'Identity (benchmarking)', '-Υ/2 X/2 Y/2', 'Identity (benchmarking)', 'X/2', 'Identity (benchmarking)', 'Y/2 Y/2 X/2 X/2', 'Identity (benchmarking)', '-Υ/2 X/2 X/2', 'Identity (benchmarking)', '-Υ/2 -X/2', 'Identity (benchmarking)', 'Y/2 Y/2', 'Identity (benchmarking)', 'X/2 Y/2 Y/2', 'Identity (benchmarking)', 'X/2 X/2', 'Identity (benchmarking)', 'X/2 X/2'],\n",
       "         ['Y/2 Y/2 X/2 X/2', 'Identity (benchmarking)', '-X/2 Y/2', 'Identity (benchmarking)', 'I', 'Identity (benchmarking)', 'X/2 X/2', 'Identity (benchmarking)', '-Υ/2 -X/2', 'Identity (benchmarking)', '-Υ/2 X/2 X/2', 'Identity (benchmarking)', 'Y/2 Y/2 X/2', 'Identity (benchmarking)', 'Y/2 X/2 X/2', 'Identity (benchmarking)', '-X/2 Y/2 X/2', 'Identity (benchmarking)', 'X/2', 'Identity (benchmarking)', '-X/2 Y/2 X/2', 'Identity (benchmarking)', 'I', 'Identity (benchmarking)', '-Υ/2 -X/2', 'Identity (benchmarking)', 'X/2 -Υ/2', 'Identity (benchmarking)', 'X/2', 'Identity (benchmarking)', 'X/2 X/2', 'Identity (benchmarking)', '-Υ/2 X/2', 'Identity (benchmarking)', 'Y/2 Y/2 X/2', 'Identity (benchmarking)', '-X/2 -Υ/2', 'Identity (benchmarking)', '-Υ/2 X/2 X/2', 'Identity (benchmarking)', '-Υ/2 X/2 X/2', 'Identity (benchmarking)', 'Y/2 X/2 X/2', 'Identity (benchmarking)', 'Y/2', 'Identity (benchmarking)', 'Y/2 -X/2 Y/2', 'Identity (benchmarking)', 'Y/2 X/2', 'Identity (benchmarking)', 'X/2'],\n",
       "         ['X/2 X/2', 'Identity (benchmarking)', 'Y/2 Y/2 X/2 X/2', 'Identity (benchmarking)', 'X/2 Y/2 X/2', 'Identity (benchmarking)', 'X/2', 'Identity (benchmarking)', '-Υ/2 X/2', 'Identity (benchmarking)', '-Υ/2 -X/2', 'Identity (benchmarking)', '-Υ/2 -X/2', 'Identity (benchmarking)', 'X/2 X/2', 'Identity (benchmarking)', '-X/2 Y/2', 'Identity (benchmarking)', '-Υ/2', 'Identity (benchmarking)', 'X/2', 'Identity (benchmarking)', '-X/2 Y/2', 'Identity (benchmarking)', 'Y/2 Y/2 X/2 X/2', 'Identity (benchmarking)', 'Y/2 Y/2', 'Identity (benchmarking)', '-X/2', 'Identity (benchmarking)', '-X/2 -Υ/2', 'Identity (benchmarking)', 'X/2 X/2', 'Identity (benchmarking)', 'X/2 -Υ/2', 'Identity (benchmarking)', 'X/2 Y/2', 'Identity (benchmarking)', 'Y/2', 'Identity (benchmarking)', '-Υ/2', 'Identity (benchmarking)', '-Υ/2 X/2 X/2', 'Identity (benchmarking)', '-X/2 -Υ/2', 'Identity (benchmarking)', '-Υ/2 -X/2', 'Identity (benchmarking)', 'I', 'Identity (benchmarking)', 'I']],\n",
       "        [ ['X/2 -Υ/2', 'Identity (benchmarking)', 'Y/2 X/2', 'Identity (benchmarking)', '-Υ/2', 'Identity (benchmarking)', 'Y/2 Y/2', 'Identity (benchmarking)', '-Υ/2', 'Identity (benchmarking)', '-X/2 Y/2', 'Identity (benchmarking)', '-X/2', 'Identity (benchmarking)', '-Υ/2 X/2', 'Identity (benchmarking)', 'X/2 Y/2', 'Identity (benchmarking)', 'X/2 Y/2 Y/2', 'Identity (benchmarking)', 'Y/2 -X/2 Y/2', 'Identity (benchmarking)', '-Υ/2 -X/2', 'Identity (benchmarking)', 'Y/2 Y/2', 'Identity (benchmarking)', '-Υ/2 X/2 Y/2', 'Identity (benchmarking)', 'X/2 Y/2', 'Identity (benchmarking)', 'X/2 Y/2', 'Identity (benchmarking)', '-X/2 Y/2', 'Identity (benchmarking)', '-Υ/2 X/2 X/2', 'Identity (benchmarking)', '-Υ/2 X/2 Y/2', 'Identity (benchmarking)', 'Y/2', 'Identity (benchmarking)', '-X/2', 'Identity (benchmarking)', 'X/2 -Υ/2', 'Identity (benchmarking)', '-Υ/2 X/2 X/2', 'Identity (benchmarking)', 'X/2 X/2', 'Identity (benchmarking)', 'Y/2 X/2', 'Identity (benchmarking)', 'Y/2 X/2 X/2', 'Identity (benchmarking)', 'X/2 -Υ/2', 'Identity (benchmarking)', 'X/2 -Υ/2', 'Identity (benchmarking)', 'Y/2', 'Identity (benchmarking)', '-X/2 Y/2', 'Identity (benchmarking)', 'I'],\n",
       "         ['-X/2', 'Identity (benchmarking)', '-Υ/2 X/2 Y/2', 'Identity (benchmarking)', 'Y/2 -X/2', 'Identity (benchmarking)', 'Y/2 X/2', 'Identity (benchmarking)', '-X/2 Y/2 X/2', 'Identity (benchmarking)', '-Υ/2 X/2 Y/2', 'Identity (benchmarking)', '-Υ/2', 'Identity (benchmarking)', 'I', 'Identity (benchmarking)', 'Y/2', 'Identity (benchmarking)', '-X/2 -Υ/2', 'Identity (benchmarking)', 'Y/2 Y/2 X/2 X/2', 'Identity (benchmarking)', 'Y/2', 'Identity (benchmarking)', '-Υ/2 -X/2', 'Identity (benchmarking)', '-Υ/2 X/2 X/2', 'Identity (benchmarking)', '-Υ/2', 'Identity (benchmarking)', '-Υ/2 X/2 Y/2', 'Identity (benchmarking)', 'Y/2 Y/2 X/2 X/2', 'Identity (benchmarking)', 'Y/2 -X/2 Y/2', 'Identity (benchmarking)', '-X/2 Y/2 X/2', 'Identity (benchmarking)', '-Υ/2 X/2 X/2', 'Identity (benchmarking)', 'Y/2 -X/2', 'Identity (benchmarking)', 'I', 'Identity (benchmarking)', 'X/2', 'Identity (benchmarking)', '-Υ/2', 'Identity (benchmarking)', 'Y/2 Y/2 X/2', 'Identity (benchmarking)', '-X/2 Y/2 X/2', 'Identity (benchmarking)', '-Υ/2 -X/2', 'Identity (benchmarking)', '-Υ/2 -X/2', 'Identity (benchmarking)', 'Y/2 Y/2 X/2 X/2', 'Identity (benchmarking)', '-Υ/2 X/2', 'Identity (benchmarking)', '-X/2'],\n",
       "         ['-X/2 -Υ/2', 'Identity (benchmarking)', 'Y/2 Y/2', 'Identity (benchmarking)', 'I', 'Identity (benchmarking)', '-X/2 -Υ/2', 'Identity (benchmarking)', 'X/2 Y/2 X/2', 'Identity (benchmarking)', '-Υ/2 X/2', 'Identity (benchmarking)', 'Y/2', 'Identity (benchmarking)', 'Y/2 X/2 X/2', 'Identity (benchmarking)', 'X/2 Y/2', 'Identity (benchmarking)', '-X/2 Y/2', 'Identity (benchmarking)', 'Y/2 X/2', 'Identity (benchmarking)', 'X/2 X/2', 'Identity (benchmarking)', '-X/2 Y/2', 'Identity (benchmarking)', '-Υ/2 X/2 Y/2', 'Identity (benchmarking)', 'Y/2 X/2', 'Identity (benchmarking)', 'X/2 -Υ/2', 'Identity (benchmarking)', '-Υ/2', 'Identity (benchmarking)', 'Y/2 Y/2 X/2 X/2', 'Identity (benchmarking)', '-X/2 Y/2 X/2', 'Identity (benchmarking)', '-Υ/2 -X/2', 'Identity (benchmarking)', 'X/2 -Υ/2', 'Identity (benchmarking)', 'Y/2 Y/2 X/2 X/2', 'Identity (benchmarking)', 'X/2 Y/2', 'Identity (benchmarking)', 'X/2', 'Identity (benchmarking)', 'Y/2 -X/2 Y/2', 'Identity (benchmarking)', 'Y/2 Y/2 X/2', 'Identity (benchmarking)', 'Y/2', 'Identity (benchmarking)', '-Υ/2', 'Identity (benchmarking)', 'X/2 X/2', 'Identity (benchmarking)', 'X/2 X/2', 'Identity (benchmarking)', '-Υ/2'],\n",
       "         ['-Υ/2 X/2 X/2', 'Identity (benchmarking)', 'Y/2 X/2', 'Identity (benchmarking)', 'X/2 -Υ/2', 'Identity (benchmarking)', 'Y/2', 'Identity (benchmarking)', '-Υ/2 X/2', 'Identity (benchmarking)', '-X/2 -Υ/2', 'Identity (benchmarking)', 'X/2 -Υ/2', 'Identity (benchmarking)', '-X/2 -Υ/2', 'Identity (benchmarking)', 'X/2 Y/2', 'Identity (benchmarking)', 'X/2 -Υ/2', 'Identity (benchmarking)', 'X/2 Y/2 X/2', 'Identity (benchmarking)', 'X/2', 'Identity (benchmarking)', '-Υ/2 X/2 Y/2', 'Identity (benchmarking)', '-X/2 Y/2', 'Identity (benchmarking)', '-Υ/2 -X/2', 'Identity (benchmarking)', 'Y/2 -X/2 Y/2', 'Identity (benchmarking)', 'Y/2 X/2', 'Identity (benchmarking)', 'Y/2 X/2', 'Identity (benchmarking)', '-Υ/2 X/2 X/2', 'Identity (benchmarking)', 'Y/2 Y/2', 'Identity (benchmarking)', 'Y/2', 'Identity (benchmarking)', 'X/2 -Υ/2', 'Identity (benchmarking)', '-Υ/2 X/2 X/2', 'Identity (benchmarking)', 'Y/2 -X/2', 'Identity (benchmarking)', '-Υ/2 X/2', 'Identity (benchmarking)', 'X/2 X/2', 'Identity (benchmarking)', 'Y/2 Y/2 X/2 X/2', 'Identity (benchmarking)', '-X/2', 'Identity (benchmarking)', '-Υ/2 X/2 Y/2', 'Identity (benchmarking)', '-Υ/2 X/2 X/2', 'Identity (benchmarking)', 'X/2'],\n",
       "         ['Y/2 X/2 X/2', 'Identity (benchmarking)', 'X/2 Y/2 Y/2', 'Identity (benchmarking)', '-Υ/2 X/2 Y/2', 'Identity (benchmarking)', '-X/2 -Υ/2', 'Identity (benchmarking)', 'Y/2 Y/2', 'Identity (benchmarking)', 'Y/2 X/2', 'Identity (benchmarking)', '-Υ/2', 'Identity (benchmarking)', 'X/2 Y/2 X/2', 'Identity (benchmarking)', 'X/2 Y/2', 'Identity (benchmarking)', '-X/2 -Υ/2', 'Identity (benchmarking)', '-Υ/2 X/2', 'Identity (benchmarking)', 'X/2', 'Identity (benchmarking)', '-Υ/2 X/2 Y/2', 'Identity (benchmarking)', 'Y/2 X/2', 'Identity (benchmarking)', 'Y/2 Y/2 X/2 X/2', 'Identity (benchmarking)', 'X/2 -Υ/2', 'Identity (benchmarking)', '-Υ/2 X/2', 'Identity (benchmarking)', 'I', 'Identity (benchmarking)', '-X/2 Y/2 X/2', 'Identity (benchmarking)', '-X/2', 'Identity (benchmarking)', 'X/2 -Υ/2', 'Identity (benchmarking)', 'X/2 Y/2 X/2', 'Identity (benchmarking)', 'Y/2 -X/2 Y/2', 'Identity (benchmarking)', 'Y/2 -X/2 Y/2', 'Identity (benchmarking)', 'X/2 X/2', 'Identity (benchmarking)', 'X/2 -Υ/2', 'Identity (benchmarking)', '-Υ/2 X/2 X/2', 'Identity (benchmarking)', 'I', 'Identity (benchmarking)', 'X/2 Y/2 Y/2', 'Identity (benchmarking)', 'Y/2 -X/2 Y/2', 'Identity (benchmarking)', 'X/2 X/2'],\n",
       "         ['Y/2 X/2 X/2', 'Identity (benchmarking)', 'Y/2 -X/2', 'Identity (benchmarking)', 'X/2 -Υ/2', 'Identity (benchmarking)', 'I', 'Identity (benchmarking)', 'Y/2 Y/2 X/2 X/2', 'Identity (benchmarking)', 'Y/2 Y/2 X/2', 'Identity (benchmarking)', 'X/2 Y/2 Y/2', 'Identity (benchmarking)', 'Y/2 X/2 X/2', 'Identity (benchmarking)', 'Y/2 X/2 X/2', 'Identity (benchmarking)', 'X/2 Y/2', 'Identity (benchmarking)', 'X/2 Y/2 X/2', 'Identity (benchmarking)', 'Y/2 X/2', 'Identity (benchmarking)', '-Υ/2 X/2 Y/2', 'Identity (benchmarking)', 'Y/2', 'Identity (benchmarking)', '-X/2', 'Identity (benchmarking)', '-Υ/2 X/2 Y/2', 'Identity (benchmarking)', '-X/2 Y/2 X/2', 'Identity (benchmarking)', 'X/2 Y/2 Y/2', 'Identity (benchmarking)', 'I', 'Identity (benchmarking)', '-Υ/2 X/2', 'Identity (benchmarking)', 'I', 'Identity (benchmarking)', 'X/2 -Υ/2', 'Identity (benchmarking)', 'X/2 X/2', 'Identity (benchmarking)', 'Y/2', 'Identity (benchmarking)', 'Y/2 X/2', 'Identity (benchmarking)', 'Y/2 Y/2 X/2 X/2', 'Identity (benchmarking)', 'Y/2 Y/2', 'Identity (benchmarking)', 'X/2 X/2', 'Identity (benchmarking)', 'Y/2 Y/2 X/2', 'Identity (benchmarking)', 'Y/2 Y/2 X/2 X/2', 'Identity (benchmarking)', '-X/2'],\n",
       "         ['-Υ/2 X/2', 'Identity (benchmarking)', 'Y/2 X/2 X/2', 'Identity (benchmarking)', 'Y/2 X/2 X/2', 'Identity (benchmarking)', '-Υ/2 X/2', 'Identity (benchmarking)', '-Υ/2', 'Identity (benchmarking)', '-X/2 Y/2 X/2', 'Identity (benchmarking)', 'X/2', 'Identity (benchmarking)', '-Υ/2 X/2 X/2', 'Identity (benchmarking)', 'X/2 Y/2', 'Identity (benchmarking)', 'X/2', 'Identity (benchmarking)', 'Y/2 Y/2 X/2', 'Identity (benchmarking)', 'X/2 -Υ/2', 'Identity (benchmarking)', '-Υ/2 X/2 Y/2', 'Identity (benchmarking)', 'Y/2 -X/2', 'Identity (benchmarking)', 'Y/2 -X/2 Y/2', 'Identity (benchmarking)', 'Y/2 Y/2', 'Identity (benchmarking)', 'I', 'Identity (benchmarking)', 'X/2 Y/2 Y/2', 'Identity (benchmarking)', '-X/2 -Υ/2', 'Identity (benchmarking)', 'X/2 Y/2 X/2', 'Identity (benchmarking)', '-X/2', 'Identity (benchmarking)', '-X/2', 'Identity (benchmarking)', '-X/2 Y/2 X/2', 'Identity (benchmarking)', 'Y/2 Y/2', 'Identity (benchmarking)', 'Y/2 X/2', 'Identity (benchmarking)', 'Y/2 X/2', 'Identity (benchmarking)', 'Y/2 X/2', 'Identity (benchmarking)', '-Υ/2 X/2 Y/2', 'Identity (benchmarking)', 'X/2 X/2', 'Identity (benchmarking)', '-X/2 Y/2 X/2', 'Identity (benchmarking)', 'Y/2'],\n",
       "         ['-X/2', 'Identity (benchmarking)', '-X/2 -Υ/2', 'Identity (benchmarking)', 'X/2 Y/2 Y/2', 'Identity (benchmarking)', '-X/2', 'Identity (benchmarking)', 'Y/2 -X/2', 'Identity (benchmarking)', '-Υ/2 X/2', 'Identity (benchmarking)', '-Υ/2', 'Identity (benchmarking)', 'X/2 Y/2', 'Identity (benchmarking)', 'Y/2 Y/2', 'Identity (benchmarking)', 'Y/2 -X/2', 'Identity (benchmarking)', '-X/2 Y/2', 'Identity (benchmarking)', 'Y/2 X/2', 'Identity (benchmarking)', '-Υ/2 -X/2', 'Identity (benchmarking)', 'X/2 Y/2', 'Identity (benchmarking)', 'Y/2', 'Identity (benchmarking)', 'X/2 X/2', 'Identity (benchmarking)', 'Y/2 X/2', 'Identity (benchmarking)', '-X/2 Y/2', 'Identity (benchmarking)', 'Y/2 -X/2 Y/2', 'Identity (benchmarking)', 'X/2 X/2', 'Identity (benchmarking)', 'X/2 Y/2 Y/2', 'Identity (benchmarking)', 'Y/2 X/2', 'Identity (benchmarking)', 'X/2', 'Identity (benchmarking)', '-Υ/2', 'Identity (benchmarking)', 'Y/2 -X/2 Y/2', 'Identity (benchmarking)', 'Y/2 Y/2 X/2', 'Identity (benchmarking)', 'X/2 Y/2 X/2', 'Identity (benchmarking)', '-Υ/2 X/2 X/2', 'Identity (benchmarking)', 'Y/2 -X/2', 'Identity (benchmarking)', 'X/2 Y/2', 'Identity (benchmarking)', 'X/2'],\n",
       "         ['X/2 Y/2', 'Identity (benchmarking)', 'X/2 X/2', 'Identity (benchmarking)', 'Y/2 Y/2 X/2 X/2', 'Identity (benchmarking)', '-Υ/2 X/2', 'Identity (benchmarking)', 'Y/2 Y/2 X/2 X/2', 'Identity (benchmarking)', 'X/2 Y/2', 'Identity (benchmarking)', 'Y/2 -X/2 Y/2', 'Identity (benchmarking)', '-X/2 Y/2 X/2', 'Identity (benchmarking)', 'Y/2 -X/2 Y/2', 'Identity (benchmarking)', 'Y/2 -X/2', 'Identity (benchmarking)', 'Y/2 X/2', 'Identity (benchmarking)', '-Υ/2 -X/2', 'Identity (benchmarking)', '-Υ/2 X/2', 'Identity (benchmarking)', 'Y/2 Y/2 X/2 X/2', 'Identity (benchmarking)', '-Υ/2 X/2', 'Identity (benchmarking)', '-Υ/2 -X/2', 'Identity (benchmarking)', '-Υ/2 X/2 X/2', 'Identity (benchmarking)', 'Y/2 X/2 X/2', 'Identity (benchmarking)', 'X/2 -Υ/2', 'Identity (benchmarking)', 'I', 'Identity (benchmarking)', 'X/2', 'Identity (benchmarking)', '-Υ/2', 'Identity (benchmarking)', '-Υ/2 X/2 X/2', 'Identity (benchmarking)', 'Y/2 Y/2 X/2 X/2', 'Identity (benchmarking)', 'Y/2 -X/2 Y/2', 'Identity (benchmarking)', '-X/2 Y/2 X/2', 'Identity (benchmarking)', 'X/2', 'Identity (benchmarking)', 'X/2', 'Identity (benchmarking)', '-Υ/2 X/2 X/2', 'Identity (benchmarking)', '-Υ/2 X/2', 'Identity (benchmarking)', 'I'],\n",
       "         ['Y/2 Y/2 X/2 X/2', 'Identity (benchmarking)', 'I', 'Identity (benchmarking)', '-X/2 Y/2 X/2', 'Identity (benchmarking)', 'X/2 Y/2 Y/2', 'Identity (benchmarking)', 'X/2', 'Identity (benchmarking)', 'Y/2 Y/2 X/2 X/2', 'Identity (benchmarking)', '-Υ/2', 'Identity (benchmarking)', 'X/2 X/2', 'Identity (benchmarking)', '-Υ/2 -X/2', 'Identity (benchmarking)', 'Y/2 Y/2 X/2', 'Identity (benchmarking)', 'Y/2 -X/2', 'Identity (benchmarking)', 'I', 'Identity (benchmarking)', '-Υ/2 -X/2', 'Identity (benchmarking)', 'X/2', 'Identity (benchmarking)', 'Y/2 -X/2 Y/2', 'Identity (benchmarking)', 'X/2 -Υ/2', 'Identity (benchmarking)', 'X/2 Y/2 Y/2', 'Identity (benchmarking)', '-X/2 Y/2 X/2', 'Identity (benchmarking)', 'X/2 Y/2 X/2', 'Identity (benchmarking)', '-X/2', 'Identity (benchmarking)', 'Y/2 X/2', 'Identity (benchmarking)', 'I', 'Identity (benchmarking)', 'Y/2', 'Identity (benchmarking)', 'X/2 Y/2 X/2', 'Identity (benchmarking)', 'Y/2 X/2 X/2', 'Identity (benchmarking)', 'X/2 Y/2 Y/2', 'Identity (benchmarking)', 'Y/2', 'Identity (benchmarking)', '-Υ/2', 'Identity (benchmarking)', 'X/2 Y/2 X/2', 'Identity (benchmarking)', 'X/2', 'Identity (benchmarking)', 'X/2']],\n",
       "        [ ['-X/2 Y/2 X/2', 'Identity (benchmarking)', 'X/2 Y/2 X/2', 'Identity (benchmarking)', 'Y/2 X/2', 'Identity (benchmarking)', 'X/2 Y/2', 'Identity (benchmarking)', '-X/2', 'Identity (benchmarking)', '-Υ/2 X/2 X/2', 'Identity (benchmarking)', '-Υ/2', 'Identity (benchmarking)', 'Y/2 Y/2 X/2', 'Identity (benchmarking)', '-Υ/2 X/2 Y/2', 'Identity (benchmarking)', '-X/2 Y/2 X/2', 'Identity (benchmarking)', 'X/2 -Υ/2', 'Identity (benchmarking)', '-Υ/2 X/2 Y/2', 'Identity (benchmarking)', '-Υ/2 X/2', 'Identity (benchmarking)', 'X/2 Y/2 Y/2', 'Identity (benchmarking)', 'Y/2 Y/2 X/2', 'Identity (benchmarking)', 'X/2 Y/2 X/2', 'Identity (benchmarking)', '-Υ/2 X/2', 'Identity (benchmarking)', '-X/2', 'Identity (benchmarking)', 'X/2 Y/2 Y/2', 'Identity (benchmarking)', 'X/2 Y/2 Y/2', 'Identity (benchmarking)', '-Υ/2 X/2', 'Identity (benchmarking)', 'Y/2 Y/2 X/2 X/2', 'Identity (benchmarking)', '-Υ/2 -X/2', 'Identity (benchmarking)', 'Y/2 -X/2 Y/2', 'Identity (benchmarking)', 'X/2', 'Identity (benchmarking)', '-X/2 Y/2 X/2', 'Identity (benchmarking)', '-Υ/2 X/2', 'Identity (benchmarking)', 'X/2', 'Identity (benchmarking)', 'I', 'Identity (benchmarking)', 'X/2 Y/2', 'Identity (benchmarking)', '-X/2 Y/2', 'Identity (benchmarking)', '-Υ/2 X/2 X/2', 'Identity (benchmarking)', 'Y/2 Y/2 X/2', 'Identity (benchmarking)', 'X/2 Y/2 Y/2', 'Identity (benchmarking)', 'I', 'Identity (benchmarking)', '-Υ/2'],\n",
       "         ['-Υ/2 X/2 Y/2', 'Identity (benchmarking)', '-X/2 Y/2', 'Identity (benchmarking)', 'X/2 -Υ/2', 'Identity (benchmarking)', 'X/2 Y/2 X/2', 'Identity (benchmarking)', '-X/2', 'Identity (benchmarking)', '-X/2 -Υ/2', 'Identity (benchmarking)', 'Y/2 Y/2', 'Identity (benchmarking)', 'Y/2 X/2', 'Identity (benchmarking)', 'Y/2 Y/2', 'Identity (benchmarking)', 'Y/2', 'Identity (benchmarking)', 'Y/2 -X/2 Y/2', 'Identity (benchmarking)', 'Y/2 X/2', 'Identity (benchmarking)', '-X/2 Y/2 X/2', 'Identity (benchmarking)', '-Υ/2 X/2', 'Identity (benchmarking)', '-X/2', 'Identity (benchmarking)', 'Y/2 -X/2', 'Identity (benchmarking)', '-X/2 -Υ/2', 'Identity (benchmarking)', 'Y/2 -X/2 Y/2', 'Identity (benchmarking)', 'Y/2 -X/2 Y/2', 'Identity (benchmarking)', '-X/2', 'Identity (benchmarking)', '-X/2 Y/2 X/2', 'Identity (benchmarking)', 'X/2 Y/2 X/2', 'Identity (benchmarking)', '-X/2 -Υ/2', 'Identity (benchmarking)', 'Y/2 X/2 X/2', 'Identity (benchmarking)', 'Y/2', 'Identity (benchmarking)', 'Y/2 -X/2 Y/2', 'Identity (benchmarking)', 'X/2 Y/2 Y/2', 'Identity (benchmarking)', '-X/2 Y/2', 'Identity (benchmarking)', 'Y/2 Y/2 X/2 X/2', 'Identity (benchmarking)', 'X/2 Y/2', 'Identity (benchmarking)', '-Υ/2 X/2 Y/2', 'Identity (benchmarking)', 'Y/2 -X/2', 'Identity (benchmarking)', 'Y/2', 'Identity (benchmarking)', 'X/2 Y/2', 'Identity (benchmarking)', '-X/2 -Υ/2', 'Identity (benchmarking)', '-Υ/2'],\n",
       "         ['X/2', 'Identity (benchmarking)', '-X/2 Y/2 X/2', 'Identity (benchmarking)', 'Y/2', 'Identity (benchmarking)', 'X/2 Y/2 X/2', 'Identity (benchmarking)', 'Y/2', 'Identity (benchmarking)', 'Y/2 -X/2', 'Identity (benchmarking)', 'X/2', 'Identity (benchmarking)', 'Y/2 Y/2', 'Identity (benchmarking)', '-Υ/2 -X/2', 'Identity (benchmarking)', 'Y/2 X/2 X/2', 'Identity (benchmarking)', 'X/2 Y/2 Y/2', 'Identity (benchmarking)', 'X/2 X/2', 'Identity (benchmarking)', 'Y/2 -X/2 Y/2', 'Identity (benchmarking)', 'X/2 X/2', 'Identity (benchmarking)', 'Y/2 X/2', 'Identity (benchmarking)', 'X/2 Y/2 X/2', 'Identity (benchmarking)', '-X/2 -Υ/2', 'Identity (benchmarking)', 'Y/2 -X/2', 'Identity (benchmarking)', 'Y/2 Y/2', 'Identity (benchmarking)', 'Y/2 X/2', 'Identity (benchmarking)', 'X/2 Y/2 Y/2', 'Identity (benchmarking)', 'X/2 Y/2 X/2', 'Identity (benchmarking)', '-Υ/2 -X/2', 'Identity (benchmarking)', '-Υ/2 X/2', 'Identity (benchmarking)', '-Υ/2 -X/2', 'Identity (benchmarking)', 'I', 'Identity (benchmarking)', '-Υ/2 X/2', 'Identity (benchmarking)', '-X/2 Y/2', 'Identity (benchmarking)', 'Y/2 X/2 X/2', 'Identity (benchmarking)', 'Y/2 X/2 X/2', 'Identity (benchmarking)', 'Y/2', 'Identity (benchmarking)', '-X/2 -Υ/2', 'Identity (benchmarking)', 'Y/2 Y/2 X/2', 'Identity (benchmarking)', '-Υ/2 -X/2', 'Identity (benchmarking)', '-Υ/2 X/2 Y/2', 'Identity (benchmarking)', 'X/2 X/2'],\n",
       "         ['-Υ/2 X/2', 'Identity (benchmarking)', 'Y/2 Y/2', 'Identity (benchmarking)', '-Υ/2 X/2 Y/2', 'Identity (benchmarking)', 'Y/2', 'Identity (benchmarking)', 'X/2 Y/2 X/2', 'Identity (benchmarking)', 'X/2 Y/2 X/2', 'Identity (benchmarking)', 'X/2 Y/2 Y/2', 'Identity (benchmarking)', 'Y/2 -X/2', 'Identity (benchmarking)', '-Υ/2 X/2 Y/2', 'Identity (benchmarking)', 'Y/2 X/2 X/2', 'Identity (benchmarking)', 'X/2 -Υ/2', 'Identity (benchmarking)', 'I', 'Identity (benchmarking)', 'Y/2 Y/2 X/2 X/2', 'Identity (benchmarking)', '-X/2 -Υ/2', 'Identity (benchmarking)', 'I', 'Identity (benchmarking)', 'Y/2 Y/2 X/2 X/2', 'Identity (benchmarking)', 'Y/2 Y/2 X/2', 'Identity (benchmarking)', '-X/2 -Υ/2', 'Identity (benchmarking)', 'I', 'Identity (benchmarking)', 'X/2', 'Identity (benchmarking)', '-Υ/2 X/2 Y/2', 'Identity (benchmarking)', 'X/2 Y/2', 'Identity (benchmarking)', 'X/2', 'Identity (benchmarking)', '-Υ/2 X/2 X/2', 'Identity (benchmarking)', 'I', 'Identity (benchmarking)', 'Y/2 X/2', 'Identity (benchmarking)', '-Υ/2 X/2 X/2', 'Identity (benchmarking)', 'Y/2 X/2 X/2', 'Identity (benchmarking)', '-X/2 Y/2', 'Identity (benchmarking)', 'Y/2 -X/2 Y/2', 'Identity (benchmarking)', 'Y/2 X/2', 'Identity (benchmarking)', 'Y/2 -X/2', 'Identity (benchmarking)', '-Υ/2 -X/2', 'Identity (benchmarking)', 'Y/2', 'Identity (benchmarking)', 'X/2 X/2', 'Identity (benchmarking)', 'Y/2'],\n",
       "         ['X/2 Y/2', 'Identity (benchmarking)', 'X/2 -Υ/2', 'Identity (benchmarking)', 'Y/2 Y/2 X/2', 'Identity (benchmarking)', '-X/2 Y/2 X/2', 'Identity (benchmarking)', '-X/2 -Υ/2', 'Identity (benchmarking)', '-Υ/2 X/2 Y/2', 'Identity (benchmarking)', 'X/2 Y/2 X/2', 'Identity (benchmarking)', 'Y/2 X/2', 'Identity (benchmarking)', '-X/2 Y/2', 'Identity (benchmarking)', 'X/2', 'Identity (benchmarking)', 'X/2 Y/2 Y/2', 'Identity (benchmarking)', 'X/2 Y/2', 'Identity (benchmarking)', '-Υ/2 X/2 X/2', 'Identity (benchmarking)', '-X/2', 'Identity (benchmarking)', 'Y/2 X/2 X/2', 'Identity (benchmarking)', '-X/2 Y/2 X/2', 'Identity (benchmarking)', 'X/2 X/2', 'Identity (benchmarking)', 'Y/2 Y/2 X/2', 'Identity (benchmarking)', 'Y/2 Y/2 X/2', 'Identity (benchmarking)', '-X/2 Y/2 X/2', 'Identity (benchmarking)', 'X/2 Y/2 Y/2', 'Identity (benchmarking)', 'X/2 -Υ/2', 'Identity (benchmarking)', 'Y/2 X/2', 'Identity (benchmarking)', '-Υ/2 -X/2', 'Identity (benchmarking)', 'X/2 Y/2', 'Identity (benchmarking)', '-X/2 Y/2 X/2', 'Identity (benchmarking)', '-X/2 Y/2', 'Identity (benchmarking)', '-X/2 Y/2', 'Identity (benchmarking)', 'X/2 X/2', 'Identity (benchmarking)', 'Y/2 Y/2 X/2', 'Identity (benchmarking)', 'X/2 Y/2', 'Identity (benchmarking)', 'X/2 X/2', 'Identity (benchmarking)', 'Y/2 X/2 X/2', 'Identity (benchmarking)', 'Y/2 X/2', 'Identity (benchmarking)', '-X/2 Y/2 X/2', 'Identity (benchmarking)', 'X/2 X/2'],\n",
       "         ['Y/2 X/2 X/2', 'Identity (benchmarking)', 'I', 'Identity (benchmarking)', 'X/2 Y/2 Y/2', 'Identity (benchmarking)', '-Υ/2', 'Identity (benchmarking)', 'Y/2 X/2 X/2', 'Identity (benchmarking)', 'Y/2 -X/2', 'Identity (benchmarking)', '-Υ/2 X/2 Y/2', 'Identity (benchmarking)', '-Υ/2 X/2', 'Identity (benchmarking)', '-X/2', 'Identity (benchmarking)', 'I', 'Identity (benchmarking)', 'I', 'Identity (benchmarking)', '-Υ/2 X/2 X/2', 'Identity (benchmarking)', 'Y/2 Y/2 X/2', 'Identity (benchmarking)', 'X/2 Y/2', 'Identity (benchmarking)', 'Y/2 -X/2 Y/2', 'Identity (benchmarking)', '-X/2', 'Identity (benchmarking)', 'X/2 -Υ/2', 'Identity (benchmarking)', '-Υ/2 -X/2', 'Identity (benchmarking)', '-X/2', 'Identity (benchmarking)', '-X/2 Y/2 X/2', 'Identity (benchmarking)', 'X/2 Y/2 Y/2', 'Identity (benchmarking)', '-X/2 -Υ/2', 'Identity (benchmarking)', 'X/2', 'Identity (benchmarking)', 'Y/2 -X/2 Y/2', 'Identity (benchmarking)', '-Υ/2', 'Identity (benchmarking)', '-Υ/2 X/2 Y/2', 'Identity (benchmarking)', 'X/2', 'Identity (benchmarking)', '-X/2 Y/2 X/2', 'Identity (benchmarking)', '-X/2', 'Identity (benchmarking)', '-Υ/2 -X/2', 'Identity (benchmarking)', '-Υ/2', 'Identity (benchmarking)', '-X/2', 'Identity (benchmarking)', 'Y/2 X/2 X/2', 'Identity (benchmarking)', '-X/2 Y/2 X/2', 'Identity (benchmarking)', 'X/2 -Υ/2', 'Identity (benchmarking)', 'I'],\n",
       "         ['Y/2 Y/2 X/2', 'Identity (benchmarking)', '-Υ/2 -X/2', 'Identity (benchmarking)', '-X/2', 'Identity (benchmarking)', '-X/2 -Υ/2', 'Identity (benchmarking)', 'Y/2', 'Identity (benchmarking)', 'X/2 -Υ/2', 'Identity (benchmarking)', 'X/2 -Υ/2', 'Identity (benchmarking)', 'Y/2 X/2 X/2', 'Identity (benchmarking)', 'Y/2', 'Identity (benchmarking)', 'Y/2 Y/2', 'Identity (benchmarking)', 'X/2', 'Identity (benchmarking)', 'X/2 Y/2 X/2', 'Identity (benchmarking)', 'Y/2 X/2', 'Identity (benchmarking)', 'X/2 -Υ/2', 'Identity (benchmarking)', 'Y/2 Y/2 X/2 X/2', 'Identity (benchmarking)', 'Y/2 Y/2', 'Identity (benchmarking)', 'X/2 Y/2 Y/2', 'Identity (benchmarking)', 'X/2 X/2', 'Identity (benchmarking)', 'Y/2 X/2 X/2', 'Identity (benchmarking)', 'Y/2 Y/2', 'Identity (benchmarking)', 'Y/2 -X/2', 'Identity (benchmarking)', '-X/2 -Υ/2', 'Identity (benchmarking)', 'Y/2 -X/2 Y/2', 'Identity (benchmarking)', 'Y/2 X/2 X/2', 'Identity (benchmarking)', 'X/2 X/2', 'Identity (benchmarking)', '-Υ/2 X/2', 'Identity (benchmarking)', '-X/2 -Υ/2', 'Identity (benchmarking)', 'X/2 Y/2 X/2', 'Identity (benchmarking)', 'Y/2 X/2 X/2', 'Identity (benchmarking)', 'Y/2', 'Identity (benchmarking)', '-X/2', 'Identity (benchmarking)', 'X/2 Y/2 X/2', 'Identity (benchmarking)', 'I', 'Identity (benchmarking)', 'X/2 Y/2 Y/2', 'Identity (benchmarking)', 'I', 'Identity (benchmarking)', 'X/2 X/2'],\n",
       "         ['-X/2', 'Identity (benchmarking)', 'I', 'Identity (benchmarking)', 'X/2 Y/2 Y/2', 'Identity (benchmarking)', '-Υ/2 X/2 X/2', 'Identity (benchmarking)', 'X/2 X/2', 'Identity (benchmarking)', '-Υ/2 -X/2', 'Identity (benchmarking)', 'Y/2 Y/2 X/2', 'Identity (benchmarking)', 'Y/2 -X/2 Y/2', 'Identity (benchmarking)', 'X/2 Y/2 Y/2', 'Identity (benchmarking)', 'X/2 Y/2', 'Identity (benchmarking)', '-X/2', 'Identity (benchmarking)', '-X/2 Y/2 X/2', 'Identity (benchmarking)', 'X/2 X/2', 'Identity (benchmarking)', 'X/2 Y/2', 'Identity (benchmarking)', '-Υ/2 X/2', 'Identity (benchmarking)', 'X/2 Y/2', 'Identity (benchmarking)', '-Υ/2', 'Identity (benchmarking)', 'X/2 -Υ/2', 'Identity (benchmarking)', 'X/2 -Υ/2', 'Identity (benchmarking)', '-Υ/2 X/2 Y/2', 'Identity (benchmarking)', 'I', 'Identity (benchmarking)', 'X/2 Y/2 X/2', 'Identity (benchmarking)', 'X/2 Y/2 X/2', 'Identity (benchmarking)', 'Y/2 Y/2 X/2 X/2', 'Identity (benchmarking)', 'X/2 Y/2', 'Identity (benchmarking)', '-X/2', 'Identity (benchmarking)', '-X/2', 'Identity (benchmarking)', 'Y/2 Y/2 X/2 X/2', 'Identity (benchmarking)', 'X/2 -Υ/2', 'Identity (benchmarking)', 'Y/2 -X/2 Y/2', 'Identity (benchmarking)', 'Y/2 Y/2 X/2', 'Identity (benchmarking)', 'Y/2 -X/2', 'Identity (benchmarking)', '-Υ/2 X/2 Y/2', 'Identity (benchmarking)', '-Υ/2 X/2', 'Identity (benchmarking)', 'X/2 Y/2', 'Identity (benchmarking)', 'X/2 X/2'],\n",
       "         ['-X/2', 'Identity (benchmarking)', 'X/2 X/2', 'Identity (benchmarking)', '-X/2', 'Identity (benchmarking)', 'Y/2 X/2 X/2', 'Identity (benchmarking)', '-Υ/2 -X/2', 'Identity (benchmarking)', 'X/2 X/2', 'Identity (benchmarking)', '-X/2 Y/2', 'Identity (benchmarking)', 'Y/2 Y/2 X/2 X/2', 'Identity (benchmarking)', '-Υ/2 X/2 Y/2', 'Identity (benchmarking)', 'Y/2', 'Identity (benchmarking)', 'Y/2 X/2 X/2', 'Identity (benchmarking)', 'X/2 X/2', 'Identity (benchmarking)', 'Y/2 Y/2', 'Identity (benchmarking)', '-Υ/2 X/2 Y/2', 'Identity (benchmarking)', '-Υ/2', 'Identity (benchmarking)', 'Y/2 Y/2 X/2 X/2', 'Identity (benchmarking)', '-Υ/2 X/2 Y/2', 'Identity (benchmarking)', 'Y/2', 'Identity (benchmarking)', 'Y/2 Y/2 X/2', 'Identity (benchmarking)', 'Y/2 X/2', 'Identity (benchmarking)', '-Υ/2 X/2', 'Identity (benchmarking)', 'Y/2', 'Identity (benchmarking)', 'Y/2 Y/2', 'Identity (benchmarking)', '-Υ/2 -X/2', 'Identity (benchmarking)', 'Y/2 X/2', 'Identity (benchmarking)', '-X/2 -Υ/2', 'Identity (benchmarking)', 'Y/2 -X/2', 'Identity (benchmarking)', '-X/2', 'Identity (benchmarking)', '-Υ/2 -X/2', 'Identity (benchmarking)', 'Y/2 Y/2', 'Identity (benchmarking)', 'Y/2 Y/2 X/2', 'Identity (benchmarking)', 'X/2 Y/2 Y/2', 'Identity (benchmarking)', 'Y/2 X/2', 'Identity (benchmarking)', '-X/2 Y/2 X/2', 'Identity (benchmarking)', '-Υ/2 X/2 X/2', 'Identity (benchmarking)', '-X/2'],\n",
       "         ['-X/2', 'Identity (benchmarking)', '-Υ/2 X/2 X/2', 'Identity (benchmarking)', 'X/2 -Υ/2', 'Identity (benchmarking)', 'Y/2 Y/2', 'Identity (benchmarking)', '-X/2 Y/2 X/2', 'Identity (benchmarking)', 'Y/2 Y/2 X/2', 'Identity (benchmarking)', 'X/2 X/2', 'Identity (benchmarking)', '-X/2 Y/2', 'Identity (benchmarking)', 'X/2 Y/2', 'Identity (benchmarking)', 'X/2 Y/2', 'Identity (benchmarking)', 'Y/2 -X/2 Y/2', 'Identity (benchmarking)', 'X/2 Y/2 Y/2', 'Identity (benchmarking)', '-X/2 -Υ/2', 'Identity (benchmarking)', 'Y/2 Y/2 X/2 X/2', 'Identity (benchmarking)', 'X/2 Y/2', 'Identity (benchmarking)', 'I', 'Identity (benchmarking)', '-X/2 -Υ/2', 'Identity (benchmarking)', '-Υ/2 X/2 Y/2', 'Identity (benchmarking)', 'Y/2 X/2', 'Identity (benchmarking)', '-X/2', 'Identity (benchmarking)', 'Y/2', 'Identity (benchmarking)', 'X/2 Y/2 Y/2', 'Identity (benchmarking)', 'Y/2 -X/2', 'Identity (benchmarking)', 'X/2 Y/2 X/2', 'Identity (benchmarking)', '-X/2 Y/2 X/2', 'Identity (benchmarking)', 'X/2', 'Identity (benchmarking)', '-X/2 -Υ/2', 'Identity (benchmarking)', 'Y/2 Y/2 X/2', 'Identity (benchmarking)', '-X/2 Y/2', 'Identity (benchmarking)', 'X/2 X/2', 'Identity (benchmarking)', '-X/2 -Υ/2', 'Identity (benchmarking)', 'Y/2 Y/2 X/2 X/2', 'Identity (benchmarking)', '-X/2 -Υ/2', 'Identity (benchmarking)', 'Y/2 Y/2 X/2 X/2', 'Identity (benchmarking)', '-Υ/2 X/2 Y/2', 'Identity (benchmarking)', 'I']],\n",
       "        [ ['X/2 Y/2 Y/2', 'Identity (benchmarking)', 'Y/2 X/2 X/2', 'Identity (benchmarking)', 'Y/2 X/2', 'Identity (benchmarking)', '-X/2', 'Identity (benchmarking)', '-Υ/2 X/2 X/2', 'Identity (benchmarking)', 'Y/2 X/2 X/2', 'Identity (benchmarking)', '-Υ/2 X/2 X/2', 'Identity (benchmarking)', '-X/2 Y/2', 'Identity (benchmarking)', 'X/2 Y/2 X/2', 'Identity (benchmarking)', 'X/2 -Υ/2', 'Identity (benchmarking)', 'Y/2 Y/2 X/2 X/2', 'Identity (benchmarking)', '-Υ/2', 'Identity (benchmarking)', 'Y/2 X/2', 'Identity (benchmarking)', '-Υ/2 -X/2', 'Identity (benchmarking)', 'Y/2 Y/2', 'Identity (benchmarking)', 'X/2 -Υ/2', 'Identity (benchmarking)', 'X/2 -Υ/2', 'Identity (benchmarking)', 'Y/2 Y/2 X/2', 'Identity (benchmarking)', 'Y/2 Y/2 X/2 X/2', 'Identity (benchmarking)', '-X/2 Y/2 X/2', 'Identity (benchmarking)', 'Y/2 Y/2 X/2 X/2', 'Identity (benchmarking)', 'X/2 Y/2 Y/2', 'Identity (benchmarking)', '-X/2 Y/2 X/2', 'Identity (benchmarking)', 'I', 'Identity (benchmarking)', 'X/2 X/2', 'Identity (benchmarking)', '-Υ/2', 'Identity (benchmarking)', 'X/2 -Υ/2', 'Identity (benchmarking)', 'Y/2 -X/2', 'Identity (benchmarking)', 'Y/2 Y/2 X/2 X/2', 'Identity (benchmarking)', 'X/2 Y/2 X/2', 'Identity (benchmarking)', 'X/2 -Υ/2', 'Identity (benchmarking)', 'Y/2', 'Identity (benchmarking)', 'Y/2 -X/2 Y/2', 'Identity (benchmarking)', '-X/2 -Υ/2', 'Identity (benchmarking)', '-Υ/2 -X/2', 'Identity (benchmarking)', 'X/2 -Υ/2', 'Identity (benchmarking)', '-Υ/2 X/2', 'Identity (benchmarking)', 'X/2 X/2', 'Identity (benchmarking)', '-X/2', 'Identity (benchmarking)', 'I', 'Identity (benchmarking)', 'I'],\n",
       "         ['Y/2 X/2 X/2', 'Identity (benchmarking)', 'Y/2', 'Identity (benchmarking)', 'X/2 Y/2 Y/2', 'Identity (benchmarking)', 'X/2 X/2', 'Identity (benchmarking)', '-Υ/2 X/2 Y/2', 'Identity (benchmarking)', 'X/2 -Υ/2', 'Identity (benchmarking)', '-X/2 Y/2 X/2', 'Identity (benchmarking)', '-X/2 Y/2', 'Identity (benchmarking)', 'Y/2 -X/2', 'Identity (benchmarking)', '-Υ/2 X/2 X/2', 'Identity (benchmarking)', '-X/2', 'Identity (benchmarking)', '-Υ/2 X/2', 'Identity (benchmarking)', 'Y/2', 'Identity (benchmarking)', '-Υ/2 X/2 X/2', 'Identity (benchmarking)', 'Y/2 -X/2 Y/2', 'Identity (benchmarking)', 'X/2 Y/2 Y/2', 'Identity (benchmarking)', '-Υ/2 X/2 Y/2', 'Identity (benchmarking)', 'Y/2 -X/2 Y/2', 'Identity (benchmarking)', 'X/2 X/2', 'Identity (benchmarking)', 'X/2 Y/2', 'Identity (benchmarking)', '-Υ/2 X/2 X/2', 'Identity (benchmarking)', 'X/2 Y/2', 'Identity (benchmarking)', '-Υ/2 -X/2', 'Identity (benchmarking)', 'Y/2 -X/2 Y/2', 'Identity (benchmarking)', '-Υ/2 X/2 Y/2', 'Identity (benchmarking)', '-X/2 -Υ/2', 'Identity (benchmarking)', '-Υ/2 X/2', 'Identity (benchmarking)', 'X/2 Y/2', 'Identity (benchmarking)', '-Υ/2 -X/2', 'Identity (benchmarking)', 'I', 'Identity (benchmarking)', 'Y/2 Y/2 X/2 X/2', 'Identity (benchmarking)', '-X/2', 'Identity (benchmarking)', 'X/2 X/2', 'Identity (benchmarking)', 'Y/2 -X/2', 'Identity (benchmarking)', '-Υ/2 -X/2', 'Identity (benchmarking)', 'X/2 Y/2 Y/2', 'Identity (benchmarking)', 'X/2 -Υ/2', 'Identity (benchmarking)', '-Υ/2', 'Identity (benchmarking)', 'X/2 -Υ/2', 'Identity (benchmarking)', 'Y/2 X/2 X/2', 'Identity (benchmarking)', 'X/2'],\n",
       "         ['-X/2', 'Identity (benchmarking)', 'I', 'Identity (benchmarking)', 'X/2 Y/2 X/2', 'Identity (benchmarking)', 'Y/2 X/2', 'Identity (benchmarking)', 'X/2 X/2', 'Identity (benchmarking)', '-X/2', 'Identity (benchmarking)', 'Y/2 -X/2 Y/2', 'Identity (benchmarking)', 'X/2 Y/2', 'Identity (benchmarking)', '-Υ/2 X/2 X/2', 'Identity (benchmarking)', '-X/2 Y/2', 'Identity (benchmarking)', '-Υ/2 -X/2', 'Identity (benchmarking)', 'Y/2 -X/2', 'Identity (benchmarking)', 'X/2 Y/2 Y/2', 'Identity (benchmarking)', 'Y/2', 'Identity (benchmarking)', 'X/2 -Υ/2', 'Identity (benchmarking)', '-Υ/2 X/2', 'Identity (benchmarking)', 'X/2 -Υ/2', 'Identity (benchmarking)', '-X/2 Y/2', 'Identity (benchmarking)', '-Υ/2 -X/2', 'Identity (benchmarking)', 'X/2 -Υ/2', 'Identity (benchmarking)', 'Y/2 X/2 X/2', 'Identity (benchmarking)', '-Υ/2', 'Identity (benchmarking)', 'X/2 Y/2 Y/2', 'Identity (benchmarking)', 'X/2 Y/2', 'Identity (benchmarking)', 'Y/2 X/2 X/2', 'Identity (benchmarking)', 'Y/2 X/2', 'Identity (benchmarking)', '-Υ/2', 'Identity (benchmarking)', 'Y/2 -X/2 Y/2', 'Identity (benchmarking)', 'X/2 Y/2 Y/2', 'Identity (benchmarking)', '-X/2 Y/2', 'Identity (benchmarking)', '-X/2 -Υ/2', 'Identity (benchmarking)', 'X/2', 'Identity (benchmarking)', 'X/2 -Υ/2', 'Identity (benchmarking)', 'X/2 X/2', 'Identity (benchmarking)', 'X/2 X/2', 'Identity (benchmarking)', 'X/2 Y/2', 'Identity (benchmarking)', '-Υ/2', 'Identity (benchmarking)', 'X/2 X/2', 'Identity (benchmarking)', '-X/2', 'Identity (benchmarking)', 'Y/2 X/2', 'Identity (benchmarking)', '-X/2'],\n",
       "         ['I', 'Identity (benchmarking)', 'Y/2 -X/2 Y/2', 'Identity (benchmarking)', '-X/2 Y/2 X/2', 'Identity (benchmarking)', '-X/2', 'Identity (benchmarking)', '-Υ/2 X/2', 'Identity (benchmarking)', '-Υ/2 X/2', 'Identity (benchmarking)', '-Υ/2 X/2 X/2', 'Identity (benchmarking)', 'X/2 Y/2 Y/2', 'Identity (benchmarking)', 'Y/2 -X/2', 'Identity (benchmarking)', 'X/2', 'Identity (benchmarking)', 'X/2', 'Identity (benchmarking)', '-X/2 Y/2 X/2', 'Identity (benchmarking)', 'Y/2 X/2', 'Identity (benchmarking)', 'Y/2 -X/2', 'Identity (benchmarking)', 'Y/2 -X/2 Y/2', 'Identity (benchmarking)', '-X/2 -Υ/2', 'Identity (benchmarking)', '-Υ/2 X/2 Y/2', 'Identity (benchmarking)', '-Υ/2', 'Identity (benchmarking)', '-X/2 -Υ/2', 'Identity (benchmarking)', 'I', 'Identity (benchmarking)', 'X/2 Y/2', 'Identity (benchmarking)', 'Y/2', 'Identity (benchmarking)', 'X/2 Y/2', 'Identity (benchmarking)', 'X/2 Y/2 X/2', 'Identity (benchmarking)', '-X/2 Y/2', 'Identity (benchmarking)', '-Υ/2 X/2 Y/2', 'Identity (benchmarking)', 'Y/2 -X/2 Y/2', 'Identity (benchmarking)', 'I', 'Identity (benchmarking)', 'Y/2 Y/2 X/2', 'Identity (benchmarking)', 'X/2 Y/2 X/2', 'Identity (benchmarking)', '-Υ/2 X/2 X/2', 'Identity (benchmarking)', '-Υ/2', 'Identity (benchmarking)', '-Υ/2 X/2 X/2', 'Identity (benchmarking)', '-Υ/2 X/2', 'Identity (benchmarking)', '-X/2', 'Identity (benchmarking)', 'X/2 Y/2 X/2', 'Identity (benchmarking)', 'Y/2 -X/2 Y/2', 'Identity (benchmarking)', 'Y/2', 'Identity (benchmarking)', 'Y/2 X/2', 'Identity (benchmarking)', '-X/2 -Υ/2', 'Identity (benchmarking)', '-X/2'],\n",
       "         ['-Υ/2 -X/2', 'Identity (benchmarking)', '-X/2 Y/2 X/2', 'Identity (benchmarking)', 'Y/2 Y/2 X/2 X/2', 'Identity (benchmarking)', '-Υ/2 -X/2', 'Identity (benchmarking)', 'Y/2 Y/2', 'Identity (benchmarking)', 'X/2 X/2', 'Identity (benchmarking)', 'X/2 -Υ/2', 'Identity (benchmarking)', 'X/2', 'Identity (benchmarking)', '-X/2 Y/2 X/2', 'Identity (benchmarking)', 'X/2 X/2', 'Identity (benchmarking)', 'Y/2 Y/2', 'Identity (benchmarking)', '-X/2 Y/2 X/2', 'Identity (benchmarking)', 'X/2 Y/2 X/2', 'Identity (benchmarking)', '-Υ/2 -X/2', 'Identity (benchmarking)', 'Y/2 X/2', 'Identity (benchmarking)', 'Y/2 -X/2', 'Identity (benchmarking)', 'Y/2 X/2', 'Identity (benchmarking)', 'Y/2 Y/2 X/2', 'Identity (benchmarking)', '-Υ/2 -X/2', 'Identity (benchmarking)', 'X/2 -Υ/2', 'Identity (benchmarking)', 'X/2 Y/2', 'Identity (benchmarking)', 'Y/2 -X/2', 'Identity (benchmarking)', 'Y/2 Y/2', 'Identity (benchmarking)', 'Y/2 Y/2 X/2', 'Identity (benchmarking)', '-Υ/2 X/2', 'Identity (benchmarking)', 'X/2 Y/2', 'Identity (benchmarking)', 'X/2 -Υ/2', 'Identity (benchmarking)', 'X/2 Y/2 X/2', 'Identity (benchmarking)', 'Y/2 Y/2', 'Identity (benchmarking)', '-Υ/2 X/2', 'Identity (benchmarking)', '-Υ/2', 'Identity (benchmarking)', 'Y/2 -X/2', 'Identity (benchmarking)', '-Υ/2', 'Identity (benchmarking)', '-Υ/2 X/2 X/2', 'Identity (benchmarking)', 'I', 'Identity (benchmarking)', 'Y/2 Y/2 X/2', 'Identity (benchmarking)', '-Υ/2 X/2 X/2', 'Identity (benchmarking)', 'Y/2 X/2', 'Identity (benchmarking)', 'X/2 Y/2', 'Identity (benchmarking)', 'Y/2 X/2', 'Identity (benchmarking)', '-Υ/2'],\n",
       "         ['X/2 Y/2', 'Identity (benchmarking)', 'Y/2 -X/2', 'Identity (benchmarking)', 'X/2 Y/2 Y/2', 'Identity (benchmarking)', 'Y/2 -X/2', 'Identity (benchmarking)', 'Y/2 -X/2 Y/2', 'Identity (benchmarking)', '-Υ/2 X/2 Y/2', 'Identity (benchmarking)', 'X/2 X/2', 'Identity (benchmarking)', '-Υ/2 X/2 X/2', 'Identity (benchmarking)', 'X/2 X/2', 'Identity (benchmarking)', 'X/2 Y/2', 'Identity (benchmarking)', 'I', 'Identity (benchmarking)', '-Υ/2 X/2 X/2', 'Identity (benchmarking)', '-X/2', 'Identity (benchmarking)', 'X/2', 'Identity (benchmarking)', '-Υ/2 -X/2', 'Identity (benchmarking)', '-Υ/2 X/2 Y/2', 'Identity (benchmarking)', '-X/2', 'Identity (benchmarking)', '-Υ/2 X/2 Y/2', 'Identity (benchmarking)', 'Y/2 X/2 X/2', 'Identity (benchmarking)', 'X/2 Y/2 X/2', 'Identity (benchmarking)', 'X/2', 'Identity (benchmarking)', 'Y/2 Y/2 X/2', 'Identity (benchmarking)', 'X/2 Y/2 X/2', 'Identity (benchmarking)', 'I', 'Identity (benchmarking)', 'Y/2 Y/2 X/2 X/2', 'Identity (benchmarking)', 'X/2 Y/2 X/2', 'Identity (benchmarking)', 'Y/2 -X/2', 'Identity (benchmarking)', 'Y/2', 'Identity (benchmarking)', 'Y/2 X/2', 'Identity (benchmarking)', 'Y/2 Y/2 X/2', 'Identity (benchmarking)', 'Y/2 Y/2', 'Identity (benchmarking)', 'Y/2 -X/2 Y/2', 'Identity (benchmarking)', 'X/2', 'Identity (benchmarking)', 'X/2 Y/2 Y/2', 'Identity (benchmarking)', 'X/2 Y/2 Y/2', 'Identity (benchmarking)', 'I', 'Identity (benchmarking)', 'X/2 -Υ/2', 'Identity (benchmarking)', '-X/2 Y/2', 'Identity (benchmarking)', 'Y/2 Y/2 X/2 X/2', 'Identity (benchmarking)', 'Y/2 Y/2', 'Identity (benchmarking)', 'X/2'],\n",
       "         ['-X/2 Y/2 X/2', 'Identity (benchmarking)', '-X/2', 'Identity (benchmarking)', 'X/2 X/2', 'Identity (benchmarking)', '-X/2 -Υ/2', 'Identity (benchmarking)', '-X/2 -Υ/2', 'Identity (benchmarking)', '-Υ/2 X/2 Y/2', 'Identity (benchmarking)', 'Y/2 Y/2 X/2', 'Identity (benchmarking)', 'Y/2 Y/2', 'Identity (benchmarking)', 'Y/2 Y/2', 'Identity (benchmarking)', 'X/2', 'Identity (benchmarking)', '-X/2 -Υ/2', 'Identity (benchmarking)', 'Y/2', 'Identity (benchmarking)', '-Υ/2 -X/2', 'Identity (benchmarking)', 'I', 'Identity (benchmarking)', '-Υ/2 X/2', 'Identity (benchmarking)', '-Υ/2 X/2', 'Identity (benchmarking)', '-X/2 Y/2', 'Identity (benchmarking)', '-X/2 Y/2', 'Identity (benchmarking)', 'Y/2 Y/2 X/2 X/2', 'Identity (benchmarking)', '-X/2 Y/2 X/2', 'Identity (benchmarking)', 'Y/2 -X/2', 'Identity (benchmarking)', '-Υ/2 X/2 X/2', 'Identity (benchmarking)', 'X/2 Y/2', 'Identity (benchmarking)', '-Υ/2 X/2 Y/2', 'Identity (benchmarking)', 'X/2 Y/2 X/2', 'Identity (benchmarking)', '-Υ/2', 'Identity (benchmarking)', 'I', 'Identity (benchmarking)', 'Y/2 X/2', 'Identity (benchmarking)', 'Y/2', 'Identity (benchmarking)', '-X/2', 'Identity (benchmarking)', 'X/2 X/2', 'Identity (benchmarking)', '-Υ/2 X/2 Y/2', 'Identity (benchmarking)', 'X/2 X/2', 'Identity (benchmarking)', 'X/2 -Υ/2', 'Identity (benchmarking)', '-X/2 Y/2 X/2', 'Identity (benchmarking)', 'X/2 X/2', 'Identity (benchmarking)', '-X/2', 'Identity (benchmarking)', 'Y/2 Y/2 X/2 X/2', 'Identity (benchmarking)', 'Y/2 X/2', 'Identity (benchmarking)', '-Υ/2', 'Identity (benchmarking)', 'X/2 X/2'],\n",
       "         ['X/2 -Υ/2', 'Identity (benchmarking)', '-X/2 -Υ/2', 'Identity (benchmarking)', '-Υ/2 -X/2', 'Identity (benchmarking)', 'Y/2 -X/2 Y/2', 'Identity (benchmarking)', 'X/2 Y/2 X/2', 'Identity (benchmarking)', 'Y/2 Y/2 X/2', 'Identity (benchmarking)', '-Υ/2', 'Identity (benchmarking)', 'X/2 Y/2', 'Identity (benchmarking)', '-Υ/2 X/2 Y/2', 'Identity (benchmarking)', '-Υ/2 -X/2', 'Identity (benchmarking)', 'Y/2 -X/2', 'Identity (benchmarking)', '-X/2 Y/2', 'Identity (benchmarking)', '-Υ/2 X/2 X/2', 'Identity (benchmarking)', '-Υ/2 X/2 X/2', 'Identity (benchmarking)', 'Y/2 X/2 X/2', 'Identity (benchmarking)', 'X/2 Y/2 Y/2', 'Identity (benchmarking)', '-X/2 -Υ/2', 'Identity (benchmarking)', '-X/2 -Υ/2', 'Identity (benchmarking)', 'X/2 Y/2 Y/2', 'Identity (benchmarking)', '-X/2 Y/2 X/2', 'Identity (benchmarking)', '-Υ/2 X/2 Y/2', 'Identity (benchmarking)', 'Y/2 Y/2 X/2', 'Identity (benchmarking)', 'Y/2 Y/2 X/2', 'Identity (benchmarking)', 'Y/2 -X/2', 'Identity (benchmarking)', '-X/2 Y/2 X/2', 'Identity (benchmarking)', 'Y/2 Y/2', 'Identity (benchmarking)', '-Υ/2 X/2 X/2', 'Identity (benchmarking)', '-X/2', 'Identity (benchmarking)', '-Υ/2 X/2', 'Identity (benchmarking)', 'X/2 X/2', 'Identity (benchmarking)', 'X/2 Y/2', 'Identity (benchmarking)', 'Y/2 X/2 X/2', 'Identity (benchmarking)', 'X/2 Y/2', 'Identity (benchmarking)', 'X/2 -Υ/2', 'Identity (benchmarking)', 'X/2', 'Identity (benchmarking)', 'X/2 Y/2 Y/2', 'Identity (benchmarking)', 'Y/2 Y/2 X/2 X/2', 'Identity (benchmarking)', 'I', 'Identity (benchmarking)', 'X/2 Y/2 X/2', 'Identity (benchmarking)', 'X/2 Y/2 X/2', 'Identity (benchmarking)', '-Υ/2'],\n",
       "         ['-Υ/2 X/2 X/2', 'Identity (benchmarking)', 'Y/2', 'Identity (benchmarking)', 'Y/2 X/2 X/2', 'Identity (benchmarking)', 'Y/2 X/2', 'Identity (benchmarking)', 'Y/2 -X/2 Y/2', 'Identity (benchmarking)', 'X/2 -Υ/2', 'Identity (benchmarking)', '-Υ/2', 'Identity (benchmarking)', '-Υ/2 X/2', 'Identity (benchmarking)', '-X/2 Y/2 X/2', 'Identity (benchmarking)', 'Y/2 Y/2 X/2 X/2', 'Identity (benchmarking)', 'X/2', 'Identity (benchmarking)', '-X/2 Y/2', 'Identity (benchmarking)', 'X/2 X/2', 'Identity (benchmarking)', 'X/2', 'Identity (benchmarking)', 'X/2 Y/2', 'Identity (benchmarking)', 'X/2 -Υ/2', 'Identity (benchmarking)', '-X/2 Y/2 X/2', 'Identity (benchmarking)', 'Y/2 -X/2 Y/2', 'Identity (benchmarking)', 'Y/2', 'Identity (benchmarking)', 'Y/2 Y/2', 'Identity (benchmarking)', '-Υ/2', 'Identity (benchmarking)', 'X/2 Y/2 Y/2', 'Identity (benchmarking)', 'Y/2 -X/2', 'Identity (benchmarking)', 'X/2 Y/2 Y/2', 'Identity (benchmarking)', 'X/2 Y/2', 'Identity (benchmarking)', 'Y/2 Y/2 X/2', 'Identity (benchmarking)', 'I', 'Identity (benchmarking)', '-Υ/2 X/2 Y/2', 'Identity (benchmarking)', 'X/2 Y/2', 'Identity (benchmarking)', 'Y/2 -X/2', 'Identity (benchmarking)', '-X/2', 'Identity (benchmarking)', '-X/2 Y/2 X/2', 'Identity (benchmarking)', 'Y/2 Y/2', 'Identity (benchmarking)', '-Υ/2', 'Identity (benchmarking)', '-Υ/2 X/2 Y/2', 'Identity (benchmarking)', 'Y/2 X/2', 'Identity (benchmarking)', 'X/2 Y/2', 'Identity (benchmarking)', '-Υ/2 X/2', 'Identity (benchmarking)', 'X/2 X/2', 'Identity (benchmarking)', 'Y/2 X/2 X/2', 'Identity (benchmarking)', '-Υ/2'],\n",
       "         ['Y/2 -X/2 Y/2', 'Identity (benchmarking)', '-Υ/2 X/2 Y/2', 'Identity (benchmarking)', 'Y/2 X/2 X/2', 'Identity (benchmarking)', '-Υ/2 -X/2', 'Identity (benchmarking)', '-Υ/2 X/2 X/2', 'Identity (benchmarking)', '-X/2 -Υ/2', 'Identity (benchmarking)', 'Y/2 Y/2 X/2 X/2', 'Identity (benchmarking)', 'X/2 X/2', 'Identity (benchmarking)', 'Y/2 Y/2', 'Identity (benchmarking)', 'Y/2 Y/2 X/2 X/2', 'Identity (benchmarking)', 'Y/2 X/2', 'Identity (benchmarking)', 'X/2 -Υ/2', 'Identity (benchmarking)', '-Υ/2 -X/2', 'Identity (benchmarking)', 'Y/2 -X/2 Y/2', 'Identity (benchmarking)', 'X/2 Y/2 Y/2', 'Identity (benchmarking)', 'Y/2 -X/2 Y/2', 'Identity (benchmarking)', '-X/2 -Υ/2', 'Identity (benchmarking)', '-X/2', 'Identity (benchmarking)', 'Y/2', 'Identity (benchmarking)', 'X/2 X/2', 'Identity (benchmarking)', '-Υ/2 -X/2', 'Identity (benchmarking)', '-X/2 -Υ/2', 'Identity (benchmarking)', '-X/2 Y/2 X/2', 'Identity (benchmarking)', '-Υ/2 X/2 X/2', 'Identity (benchmarking)', 'Y/2 X/2', 'Identity (benchmarking)', 'X/2 X/2', 'Identity (benchmarking)', 'X/2 X/2', 'Identity (benchmarking)', '-X/2 Y/2 X/2', 'Identity (benchmarking)', '-X/2 -Υ/2', 'Identity (benchmarking)', 'Y/2 -X/2', 'Identity (benchmarking)', 'I', 'Identity (benchmarking)', '-Υ/2 X/2', 'Identity (benchmarking)', '-X/2', 'Identity (benchmarking)', '-X/2 Y/2 X/2', 'Identity (benchmarking)', '-X/2 -Υ/2', 'Identity (benchmarking)', '-Υ/2', 'Identity (benchmarking)', 'X/2 Y/2 X/2', 'Identity (benchmarking)', 'Y/2 Y/2 X/2 X/2', 'Identity (benchmarking)', '-Υ/2 X/2 X/2', 'Identity (benchmarking)', 'X/2 Y/2', 'Identity (benchmarking)', '-X/2']],\n",
       "        [ ['Y/2 Y/2', 'Identity (benchmarking)', 'X/2 Y/2 Y/2', 'Identity (benchmarking)', 'Y/2 -X/2', 'Identity (benchmarking)', 'X/2 -Υ/2', 'Identity (benchmarking)', '-Υ/2 X/2 Y/2', 'Identity (benchmarking)', 'Y/2 -X/2 Y/2', 'Identity (benchmarking)', 'Y/2 X/2', 'Identity (benchmarking)', '-X/2 Y/2', 'Identity (benchmarking)', '-X/2 Y/2 X/2', 'Identity (benchmarking)', '-Υ/2 X/2 Y/2', 'Identity (benchmarking)', '-X/2 -Υ/2', 'Identity (benchmarking)', '-Υ/2 -X/2', 'Identity (benchmarking)', 'Y/2 X/2', 'Identity (benchmarking)', 'Y/2 -X/2', 'Identity (benchmarking)', 'Y/2 X/2 X/2', 'Identity (benchmarking)', 'Y/2 -X/2', 'Identity (benchmarking)', 'X/2 -Υ/2', 'Identity (benchmarking)', 'I', 'Identity (benchmarking)', 'Y/2 Y/2 X/2', 'Identity (benchmarking)', 'X/2 Y/2 Y/2', 'Identity (benchmarking)', '-Υ/2 X/2 Y/2', 'Identity (benchmarking)', 'Y/2', 'Identity (benchmarking)', '-Υ/2 -X/2', 'Identity (benchmarking)', '-Υ/2 X/2', 'Identity (benchmarking)', 'X/2 Y/2 Y/2', 'Identity (benchmarking)', 'Y/2', 'Identity (benchmarking)', 'Y/2 X/2', 'Identity (benchmarking)', 'X/2 Y/2 X/2', 'Identity (benchmarking)', '-X/2', 'Identity (benchmarking)', '-Υ/2 X/2', 'Identity (benchmarking)', 'X/2', 'Identity (benchmarking)', 'Y/2 Y/2', 'Identity (benchmarking)', 'Y/2 X/2 X/2', 'Identity (benchmarking)', 'Y/2 Y/2', 'Identity (benchmarking)', 'Y/2 Y/2 X/2 X/2', 'Identity (benchmarking)', 'X/2', 'Identity (benchmarking)', 'Y/2 Y/2 X/2 X/2', 'Identity (benchmarking)', 'Y/2', 'Identity (benchmarking)', '-X/2 Y/2', 'Identity (benchmarking)', '-X/2 -Υ/2', 'Identity (benchmarking)', 'Y/2 X/2', 'Identity (benchmarking)', '-X/2 Y/2 X/2', 'Identity (benchmarking)', '-X/2', 'Identity (benchmarking)', 'I', 'Identity (benchmarking)', 'X/2 X/2', 'Identity (benchmarking)', '-X/2'],\n",
       "         ['-Υ/2 X/2 Y/2', 'Identity (benchmarking)', '-Υ/2', 'Identity (benchmarking)', '-Υ/2 X/2', 'Identity (benchmarking)', 'X/2 X/2', 'Identity (benchmarking)', '-X/2 Y/2', 'Identity (benchmarking)', '-X/2 Y/2 X/2', 'Identity (benchmarking)', 'Y/2 X/2 X/2', 'Identity (benchmarking)', 'X/2 Y/2 X/2', 'Identity (benchmarking)', 'Y/2 Y/2 X/2 X/2', 'Identity (benchmarking)', 'Y/2 -X/2', 'Identity (benchmarking)', 'I', 'Identity (benchmarking)', '-Υ/2 -X/2', 'Identity (benchmarking)', '-X/2 Y/2 X/2', 'Identity (benchmarking)', 'Y/2 X/2 X/2', 'Identity (benchmarking)', 'Y/2 Y/2 X/2 X/2', 'Identity (benchmarking)', 'Y/2 Y/2', 'Identity (benchmarking)', 'X/2 -Υ/2', 'Identity (benchmarking)', 'I', 'Identity (benchmarking)', '-X/2 Y/2', 'Identity (benchmarking)', '-X/2 Y/2 X/2', 'Identity (benchmarking)', 'X/2 Y/2 Y/2', 'Identity (benchmarking)', '-X/2 Y/2 X/2', 'Identity (benchmarking)', 'X/2 Y/2', 'Identity (benchmarking)', '-Υ/2 X/2', 'Identity (benchmarking)', 'Y/2 Y/2 X/2', 'Identity (benchmarking)', '-X/2 Y/2', 'Identity (benchmarking)', '-X/2 -Υ/2', 'Identity (benchmarking)', 'Y/2 Y/2 X/2', 'Identity (benchmarking)', 'Y/2 Y/2 X/2', 'Identity (benchmarking)', '-Υ/2 X/2 X/2', 'Identity (benchmarking)', '-X/2', 'Identity (benchmarking)', 'X/2 Y/2 X/2', 'Identity (benchmarking)', 'Y/2 Y/2 X/2 X/2', 'Identity (benchmarking)', 'X/2 Y/2', 'Identity (benchmarking)', '-X/2 Y/2', 'Identity (benchmarking)', '-Υ/2 -X/2', 'Identity (benchmarking)', 'X/2 Y/2', 'Identity (benchmarking)', 'Y/2 Y/2', 'Identity (benchmarking)', 'X/2 Y/2', 'Identity (benchmarking)', '-X/2 Y/2 X/2', 'Identity (benchmarking)', '-X/2 Y/2 X/2', 'Identity (benchmarking)', '-X/2 Y/2 X/2', 'Identity (benchmarking)', 'Y/2 Y/2 X/2 X/2', 'Identity (benchmarking)', 'Y/2 X/2', 'Identity (benchmarking)', '-Υ/2 X/2 Y/2', 'Identity (benchmarking)', 'I'],\n",
       "         ['-X/2 Y/2', 'Identity (benchmarking)', '-X/2', 'Identity (benchmarking)', 'Y/2 -X/2 Y/2', 'Identity (benchmarking)', '-Υ/2 X/2 Y/2', 'Identity (benchmarking)', '-X/2 Y/2', 'Identity (benchmarking)', 'Y/2 X/2', 'Identity (benchmarking)', 'Y/2', 'Identity (benchmarking)', 'I', 'Identity (benchmarking)', 'X/2 Y/2 Y/2', 'Identity (benchmarking)', 'Y/2 Y/2', 'Identity (benchmarking)', 'Y/2 -X/2', 'Identity (benchmarking)', '-X/2', 'Identity (benchmarking)', 'X/2 Y/2 X/2', 'Identity (benchmarking)', 'X/2 Y/2 Y/2', 'Identity (benchmarking)', 'Y/2 X/2 X/2', 'Identity (benchmarking)', '-Υ/2', 'Identity (benchmarking)', '-X/2', 'Identity (benchmarking)', 'X/2 Y/2 X/2', 'Identity (benchmarking)', 'X/2 Y/2 Y/2', 'Identity (benchmarking)', 'X/2 Y/2 X/2', 'Identity (benchmarking)', '-Υ/2 X/2 Y/2', 'Identity (benchmarking)', 'Y/2 Y/2 X/2 X/2', 'Identity (benchmarking)', 'X/2 Y/2 Y/2', 'Identity (benchmarking)', '-Υ/2', 'Identity (benchmarking)', 'X/2 Y/2 X/2', 'Identity (benchmarking)', 'Y/2 -X/2 Y/2', 'Identity (benchmarking)', 'X/2 Y/2', 'Identity (benchmarking)', 'X/2 X/2', 'Identity (benchmarking)', 'X/2 Y/2 X/2', 'Identity (benchmarking)', '-X/2 Y/2 X/2', 'Identity (benchmarking)', 'X/2 Y/2', 'Identity (benchmarking)', 'X/2 -Υ/2', 'Identity (benchmarking)', 'X/2 Y/2', 'Identity (benchmarking)', 'Y/2 Y/2', 'Identity (benchmarking)', 'Y/2 -X/2 Y/2', 'Identity (benchmarking)', '-X/2 -Υ/2', 'Identity (benchmarking)', '-Υ/2', 'Identity (benchmarking)', '-X/2', 'Identity (benchmarking)', 'X/2 Y/2', 'Identity (benchmarking)', '-X/2 -Υ/2', 'Identity (benchmarking)', 'Y/2 Y/2 X/2 X/2', 'Identity (benchmarking)', 'Y/2 Y/2', 'Identity (benchmarking)', '-Υ/2 X/2 X/2', 'Identity (benchmarking)', '-X/2 -Υ/2', 'Identity (benchmarking)', 'Y/2 -X/2 Y/2', 'Identity (benchmarking)', 'Y/2'],\n",
       "         ['Y/2 Y/2 X/2', 'Identity (benchmarking)', '-X/2 Y/2', 'Identity (benchmarking)', 'X/2 -Υ/2', 'Identity (benchmarking)', 'Y/2 Y/2 X/2', 'Identity (benchmarking)', '-Υ/2 X/2 Y/2', 'Identity (benchmarking)', 'X/2 -Υ/2', 'Identity (benchmarking)', '-X/2 Y/2 X/2', 'Identity (benchmarking)', 'Y/2 Y/2', 'Identity (benchmarking)', '-X/2 Y/2 X/2', 'Identity (benchmarking)', '-Υ/2 X/2 X/2', 'Identity (benchmarking)', 'X/2 Y/2 Y/2', 'Identity (benchmarking)', 'Y/2 Y/2', 'Identity (benchmarking)', '-Υ/2 -X/2', 'Identity (benchmarking)', 'Y/2 -X/2 Y/2', 'Identity (benchmarking)', '-X/2 Y/2', 'Identity (benchmarking)', 'X/2 Y/2', 'Identity (benchmarking)', 'Y/2 X/2', 'Identity (benchmarking)', 'I', 'Identity (benchmarking)', 'I', 'Identity (benchmarking)', '-Υ/2 X/2 X/2', 'Identity (benchmarking)', '-X/2 Y/2 X/2', 'Identity (benchmarking)', 'X/2 X/2', 'Identity (benchmarking)', 'Y/2', 'Identity (benchmarking)', 'X/2 Y/2', 'Identity (benchmarking)', 'Y/2 X/2', 'Identity (benchmarking)', '-Υ/2 X/2', 'Identity (benchmarking)', 'Y/2', 'Identity (benchmarking)', '-X/2 -Υ/2', 'Identity (benchmarking)', 'X/2', 'Identity (benchmarking)', '-Υ/2', 'Identity (benchmarking)', 'X/2 Y/2 X/2', 'Identity (benchmarking)', '-Υ/2 X/2 X/2', 'Identity (benchmarking)', 'X/2 X/2', 'Identity (benchmarking)', 'X/2 Y/2', 'Identity (benchmarking)', '-X/2', 'Identity (benchmarking)', '-Υ/2', 'Identity (benchmarking)', '-Υ/2 X/2 Y/2', 'Identity (benchmarking)', 'Y/2 Y/2 X/2 X/2', 'Identity (benchmarking)', '-Υ/2 X/2 Y/2', 'Identity (benchmarking)', '-Υ/2 X/2 Y/2', 'Identity (benchmarking)', '-X/2 Y/2', 'Identity (benchmarking)', '-Υ/2', 'Identity (benchmarking)', '-Υ/2 -X/2', 'Identity (benchmarking)', '-X/2 -Υ/2', 'Identity (benchmarking)', 'Y/2 Y/2 X/2', 'Identity (benchmarking)', '-X/2'],\n",
       "         ['X/2 Y/2 X/2', 'Identity (benchmarking)', '-X/2 -Υ/2', 'Identity (benchmarking)', 'Y/2 Y/2 X/2', 'Identity (benchmarking)', '-Υ/2', 'Identity (benchmarking)', '-Υ/2', 'Identity (benchmarking)', 'Y/2 Y/2 X/2 X/2', 'Identity (benchmarking)', '-Υ/2', 'Identity (benchmarking)', '-Υ/2 X/2 X/2', 'Identity (benchmarking)', '-Υ/2 X/2 Y/2', 'Identity (benchmarking)', '-Υ/2 X/2 Y/2', 'Identity (benchmarking)', 'Y/2 Y/2 X/2', 'Identity (benchmarking)', 'X/2 -Υ/2', 'Identity (benchmarking)', 'Y/2', 'Identity (benchmarking)', 'Y/2 X/2 X/2', 'Identity (benchmarking)', 'Y/2 -X/2', 'Identity (benchmarking)', 'X/2 Y/2 Y/2', 'Identity (benchmarking)', 'Y/2', 'Identity (benchmarking)', '-X/2 Y/2 X/2', 'Identity (benchmarking)', 'X/2 Y/2 Y/2', 'Identity (benchmarking)', 'X/2 -Υ/2', 'Identity (benchmarking)', 'X/2 X/2', 'Identity (benchmarking)', 'Y/2 -X/2 Y/2', 'Identity (benchmarking)', '-X/2 Y/2 X/2', 'Identity (benchmarking)', 'Y/2 -X/2 Y/2', 'Identity (benchmarking)', '-Υ/2 -X/2', 'Identity (benchmarking)', 'X/2 -Υ/2', 'Identity (benchmarking)', '-X/2 Y/2', 'Identity (benchmarking)', '-X/2', 'Identity (benchmarking)', 'Y/2 Y/2 X/2', 'Identity (benchmarking)', '-Υ/2 X/2', 'Identity (benchmarking)', 'X/2 X/2', 'Identity (benchmarking)', '-Υ/2', 'Identity (benchmarking)', 'Y/2 -X/2', 'Identity (benchmarking)', '-X/2 Y/2', 'Identity (benchmarking)', 'X/2 X/2', 'Identity (benchmarking)', 'X/2 X/2', 'Identity (benchmarking)', 'Y/2', 'Identity (benchmarking)', 'Y/2 Y/2', 'Identity (benchmarking)', 'Y/2 X/2', 'Identity (benchmarking)', '-X/2', 'Identity (benchmarking)', 'Y/2 -X/2', 'Identity (benchmarking)', 'Y/2 -X/2 Y/2', 'Identity (benchmarking)', 'Y/2 Y/2 X/2', 'Identity (benchmarking)', 'Y/2 X/2 X/2', 'Identity (benchmarking)', 'X/2 Y/2 X/2', 'Identity (benchmarking)', 'X/2'],\n",
       "         ['X/2 X/2', 'Identity (benchmarking)', '-X/2', 'Identity (benchmarking)', '-Υ/2 X/2 Y/2', 'Identity (benchmarking)', 'Y/2 -X/2', 'Identity (benchmarking)', 'X/2 Y/2 X/2', 'Identity (benchmarking)', 'Y/2 -X/2', 'Identity (benchmarking)', '-Υ/2 X/2 X/2', 'Identity (benchmarking)', 'Y/2 X/2', 'Identity (benchmarking)', 'Y/2 Y/2 X/2', 'Identity (benchmarking)', 'Y/2 Y/2', 'Identity (benchmarking)', 'Y/2 -X/2', 'Identity (benchmarking)', '-Υ/2 X/2', 'Identity (benchmarking)', 'X/2 Y/2', 'Identity (benchmarking)', '-X/2 Y/2 X/2', 'Identity (benchmarking)', 'Y/2 -X/2 Y/2', 'Identity (benchmarking)', 'I', 'Identity (benchmarking)', '-Υ/2 X/2', 'Identity (benchmarking)', '-Υ/2 -X/2', 'Identity (benchmarking)', 'X/2 X/2', 'Identity (benchmarking)', 'X/2', 'Identity (benchmarking)', 'X/2', 'Identity (benchmarking)', 'X/2 Y/2', 'Identity (benchmarking)', '-Υ/2 X/2 X/2', 'Identity (benchmarking)', '-X/2', 'Identity (benchmarking)', 'Y/2 Y/2 X/2', 'Identity (benchmarking)', '-Υ/2 -X/2', 'Identity (benchmarking)', 'Y/2 Y/2', 'Identity (benchmarking)', 'Y/2', 'Identity (benchmarking)', 'X/2', 'Identity (benchmarking)', 'Y/2 X/2 X/2', 'Identity (benchmarking)', '-Υ/2 -X/2', 'Identity (benchmarking)', 'X/2', 'Identity (benchmarking)', '-X/2 Y/2', 'Identity (benchmarking)', 'Y/2', 'Identity (benchmarking)', '-Υ/2 X/2', 'Identity (benchmarking)', 'X/2 Y/2 Y/2', 'Identity (benchmarking)', '-X/2 -Υ/2', 'Identity (benchmarking)', '-Υ/2 X/2 X/2', 'Identity (benchmarking)', '-X/2 Y/2 X/2', 'Identity (benchmarking)', 'Y/2 Y/2 X/2', 'Identity (benchmarking)', 'Y/2 Y/2 X/2', 'Identity (benchmarking)', 'X/2 X/2', 'Identity (benchmarking)', 'Y/2 X/2', 'Identity (benchmarking)', 'Y/2 Y/2', 'Identity (benchmarking)', '-Υ/2 X/2 X/2', 'Identity (benchmarking)', 'Y/2'],\n",
       "         ['X/2', 'Identity (benchmarking)', '-Υ/2 X/2 X/2', 'Identity (benchmarking)', 'X/2 Y/2 Y/2', 'Identity (benchmarking)', 'X/2 Y/2', 'Identity (benchmarking)', 'Y/2 Y/2', 'Identity (benchmarking)', 'Y/2 Y/2 X/2', 'Identity (benchmarking)', '-Υ/2 X/2', 'Identity (benchmarking)', 'X/2 X/2', 'Identity (benchmarking)', 'Y/2 -X/2 Y/2', 'Identity (benchmarking)', 'Y/2 Y/2 X/2 X/2', 'Identity (benchmarking)', '-X/2 Y/2 X/2', 'Identity (benchmarking)', 'Y/2 -X/2', 'Identity (benchmarking)', '-Υ/2', 'Identity (benchmarking)', 'X/2 -Υ/2', 'Identity (benchmarking)', 'X/2 Y/2 X/2', 'Identity (benchmarking)', 'X/2 Y/2', 'Identity (benchmarking)', 'X/2 Y/2', 'Identity (benchmarking)', 'Y/2 Y/2 X/2', 'Identity (benchmarking)', 'Y/2 -X/2 Y/2', 'Identity (benchmarking)', 'X/2 -Υ/2', 'Identity (benchmarking)', 'Y/2 X/2', 'Identity (benchmarking)', 'X/2 X/2', 'Identity (benchmarking)', 'Y/2 Y/2 X/2', 'Identity (benchmarking)', '-Υ/2 X/2 X/2', 'Identity (benchmarking)', 'X/2 -Υ/2', 'Identity (benchmarking)', '-Υ/2 -X/2', 'Identity (benchmarking)', '-Υ/2', 'Identity (benchmarking)', 'Y/2 X/2', 'Identity (benchmarking)', 'Y/2', 'Identity (benchmarking)', 'Y/2 X/2', 'Identity (benchmarking)', 'X/2 -Υ/2', 'Identity (benchmarking)', 'X/2 -Υ/2', 'Identity (benchmarking)', '-X/2 Y/2', 'Identity (benchmarking)', '-Υ/2 X/2', 'Identity (benchmarking)', 'X/2 Y/2', 'Identity (benchmarking)', 'X/2 Y/2 Y/2', 'Identity (benchmarking)', 'X/2 X/2', 'Identity (benchmarking)', 'X/2 Y/2', 'Identity (benchmarking)', '-Υ/2 -X/2', 'Identity (benchmarking)', 'Y/2 Y/2', 'Identity (benchmarking)', '-Υ/2', 'Identity (benchmarking)', '-Υ/2 X/2 Y/2', 'Identity (benchmarking)', 'X/2 Y/2', 'Identity (benchmarking)', 'Y/2 -X/2', 'Identity (benchmarking)', 'X/2 Y/2 Y/2', 'Identity (benchmarking)', '-Υ/2'],\n",
       "         ['Y/2 -X/2', 'Identity (benchmarking)', 'Y/2 Y/2 X/2 X/2', 'Identity (benchmarking)', '-Υ/2 X/2 Y/2', 'Identity (benchmarking)', 'X/2 Y/2 X/2', 'Identity (benchmarking)', 'Y/2 X/2 X/2', 'Identity (benchmarking)', '-X/2', 'Identity (benchmarking)', '-X/2 Y/2 X/2', 'Identity (benchmarking)', '-Υ/2', 'Identity (benchmarking)', '-Υ/2', 'Identity (benchmarking)', '-X/2 Y/2', 'Identity (benchmarking)', 'X/2 -Υ/2', 'Identity (benchmarking)', 'Y/2 X/2 X/2', 'Identity (benchmarking)', '-Υ/2 X/2 X/2', 'Identity (benchmarking)', 'I', 'Identity (benchmarking)', 'Y/2 Y/2 X/2 X/2', 'Identity (benchmarking)', '-Υ/2 -X/2', 'Identity (benchmarking)', 'X/2 X/2', 'Identity (benchmarking)', '-Υ/2 X/2', 'Identity (benchmarking)', 'Y/2 Y/2', 'Identity (benchmarking)', '-Υ/2 -X/2', 'Identity (benchmarking)', 'X/2 X/2', 'Identity (benchmarking)', 'X/2 Y/2 Y/2', 'Identity (benchmarking)', 'X/2 Y/2 X/2', 'Identity (benchmarking)', 'X/2 Y/2 X/2', 'Identity (benchmarking)', 'X/2 -Υ/2', 'Identity (benchmarking)', 'X/2 X/2', 'Identity (benchmarking)', '-X/2 -Υ/2', 'Identity (benchmarking)', '-X/2 Y/2', 'Identity (benchmarking)', 'X/2 Y/2', 'Identity (benchmarking)', '-Υ/2 X/2 Y/2', 'Identity (benchmarking)', 'X/2 Y/2 X/2', 'Identity (benchmarking)', 'Y/2 -X/2 Y/2', 'Identity (benchmarking)', '-X/2 -Υ/2', 'Identity (benchmarking)', 'Y/2 Y/2', 'Identity (benchmarking)', '-X/2 Y/2 X/2', 'Identity (benchmarking)', 'Y/2', 'Identity (benchmarking)', '-Υ/2 X/2 X/2', 'Identity (benchmarking)', 'Y/2', 'Identity (benchmarking)', '-X/2 Y/2', 'Identity (benchmarking)', 'X/2 X/2', 'Identity (benchmarking)', 'Y/2 Y/2', 'Identity (benchmarking)', '-X/2', 'Identity (benchmarking)', 'X/2 Y/2 Y/2', 'Identity (benchmarking)', '-Υ/2 X/2', 'Identity (benchmarking)', 'Y/2 Y/2 X/2', 'Identity (benchmarking)', '-Υ/2'],\n",
       "         ['-Υ/2 X/2 Y/2', 'Identity (benchmarking)', 'X/2 X/2', 'Identity (benchmarking)', '-Υ/2 -X/2', 'Identity (benchmarking)', 'Y/2', 'Identity (benchmarking)', 'X/2 Y/2', 'Identity (benchmarking)', '-Υ/2 X/2 X/2', 'Identity (benchmarking)', '-Υ/2 X/2 X/2', 'Identity (benchmarking)', '-X/2', 'Identity (benchmarking)', 'X/2 X/2', 'Identity (benchmarking)', 'X/2', 'Identity (benchmarking)', '-Υ/2', 'Identity (benchmarking)', '-Υ/2', 'Identity (benchmarking)', 'X/2', 'Identity (benchmarking)', 'X/2 X/2', 'Identity (benchmarking)', '-X/2 -Υ/2', 'Identity (benchmarking)', 'X/2 X/2', 'Identity (benchmarking)', '-X/2 -Υ/2', 'Identity (benchmarking)', 'X/2 Y/2 Y/2', 'Identity (benchmarking)', '-X/2', 'Identity (benchmarking)', 'Y/2 -X/2', 'Identity (benchmarking)', 'X/2 Y/2 Y/2', 'Identity (benchmarking)', 'X/2', 'Identity (benchmarking)', 'Y/2 Y/2 X/2 X/2', 'Identity (benchmarking)', 'Y/2 X/2 X/2', 'Identity (benchmarking)', '-Υ/2 X/2 X/2', 'Identity (benchmarking)', '-Υ/2 -X/2', 'Identity (benchmarking)', 'Y/2 X/2', 'Identity (benchmarking)', 'I', 'Identity (benchmarking)', 'Y/2 Y/2 X/2 X/2', 'Identity (benchmarking)', '-X/2 Y/2 X/2', 'Identity (benchmarking)', 'X/2 -Υ/2', 'Identity (benchmarking)', 'X/2', 'Identity (benchmarking)', '-Υ/2 X/2 X/2', 'Identity (benchmarking)', '-Υ/2 X/2', 'Identity (benchmarking)', '-Υ/2 -X/2', 'Identity (benchmarking)', '-Υ/2 -X/2', 'Identity (benchmarking)', '-X/2', 'Identity (benchmarking)', 'X/2 Y/2 Y/2', 'Identity (benchmarking)', 'X/2 Y/2 X/2', 'Identity (benchmarking)', '-X/2', 'Identity (benchmarking)', 'X/2 Y/2 Y/2', 'Identity (benchmarking)', '-Υ/2 X/2 X/2', 'Identity (benchmarking)', 'Y/2 Y/2 X/2', 'Identity (benchmarking)', '-Υ/2 -X/2', 'Identity (benchmarking)', '-Υ/2', 'Identity (benchmarking)', '-X/2'],\n",
       "         ['-X/2 Y/2', 'Identity (benchmarking)', 'Y/2', 'Identity (benchmarking)', 'Y/2 Y/2', 'Identity (benchmarking)', '-Υ/2 -X/2', 'Identity (benchmarking)', 'X/2 Y/2 X/2', 'Identity (benchmarking)', '-Υ/2 X/2 X/2', 'Identity (benchmarking)', '-X/2 Y/2', 'Identity (benchmarking)', 'X/2 Y/2 Y/2', 'Identity (benchmarking)', 'X/2 Y/2 X/2', 'Identity (benchmarking)', 'X/2', 'Identity (benchmarking)', 'X/2', 'Identity (benchmarking)', '-X/2', 'Identity (benchmarking)', '-Υ/2 X/2', 'Identity (benchmarking)', 'Y/2 X/2', 'Identity (benchmarking)', 'Y/2 X/2', 'Identity (benchmarking)', 'I', 'Identity (benchmarking)', 'X/2 Y/2 X/2', 'Identity (benchmarking)', '-X/2 Y/2 X/2', 'Identity (benchmarking)', 'Y/2', 'Identity (benchmarking)', 'X/2', 'Identity (benchmarking)', '-X/2 Y/2 X/2', 'Identity (benchmarking)', '-Υ/2 -X/2', 'Identity (benchmarking)', 'X/2 Y/2 X/2', 'Identity (benchmarking)', '-Υ/2 -X/2', 'Identity (benchmarking)', 'X/2', 'Identity (benchmarking)', 'Y/2 -X/2', 'Identity (benchmarking)', 'X/2 Y/2', 'Identity (benchmarking)', 'Y/2 X/2 X/2', 'Identity (benchmarking)', 'Y/2 Y/2 X/2 X/2', 'Identity (benchmarking)', '-X/2 Y/2', 'Identity (benchmarking)', 'X/2 X/2', 'Identity (benchmarking)', '-Υ/2 X/2 Y/2', 'Identity (benchmarking)', 'Y/2 -X/2 Y/2', 'Identity (benchmarking)', 'Y/2 -X/2', 'Identity (benchmarking)', '-Υ/2', 'Identity (benchmarking)', 'Y/2 -X/2 Y/2', 'Identity (benchmarking)', 'Y/2 Y/2 X/2 X/2', 'Identity (benchmarking)', '-X/2 Y/2 X/2', 'Identity (benchmarking)', 'X/2 -Υ/2', 'Identity (benchmarking)', 'Y/2 Y/2', 'Identity (benchmarking)', 'Y/2 Y/2', 'Identity (benchmarking)', 'X/2 X/2', 'Identity (benchmarking)', '-Υ/2 X/2', 'Identity (benchmarking)', '-Υ/2 X/2 Y/2', 'Identity (benchmarking)', '-X/2', 'Identity (benchmarking)', 'X/2']],\n",
       "        [ ['Y/2 -X/2', 'Identity (benchmarking)', 'X/2 Y/2 Y/2', 'Identity (benchmarking)', 'Y/2 -X/2 Y/2', 'Identity (benchmarking)', 'Y/2 -X/2 Y/2', 'Identity (benchmarking)', 'X/2 Y/2 Y/2', 'Identity (benchmarking)', 'X/2', 'Identity (benchmarking)', 'X/2 Y/2', 'Identity (benchmarking)', '-Υ/2 X/2 X/2', 'Identity (benchmarking)', '-Υ/2 X/2 X/2', 'Identity (benchmarking)', 'X/2 Y/2 Y/2', 'Identity (benchmarking)', '-X/2 Y/2 X/2', 'Identity (benchmarking)', 'Y/2 X/2 X/2', 'Identity (benchmarking)', 'Y/2 Y/2', 'Identity (benchmarking)', '-Υ/2 X/2', 'Identity (benchmarking)', 'Y/2 -X/2', 'Identity (benchmarking)', '-X/2 Y/2 X/2', 'Identity (benchmarking)', 'X/2 Y/2 Y/2', 'Identity (benchmarking)', 'X/2 Y/2', 'Identity (benchmarking)', 'X/2 Y/2 X/2', 'Identity (benchmarking)', '-X/2 Y/2', 'Identity (benchmarking)', 'Y/2 Y/2 X/2', 'Identity (benchmarking)', 'Y/2 X/2 X/2', 'Identity (benchmarking)', '-Υ/2', 'Identity (benchmarking)', '-Υ/2 X/2 Y/2', 'Identity (benchmarking)', '-X/2', 'Identity (benchmarking)', 'I', 'Identity (benchmarking)', '-Υ/2 X/2', 'Identity (benchmarking)', '-X/2 Y/2', 'Identity (benchmarking)', '-Υ/2 X/2', 'Identity (benchmarking)', 'X/2 X/2', 'Identity (benchmarking)', '-Υ/2 X/2 Y/2', 'Identity (benchmarking)', 'X/2 Y/2 Y/2', 'Identity (benchmarking)', 'X/2 -Υ/2', 'Identity (benchmarking)', 'X/2 Y/2 Y/2', 'Identity (benchmarking)', 'Y/2 Y/2', 'Identity (benchmarking)', 'X/2 -Υ/2', 'Identity (benchmarking)', 'Y/2 -X/2', 'Identity (benchmarking)', 'Y/2 Y/2 X/2', 'Identity (benchmarking)', 'X/2 Y/2 Y/2', 'Identity (benchmarking)', 'X/2', 'Identity (benchmarking)', '-X/2', 'Identity (benchmarking)', 'Y/2 X/2 X/2', 'Identity (benchmarking)', 'X/2 Y/2 X/2', 'Identity (benchmarking)', 'X/2', 'Identity (benchmarking)', '-X/2 Y/2', 'Identity (benchmarking)', 'Y/2 X/2 X/2', 'Identity (benchmarking)', 'Y/2 Y/2', 'Identity (benchmarking)', '-Υ/2 X/2 Y/2', 'Identity (benchmarking)', '-Υ/2 X/2 Y/2', 'Identity (benchmarking)', 'Y/2 Y/2', 'Identity (benchmarking)', 'I'],\n",
       "         ['Y/2 X/2', 'Identity (benchmarking)', '-X/2 -Υ/2', 'Identity (benchmarking)', '-Υ/2', 'Identity (benchmarking)', '-Υ/2', 'Identity (benchmarking)', 'Y/2 Y/2 X/2 X/2', 'Identity (benchmarking)', 'X/2 Y/2', 'Identity (benchmarking)', 'Y/2 X/2 X/2', 'Identity (benchmarking)', 'Y/2 Y/2 X/2', 'Identity (benchmarking)', 'Y/2 X/2', 'Identity (benchmarking)', 'Y/2 X/2 X/2', 'Identity (benchmarking)', 'I', 'Identity (benchmarking)', '-Υ/2', 'Identity (benchmarking)', 'Y/2 Y/2 X/2', 'Identity (benchmarking)', 'Y/2 X/2', 'Identity (benchmarking)', '-X/2', 'Identity (benchmarking)', 'X/2 Y/2 X/2', 'Identity (benchmarking)', 'Y/2 X/2 X/2', 'Identity (benchmarking)', 'Y/2 Y/2', 'Identity (benchmarking)', '-Υ/2', 'Identity (benchmarking)', 'X/2 Y/2 Y/2', 'Identity (benchmarking)', 'Y/2 Y/2', 'Identity (benchmarking)', '-Υ/2', 'Identity (benchmarking)', 'Y/2 Y/2', 'Identity (benchmarking)', 'X/2 Y/2 X/2', 'Identity (benchmarking)', '-X/2 Y/2', 'Identity (benchmarking)', 'Y/2 X/2 X/2', 'Identity (benchmarking)', 'Y/2', 'Identity (benchmarking)', 'Y/2 Y/2 X/2', 'Identity (benchmarking)', 'X/2', 'Identity (benchmarking)', 'X/2 X/2', 'Identity (benchmarking)', 'I', 'Identity (benchmarking)', 'Y/2 Y/2 X/2 X/2', 'Identity (benchmarking)', 'X/2', 'Identity (benchmarking)', 'Y/2 Y/2 X/2 X/2', 'Identity (benchmarking)', '-X/2 Y/2', 'Identity (benchmarking)', '-X/2 Y/2 X/2', 'Identity (benchmarking)', 'Y/2 Y/2', 'Identity (benchmarking)', 'I', 'Identity (benchmarking)', '-Υ/2 -X/2', 'Identity (benchmarking)', 'Y/2 Y/2 X/2', 'Identity (benchmarking)', 'X/2 Y/2 X/2', 'Identity (benchmarking)', 'X/2 Y/2', 'Identity (benchmarking)', 'Y/2', 'Identity (benchmarking)', '-X/2 Y/2', 'Identity (benchmarking)', 'X/2 Y/2 X/2', 'Identity (benchmarking)', 'Y/2 -X/2', 'Identity (benchmarking)', '-X/2', 'Identity (benchmarking)', 'I', 'Identity (benchmarking)', 'Y/2 Y/2 X/2 X/2', 'Identity (benchmarking)', '-Υ/2 X/2 Y/2', 'Identity (benchmarking)', '-X/2'],\n",
       "         ['-X/2 Y/2 X/2', 'Identity (benchmarking)', 'Y/2 Y/2 X/2', 'Identity (benchmarking)', '-Υ/2 -X/2', 'Identity (benchmarking)', 'Y/2 Y/2 X/2 X/2', 'Identity (benchmarking)', 'X/2 -Υ/2', 'Identity (benchmarking)', 'Y/2 X/2', 'Identity (benchmarking)', '-X/2', 'Identity (benchmarking)', '-Υ/2 X/2 X/2', 'Identity (benchmarking)', 'I', 'Identity (benchmarking)', '-X/2', 'Identity (benchmarking)', 'X/2 Y/2', 'Identity (benchmarking)', 'Y/2 -X/2 Y/2', 'Identity (benchmarking)', 'Y/2 X/2 X/2', 'Identity (benchmarking)', 'X/2 Y/2', 'Identity (benchmarking)', 'Y/2 X/2', 'Identity (benchmarking)', 'Y/2', 'Identity (benchmarking)', 'Y/2 Y/2 X/2 X/2', 'Identity (benchmarking)', 'Y/2 Y/2 X/2 X/2', 'Identity (benchmarking)', 'Y/2 -X/2', 'Identity (benchmarking)', 'Y/2 Y/2 X/2 X/2', 'Identity (benchmarking)', 'Y/2 Y/2 X/2 X/2', 'Identity (benchmarking)', 'X/2 X/2', 'Identity (benchmarking)', 'X/2 Y/2 Y/2', 'Identity (benchmarking)', 'Y/2 -X/2', 'Identity (benchmarking)', '-Υ/2 -X/2', 'Identity (benchmarking)', '-Υ/2 X/2 X/2', 'Identity (benchmarking)', 'X/2 X/2', 'Identity (benchmarking)', '-Υ/2', 'Identity (benchmarking)', 'X/2', 'Identity (benchmarking)', 'Y/2 Y/2', 'Identity (benchmarking)', 'Y/2', 'Identity (benchmarking)', '-Υ/2 -X/2', 'Identity (benchmarking)', 'Y/2 Y/2 X/2 X/2', 'Identity (benchmarking)', '-X/2', 'Identity (benchmarking)', 'Y/2 Y/2 X/2 X/2', 'Identity (benchmarking)', 'Y/2 Y/2 X/2 X/2', 'Identity (benchmarking)', 'Y/2 X/2 X/2', 'Identity (benchmarking)', 'Y/2 Y/2', 'Identity (benchmarking)', '-Υ/2 X/2 Y/2', 'Identity (benchmarking)', 'X/2', 'Identity (benchmarking)', '-Υ/2 -X/2', 'Identity (benchmarking)', 'X/2', 'Identity (benchmarking)', 'X/2 Y/2 Y/2', 'Identity (benchmarking)', 'X/2 X/2', 'Identity (benchmarking)', '-Υ/2', 'Identity (benchmarking)', 'Y/2 Y/2', 'Identity (benchmarking)', 'Y/2 Y/2 X/2 X/2', 'Identity (benchmarking)', 'Y/2 X/2', 'Identity (benchmarking)', 'I', 'Identity (benchmarking)', 'Y/2 Y/2 X/2', 'Identity (benchmarking)', 'Y/2'],\n",
       "         ['-Υ/2 X/2 Y/2', 'Identity (benchmarking)', 'Y/2 -X/2 Y/2', 'Identity (benchmarking)', '-X/2', 'Identity (benchmarking)', '-X/2 Y/2', 'Identity (benchmarking)', 'Y/2 -X/2', 'Identity (benchmarking)', 'Y/2 X/2', 'Identity (benchmarking)', '-X/2 -Υ/2', 'Identity (benchmarking)', 'Y/2 -X/2 Y/2', 'Identity (benchmarking)', '-Υ/2 X/2', 'Identity (benchmarking)', 'X/2 X/2', 'Identity (benchmarking)', 'X/2', 'Identity (benchmarking)', 'X/2 Y/2 X/2', 'Identity (benchmarking)', 'X/2 Y/2', 'Identity (benchmarking)', 'Y/2 X/2 X/2', 'Identity (benchmarking)', 'X/2 -Υ/2', 'Identity (benchmarking)', 'Y/2 -X/2 Y/2', 'Identity (benchmarking)', 'Y/2 X/2 X/2', 'Identity (benchmarking)', 'Y/2 Y/2 X/2 X/2', 'Identity (benchmarking)', 'X/2', 'Identity (benchmarking)', 'Y/2', 'Identity (benchmarking)', 'X/2 -Υ/2', 'Identity (benchmarking)', 'X/2 Y/2 Y/2', 'Identity (benchmarking)', 'Y/2', 'Identity (benchmarking)', 'Y/2 -X/2', 'Identity (benchmarking)', 'X/2 X/2', 'Identity (benchmarking)', 'Y/2 X/2 X/2', 'Identity (benchmarking)', 'X/2 Y/2 X/2', 'Identity (benchmarking)', '-Υ/2 X/2', 'Identity (benchmarking)', '-X/2 -Υ/2', 'Identity (benchmarking)', 'Y/2 Y/2', 'Identity (benchmarking)', '-Υ/2 -X/2', 'Identity (benchmarking)', '-X/2', 'Identity (benchmarking)', 'Y/2 Y/2 X/2', 'Identity (benchmarking)', '-Υ/2 X/2 X/2', 'Identity (benchmarking)', 'Y/2 Y/2 X/2 X/2', 'Identity (benchmarking)', '-X/2 Y/2', 'Identity (benchmarking)', '-Υ/2 -X/2', 'Identity (benchmarking)', '-Υ/2 -X/2', 'Identity (benchmarking)', 'Y/2 -X/2', 'Identity (benchmarking)', 'X/2 Y/2 X/2', 'Identity (benchmarking)', '-X/2', 'Identity (benchmarking)', '-Υ/2', 'Identity (benchmarking)', 'X/2 Y/2 X/2', 'Identity (benchmarking)', '-Υ/2 X/2 X/2', 'Identity (benchmarking)', '-X/2 Y/2 X/2', 'Identity (benchmarking)', '-X/2 Y/2 X/2', 'Identity (benchmarking)', '-X/2 Y/2 X/2', 'Identity (benchmarking)', '-Υ/2 -X/2', 'Identity (benchmarking)', '-X/2 Y/2 X/2', 'Identity (benchmarking)', 'Y/2 Y/2', 'Identity (benchmarking)', '-X/2'],\n",
       "         ['-X/2 Y/2', 'Identity (benchmarking)', '-Υ/2', 'Identity (benchmarking)', 'Y/2 Y/2 X/2 X/2', 'Identity (benchmarking)', '-X/2 Y/2', 'Identity (benchmarking)', 'X/2 Y/2 Y/2', 'Identity (benchmarking)', 'X/2 Y/2 X/2', 'Identity (benchmarking)', '-Υ/2', 'Identity (benchmarking)', '-Υ/2 -X/2', 'Identity (benchmarking)', '-X/2', 'Identity (benchmarking)', 'I', 'Identity (benchmarking)', '-X/2 Y/2 X/2', 'Identity (benchmarking)', 'X/2 Y/2', 'Identity (benchmarking)', 'X/2 -Υ/2', 'Identity (benchmarking)', '-Υ/2 X/2 Y/2', 'Identity (benchmarking)', 'X/2 Y/2 Y/2', 'Identity (benchmarking)', 'Y/2 -X/2', 'Identity (benchmarking)', 'Y/2 Y/2', 'Identity (benchmarking)', '-X/2 Y/2 X/2', 'Identity (benchmarking)', 'Y/2 Y/2 X/2 X/2', 'Identity (benchmarking)', 'X/2 Y/2 Y/2', 'Identity (benchmarking)', '-X/2 -Υ/2', 'Identity (benchmarking)', 'X/2 Y/2 Y/2', 'Identity (benchmarking)', 'X/2 Y/2 X/2', 'Identity (benchmarking)', 'Y/2 X/2', 'Identity (benchmarking)', 'X/2 Y/2 Y/2', 'Identity (benchmarking)', 'Y/2 Y/2 X/2 X/2', 'Identity (benchmarking)', '-Υ/2 -X/2', 'Identity (benchmarking)', 'Y/2 -X/2', 'Identity (benchmarking)', '-X/2 Y/2 X/2', 'Identity (benchmarking)', '-X/2 -Υ/2', 'Identity (benchmarking)', 'Y/2', 'Identity (benchmarking)', 'X/2', 'Identity (benchmarking)', 'X/2 X/2', 'Identity (benchmarking)', 'Y/2 Y/2 X/2 X/2', 'Identity (benchmarking)', '-Υ/2 X/2 Y/2', 'Identity (benchmarking)', 'Y/2 X/2', 'Identity (benchmarking)', '-Υ/2 X/2 X/2', 'Identity (benchmarking)', 'Y/2 X/2', 'Identity (benchmarking)', '-Υ/2 X/2', 'Identity (benchmarking)', '-X/2 Y/2 X/2', 'Identity (benchmarking)', '-X/2 Y/2', 'Identity (benchmarking)', '-X/2 Y/2 X/2', 'Identity (benchmarking)', 'I', 'Identity (benchmarking)', 'Y/2 Y/2', 'Identity (benchmarking)', 'X/2 Y/2 X/2', 'Identity (benchmarking)', 'Y/2', 'Identity (benchmarking)', 'I', 'Identity (benchmarking)', 'Y/2', 'Identity (benchmarking)', 'X/2 -Υ/2', 'Identity (benchmarking)', 'Y/2 X/2 X/2', 'Identity (benchmarking)', 'X/2 X/2'],\n",
       "         ['-Υ/2 X/2', 'Identity (benchmarking)', 'Y/2 Y/2 X/2 X/2', 'Identity (benchmarking)', '-X/2', 'Identity (benchmarking)', 'Y/2 Y/2 X/2', 'Identity (benchmarking)', '-X/2', 'Identity (benchmarking)', '-X/2 -Υ/2', 'Identity (benchmarking)', 'X/2 X/2', 'Identity (benchmarking)', 'Y/2 Y/2', 'Identity (benchmarking)', 'Y/2 Y/2 X/2 X/2', 'Identity (benchmarking)', 'Y/2 X/2 X/2', 'Identity (benchmarking)', 'Y/2 Y/2 X/2 X/2', 'Identity (benchmarking)', 'I', 'Identity (benchmarking)', 'Y/2 Y/2 X/2 X/2', 'Identity (benchmarking)', '-Υ/2', 'Identity (benchmarking)', 'X/2 Y/2 Y/2', 'Identity (benchmarking)', 'Y/2 -X/2 Y/2', 'Identity (benchmarking)', 'X/2 Y/2 Y/2', 'Identity (benchmarking)', 'I', 'Identity (benchmarking)', 'Y/2 -X/2', 'Identity (benchmarking)', 'Y/2', 'Identity (benchmarking)', '-Υ/2 X/2', 'Identity (benchmarking)', 'X/2 X/2', 'Identity (benchmarking)', '-Υ/2 -X/2', 'Identity (benchmarking)', 'X/2 X/2', 'Identity (benchmarking)', '-X/2 Y/2 X/2', 'Identity (benchmarking)', '-Υ/2 X/2', 'Identity (benchmarking)', 'X/2 -Υ/2', 'Identity (benchmarking)', '-X/2 Y/2', 'Identity (benchmarking)', '-Υ/2 X/2 Y/2', 'Identity (benchmarking)', 'Y/2 Y/2 X/2', 'Identity (benchmarking)', 'X/2', 'Identity (benchmarking)', 'X/2 -Υ/2', 'Identity (benchmarking)', 'X/2 -Υ/2', 'Identity (benchmarking)', 'Y/2 Y/2 X/2', 'Identity (benchmarking)', '-X/2 Y/2', 'Identity (benchmarking)', 'X/2 Y/2 Y/2', 'Identity (benchmarking)', 'Y/2 X/2', 'Identity (benchmarking)', 'Y/2 X/2 X/2', 'Identity (benchmarking)', 'Y/2 Y/2 X/2', 'Identity (benchmarking)', 'X/2 Y/2 Y/2', 'Identity (benchmarking)', '-Υ/2', 'Identity (benchmarking)', 'Y/2 X/2', 'Identity (benchmarking)', 'Y/2 -X/2 Y/2', 'Identity (benchmarking)', 'Y/2 X/2 X/2', 'Identity (benchmarking)', 'X/2 Y/2 Y/2', 'Identity (benchmarking)', 'X/2 X/2', 'Identity (benchmarking)', 'I', 'Identity (benchmarking)', 'Y/2 -X/2', 'Identity (benchmarking)', 'Y/2 -X/2', 'Identity (benchmarking)', 'X/2', 'Identity (benchmarking)', '-X/2'],\n",
       "         ['Y/2 X/2 X/2', 'Identity (benchmarking)', '-X/2', 'Identity (benchmarking)', '-X/2 -Υ/2', 'Identity (benchmarking)', 'X/2 Y/2 X/2', 'Identity (benchmarking)', '-X/2 -Υ/2', 'Identity (benchmarking)', 'Y/2 X/2 X/2', 'Identity (benchmarking)', 'Y/2 Y/2', 'Identity (benchmarking)', 'X/2 -Υ/2', 'Identity (benchmarking)', 'X/2', 'Identity (benchmarking)', 'Y/2 -X/2 Y/2', 'Identity (benchmarking)', 'Y/2 Y/2', 'Identity (benchmarking)', 'X/2', 'Identity (benchmarking)', 'Y/2 -X/2 Y/2', 'Identity (benchmarking)', 'Y/2 Y/2', 'Identity (benchmarking)', 'X/2 X/2', 'Identity (benchmarking)', 'X/2 -Υ/2', 'Identity (benchmarking)', 'X/2 Y/2', 'Identity (benchmarking)', 'Y/2 -X/2 Y/2', 'Identity (benchmarking)', 'Y/2 -X/2 Y/2', 'Identity (benchmarking)', '-Υ/2 X/2 X/2', 'Identity (benchmarking)', 'X/2 Y/2', 'Identity (benchmarking)', 'X/2', 'Identity (benchmarking)', '-X/2 -Υ/2', 'Identity (benchmarking)', 'Y/2 X/2 X/2', 'Identity (benchmarking)', '-X/2 Y/2 X/2', 'Identity (benchmarking)', '-X/2 Y/2 X/2', 'Identity (benchmarking)', '-Υ/2 -X/2', 'Identity (benchmarking)', 'X/2', 'Identity (benchmarking)', 'X/2 Y/2 Y/2', 'Identity (benchmarking)', 'X/2 Y/2 Y/2', 'Identity (benchmarking)', 'X/2 X/2', 'Identity (benchmarking)', '-Υ/2', 'Identity (benchmarking)', 'Y/2 Y/2', 'Identity (benchmarking)', 'X/2 Y/2', 'Identity (benchmarking)', 'Y/2 X/2 X/2', 'Identity (benchmarking)', '-X/2', 'Identity (benchmarking)', 'Y/2 X/2 X/2', 'Identity (benchmarking)', 'Y/2 -X/2 Y/2', 'Identity (benchmarking)', '-Υ/2 -X/2', 'Identity (benchmarking)', '-Υ/2 X/2', 'Identity (benchmarking)', 'I', 'Identity (benchmarking)', 'Y/2 X/2 X/2', 'Identity (benchmarking)', 'Y/2 Y/2', 'Identity (benchmarking)', '-Υ/2', 'Identity (benchmarking)', '-X/2 -Υ/2', 'Identity (benchmarking)', 'I', 'Identity (benchmarking)', '-X/2 -Υ/2', 'Identity (benchmarking)', '-Υ/2 X/2', 'Identity (benchmarking)', 'X/2 -Υ/2', 'Identity (benchmarking)', 'X/2 Y/2', 'Identity (benchmarking)', 'X/2 X/2'],\n",
       "         ['-Υ/2 X/2', 'Identity (benchmarking)', '-Υ/2 -X/2', 'Identity (benchmarking)', '-Υ/2 -X/2', 'Identity (benchmarking)', '-X/2', 'Identity (benchmarking)', '-Υ/2 X/2', 'Identity (benchmarking)', 'Y/2 X/2', 'Identity (benchmarking)', '-Υ/2 -X/2', 'Identity (benchmarking)', 'Y/2 X/2 X/2', 'Identity (benchmarking)', '-Υ/2 X/2 Y/2', 'Identity (benchmarking)', 'I', 'Identity (benchmarking)', 'Y/2 Y/2 X/2 X/2', 'Identity (benchmarking)', 'Y/2 X/2 X/2', 'Identity (benchmarking)', '-Υ/2 X/2 Y/2', 'Identity (benchmarking)', 'Y/2 -X/2 Y/2', 'Identity (benchmarking)', '-Υ/2 -X/2', 'Identity (benchmarking)', 'Y/2 Y/2 X/2', 'Identity (benchmarking)', '-X/2 Y/2', 'Identity (benchmarking)', 'X/2 -Υ/2', 'Identity (benchmarking)', 'X/2 Y/2 X/2', 'Identity (benchmarking)', '-Υ/2 -X/2', 'Identity (benchmarking)', 'Y/2 X/2', 'Identity (benchmarking)', '-X/2 -Υ/2', 'Identity (benchmarking)', '-X/2 Y/2', 'Identity (benchmarking)', 'Y/2 Y/2', 'Identity (benchmarking)', '-X/2 Y/2', 'Identity (benchmarking)', 'Y/2 -X/2 Y/2', 'Identity (benchmarking)', 'X/2 Y/2 X/2', 'Identity (benchmarking)', '-X/2 Y/2', 'Identity (benchmarking)', 'Y/2 X/2', 'Identity (benchmarking)', '-Υ/2', 'Identity (benchmarking)', 'I', 'Identity (benchmarking)', 'X/2 -Υ/2', 'Identity (benchmarking)', 'Y/2 Y/2 X/2', 'Identity (benchmarking)', 'X/2', 'Identity (benchmarking)', 'Y/2 Y/2 X/2 X/2', 'Identity (benchmarking)', 'Y/2 X/2 X/2', 'Identity (benchmarking)', 'Y/2', 'Identity (benchmarking)', '-Υ/2 X/2', 'Identity (benchmarking)', '-Υ/2 X/2', 'Identity (benchmarking)', 'X/2 X/2', 'Identity (benchmarking)', '-X/2', 'Identity (benchmarking)', '-X/2 Y/2', 'Identity (benchmarking)', '-X/2 Y/2 X/2', 'Identity (benchmarking)', '-Υ/2 X/2 X/2', 'Identity (benchmarking)', '-Υ/2', 'Identity (benchmarking)', '-Υ/2 X/2 Y/2', 'Identity (benchmarking)', '-X/2 Y/2', 'Identity (benchmarking)', '-Υ/2 X/2', 'Identity (benchmarking)', '-Υ/2 X/2', 'Identity (benchmarking)', 'X/2', 'Identity (benchmarking)', '-X/2'],\n",
       "         ['Y/2 -X/2', 'Identity (benchmarking)', 'X/2', 'Identity (benchmarking)', '-Υ/2 X/2 X/2', 'Identity (benchmarking)', 'Y/2 Y/2', 'Identity (benchmarking)', 'Y/2 X/2', 'Identity (benchmarking)', '-Υ/2', 'Identity (benchmarking)', 'Y/2 Y/2 X/2', 'Identity (benchmarking)', 'X/2 Y/2 Y/2', 'Identity (benchmarking)', '-Υ/2 -X/2', 'Identity (benchmarking)', '-Υ/2 -X/2', 'Identity (benchmarking)', 'Y/2 Y/2', 'Identity (benchmarking)', '-Υ/2 X/2', 'Identity (benchmarking)', '-X/2 Y/2', 'Identity (benchmarking)', 'Y/2', 'Identity (benchmarking)', '-X/2 -Υ/2', 'Identity (benchmarking)', 'Y/2 -X/2', 'Identity (benchmarking)', '-Υ/2 X/2 Y/2', 'Identity (benchmarking)', '-Υ/2 X/2', 'Identity (benchmarking)', '-X/2', 'Identity (benchmarking)', 'Y/2 X/2 X/2', 'Identity (benchmarking)', '-Υ/2 X/2 Y/2', 'Identity (benchmarking)', 'X/2 Y/2 X/2', 'Identity (benchmarking)', 'X/2 Y/2 Y/2', 'Identity (benchmarking)', 'X/2 Y/2', 'Identity (benchmarking)', 'Y/2 X/2 X/2', 'Identity (benchmarking)', 'X/2 -Υ/2', 'Identity (benchmarking)', 'Y/2', 'Identity (benchmarking)', 'Y/2 X/2', 'Identity (benchmarking)', '-Υ/2 X/2 Y/2', 'Identity (benchmarking)', 'Y/2 -X/2 Y/2', 'Identity (benchmarking)', '-X/2 -Υ/2', 'Identity (benchmarking)', 'Y/2 Y/2 X/2', 'Identity (benchmarking)', 'X/2 -Υ/2', 'Identity (benchmarking)', 'X/2 Y/2 Y/2', 'Identity (benchmarking)', '-X/2 Y/2 X/2', 'Identity (benchmarking)', '-X/2', 'Identity (benchmarking)', 'Y/2 X/2', 'Identity (benchmarking)', '-X/2 -Υ/2', 'Identity (benchmarking)', '-X/2 -Υ/2', 'Identity (benchmarking)', 'Y/2 -X/2', 'Identity (benchmarking)', '-Υ/2 X/2 X/2', 'Identity (benchmarking)', 'X/2', 'Identity (benchmarking)', '-X/2 -Υ/2', 'Identity (benchmarking)', '-X/2', 'Identity (benchmarking)', 'X/2 -Υ/2', 'Identity (benchmarking)', 'X/2 Y/2', 'Identity (benchmarking)', '-Υ/2 X/2', 'Identity (benchmarking)', '-Υ/2 X/2', 'Identity (benchmarking)', 'Y/2 Y/2', 'Identity (benchmarking)', '-Υ/2 -X/2', 'Identity (benchmarking)', '-X/2'],\n",
       "         ['Y/2 -X/2', 'Identity (benchmarking)', 'Y/2 Y/2', 'Identity (benchmarking)', 'X/2 -Υ/2', 'Identity (benchmarking)', 'Y/2 Y/2', 'Identity (benchmarking)', 'Y/2 -X/2 Y/2', 'Identity (benchmarking)', '-Υ/2 X/2', 'Identity (benchmarking)', 'X/2 Y/2 X/2', 'Identity (benchmarking)', 'I', 'Identity (benchmarking)', 'Y/2 -X/2', 'Identity (benchmarking)', '-Υ/2 X/2 X/2', 'Identity (benchmarking)', 'I', 'Identity (benchmarking)', '-Υ/2 X/2 Y/2', 'Identity (benchmarking)', 'X/2 Y/2', 'Identity (benchmarking)', 'Y/2 X/2 X/2', 'Identity (benchmarking)', '-Υ/2', 'Identity (benchmarking)', '-X/2 Y/2', 'Identity (benchmarking)', 'X/2', 'Identity (benchmarking)', 'Y/2 -X/2 Y/2', 'Identity (benchmarking)', 'Y/2', 'Identity (benchmarking)', 'Y/2 X/2', 'Identity (benchmarking)', 'Y/2 Y/2', 'Identity (benchmarking)', 'Y/2', 'Identity (benchmarking)', '-X/2 Y/2 X/2', 'Identity (benchmarking)', 'Y/2 X/2 X/2', 'Identity (benchmarking)', '-X/2', 'Identity (benchmarking)', '-Υ/2 -X/2', 'Identity (benchmarking)', 'Y/2 -X/2 Y/2', 'Identity (benchmarking)', 'Y/2 Y/2 X/2', 'Identity (benchmarking)', '-X/2 -Υ/2', 'Identity (benchmarking)', 'Y/2 Y/2 X/2 X/2', 'Identity (benchmarking)', '-Υ/2 X/2 Y/2', 'Identity (benchmarking)', 'Y/2 -X/2 Y/2', 'Identity (benchmarking)', 'Y/2 Y/2 X/2', 'Identity (benchmarking)', 'X/2', 'Identity (benchmarking)', 'X/2', 'Identity (benchmarking)', 'X/2', 'Identity (benchmarking)', 'X/2', 'Identity (benchmarking)', '-Υ/2 -X/2', 'Identity (benchmarking)', 'Y/2 -X/2 Y/2', 'Identity (benchmarking)', 'X/2 X/2', 'Identity (benchmarking)', '-X/2 Y/2', 'Identity (benchmarking)', 'X/2 Y/2 Y/2', 'Identity (benchmarking)', 'Y/2 -X/2 Y/2', 'Identity (benchmarking)', 'Y/2', 'Identity (benchmarking)', '-X/2', 'Identity (benchmarking)', 'Y/2 Y/2 X/2', 'Identity (benchmarking)', 'Y/2 X/2 X/2', 'Identity (benchmarking)', 'Y/2 Y/2 X/2', 'Identity (benchmarking)', 'Y/2 X/2 X/2', 'Identity (benchmarking)', 'X/2 Y/2 X/2', 'Identity (benchmarking)', '-Υ/2']]], dtype=object),\n",
       " {},\n",
       " ('', ''))"
      ]
     },
     "execution_count": 82,
     "metadata": {},
     "output_type": "execute_result"
    }
   ],
   "source": [
    "clifford_location='D:\\\\qtlab\\\\ReiData\\\\data\\\\2017-11-02\\\\21-07-16'\n",
    "name='distance None'\n",
    "clifford_bench = {}\n",
    "clifford_bench = save_pkl.load_pkl(name, clifford_location)[1]\n",
    "#clifford_bench['distance']\n",
    "clifford_bench['Pulse sequence']"
   ]
  },
  {
   "cell_type": "code",
   "execution_count": 89,
   "metadata": {},
   "outputs": [
    {
     "data": {
      "text/plain": [
       "[['-X/2 -Υ/2', '-Υ/2', 'X/2 Y/2', 'Y/2 X/2 X/2', 'Y/2', '-Υ/2'],\n",
       " ['Y/2 Y/2', '-Υ/2', '-X/2 Y/2 X/2', '-Υ/2 X/2 Y/2', 'X/2 Y/2', 'X/2 X/2'],\n",
       " ['-X/2 Y/2 X/2', 'X/2 -Υ/2', '-Υ/2', 'X/2 Y/2 Y/2', 'X/2 Y/2 X/2', 'X/2 X/2'],\n",
       " ['Y/2 Y/2', 'Y/2 X/2 X/2', 'X/2', 'X/2', 'Y/2 X/2', '-X/2'],\n",
       " ['Y/2 Y/2', 'X/2 -Υ/2', 'Y/2 X/2 X/2', 'Y/2 -X/2 Y/2', '-Υ/2', 'I'],\n",
       " ['-X/2 -Υ/2', 'X/2 Y/2 Y/2', 'X/2 Y/2', '-Υ/2 -X/2', '-Υ/2', '-Υ/2'],\n",
       " ['X/2', '-X/2 Y/2 X/2', 'X/2 Y/2', 'X/2 -Υ/2', 'Y/2 X/2', 'I'],\n",
       " ['Y/2 -X/2', 'Y/2 X/2 X/2', 'X/2 -Υ/2', 'X/2 Y/2 X/2', 'Y/2 -X/2 Y/2', 'X/2'],\n",
       " ['X/2 Y/2 Y/2',\n",
       "  'Y/2 -X/2 Y/2',\n",
       "  'X/2 X/2',\n",
       "  'Y/2 Y/2',\n",
       "  'Y/2 Y/2 X/2 X/2',\n",
       "  '-Υ/2'],\n",
       " ['Y/2 -X/2 Y/2',\n",
       "  'Y/2 Y/2 X/2',\n",
       "  '-Υ/2 X/2 Y/2',\n",
       "  '-Υ/2 X/2 X/2',\n",
       "  '-Υ/2 -X/2',\n",
       "  'Y/2']]"
      ]
     },
     "execution_count": 89,
     "metadata": {},
     "output_type": "execute_result"
    }
   ],
   "source": [
    "print([clifford_bench['Pulse sequence'][2][1][i][::2] for i in range(len(clifford_bench['Pulse sequence'][2][1]))])\n",
    "print([clifford_bench['Pulse sequence'][2][1][i][::2] for i in range(len(clifford_bench['Pulse sequence'][2][1]))])"
   ]
  },
  {
   "cell_type": "code",
   "execution_count": 90,
   "metadata": {},
   "outputs": [
    {
     "data": {
      "text/plain": [
       "array([ 0.31   ,  0.32096,  0.31178,  0.31158,  0.30912,  0.31068,\n",
       "        0.31074,  0.3155 ,  0.31622,  0.32042])"
      ]
     },
     "execution_count": 90,
     "metadata": {},
     "output_type": "execute_result"
    }
   ],
   "source": [
    "clifford_bench['distance'][2][1,:]"
   ]
  },
  {
   "cell_type": "code",
   "execution_count": 73,
   "metadata": {},
   "outputs": [
    {
     "name": "stdout",
     "output_type": "stream",
     "text": [
      "D:\\qtlab\\ReiData\\data\\2017-11-02\\22-14-16/distance None.pkl\n"
     ]
    }
   ],
   "source": [
    "not_location='D:\\\\qtlab\\\\ReiData\\\\data\\\\2017-11-02\\\\22-14-16'\n",
    "name='distance None'\n",
    "not_bench = {}\n",
    "not_bench = save_pkl.load_pkl(name, not_location)[1]\n",
    "#clifford_bench['distance']\n",
    "pass"
   ]
  },
  {
   "cell_type": "code",
   "execution_count": 75,
   "metadata": {},
   "outputs": [
    {
     "name": "stdout",
     "output_type": "stream",
     "text": [
      "D:\\qtlab\\ReiData\\data\\2017-11-02\\21-40-30/distance None.pkl\n"
     ]
    }
   ],
   "source": [
    "hadamard_location='D:\\\\qtlab\\\\ReiData\\\\data\\\\2017-11-02\\\\21-40-30'\n",
    "name='distance None'\n",
    "hadamard_bench = {}\n",
    "hadamard_bench = save_pkl.load_pkl(name, hadamard_location)[1]\n",
    "#clifford_bench['distance']\n",
    "pass"
   ]
  },
  {
   "cell_type": "markdown",
   "metadata": {},
   "source": [
    "## interleaved benchmarking of H gate and NOT"
   ]
  },
  {
   "cell_type": "code",
   "execution_count": null,
   "metadata": {
    "collapsed": true
   },
   "outputs": [],
   "source": [
    "import interleaved_benchmarking\n",
    "imp.reload(interleaved_benchmarking)\n",
    "\n",
    "bench = interleaved_benchmarking.interleaved_benchmarking(tomoz)\n",
    "\n",
    "bench.interleavers = clifford_group\n",
    "bench.random_sequence_num = 10\n",
    "bench.target_gate = clifford_group['Y/2 X/2 X/2']['pulses'] # NOT\n",
    "bench.target_gate_name = 'Hadamard'\n",
    "bench.target_gate_unitary = clifford_group['Y/2 X/2 X/2']['unitary']\n"
   ]
  },
  {
   "cell_type": "code",
   "execution_count": null,
   "metadata": {
    "collapsed": true,
    "scrolled": true
   },
   "outputs": [],
   "source": [
    "seq_lengths = np.arange(0, 51, 5)\n",
    "random_sequence_ids = np.arange(bench.random_sequence_num)\n",
    "bench.prepare_random_interleaving_sequences()\n",
    "hadamard_bench = sweep.sweep(bench,\n",
    "                             (seq_lengths, bench.set_sequence_length_and_regenerate, 'Gate number', ''), \n",
    "                             (random_sequence_ids, bench.set_interleaved_sequence, 'Random sequence id', ''))"
   ]
  },
  {
   "cell_type": "code",
   "execution_count": 78,
   "metadata": {},
   "outputs": [
    {
     "name": "stdout",
     "output_type": "stream",
     "text": [
      "Clifford fidelity:  0.989\n",
      "Hadamard+Clifford fidelity:  0.982\n",
      "Hadamard error rate:  0.007\n"
     ]
    }
   ],
   "source": [
    "imp.reload(fitting)\n",
    "plt.plot(clifford_bench['distance'][1][0], 1-clifford_bench['distance'][2], marker='o', color='black', linestyle='')\n",
    "#plt.plot(clifford_bench['distance'][1][0], np.mean(1-clifford_bench['distance'][2], axis=1), label='Cliffords (average)')\n",
    "plt.plot(hadamard_bench['distance'][1][0], 1-hadamard_bench['distance'][2], marker='o', color='blue', linestyle='')\n",
    "#plt.plot(hadamard_bench['distance'][1][0], np.mean(1-hadamard_bench['distance'][2], axis=1), label='Hadamard interleaved (average)')\n",
    "clifford_fitresults, clifford_expfit = fitting.exp_fit1d(clifford_bench['distance'][1][0], \n",
    "                                                        np.reshape(np.mean(1-clifford_bench['distance'][2], axis=1), \n",
    "                                                                   (1, len(clifford_bench['distance'][1][0]))))\n",
    "hadamard_fitresults, hadamard_expfit = fitting.exp_fit1d(hadamard_bench['distance'][1][0], \n",
    "                                                        np.reshape(np.mean(1-hadamard_bench['distance'][2], axis=1), \n",
    "                                                                   (1, len(hadamard_bench['distance'][1][0]))))\n",
    "plt.plot(clifford_bench['distance'][1][0],clifford_expfit[0], label='Cliffords (fit)')\n",
    "plt.plot(hadamard_bench['distance'][1][0],hadamard_expfit[0], label='Hadamard (fit)')#, linestyle='-', marker='')\n",
    "print('''Clifford fidelity: {0:6.3f}\n",
    "Hadamard+Clifford fidelity: {1:6.3f}\n",
    "Hadamard error rate: {2:6.3f}'''.format(np.exp(-1/clifford_fitresults[0]), \n",
    "                                        np.exp(-1/hadamard_fitresults[0]),\n",
    "                                       1-np.exp(-1/hadamard_fitresults[0])/np.exp(-1/clifford_fitresults[0])))\n",
    "plt.xlabel(clifford_bench['distance'][0][0])\n",
    "plt.ylabel('Fidelity')\n",
    "plt.legend()\n",
    "plt.grid()"
   ]
  },
  {
   "cell_type": "code",
   "execution_count": null,
   "metadata": {
    "collapsed": true
   },
   "outputs": [],
   "source": [
    "import interleaved_benchmarking\n",
    "imp.reload(interleaved_benchmarking)\n",
    "\n",
    "bench = interleaved_benchmarking.interleaved_benchmarking(tomoz)\n",
    "\n",
    "bench.interleavers = clifford_group\n",
    "bench.random_sequence_num = 10\n",
    "bench.target_gate = clifford_group['X/2 X/2']['pulses'] # NOT\n",
    "bench.target_gate_name = 'NOT'\n",
    "bench.target_gate_unitary = clifford_group['X/2 X/2']['unitary']\n"
   ]
  },
  {
   "cell_type": "code",
   "execution_count": null,
   "metadata": {
    "collapsed": true,
    "scrolled": true
   },
   "outputs": [],
   "source": [
    "seq_lengths = np.arange(0, 51, 5)\n",
    "random_sequence_ids = np.arange(bench.random_sequence_num)\n",
    "bench.prepare_random_interleaving_sequences()\n",
    "not_bench = sweep.sweep(bench,\n",
    "                             (seq_lengths, bench.set_sequence_length_and_regenerate, 'Gate number', ''), \n",
    "                             (random_sequence_ids, bench.set_interleaved_sequence, 'Random sequence id', ''))"
   ]
  },
  {
   "cell_type": "code",
   "execution_count": 81,
   "metadata": {},
   "outputs": [
    {
     "name": "stdout",
     "output_type": "stream",
     "text": [
      "Clifford fidelity:  0.989\n",
      "Hadamard+Clifford fidelity:  0.982\n",
      "NOT+Clifford fidelity:  0.984\n",
      "Hadamard error rate:  0.007\n",
      "NOT error rate:  0.005\n"
     ]
    }
   ],
   "source": [
    "imp.reload(fitting)\n",
    "plt.plot(clifford_bench['distance'][1][0], 1-clifford_bench['distance'][2], marker='o', color='black', linestyle='')\n",
    "#plt.plot(clifford_bench['distance'][1][0], np.mean(1-clifford_bench['distance'][2], axis=1), label='Cliffords (mean)')\n",
    "plt.plot(hadamard_bench['distance'][1][0], 1-hadamard_bench['distance'][2], marker='o', color='blue', linestyle='')\n",
    "#plt.plot(hadamard_bench['distance'][1][0], np.mean(1-hadamard_bench['distance'][2], axis=1), label='H interleaved (mean)')\n",
    "plt.plot(not_bench['distance'][1][0], 1-not_bench['distance'][2], marker='o', color='red', linestyle='')\n",
    "#plt.plot(not_bench['distance'][1][0], np.mean(1-not_bench['distance'][2], axis=1), label='NOT interleaved (mean)')\n",
    "clifford_fitresults, clifford_expfit = fitting.exp_fit1d(clifford_bench['distance'][1][0], \n",
    "                                                        np.reshape(np.mean(1-clifford_bench['distance'][2], axis=1), \n",
    "                                                                   (1, len(clifford_bench['distance'][1][0]))))\n",
    "hadamard_fitresults, hadamard_expfit = fitting.exp_fit1d(hadamard_bench['distance'][1][0], \n",
    "                                                        np.reshape(np.mean(1-hadamard_bench['distance'][2], axis=1), \n",
    "                                                                   (1, len(hadamard_bench['distance'][1][0]))))\n",
    "not_fitresults, not_expfit = fitting.exp_fit1d(not_bench['distance'][1][0], \n",
    "                                                        np.reshape(np.mean(1-not_bench['distance'][2], axis=1), \n",
    "                                                                   (1, len(not_bench['distance'][1][0]))))\n",
    "plt.plot(clifford_bench['distance'][1][0],clifford_expfit[0], label='Cliffords (fit)')\n",
    "plt.plot(hadamard_bench['distance'][1][0],hadamard_expfit[0], label='Hadamard (fit)')#, linestyle='-', marker='')\n",
    "plt.plot(not_bench['distance'][1][0],not_expfit[0], label='NOT (fit)')\n",
    "print('''Clifford fidelity: {0:6.3f}\n",
    "Hadamard+Clifford fidelity: {1:6.3f}\n",
    "NOT+Clifford fidelity: {3:6.3f}\n",
    "Hadamard error rate: {2:6.3f}\n",
    "NOT error rate: {4:6.3f}'''.format(np.exp(-1/clifford_fitresults[0]), \n",
    "                                        np.exp(-1/hadamard_fitresults[0]),\n",
    "                                       1-np.exp(-1/hadamard_fitresults[0])/np.exp(-1/clifford_fitresults[0]), \n",
    "                                        np.exp(-1/not_fitresults[0]),\n",
    "                                       1-np.exp(-1/not_fitresults[0])/np.exp(-1/clifford_fitresults[0])))\n",
    "plt.xlabel(clifford_bench['distance'][0][0])\n",
    "plt.ylabel('Fidelity')\n",
    "plt.legend()\n",
    "plt.grid()"
   ]
  },
  {
   "cell_type": "code",
   "execution_count": null,
   "metadata": {
    "collapsed": true
   },
   "outputs": [],
   "source": [
    "bench.target_gate = bench.interleavers['X']['pulses']\n",
    "bench.target_gate_unitary = bench.interleavers['X']['unitary']\n",
    "bench.target_gate_name = 'X (benchmarking)'\n",
    "tfunc = lambda : np.mean(bench.measure()['Euclidean distance'])\n",
    "class hd_pulse_generator:\n",
    "    def __init__(self, pulse_setter, pg, channel):\n",
    "        self.amp_x = -amp_x_hd\n",
    "        self.amp_y = amp_x_hd\n",
    "        self.sigma = sigma_hd\n",
    "        self.length = length_hd\n",
    "        self.pause_length = pause_length_hd\n",
    "        self.alpha = alpha_hd\n",
    "        \n",
    "        self.pg = pg\n",
    "        self.channel = channel\n",
    "        self.pulse = self.pulse_gen()\n",
    "        self.pulse_setter = pulse_setter\n",
    "    def set_real_amplitude(self,x):\n",
    "        self.amp_x = x\n",
    "        self.pulse_setter(self.pulse_gen())\n",
    "    def set_imag_amplitude(self,y):\n",
    "        self.amp_y = y\n",
    "        self.pulse_setter(self.pulse_gen())\n",
    "    def set_sigma(self,s):\n",
    "        self.sigma = s\n",
    "        self.pulse_setter(self.pulse_gen())\n",
    "    def set_length(self,l):\n",
    "        self.length = l\n",
    "        self.pulse_setter(self.pulse_gen())\n",
    "    def set_pause_length(self, p):\n",
    "        self.pause_length = p\n",
    "        self.pulse_setter(self.pulse_gen())\n",
    "    def set_alpha(self, a):\n",
    "        self.alpha = a\n",
    "        self.pulse_setter(self.pulse_gen())\n",
    "    def pulse_gen(self):\n",
    "        return [pg.p(self.channel, self.length, self.pg.gauss_hd, self.amp_x+1j*self.amp_y, 0, self.sigma, self.alpha), pg.p(None, self.pause_length)]\n",
    "    \n",
    "xg = hd_pulse_generator(bench.set_target_pulse, pg, 'iq_ex')"
   ]
  },
  {
   "cell_type": "code",
   "execution_count": null,
   "metadata": {
    "collapsed": true
   },
   "outputs": [],
   "source": [
    "sol, score = sweep.optimize(tfunc,  (xg.set_real_amplitude, xg.amp_x), \n",
    "                                    (xg.set_imag_amplitude, xg.amp_y),\n",
    "                                    (xg.set_alpha, xg.alpha))"
   ]
  },
  {
   "cell_type": "code",
   "execution_count": null,
   "metadata": {
    "collapsed": true
   },
   "outputs": [],
   "source": [
    "amps = np.linspace(0.925, 0.975, 21)\n",
    "alphas = np.linspace(-2e-9, 2e-9, 11)\n",
    "sweep.sweep(bench, (amps, xg.set_real_amplitude, 'Amplitude'), (alphas, xg.set_alpha, 'HD DRAG coeff'), filename='Randomized interleaved benchmarging X-rotation')"
   ]
  },
  {
   "cell_type": "code",
   "execution_count": null,
   "metadata": {
    "collapsed": true
   },
   "outputs": [],
   "source": [
    "data = save_pkl.load_pkl('Euclidean distance Randomized interleaved benchmarging X-rotation', 'D:\\\\qtlab\\\\ReiData\\\\data\\\\2017-07-02\\\\23-03-34')\n",
    "plt.figure()\n",
    "plt.pcolormesh(data[1]['Euclidean distance'][1][1], data[1]['Euclidean distance'][1][0], data[1]['Euclidean distance'][2][:,:,5])\n",
    "plt.colorbar()"
   ]
  },
  {
   "cell_type": "code",
   "execution_count": null,
   "metadata": {
    "collapsed": true
   },
   "outputs": [],
   "source": [
    "data[1]"
   ]
  },
  {
   "cell_type": "code",
   "execution_count": null,
   "metadata": {
    "collapsed": true
   },
   "outputs": [],
   "source": [
    "data[1]['Euclidean distance']"
   ]
  },
  {
   "cell_type": "code",
   "execution_count": null,
   "metadata": {
    "collapsed": true
   },
   "outputs": [],
   "source": [
    "meas = bench.measure()"
   ]
  },
  {
   "cell_type": "code",
   "execution_count": null,
   "metadata": {
    "collapsed": true
   },
   "outputs": [],
   "source": [
    "meas['Xo']"
   ]
  },
  {
   "cell_type": "code",
   "execution_count": null,
   "metadata": {
    "collapsed": true
   },
   "outputs": [],
   "source": [
    "import plotting\n",
    "imp.reload(plotting)\n",
    "plotting.plot_measurement(bench.reference_benchmark_result)"
   ]
  },
  {
   "cell_type": "markdown",
   "metadata": {},
   "source": [
    "# Optimizing Drag"
   ]
  },
  {
   "cell_type": "code",
   "execution_count": null,
   "metadata": {
    "collapsed": true
   },
   "outputs": [],
   "source": [
    "num_interleved_pulses = 2\n",
    "alphas = np.linspace(-1e-8, 1e-8, 201)\n",
    "def set_drag (alpha):\n",
    "    ramsey_half = [pg.p('iq_ex', length_hd, pg.gauss_hd, amp_x_hd, 0, sigma_hd, alpha), \n",
    "                 pg.p(None, pause_length_hd)]\n",
    "    interleaved_identity = [pg.p('iq_ex', length_hd, pg.gauss_hd, -amp_x_hd, 0, sigma_hd, alpha), \n",
    "                           pg.p(None, pause_length_hd),\n",
    "                           pg.p('iq_ex', length_hd, pg.gauss_hd, amp_x_hd, 0, sigma_hd, alpha), \n",
    "                           pg.p(None, pause_length_hd)]\n",
    "    tomo.set_prepare_seq(ramsey_half+interleaved_identity*num_interleved_pulses+ramsey_half)\n",
    "    \n",
    "measurement = sweep.sweep(tomo, (alphas, set_drag, 'delta_freq'), filename='DRAG', output=False)"
   ]
  },
  {
   "cell_type": "markdown",
   "metadata": {},
   "source": [
    "### Randomized Benchmarking"
   ]
  },
  {
   "cell_type": "code",
   "execution_count": null,
   "metadata": {
    "collapsed": true
   },
   "outputs": [],
   "source": [
    "pause_pulse = tomography.pause(pause_length, awg_channels)\n",
    "pulses = {0:tomography.ex_gauss_hd(amp_x_hd, amp_y_hd, length_hd, sigma_hd, awg_channels, -200e6/np.pi),\n",
    "          1:tomography.ex_gauss_hd(amp_y_hd, -amp_x_hd, length_hd, sigma_hd, awg_channels, -200e6/np.pi),\n",
    "          2:tomography.ex_gauss_hd(-amp_x_hd, -amp_y_hd, length_hd, sigma_hd, awg_channels, -200e6/np.pi),\n",
    "          3:tomography.ex_gauss_hd(-amp_y_hd, amp_x_hd, length_hd, sigma_hd, awg_channels, -200e6/np.pi)}\n",
    "\n",
    "unitaries = {0:np.sqrt(0.5)*np.asarray([[1, -1j],  [-1j, 1]]),\\\n",
    "             1:np.sqrt(0.5)*np.asarray([[1, -1],    [1, 1]]),\\\n",
    "             2:np.sqrt(0.5)*np.asarray([[1, 1j],   [1j, 1]]),\\\n",
    "             3:np.sqrt(0.5)*np.asarray([[1, 1],   [-1, 1]])}\n",
    "\n",
    "observables = { 'X': 0.5*np.asarray([[0, 1],   [1, 0]]),\n",
    "                'Y': 0.5*np.asarray([[0, -1j],   [1j, 0]]),\n",
    "                '-X': 0.5*np.asarray([[0, -1],   [-1, 0]]),\n",
    "                '-Y': 0.5*np.asarray([[0, 1j],   [-1j, 0]]),\n",
    "                'Z': 0.5*np.asarray([[1, 0],   [0, -1]])}\n",
    "\n",
    "initial = np.asarray([0, 1]).T\n",
    "random_pulse_ids = np.arange(20)\n",
    "num_gates = np.linspace(0, 100, 11)\n",
    "\n",
    "sequences = []\n",
    "pulse_sequences = []\n",
    "theor_projs = {o:np.zeros((len(num_gates), len(random_pulse_ids))) for o in observables.keys()}\n",
    "rho_t = np.zeros((len(num_gates), len(random_pulse_ids),2,2), dtype=np.complex)\n",
    "psis = np.zeros((len(num_gates), len(random_pulse_ids),2), dtype=np.complex)\n",
    "n=0\n",
    "\n",
    "def set_num_gates(n_new):\n",
    "    global n\n",
    "    n = n_new\n",
    "\n",
    "def set_random_sequence(id):\n",
    "    sequence = np.random.randint (4, size = n).tolist()\n",
    "    sequence_pulses = [j for i in [[pulses[i], pause_pulse] for i in sequence] for j in i]\n",
    "    sequence_unitaries = [unitaries[i] for i in sequence]\n",
    "    psi = initial.copy()\n",
    "    \n",
    "    for U in sequence_unitaries:\n",
    "        psi = np.dot(U, psi)\n",
    "    \n",
    "    rho_t[n,id,:,:] = np.einsum('i,j->ij', np.conj(psi), psi)\n",
    "    psis[n,id,:] = psi\n",
    "    \n",
    "    sequences.append(sequence)\n",
    "    for o in observables.keys():\n",
    "        theor_projs[o][n,id] = np.dot(np.dot(np.conj(psi), observables[o]), psi)\n",
    "    \n",
    "    tomo_hd.set_prepare_seq(sequence_pulses)\n",
    "    pulse_sequences.append(sequence_pulses)\n",
    "    \n",
    "m = sweep.sweep(tomo_hd, (num_gates, set_num_gates, 'gate num'), (random_pulse_ids, set_random_sequence, 'random seq id'), filename='RB', output=False)\n",
    "X = (m['X'][2]-m['-X'][2])/2.\n",
    "Y = (m['Y'][2]-m['-Y'][2])/2.\n",
    "Z = m['Z'][2]\n",
    "rho_m = np.transpose([[0.5+Z, X+1j*Y], [X-1j*Y, 0.5-Z]], [2,3,0,1])\n",
    "fidelities = np.sqrt(np.einsum('nmi,nmji,nmj->nm', np.conj(psis), rho_m, psis))\n",
    "\n",
    "m['Fidelity'] = [d for d in m['X']]\n",
    "m['Fidelity'][2] = np.asarray(fidelities, dtype=np.float)\n",
    "for o,O in observables.items():\n",
    "    m[o+' fit'] = [d for d in m[o]]\n",
    "    m[o+' fit'][2] = np.asarray(theor_projs[o], dtype=np.float)\n",
    "#m['rho_t'] = m['X'].copy()\n",
    "save_pkl.save_pkl({'type':'Randomized benchmark Clifford'}, m)"
   ]
  },
  {
   "cell_type": "code",
   "execution_count": null,
   "metadata": {
    "collapsed": true
   },
   "outputs": [],
   "source": [
    "plt.plot(m['Fidelity'][1]m['Fidelity'])"
   ]
  },
  {
   "cell_type": "code",
   "execution_count": null,
   "metadata": {
    "collapsed": true
   },
   "outputs": [],
   "source": [
    "rho_m"
   ]
  },
  {
   "cell_type": "code",
   "execution_count": null,
   "metadata": {
    "collapsed": true
   },
   "outputs": [],
   "source": [
    "plt.plot(m['Fidelity'][1][0], np.mean(m['Fidelity'][2],axis=1))\n",
    "plt.xlabel('gate num')\n",
    "plt.ylabel('fidelity')\n",
    "plt.grid()"
   ]
  },
  {
   "cell_type": "code",
   "execution_count": null,
   "metadata": {
    "collapsed": true,
    "scrolled": true
   },
   "outputs": [],
   "source": [
    "rho_m = np.transpose([[0.5+Z, X+1j*Y], [X-1j*Y, 0.5-Z]], [2,3,0,1])\n",
    "fidelities = np.sqrt(np.einsum('mni,mnji,mnj->mn', np.conj(psis), rho_m, psis))\n",
    "\n",
    "m['Fidelity'] = [d for d in m['X']]\n",
    "m['Fidelity'][2] = np.asarray(fidelities, dtype=np.float)\n",
    "for o,O in observables.items():\n",
    "    m[o+' fit'] = [d for d in m[o]]\n",
    "    m[o+' fit'][2] = np.asarray(theor_projs[o], dtype=np.float)\n",
    "#m['rho_t'] = m['X'].copy()\n",
    "save_pkl.save_pkl({'type':'Randomized benchmark Clifford'}, m)"
   ]
  },
  {
   "cell_type": "code",
   "execution_count": null,
   "metadata": {
    "collapsed": true
   },
   "outputs": [],
   "source": [
    "m"
   ]
  },
  {
   "cell_type": "code",
   "execution_count": null,
   "metadata": {
    "collapsed": true
   },
   "outputs": [],
   "source": []
  },
  {
   "cell_type": "code",
   "execution_count": null,
   "metadata": {
    "collapsed": true
   },
   "outputs": [],
   "source": [
    "fidelities"
   ]
  },
  {
   "cell_type": "code",
   "execution_count": null,
   "metadata": {
    "collapsed": true
   },
   "outputs": [],
   "source": [
    "psis"
   ]
  },
  {
   "cell_type": "code",
   "execution_count": null,
   "metadata": {
    "collapsed": true
   },
   "outputs": [],
   "source": [
    "rho_m"
   ]
  },
  {
   "cell_type": "code",
   "execution_count": null,
   "metadata": {
    "collapsed": true
   },
   "outputs": [],
   "source": [
    "rho_t"
   ]
  },
  {
   "cell_type": "code",
   "execution_count": null,
   "metadata": {
    "collapsed": true
   },
   "outputs": [],
   "source": [
    "measurement['theory'] = thoer_proj\n",
    "save_pkl.save_pkl({'type':'Randomized benchmark Clifford'}, measurement)"
   ]
  },
  {
   "cell_type": "code",
   "execution_count": null,
   "metadata": {
    "collapsed": true
   },
   "outputs": [],
   "source": [
    "print(theor_projs)\n",
    "print(measurement)\n",
    "print(psis)\n",
    "print (sequences)\n",
    "print (rho_t)\n",
    "print (rho_m)"
   ]
  },
  {
   "cell_type": "code",
   "execution_count": null,
   "metadata": {
    "collapsed": true
   },
   "outputs": [],
   "source": [
    "np.dot(np.conj(psis[1]), np.dot(observables['Y'],psis[1]))"
   ]
  },
  {
   "cell_type": "code",
   "execution_count": null,
   "metadata": {
    "collapsed": true
   },
   "outputs": [],
   "source": [
    "num_pulses = np.round(np.arange(0, 41)).astype(np.int)\n",
    "\n",
    "def set_num_pulses(n):\n",
    "    tomoz.set_prepare_seq([tomography.ex_gauss(amp_x, length, sigma, awg_channels), \n",
    "                          tomography.pause(pause_length, awg_channels)]*n)\n",
    "\n",
    "measurement = sweep.sweep(tomoz, (num_pulses, set_num_pulses, 'SX pi2 pulse num'), filename='Rabi', output=False)"
   ]
  },
  {
   "cell_type": "code",
   "execution_count": null,
   "metadata": {
    "collapsed": true
   },
   "outputs": [],
   "source": [
    "num_pulses = np.round(np.arange(0, 21)).astype(np.int)\n",
    "\n",
    "def set_num_pulses(n):\n",
    "    tomo.set_prepare_seq([tomography.ex_gauss_hd(amp_x_hd, amp_y_hd, length_hd, sigma_hd, awg_channels, -200e6/np.pi), \n",
    "                          tomography.pause(pause_length, awg_channels)]*n)\n",
    "\n",
    "measurement = sweep.sweep(tomo, (num_pulses, set_num_pulses, 'SX pi2 pulse num'), filename='Rabi', output=False)"
   ]
  },
  {
   "cell_type": "code",
   "execution_count": null,
   "metadata": {
    "collapsed": true
   },
   "outputs": [],
   "source": [
    "num_pulses = np.round(np.arange(0, 21)).astype(np.int)\n",
    "\n",
    "def set_num_pulses(n):\n",
    "    tomo.set_prepare_seq([tomography.ex_gauss(amp_x_hd, length_hd, sigma_hd, awg_channels), \n",
    "                          tomography.pause(pause_length, awg_channels)]*n)\n",
    "\n",
    "measurement = sweep.sweep(tomo, (num_pulses, set_num_pulses, 'SX pi2 pulse num'), filename='Rabi', output=False)"
   ]
  },
  {
   "cell_type": "code",
   "execution_count": null,
   "metadata": {
    "collapsed": true
   },
   "outputs": [],
   "source": [
    "ex_amplitude=0.25\n",
    "lengths = np.linspace(0e-9, 200e-9, 51)\n",
    "readout_begin = np.max(lengths)\n",
    "\n",
    "def set_ex_length(length):\n",
    "    tomo.set_prepare_seq([tomography.ex_rect(ex_amplitude, length, awg_channels), tomography.pause(pause_length, awg_channels)])\n",
    "\n",
    "measurement = sweep.sweep(tomo, (lengths, set_ex_length, 'Rabi x-axis pulse length'), filename='Rabi', output=False)"
   ]
  },
  {
   "cell_type": "code",
   "execution_count": null,
   "metadata": {
    "collapsed": true
   },
   "outputs": [],
   "source": [
    "from mpl_toolkits.mplot3d import Axes3D\n",
    "fig = plt.figure()\n",
    "ax = fig.add_subplot(111, projection='3d')\n",
    "ax.plot(measurement ['X'][2], measurement ['Y'][2], measurement ['Z'][2], c='r', marker='o')\n",
    "ax.set_xlabel('X')\n",
    "ax.set_ylabel('Y')\n",
    "ax.set_zlabel('Z')\n",
    "ax.set_xlim([-0.6, 0.6])\n",
    "ax.set_ylim([-0.6, 0.6])\n",
    "ax.set_zlim([-0.6, 0.6])"
   ]
  },
  {
   "cell_type": "code",
   "execution_count": null,
   "metadata": {
    "collapsed": true
   },
   "outputs": [],
   "source": [
    "ex_amplitude = 0.25\n",
    "pause_length = 16e-9\n",
    "lengths = np.linspace(0e-9, 2000e-9, 2001)\n",
    "readout_begin = np.max(lengths)\n",
    "\n",
    "def set_ex_length(length):\n",
    "    tomo.set_prepare_seq([tomography.ex_rect(1j*ex_amplitude, length, awg_channels), tomography.pause(pause_length, awg_channels)])\n",
    "\n",
    "measurement = sweep.sweep(tomo, (lengths, set_ex_length, 'Rabi y-axis pulse length'), filename='Rabi', output=False)"
   ]
  },
  {
   "cell_type": "markdown",
   "metadata": {},
   "source": [
    "### Optimizing phase between x and y pulses"
   ]
  },
  {
   "cell_type": "code",
   "execution_count": null,
   "metadata": {
    "collapsed": true
   },
   "outputs": [],
   "source": [
    "c_phase = 0\n",
    "c_n = 0\n",
    "\n",
    "adc.set_software_averages(1)\n",
    "adc.set_software_nums_multi(3)\n",
    "\n",
    "def set_n(n):\n",
    "    global c_n\n",
    "    global c_phase\n",
    "    c_n = n \n",
    "    y_pulse = [tomography.ex_gauss_hd(amp_x_hd*np.exp(1j*c_phase), amp_y_hd*np.exp(1j*c_phase), length_hd, sigma_hd, awg_channels, -200e6), tomography.pause(pause_length, awg_channels)]\n",
    "    tomo.set_prepare_seq(y_pulse*c_n)\n",
    "\n",
    "def set_y_phase(phase):\n",
    "    global c_n\n",
    "    global c_phase\n",
    "    c_phase = phase\n",
    "    y_pulse = [tomography.ex_gauss_hd(amp_x_hd*np.exp(1j*c_phase), amp_y_hd*np.exp(1j*c_phase), length_hd, sigma_hd, awg_channels, -200e6), tomography.pause(pause_length, awg_channels)]\n",
    "    tomo.set_prepare_seq(y_pulse*c_n)\n",
    "\n",
    "phases = np.linspace(np.pi/2.*0.8, np.pi/2.*1.2, 11, endpoint=False)\n",
    "num_pulses = np.arange(0,5)\n",
    "measurement = sweep.sweep(tomo, (phases, set_y_phase, 'y-pulse phase'), (num_pulses, set_n, 'y pulse num'), filename='y-phase', output=False)"
   ]
  },
  {
   "cell_type": "code",
   "execution_count": null,
   "metadata": {
    "collapsed": true
   },
   "outputs": [],
   "source": [
    "phases[7]"
   ]
  },
  {
   "cell_type": "code",
   "execution_count": null,
   "metadata": {
    "collapsed": true
   },
   "outputs": [],
   "source": [
    "plt.plot(np.asarray(results).T)"
   ]
  },
  {
   "cell_type": "code",
   "execution_count": null,
   "metadata": {
    "collapsed": true
   },
   "outputs": [],
   "source": [
    "adc.stop()"
   ]
  },
  {
   "cell_type": "code",
   "execution_count": null,
   "metadata": {
    "collapsed": true
   },
   "outputs": [],
   "source": [
    "plt.close()"
   ]
  },
  {
   "cell_type": "markdown",
   "metadata": {
    "collapsed": true
   },
   "source": [
    "# load calibration data"
   ]
  },
  {
   "cell_type": "code",
   "execution_count": null,
   "metadata": {
    "collapsed": true
   },
   "outputs": [],
   "source": [
    "import pickle\n",
    "f0 = open('D:\\\\qtlab\\\\ReiData\\\\data\\\\2017-04-26\\\\13-11-46\\\\Voltage ro calibration.pkl', 'rb')\n",
    "f1 = open('D:\\\\qtlab\\\\ReiData\\\\data\\\\2017-04-26\\\\13-11-14\\\\Voltage ro calibration.pkl', 'rb')\n",
    "cal0 = pickle.load(f0)\n",
    "cal1 = pickle.load(f1)"
   ]
  },
  {
   "cell_type": "code",
   "execution_count": null,
   "metadata": {
    "collapsed": true
   },
   "outputs": [],
   "source": [
    "import numpy as np\n",
    "import matplotlib.pyplot as plt\n",
    "%matplotlib qt4\n",
    "cal0_nomean = cal0[1]['Voltage'][2][0,:,:]-np.mean(cal0[1]['Voltage'][2][0,:,:])\n",
    "cal1_nomean = cal0[1]['Voltage'][2][1,:,:]-np.mean(cal0[1]['Voltage'][2][1,:,:])\n",
    "\n",
    "cal0_mean = np.mean(cal0_nomean, axis=0)\n",
    "cal1_mean = np.mean(cal1_nomean, axis=0)"
   ]
  },
  {
   "cell_type": "code",
   "execution_count": null,
   "metadata": {
    "collapsed": true
   },
   "outputs": [],
   "source": [
    "cal_mean = (cal0_mean+cal1_mean)/2.\n",
    "cal_diff = (cal1_mean-cal0_mean)\n",
    "\n",
    "plt.figure('Samples')\n",
    "plt.plot(np.mean(cal0_nomean, axis=0), label='|0>')\n",
    "plt.plot(np.mean(cal1_nomean, axis=0), label='|1>')\n",
    "plt.legend()\n",
    "\n",
    "plt.figure('Offset & feature')\n",
    "plt.plot(cal_mean, label='mean')\n",
    "plt.plot(cal_diff, label='diff')\n",
    "plt.legend()"
   ]
  },
  {
   "cell_type": "code",
   "execution_count": null,
   "metadata": {
    "collapsed": true
   },
   "outputs": [],
   "source": [
    "plt.figure('Fourier domain')\n",
    "plt.plot(np.abs(np.fft.fft(cal0_mean)), label='|0>')\n",
    "plt.plot(np.abs(np.fft.fft(cal1_mean)), label='|1>') \n",
    "plt.plot(np.abs(np.fft.fft(cal_mean)), label='mean')\n",
    "plt.plot(np.abs(np.fft.fft(cal_diff)), label='diff')\n",
    "plt.legend()\n",
    "\n",
    "feature = np.conj(cal_diff/np.sum(np.abs(cal_diff**2)))"
   ]
  },
  {
   "cell_type": "code",
   "execution_count": null,
   "metadata": {
    "collapsed": true
   },
   "outputs": [],
   "source": [
    "coeffs0 = np.dot(cal0_nomean-cal_mean, feature)\n",
    "coeffs1 = np.dot(cal1_nomean-cal_mean, feature)\n",
    "predictions = np.asarray([np.real(coeffs0), np.real(coeffs1)])"
   ]
  },
  {
   "cell_type": "code",
   "execution_count": null,
   "metadata": {
    "collapsed": true
   },
   "outputs": [],
   "source": [
    "hist_all, bins = np.histogram(predictions, bins='auto')\n",
    "proba_points = (bins[1:]+bins[:-1])/2.\n",
    "hists = []\n",
    "for y in range(2):\n",
    "    hists.append(np.histogram(predictions[y,:], bins=bins)[0])\n",
    "\n",
    "hists = np.asarray(hists, dtype=float)\n",
    "probabilities = hists/hist_all\n",
    "naive_probabilities = np.asarray([proba_points<0, proba_points>0], dtype=float)\n",
    "probabilities[np.isnan(probabilities)] = naive_probabilities[np.isnan(probabilities)]\n",
    "predictor = lambda x: np.interp(x, proba_points, probabilities[1,:], left=0., right=1.)\n",
    "calib_proba_points = proba_points\n",
    "calib_proba = probabilities[1,:]\n",
    "calib_hists = hists"
   ]
  },
  {
   "cell_type": "code",
   "execution_count": null,
   "metadata": {
    "collapsed": true
   },
   "outputs": [],
   "source": [
    "from sklearn.metrics import roc_curve, roc_auc_score\n",
    "roc = roc_curve([0]*coeffs0.size+[1]*coeffs0.size, predictor(predictions.ravel()))\n",
    "roc_auc = roc_auc_score([0]*coeffs0.size+[1]*coeffs0.size, predictor(predictions.ravel()))"
   ]
  },
  {
   "cell_type": "code",
   "execution_count": null,
   "metadata": {
    "collapsed": true
   },
   "outputs": [],
   "source": [
    "plt.figure('ROC')\n",
    "plt.plot(roc[0], roc[1])\n",
    "plt.xlabel('True Positive Rate')\n",
    "plt.ylabel('True Negative Rate')\n",
    "roc_auc"
   ]
  },
  {
   "cell_type": "code",
   "execution_count": null,
   "metadata": {
    "collapsed": true
   },
   "outputs": [],
   "source": [
    "plt.figure('probability curve')\n",
    "plt.plot(calib_proba_points, calib_proba)"
   ]
  },
  {
   "cell_type": "code",
   "execution_count": null,
   "metadata": {
    "collapsed": true
   },
   "outputs": [],
   "source": [
    "plt.figure('Readout hists')\n",
    "plt.bar(proba_points-0.25, hists[0], width=0.05, label='|0>')\n",
    "plt.bar(proba_points+0.25, hists[1], width=0.05, label='|1>')\n",
    "plt.legend()"
   ]
  },
  {
   "cell_type": "code",
   "execution_count": null,
   "metadata": {
    "collapsed": true
   },
   "outputs": [],
   "source": [
    "plt.close()"
   ]
  },
  {
   "cell_type": "code",
   "execution_count": null,
   "metadata": {
    "collapsed": true
   },
   "outputs": [],
   "source": [
    "cal0_nomean.shape"
   ]
  },
  {
   "cell_type": "code",
   "execution_count": null,
   "metadata": {
    "collapsed": true
   },
   "outputs": [],
   "source": [
    "plt.figure(figsize=(12,3))\n",
    "plt.imshow(np.sum(np.real(np.reshape(cal0_nomean, (200, 100, 1024))), axis=0), cmap='RdBu')\n",
    "plt.figure(figsize=(12,3))\n",
    "plt.imshow(np.sum(np.real(np.reshape(cal1_nomean, (200, 100, 1024))), axis=0), cmap='RdBu')"
   ]
  },
  {
   "cell_type": "code",
   "execution_count": null,
   "metadata": {
    "collapsed": true
   },
   "outputs": [],
   "source": [
    "plt.plot(np.mean(cal0_nomean, axis=0))\n",
    "plt.plot(np.mean(cal1_nomean, axis=0))"
   ]
  },
  {
   "cell_type": "code",
   "execution_count": null,
   "metadata": {
    "collapsed": true
   },
   "outputs": [],
   "source": []
  }
 ],
 "metadata": {
  "kernelspec": {
   "display_name": "Python 3",
   "language": "python",
   "name": "python3"
  },
  "language_info": {
   "codemirror_mode": {
    "name": "ipython",
    "version": 3
   },
   "file_extension": ".py",
   "mimetype": "text/x-python",
   "name": "python",
   "nbconvert_exporter": "python",
   "pygments_lexer": "ipython3",
   "version": "3.6.3"
  }
 },
 "nbformat": 4,
 "nbformat_minor": 1
}
